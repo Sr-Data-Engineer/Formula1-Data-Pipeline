{
 "cells": [
  {
   "cell_type": "code",
   "execution_count": 0,
   "metadata": {
    "application/vnd.databricks.v1+cell": {
     "cellMetadata": {
      "byteLimit": 2048000,
      "rowLimit": 10000
     },
     "inputWidgets": {},
     "nuid": "daf572fe-1f99-4104-b510-6288ded12b7b",
     "showTitle": false,
     "tableResultSettingsMap": {},
     "title": ""
    }
   },
   "outputs": [
    {
     "output_type": "stream",
     "name": "stderr",
     "output_type": "stream",
     "text": [
      "/databricks/python/lib/python3.11/site-packages/IPython/core/interactiveshell.py:2870: UserWarning: Could not open file </Workspace/Users/pragatitak007@gmail.com/f1_project_notebook_bronze_ingestion> for safe execution.\n  warn('Could not open file <%s> for safe execution.' % fname)\n"
     ]
    }
   ],
   "source": [
    "%run /Workspace/Users/pragatitak007@gmail.com/configs"
   ]
  },
  {
   "cell_type": "code",
   "execution_count": 0,
   "metadata": {
    "application/vnd.databricks.v1+cell": {
     "cellMetadata": {
      "byteLimit": 2048000,
      "rowLimit": 10000
     },
     "inputWidgets": {},
     "nuid": "403f0916-e22e-4b4f-a1d2-a38b30f47dec",
     "showTitle": false,
     "tableResultSettingsMap": {},
     "title": ""
    },
    "jupyter": {
     "source_hidden": true
    }
   },
   "outputs": [],
   "source": [
    "#delta_path = \"abfss://containerf1project@adfstorageaccount3.dfs.core.windows.net/bronze/raw_data/tables\"\n",
    "#silver_path = \"abfss://containerf1project@adfstorageaccount3.dfs.core.windows.net/silver/tables\""
   ]
  },
  {
   "cell_type": "code",
   "execution_count": 0,
   "metadata": {
    "application/vnd.databricks.v1+cell": {
     "cellMetadata": {
      "byteLimit": 2048000,
      "rowLimit": 10000
     },
     "inputWidgets": {},
     "nuid": "6f32769f-b7e2-4d8a-83d1-33aee4fbf374",
     "showTitle": false,
     "tableResultSettingsMap": {},
     "title": ""
    }
   },
   "outputs": [
    {
     "output_type": "stream",
     "name": "stdout",
     "output_type": "stream",
     "text": [
      "+----------+--------------+--------------------+------------+---------+--------+---------+--------+--------------------+\n|circuit_id|   circuit_ref|                name|    location|  country|latitude|longitude|altitude|      ingestion_date|\n+----------+--------------+--------------------+------------+---------+--------+---------+--------+--------------------+\n|         1|   albert_park|Albert Park Grand...|   Melbourne|Australia|-37.8497|  144.968|      10|2025-03-06 09:34:...|\n|         2|        sepang|Sepang Internatio...|Kuala Lumpur| Malaysia| 2.76083|  101.738|      18|2025-03-06 09:34:...|\n|         3|       bahrain|Bahrain Internati...|      Sakhir|  Bahrain| 26.0325|  50.5106|       7|2025-03-06 09:34:...|\n|         4|     catalunya|Circuit de Barcel...|    Montmeló|    Spain|   41.57|  2.26111|     109|2025-03-06 09:34:...|\n|         5|      istanbul|       Istanbul Park|    Istanbul|   Turkey| 40.9517|   29.405|     130|2025-03-06 09:34:...|\n|         6|        monaco|   Circuit de Monaco| Monte-Carlo|   Monaco| 43.7347|  7.42056|       7|2025-03-06 09:34:...|\n|         7|    villeneuve|Circuit Gilles Vi...|    Montreal|   Canada|    45.5| -73.5228|      13|2025-03-06 09:34:...|\n|         8|   magny_cours|Circuit de Nevers...| Magny Cours|   France| 46.8642|  3.16361|     228|2025-03-06 09:34:...|\n|         9|   silverstone| Silverstone Circuit| Silverstone|       UK| 52.0786| -1.01694|     153|2025-03-06 09:34:...|\n|        10|hockenheimring|      Hockenheimring|  Hockenheim|  Germany| 49.3278|  8.56583|     103|2025-03-06 09:34:...|\n|        11|   hungaroring|         Hungaroring|    Budapest|  Hungary| 47.5789|  19.2486|     264|2025-03-06 09:34:...|\n|        12|      valencia|Valencia Street C...|    Valencia|    Spain| 39.4589|-0.331667|       4|2025-03-06 09:34:...|\n|        13|           spa|Circuit de Spa-Fr...|         Spa|  Belgium| 50.4372|  5.97139|     401|2025-03-06 09:34:...|\n|        14|         monza|Autodromo Naziona...|       Monza|    Italy| 45.6156|  9.28111|     162|2025-03-06 09:34:...|\n|        15|    marina_bay|Marina Bay Street...|  Marina Bay|Singapore|  1.2914|  103.864|      18|2025-03-06 09:34:...|\n|        16|          fuji|       Fuji Speedway|       Oyama|    Japan| 35.3717|  138.927|     583|2025-03-06 09:34:...|\n|        17|      shanghai|Shanghai Internat...|    Shanghai|    China| 31.3389|   121.22|       5|2025-03-06 09:34:...|\n|        18|    interlagos|Autódromo José Ca...|   São Paulo|   Brazil|-23.7036| -46.6997|     785|2025-03-06 09:34:...|\n|        19|  indianapolis|Indianapolis Moto...|Indianapolis|      USA|  39.795| -86.2347|     223|2025-03-06 09:34:...|\n|        20|   nurburgring|         Nürburgring|     Nürburg|  Germany| 50.3356|   6.9475|     578|2025-03-06 09:34:...|\n+----------+--------------+--------------------+------------+---------+--------+---------+--------+--------------------+\nonly showing top 20 rows\n\n"
     ]
    }
   ],
   "source": [
    "from pyspark.sql.functions import current_timestamp\n",
    "\n",
    "circuits_df_silver = spark.read.format(\"delta\").load(delta_path + \"/circuits\")\n",
    "#circuits_df_silver.show(5)\n",
    "\n",
    "circuits_df_silver_transformed = circuits_df_silver.withColumnRenamed(\"circuitId\",\"circuit_id\") \\\n",
    "    .withColumnRenamed(\"circuitRef\",\"circuit_ref\") \\\n",
    "        .withColumnRenamed(\"lat\",\"latitude\") \\\n",
    "        .withColumnRenamed(\"lng\",\"longitude\") \\\n",
    "            .withColumnRenamed(\"alt\",\"altitude\") \\\n",
    "                .withColumn(\"ingestion_date\", current_timestamp()) \\\n",
    "                    .drop(\"url\")\n",
    "\n",
    "\n",
    "circuits_df_silver_transformed.show()\n",
    "\n",
    "circuits_df_silver_transformed.write.format(\"parquet\").mode(\"overwrite\").save(silver_path + \"/circuits\")"
   ]
  },
  {
   "cell_type": "code",
   "execution_count": 0,
   "metadata": {
    "application/vnd.databricks.v1+cell": {
     "cellMetadata": {
      "byteLimit": 2048000,
      "rowLimit": 10000
     },
     "inputWidgets": {},
     "nuid": "7ba01b5b-351e-4e57-9e0a-bf8ec930c724",
     "showTitle": false,
     "tableResultSettingsMap": {},
     "title": ""
    }
   },
   "outputs": [
    {
     "output_type": "stream",
     "name": "stdout",
     "output_type": "stream",
     "text": [
      "+-------+---------+-----+----------+--------------------+----------+--------+-------------------+--------------------+\n|race_id|race_year|round|circuit_id|                name|      date|    time|     race_timestamp|      ingestion_date|\n+-------+---------+-----+----------+--------------------+----------+--------+-------------------+--------------------+\n|      1|     2009|    1|         1|Australian Grand ...|2009-03-29|06:00:00|2009-03-29 06:00:00|2025-03-06 09:40:...|\n|      2|     2009|    2|         2|Malaysian Grand Prix|2009-04-05|09:00:00|2009-04-05 09:00:00|2025-03-06 09:40:...|\n|      3|     2009|    3|        17|  Chinese Grand Prix|2009-04-19|07:00:00|2009-04-19 07:00:00|2025-03-06 09:40:...|\n|      4|     2009|    4|         3|  Bahrain Grand Prix|2009-04-26|12:00:00|2009-04-26 12:00:00|2025-03-06 09:40:...|\n|      5|     2009|    5|         4|  Spanish Grand Prix|2009-05-10|12:00:00|2009-05-10 12:00:00|2025-03-06 09:40:...|\n|      6|     2009|    6|         6|   Monaco Grand Prix|2009-05-24|12:00:00|2009-05-24 12:00:00|2025-03-06 09:40:...|\n|      7|     2009|    7|         5|  Turkish Grand Prix|2009-06-07|12:00:00|2009-06-07 12:00:00|2025-03-06 09:40:...|\n|      8|     2009|    8|         9|  British Grand Prix|2009-06-21|12:00:00|2009-06-21 12:00:00|2025-03-06 09:40:...|\n|      9|     2009|    9|        20|   German Grand Prix|2009-07-12|12:00:00|2009-07-12 12:00:00|2025-03-06 09:40:...|\n|     10|     2009|   10|        11|Hungarian Grand Prix|2009-07-26|12:00:00|2009-07-26 12:00:00|2025-03-06 09:40:...|\n|     11|     2009|   11|        12| European Grand Prix|2009-08-23|12:00:00|2009-08-23 12:00:00|2025-03-06 09:40:...|\n|     12|     2009|   12|        13|  Belgian Grand Prix|2009-08-30|12:00:00|2009-08-30 12:00:00|2025-03-06 09:40:...|\n|     13|     2009|   13|        14|  Italian Grand Prix|2009-09-13|12:00:00|2009-09-13 12:00:00|2025-03-06 09:40:...|\n|     14|     2009|   14|        15|Singapore Grand Prix|2009-09-27|12:00:00|2009-09-27 12:00:00|2025-03-06 09:40:...|\n|     15|     2009|   15|        22| Japanese Grand Prix|2009-10-04|05:00:00|2009-10-04 05:00:00|2025-03-06 09:40:...|\n|     16|     2009|   16|        18|Brazilian Grand Prix|2009-10-18|16:00:00|2009-10-18 16:00:00|2025-03-06 09:40:...|\n|     17|     2009|   17|        24|Abu Dhabi Grand Prix|2009-11-01|11:00:00|2009-11-01 11:00:00|2025-03-06 09:40:...|\n|     18|     2008|    1|         1|Australian Grand ...|2008-03-16|04:30:00|2008-03-16 04:30:00|2025-03-06 09:40:...|\n|     19|     2008|    2|         2|Malaysian Grand Prix|2008-03-23|07:00:00|2008-03-23 07:00:00|2025-03-06 09:40:...|\n|     20|     2008|    3|         3|  Bahrain Grand Prix|2008-04-06|11:30:00|2008-04-06 11:30:00|2025-03-06 09:40:...|\n+-------+---------+-----+----------+--------------------+----------+--------+-------------------+--------------------+\nonly showing top 20 rows\n\n"
     ]
    }
   ],
   "source": [
    "from pyspark.sql.functions import concat_ws, to_timestamp, col, concat, lit\n",
    "\n",
    "races_df_silver = spark.read.format(\"delta\").load(delta_path + \"/races\")\n",
    "\n",
    "races_df_silver_transformed = races_df_silver.withColumnRenamed(\"raceId\",\"race_id\") \\\n",
    "       .withColumnRenamed(\"year\",\"race_year\") \\\n",
    "            .withColumnRenamed(\"circuitId\",\"circuit_id\") \\\n",
    "                .withColumn(\"race_timestamp\", to_timestamp(concat_ws(\" \", races_df_silver.date, races_df_silver.time), \"yyyy-MM-dd HH:mm:ss\")) \\\n",
    "                     .withColumn(\"ingestion_date\", current_timestamp()) \\\n",
    "                         .drop(\"url\")\n",
    "\n",
    "races_df_silver_transformed.show()\n",
    "\n",
    "races_df_silver_transformed.write.format(\"parquet\").mode(\"overwrite\").save(silver_path + \"/races\")\n",
    "           "
   ]
  },
  {
   "cell_type": "code",
   "execution_count": 0,
   "metadata": {
    "application/vnd.databricks.v1+cell": {
     "cellMetadata": {
      "byteLimit": 2048000,
      "rowLimit": 10000
     },
     "inputWidgets": {},
     "nuid": "0eab3df8-3129-48e4-a5cc-fdd4d9218eb6",
     "showTitle": false,
     "tableResultSettingsMap": {},
     "title": ""
    }
   },
   "outputs": [
    {
     "output_type": "stream",
     "name": "stdout",
     "output_type": "stream",
     "text": [
      "+-------+---------+-----+----------+--------------------+----------+--------+-------------------+--------------------+\n|race_id|race_year|round|circuit_id|                name|      date|    time|     race_timestamp|      ingestion_date|\n+-------+---------+-----+----------+--------------------+----------+--------+-------------------+--------------------+\n|      1|     2009|    1|         1|Australian Grand ...|2009-03-29|06:00:00|2009-03-29 06:00:00|2025-03-06 09:35:...|\n|      2|     2009|    2|         2|Malaysian Grand Prix|2009-04-05|09:00:00|2009-04-05 09:00:00|2025-03-06 09:35:...|\n|      3|     2009|    3|        17|  Chinese Grand Prix|2009-04-19|07:00:00|2009-04-19 07:00:00|2025-03-06 09:35:...|\n|      4|     2009|    4|         3|  Bahrain Grand Prix|2009-04-26|12:00:00|2009-04-26 12:00:00|2025-03-06 09:35:...|\n|      5|     2009|    5|         4|  Spanish Grand Prix|2009-05-10|12:00:00|2009-05-10 12:00:00|2025-03-06 09:35:...|\n|      6|     2009|    6|         6|   Monaco Grand Prix|2009-05-24|12:00:00|2009-05-24 12:00:00|2025-03-06 09:35:...|\n|      7|     2009|    7|         5|  Turkish Grand Prix|2009-06-07|12:00:00|2009-06-07 12:00:00|2025-03-06 09:35:...|\n|      8|     2009|    8|         9|  British Grand Prix|2009-06-21|12:00:00|2009-06-21 12:00:00|2025-03-06 09:35:...|\n|      9|     2009|    9|        20|   German Grand Prix|2009-07-12|12:00:00|2009-07-12 12:00:00|2025-03-06 09:35:...|\n|     10|     2009|   10|        11|Hungarian Grand Prix|2009-07-26|12:00:00|2009-07-26 12:00:00|2025-03-06 09:35:...|\n|     11|     2009|   11|        12| European Grand Prix|2009-08-23|12:00:00|2009-08-23 12:00:00|2025-03-06 09:35:...|\n|     12|     2009|   12|        13|  Belgian Grand Prix|2009-08-30|12:00:00|2009-08-30 12:00:00|2025-03-06 09:35:...|\n|     13|     2009|   13|        14|  Italian Grand Prix|2009-09-13|12:00:00|2009-09-13 12:00:00|2025-03-06 09:35:...|\n|     14|     2009|   14|        15|Singapore Grand Prix|2009-09-27|12:00:00|2009-09-27 12:00:00|2025-03-06 09:35:...|\n|     15|     2009|   15|        22| Japanese Grand Prix|2009-10-04|05:00:00|2009-10-04 05:00:00|2025-03-06 09:35:...|\n|     16|     2009|   16|        18|Brazilian Grand Prix|2009-10-18|16:00:00|2009-10-18 16:00:00|2025-03-06 09:35:...|\n|     17|     2009|   17|        24|Abu Dhabi Grand Prix|2009-11-01|11:00:00|2009-11-01 11:00:00|2025-03-06 09:35:...|\n|     18|     2008|    1|         1|Australian Grand ...|2008-03-16|04:30:00|2008-03-16 04:30:00|2025-03-06 09:35:...|\n|     19|     2008|    2|         2|Malaysian Grand Prix|2008-03-23|07:00:00|2008-03-23 07:00:00|2025-03-06 09:35:...|\n|     20|     2008|    3|         3|  Bahrain Grand Prix|2008-04-06|11:30:00|2008-04-06 11:30:00|2025-03-06 09:35:...|\n+-------+---------+-----+----------+--------------------+----------+--------+-------------------+--------------------+\nonly showing top 20 rows\n\n"
     ]
    }
   ],
   "source": [
    "races_df_silver = spark.read.format(\"delta\").load(delta_path + \"/races\")\n",
    "\n",
    "races_df_silver_transformed = races_df_silver.withColumnRenamed(\"raceId\",\"race_id\") \\\n",
    "           .withColumnRenamed(\"year\",\"race_year\") \\\n",
    "                .withColumnRenamed(\"circuitId\",\"circuit_id\") \\\n",
    "                     .withColumn(\"race_timestamp\", to_timestamp(concat_ws(\" \", races_df_silver.date, races_df_silver.time), \"yyyy-MM-dd HH:mm:ss\")) \\\n",
    "                          .withColumn(\"ingestion_date\", current_timestamp()) \\\n",
    "                              .drop(\"url\")\n",
    "\n",
    "races_df_silver_transformed.show()\n",
    "\n",
    "races_df_silver_transformed.write.partitionBy(\"race_year\").format(\"parquet\").mode(\"overwrite\").save(silver_path + \"/races\")"
   ]
  },
  {
   "cell_type": "code",
   "execution_count": 0,
   "metadata": {
    "application/vnd.databricks.v1+cell": {
     "cellMetadata": {
      "byteLimit": 2048000,
      "rowLimit": 10000
     },
     "inputWidgets": {},
     "nuid": "a0bb187e-5529-463a-97f9-ecb6b6fe7ceb",
     "showTitle": false,
     "tableResultSettingsMap": {},
     "title": ""
    }
   },
   "outputs": [
    {
     "output_type": "stream",
     "name": "stdout",
     "output_type": "stream",
     "text": [
      "+--------------+---------------+-----------+-----------+--------------------+\n|constructor_id|constructor_ref|       name|nationality|      ingestion_date|\n+--------------+---------------+-----------+-----------+--------------------+\n|             1|        mclaren|    McLaren|    British|2025-03-06 09:35:...|\n|             2|     bmw_sauber| BMW Sauber|     German|2025-03-06 09:35:...|\n|             3|       williams|   Williams|    British|2025-03-06 09:35:...|\n|             4|        renault|    Renault|     French|2025-03-06 09:35:...|\n|             5|     toro_rosso| Toro Rosso|    Italian|2025-03-06 09:35:...|\n|             6|        ferrari|    Ferrari|    Italian|2025-03-06 09:35:...|\n|             7|         toyota|     Toyota|   Japanese|2025-03-06 09:35:...|\n|             8|    super_aguri|Super Aguri|   Japanese|2025-03-06 09:35:...|\n|             9|       red_bull|   Red Bull|   Austrian|2025-03-06 09:35:...|\n|            10|    force_india|Force India|     Indian|2025-03-06 09:35:...|\n|            11|          honda|      Honda|   Japanese|2025-03-06 09:35:...|\n|            12|         spyker|     Spyker|      Dutch|2025-03-06 09:35:...|\n|            13|            mf1|        MF1|    Russian|2025-03-06 09:35:...|\n|            14|     spyker_mf1| Spyker MF1|      Dutch|2025-03-06 09:35:...|\n|            15|         sauber|     Sauber|      Swiss|2025-03-06 09:35:...|\n|            16|            bar|        BAR|    British|2025-03-06 09:35:...|\n|            17|         jordan|     Jordan|      Irish|2025-03-06 09:35:...|\n|            18|        minardi|    Minardi|    Italian|2025-03-06 09:35:...|\n|            19|         jaguar|     Jaguar|    British|2025-03-06 09:35:...|\n|            20|          prost|      Prost|     French|2025-03-06 09:35:...|\n+--------------+---------------+-----------+-----------+--------------------+\nonly showing top 20 rows\n\n"
     ]
    }
   ],
   "source": [
    "constructors_df_silver = spark.read.format(\"delta\").load(delta_path + \"/constructors\")\n",
    "\n",
    "constructors_df_silver_transformed = constructors_df_silver.withColumnRenamed(\"constructorId\",\"constructor_id\") \\\n",
    "           .withColumnRenamed(\"constructorRef\",\"constructor_ref\") \\\n",
    "           .withColumn(\"ingestion_date\", current_timestamp()) \\\n",
    "               .drop(\"url\")\n",
    "\n",
    "constructors_df_silver_transformed.show()\n",
    "\n",
    "constructors_df_silver_transformed.write.format(\"parquet\").mode(\"overwrite\").save(silver_path + \"/constructors\")\n",
    "               "
   ]
  },
  {
   "cell_type": "code",
   "execution_count": 0,
   "metadata": {
    "application/vnd.databricks.v1+cell": {
     "cellMetadata": {
      "byteLimit": 2048000,
      "rowLimit": 10000
     },
     "inputWidgets": {},
     "nuid": "cefb0146-2c37-49ac-a5e6-bd30fa5a3f35",
     "showTitle": false,
     "tableResultSettingsMap": {},
     "title": ""
    }
   },
   "outputs": [
    {
     "output_type": "stream",
     "name": "stdout",
     "output_type": "stream",
     "text": [
      "+----+----------+---------+----------+------------------+-----------+------+--------------------+\n|code|       dob|driver_id|driver_ref|              name|nationality|number|      ingestion_date|\n+----+----------+---------+----------+------------------+-----------+------+--------------------+\n| HAM|1985-01-07|        1|  hamilton|    Lewis Hamilton|    British|    44|2025-03-06 09:42:...|\n| HEI|1977-05-10|        2|  heidfeld|     Nick Heidfeld|     German|    \\N|2025-03-06 09:42:...|\n| ROS|1985-06-27|        3|   rosberg|      Nico Rosberg|     German|     6|2025-03-06 09:42:...|\n| ALO|1981-07-29|        4|    alonso|   Fernando Alonso|    Spanish|    14|2025-03-06 09:42:...|\n| KOV|1981-10-19|        5|kovalainen| Heikki Kovalainen|    Finnish|    \\N|2025-03-06 09:42:...|\n| NAK|1985-01-11|        6|  nakajima|   Kazuki Nakajima|   Japanese|    \\N|2025-03-06 09:42:...|\n| BOU|1979-02-28|        7|  bourdais|Sébastien Bourdais|     French|    \\N|2025-03-06 09:42:...|\n| RAI|1979-10-17|        8| raikkonen|    Kimi Räikkönen|    Finnish|     7|2025-03-06 09:42:...|\n| KUB|1984-12-07|        9|    kubica|     Robert Kubica|     Polish|    88|2025-03-06 09:42:...|\n| GLO|1982-03-18|       10|     glock|        Timo Glock|     German|    \\N|2025-03-06 09:42:...|\n| SAT|1977-01-28|       11|      sato|       Takuma Sato|   Japanese|    \\N|2025-03-06 09:42:...|\n| PIQ|1985-07-25|       12| piquet_jr| Nelson Piquet Jr.|  Brazilian|    \\N|2025-03-06 09:42:...|\n| MAS|1981-04-25|       13|     massa|      Felipe Massa|  Brazilian|    19|2025-03-06 09:42:...|\n| COU|1971-03-27|       14| coulthard|   David Coulthard|    British|    \\N|2025-03-06 09:42:...|\n| TRU|1974-07-13|       15|    trulli|      Jarno Trulli|    Italian|    \\N|2025-03-06 09:42:...|\n| SUT|1983-01-11|       16|     sutil|      Adrian Sutil|     German|    99|2025-03-06 09:42:...|\n| WEB|1976-08-27|       17|    webber|       Mark Webber| Australian|    \\N|2025-03-06 09:42:...|\n| BUT|1980-01-19|       18|    button|     Jenson Button|    British|    22|2025-03-06 09:42:...|\n| DAV|1979-04-18|       19|  davidson|  Anthony Davidson|    British|    \\N|2025-03-06 09:42:...|\n| VET|1987-07-03|       20|    vettel|  Sebastian Vettel|     German|     5|2025-03-06 09:42:...|\n+----+----------+---------+----------+------------------+-----------+------+--------------------+\nonly showing top 20 rows\n\n"
     ]
    }
   ],
   "source": [
    "drivers_df_silver = spark.read.format(\"delta\").load(delta_path + \"/drivers\")\n",
    "\n",
    "#drivers_df_silver.show()\n",
    "\n",
    "drivers_df_silver_transformed = drivers_df_silver.withColumnRenamed(\"driverId\",\"driver_id\") \\\n",
    "           .withColumnRenamed(\"driverRef\",\"driver_ref\") \\\n",
    "               .withColumn(\"name\", concat(col(\"name.forename\"), lit(\" \"), col(\"name.surname\"))) \\\n",
    "                   .withColumn(\"ingestion_date\", current_timestamp()) \\\n",
    "                   .drop(\"name.forename\", \"name.surname\", \"url\")\n",
    "\n",
    "drivers_df_silver_transformed.show()\n",
    "\n",
    "drivers_df_silver_transformed.write.format(\"parquet\").mode(\"overwrite\").save(silver_path + \"/drivers\")"
   ]
  },
  {
   "cell_type": "code",
   "execution_count": 0,
   "metadata": {
    "application/vnd.databricks.v1+cell": {
     "cellMetadata": {
      "byteLimit": 2048000,
      "rowLimit": 10000
     },
     "inputWidgets": {},
     "nuid": "468ae041-4f16-4248-b889-dbfcb94655f5",
     "showTitle": false,
     "tableResultSettingsMap": {},
     "title": ""
    }
   },
   "outputs": [
    {
     "output_type": "stream",
     "name": "stdout",
     "output_type": "stream",
     "text": [
      "+--------------+---------+-----------+-----------------+----------------+----+----+------------+------+------+-------------+--------------+------------+-------+----+---------+-----------+--------------------+\n|constructor_id|driver_id|fastest_lap|fastest_lap_speed|fastest_lap_time|grid|laps|milliseconds|number|points|position_text|position_order|positionText|race_id|rank|result_id|       time|      ingestion_date|\n+--------------+---------+-----------+-----------------+----------------+----+----+------------+------+------+-------------+--------------+------------+-------+----+---------+-----------+--------------------+\n|             1|        1|         39|            218.3|        1:27.452|   1|  58|     5690616|    22|  10.0|            1|             1|           1|     18|   2|        1|1:34:50.616|2025-03-06 09:48:...|\n|             2|        2|         41|          217.586|        1:27.739|   5|  58|     5696094|     3|   8.0|            2|             2|           2|     18|   3|        2|     +5.478|2025-03-06 09:48:...|\n|             3|        3|         41|          216.719|        1:28.090|   7|  58|     5698779|     7|   6.0|            3|             3|           3|     18|   5|        3|     +8.163|2025-03-06 09:48:...|\n|             4|        4|         58|          215.464|        1:28.603|  11|  58|     5707797|     5|   5.0|            4|             4|           4|     18|   7|        4|    +17.181|2025-03-06 09:48:...|\n|             1|        5|         43|          218.385|        1:27.418|   3|  58|     5708630|    23|   4.0|            5|             5|           5|     18|   1|        5|    +18.014|2025-03-06 09:48:...|\n|             3|        6|         50|          212.974|        1:29.639|  13|  57|          \\N|     8|   3.0|            6|             6|           6|     18|  14|        6|         \\N|2025-03-06 09:48:...|\n|             5|        7|         22|          213.224|        1:29.534|  17|  55|          \\N|    14|   2.0|            7|             7|           7|     18|  12|        7|         \\N|2025-03-06 09:48:...|\n|             6|        8|         20|           217.18|        1:27.903|  15|  53|          \\N|     1|   1.0|            8|             8|           8|     18|   4|        8|         \\N|2025-03-06 09:48:...|\n|             2|        9|         15|            215.1|        1:28.753|   2|  47|          \\N|     4|   0.0|           \\N|             9|           R|     18|   9|        9|         \\N|2025-03-06 09:48:...|\n|             7|       10|         23|          213.166|        1:29.558|  18|  43|          \\N|    12|   0.0|           \\N|            10|           R|     18|  13|       10|         \\N|2025-03-06 09:48:...|\n|             8|       11|         24|          210.038|        1:30.892|  19|  32|          \\N|    18|   0.0|           \\N|            11|           R|     18|  15|       11|         \\N|2025-03-06 09:48:...|\n|             4|       12|         20|          208.907|        1:31.384|  20|  30|          \\N|     6|   0.0|           \\N|            12|           R|     18|  16|       12|         \\N|2025-03-06 09:48:...|\n|             6|       13|         23|           216.51|        1:28.175|   4|  29|          \\N|     2|   0.0|           \\N|            13|           R|     18|   6|       13|         \\N|2025-03-06 09:48:...|\n|             9|       14|         21|            213.3|        1:29.502|   8|  25|          \\N|     9|   0.0|           \\N|            14|           R|     18|  11|       14|         \\N|2025-03-06 09:48:...|\n|             7|       15|         18|          213.758|        1:29.310|   6|  19|          \\N|    11|   0.0|           \\N|            15|           R|     18|  10|       15|         \\N|2025-03-06 09:48:...|\n|            10|       16|          8|          207.461|        1:32.021|  22|   8|          \\N|    20|   0.0|           \\N|            16|           R|     18|  17|       16|         \\N|2025-03-06 09:48:...|\n|             9|       17|         \\N|               \\N|              \\N|  14|   0|          \\N|    10|   0.0|           \\N|            17|           R|     18|  \\N|       17|         \\N|2025-03-06 09:48:...|\n|            11|       18|         \\N|               \\N|              \\N|  12|   0|          \\N|    16|   0.0|           \\N|            18|           R|     18|  \\N|       18|         \\N|2025-03-06 09:48:...|\n|             8|       19|         \\N|               \\N|              \\N|  21|   0|          \\N|    19|   0.0|           \\N|            19|           R|     18|  \\N|       19|         \\N|2025-03-06 09:48:...|\n|             5|       20|         \\N|               \\N|              \\N|   9|   0|          \\N|    15|   0.0|           \\N|            20|           R|     18|  \\N|       20|         \\N|2025-03-06 09:48:...|\n+--------------+---------+-----------+-----------------+----------------+----+----+------------+------+------+-------------+--------------+------------+-------+----+---------+-----------+--------------------+\nonly showing top 20 rows\n\n"
     ]
    }
   ],
   "source": [
    "results_df_silver = spark.read.format(\"delta\").load(delta_path + \"/results\")\n",
    "\n",
    "results_df_silver_transformed = results_df_silver.withColumnRenamed(\"resultId\",\"result_id\") \\\n",
    "               .withColumnRenamed(\"raceId\",\"race_id\") \\\n",
    "                    .withColumnRenamed(\"driverId\",\"driver_id\") \\\n",
    "                        .withColumnRenamed(\"constructorId\",\"constructor_id\") \\\n",
    "                             .withColumnRenamed(\"position\",\"position_text\") \\\n",
    "                                  .withColumnRenamed(\"positionOrder\",\"position_order\") \\\n",
    "                                       .withColumnRenamed(\"fastestLap\",\"fastest_lap\") \\\n",
    "                                            .withColumnRenamed(\"fastestLapTime\",\"fastest_lap_time\") \\\n",
    "                                                .withColumnRenamed(\"fastestLapSpeed\",\"fastest_lap_speed\") \\\n",
    "                                                    .withColumn(\"ingestion_date\", current_timestamp()) \\\n",
    "                                                       .drop(\"statusId\")\n",
    "\n",
    "results_df_silver_transformed.show()\n",
    "\n",
    "results_df_silver_transformed.write.partitionBy(\"race_id\").format(\"parquet\").mode(\"overwrite\").save(silver_path + \"/results\")"
   ]
  },
  {
   "cell_type": "code",
   "execution_count": 0,
   "metadata": {
    "application/vnd.databricks.v1+cell": {
     "cellMetadata": {
      "byteLimit": 2048000,
      "rowLimit": 10000
     },
     "inputWidgets": {},
     "nuid": "e712485d-50cd-4534-90c4-68a70add3931",
     "showTitle": false,
     "tableResultSettingsMap": {},
     "title": ""
    }
   },
   "outputs": [
    {
     "output_type": "stream",
     "name": "stdout",
     "output_type": "stream",
     "text": [
      "+--------+--------+---+------------+-------+----+--------+--------------------+\n|driverId|duration|lap|milliseconds|race_id|stop|    time|      ingestion_date|\n+--------+--------+---+------------+-------+----+--------+--------------------+\n|     153|  26.898|  1|       26898|    841|   1|17:05:23|2025-03-06 09:59:...|\n|      30|  25.021|  1|       25021|    841|   1|17:05:52|2025-03-06 09:59:...|\n|      17|  23.426| 11|       23426|    841|   1|17:20:48|2025-03-06 09:59:...|\n|       4|  23.251| 12|       23251|    841|   1|17:22:34|2025-03-06 09:59:...|\n|      13|  23.842| 13|       23842|    841|   1|17:24:10|2025-03-06 09:59:...|\n|      22|  23.643| 13|       23643|    841|   1|17:24:29|2025-03-06 09:59:...|\n|      20|  22.603| 14|       22603|    841|   1|17:25:17|2025-03-06 09:59:...|\n|     814|  24.863| 14|       24863|    841|   1|17:26:03|2025-03-06 09:59:...|\n|     816|  25.259| 14|       25259|    841|   1|17:26:50|2025-03-06 09:59:...|\n|      67|  25.342| 15|       25342|    841|   1|17:27:34|2025-03-06 09:59:...|\n|       2|  22.994| 15|       22994|    841|   1|17:27:41|2025-03-06 09:59:...|\n|       1|  23.227| 16|       23227|    841|   1|17:28:24|2025-03-06 09:59:...|\n|     808|  24.535| 16|       24535|    841|   1|17:28:39|2025-03-06 09:59:...|\n|       3|  23.716| 16|       23716|    841|   1|17:29:00|2025-03-06 09:59:...|\n|     155|  24.064| 16|       24064|    841|   1|17:29:06|2025-03-06 09:59:...|\n|      16|  25.978| 16|       25978|    841|   1|17:29:08|2025-03-06 09:59:...|\n|      15|  24.899| 16|       24899|    841|   1|17:29:49|2025-03-06 09:59:...|\n|      18|  16.867| 17|       16867|    841|   1|17:30:24|2025-03-06 09:59:...|\n|     153|  24.463| 17|       24463|    841|   2|17:31:06|2025-03-06 09:59:...|\n|       5|  24.865| 17|       24865|    841|   1|17:31:11|2025-03-06 09:59:...|\n+--------+--------+---+------------+-------+----+--------+--------------------+\nonly showing top 20 rows\n\n"
     ]
    }
   ],
   "source": [
    "pitstops_df_silver = spark.read.format(\"delta\").load(delta_path + \"/pitstops\")\n",
    "\n",
    "pitstops_df_silver_transformed = pitstops_df_silver.withColumnRenamed(\"pitstopId\",\"pitstop_id\") \\\n",
    "               .withColumnRenamed(\"raceId\",\"race_id\") \\\n",
    "                   .withColumn(\"ingestion_date\", current_timestamp())\n",
    "\n",
    "pitstops_df_silver_transformed.show()\n",
    "\n",
    "pitstops_df_silver_transformed.write.format(\"parquet\").mode(\"overwrite\").save(silver_path + \"/pitstops\")"
   ]
  },
  {
   "cell_type": "code",
   "execution_count": 0,
   "metadata": {
    "application/vnd.databricks.v1+cell": {
     "cellMetadata": {
      "byteLimit": 2048000,
      "rowLimit": 10000
     },
     "inputWidgets": {},
     "nuid": "7055096d-0926-4c8a-9893-2d4a8299c99d",
     "showTitle": false,
     "tableResultSettingsMap": {},
     "title": ""
    }
   },
   "outputs": [
    {
     "output_type": "stream",
     "name": "stdout",
     "output_type": "stream",
     "text": [
      "+-------+---------+---+--------+--------+------------+--------------------+\n|race_id|driver_id|lap|position|    time|milliseconds|      ingestion_date|\n+-------+---------+---+--------+--------+------------+--------------------+\n|    841|       20|  1|       1|1:38.109|       98109|2025-03-06 10:00:...|\n|    841|       20|  2|       1|1:33.006|       93006|2025-03-06 10:00:...|\n|    841|       20|  3|       1|1:32.713|       92713|2025-03-06 10:00:...|\n|    841|       20|  4|       1|1:32.803|       92803|2025-03-06 10:00:...|\n|    841|       20|  5|       1|1:32.342|       92342|2025-03-06 10:00:...|\n|    841|       20|  6|       1|1:32.605|       92605|2025-03-06 10:00:...|\n|    841|       20|  7|       1|1:32.502|       92502|2025-03-06 10:00:...|\n|    841|       20|  8|       1|1:32.537|       92537|2025-03-06 10:00:...|\n|    841|       20|  9|       1|1:33.240|       93240|2025-03-06 10:00:...|\n|    841|       20| 10|       1|1:32.572|       92572|2025-03-06 10:00:...|\n|    841|       20| 11|       1|1:32.669|       92669|2025-03-06 10:00:...|\n|    841|       20| 12|       1|1:32.902|       92902|2025-03-06 10:00:...|\n|    841|       20| 13|       1|1:33.698|       93698|2025-03-06 10:00:...|\n|    841|       20| 14|       3|1:52.075|      112075|2025-03-06 10:00:...|\n|    841|       20| 15|       4|1:38.385|       98385|2025-03-06 10:00:...|\n|    841|       20| 16|       2|1:31.548|       91548|2025-03-06 10:00:...|\n|    841|       20| 17|       1|1:30.800|       90800|2025-03-06 10:00:...|\n|    841|       20| 18|       1|1:31.810|       91810|2025-03-06 10:00:...|\n|    841|       20| 19|       1|1:31.018|       91018|2025-03-06 10:00:...|\n|    841|       20| 20|       1|1:31.055|       91055|2025-03-06 10:00:...|\n+-------+---------+---+--------+--------+------------+--------------------+\nonly showing top 20 rows\n\n"
     ]
    }
   ],
   "source": [
    "laptimes_df_silver = spark.read.format(\"delta\").load(delta_path + \"/laptimes\")\n",
    "\n",
    "laptimes_df_silver_transformed = laptimes_df_silver.withColumnRenamed(\"raceId\",\"race_id\") \\\n",
    "               .withColumnRenamed(\"driverId\",\"driver_id\") \\\n",
    "                   .withColumn(\"ingestion_date\", current_timestamp())\n",
    "\n",
    "laptimes_df_silver_transformed.show()\n",
    "\n",
    "laptimes_df_silver_transformed.write.format(\"parquet\").mode(\"overwrite\").save(silver_path + \"/laptimes\")"
   ]
  },
  {
   "cell_type": "code",
   "execution_count": 0,
   "metadata": {
    "application/vnd.databricks.v1+cell": {
     "cellMetadata": {
      "byteLimit": 2048000,
      "rowLimit": 10000
     },
     "inputWidgets": {},
     "nuid": "d3b11861-742c-410e-aaa9-3c7ac9ea087a",
     "showTitle": false,
     "tableResultSettingsMap": {},
     "title": ""
    }
   },
   "outputs": [
    {
     "output_type": "stream",
     "name": "stdout",
     "output_type": "stream",
     "text": [
      "+--------------+---------+------+--------+--------+--------+--------+----------+-------+--------------------+\n|constructor_id|driver_id|number|position|      q1|      q2|      q3|qualify_id|race_id|      ingestion_date|\n+--------------+---------+------+--------+--------+--------+--------+----------+-------+--------------------+\n|             1|        1|    22|       1|1:26.572|1:25.187|1:26.714|         1|     18|2025-03-06 10:02:...|\n|             2|        9|     4|       2|1:26.103|1:25.315|1:26.869|         2|     18|2025-03-06 10:02:...|\n|             1|        5|    23|       3|1:25.664|1:25.452|1:27.079|         3|     18|2025-03-06 10:02:...|\n|             6|       13|     2|       4|1:25.994|1:25.691|1:27.178|         4|     18|2025-03-06 10:02:...|\n|             2|        2|     3|       5|1:25.960|1:25.518|1:27.236|         5|     18|2025-03-06 10:02:...|\n|             7|       15|    11|       6|1:26.427|1:26.101|1:28.527|         6|     18|2025-03-06 10:02:...|\n|             3|        3|     7|       7|1:26.295|1:26.059|1:28.687|         7|     18|2025-03-06 10:02:...|\n|             9|       14|     9|       8|1:26.381|1:26.063|1:29.041|         8|     18|2025-03-06 10:02:...|\n|             7|       10|    12|       9|1:26.919|1:26.164|1:29.593|         9|     18|2025-03-06 10:02:...|\n|             5|       20|    15|      10|1:26.702|1:25.842|      \\N|        10|     18|2025-03-06 10:02:...|\n|            11|       22|    17|      11|1:26.369|1:26.173|      \\N|        11|     18|2025-03-06 10:02:...|\n|             4|        4|     5|      12|1:26.907|1:26.188|      \\N|        12|     18|2025-03-06 10:02:...|\n|            11|       18|    16|      13|1:26.712|1:26.259|      \\N|        13|     18|2025-03-06 10:02:...|\n|             3|        6|     8|      14|1:26.891|1:26.413|      \\N|        14|     18|2025-03-06 10:02:...|\n|             9|       17|    10|      15|1:26.914|      \\N|      \\N|        15|     18|2025-03-06 10:02:...|\n|             6|        8|     1|      16|1:26.140|      \\N|      \\N|        16|     18|2025-03-06 10:02:...|\n|            10|       21|    21|      17|1:27.207|      \\N|      \\N|        17|     18|2025-03-06 10:02:...|\n|             5|        7|    14|      18|1:27.446|      \\N|      \\N|        18|     18|2025-03-06 10:02:...|\n|            10|       16|    20|      19|1:27.859|      \\N|      \\N|        19|     18|2025-03-06 10:02:...|\n|             8|       11|    18|      20|1:28.208|      \\N|      \\N|        20|     18|2025-03-06 10:02:...|\n+--------------+---------+------+--------+--------+--------+--------+----------+-------+--------------------+\nonly showing top 20 rows\n\n"
     ]
    }
   ],
   "source": [
    "qualifying_df_silver = spark.read.format(\"delta\").load(delta_path + \"/qualifying\")\n",
    "\n",
    "qualifying_df_silver_transformed = qualifying_df_silver.withColumnRenamed(\"qualifyId\",\"qualify_id\") \\\n",
    "               .withColumnRenamed(\"raceId\",\"race_id\") \\\n",
    "                       .withColumnRenamed(\"driverId\",\"driver_id\") \\\n",
    "                            .withColumnRenamed(\"constructorId\",\"constructor_id\") \\\n",
    "                                .withColumn(\"ingestion_date\", current_timestamp())\n",
    "\n",
    "qualifying_df_silver_transformed.show()\n",
    "\n",
    "qualifying_df_silver_transformed.write.format(\"parquet\").mode(\"overwrite\").save(silver_path + \"/qualifying\")"
   ]
  }
 ],
 "metadata": {
  "application/vnd.databricks.v1+notebook": {
   "computePreferences": null,
   "dashboards": [],
   "environmentMetadata": {
    "base_environment": "",
    "environment_version": "2"
   },
   "language": "python",
   "notebookMetadata": {
    "pythonIndentUnit": 4
   },
   "notebookName": "f1_project_notebook_silver",
   "widgets": {}
  },
  "language_info": {
   "name": "python"
  }
 },
 "nbformat": 4,
 "nbformat_minor": 0
}