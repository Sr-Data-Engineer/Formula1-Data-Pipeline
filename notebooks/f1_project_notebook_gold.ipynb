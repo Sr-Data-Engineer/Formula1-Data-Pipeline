{
 "cells": [
  {
   "cell_type": "code",
   "execution_count": 0,
   "metadata": {
    "application/vnd.databricks.v1+cell": {
     "cellMetadata": {
      "byteLimit": 2048000,
      "rowLimit": 10000
     },
     "inputWidgets": {},
     "nuid": "ba249b33-ed6f-41e6-968c-b565ff3f574b",
     "showTitle": false,
     "tableResultSettingsMap": {},
     "title": ""
    }
   },
   "outputs": [],
   "source": [
    "%run /Workspace/Users/pragatitak007@gmail.com/configs"
   ]
  },
  {
   "cell_type": "code",
   "execution_count": 0,
   "metadata": {
    "application/vnd.databricks.v1+cell": {
     "cellMetadata": {
      "byteLimit": 2048000,
      "rowLimit": 10000
     },
     "inputWidgets": {},
     "nuid": "0eaebd1b-d2ec-484d-993f-4b6ac2cb3571",
     "showTitle": false,
     "tableResultSettingsMap": {},
     "title": ""
    }
   },
   "outputs": [
    {
     "output_type": "stream",
     "name": "stderr",
     "output_type": "stream",
     "text": [
      "/databricks/python/lib/python3.11/site-packages/IPython/core/interactiveshell.py:2870: UserWarning: Could not open file </Workspace/Users/pragatitak007@gmail.com/f1_project_notebook_bronze_ingestion> for safe execution.\n  warn('Could not open file <%s> for safe execution.' % fname)\n/databricks/python/lib/python3.11/site-packages/IPython/core/interactiveshell.py:2870: UserWarning: Could not open file </Workspace/Users/pragatitak007@gmail.com/f1_project_notebook_silver> for safe execution.\n  warn('Could not open file <%s> for safe execution.' % fname)\n"
     ]
    }
   ],
   "source": [
    "results_df_silver = spark.read.parquet(silver_path + '/results')\n",
    "drivers_df_silver = spark.read.parquet(silver_path + '/drivers')\n",
    "constructors_df_silver = spark.read.parquet(silver_path + '/constructors')"
   ]
  },
  {
   "cell_type": "code",
   "execution_count": 0,
   "metadata": {
    "application/vnd.databricks.v1+cell": {
     "cellMetadata": {
      "byteLimit": 2048000,
      "rowLimit": 10000
     },
     "inputWidgets": {},
     "nuid": "6fca8036-fcff-4ba2-b147-aff0168e1638",
     "showTitle": false,
     "tableResultSettingsMap": {},
     "title": ""
    }
   },
   "outputs": [
    {
     "output_type": "display_data",
     "data": {
      "text/html": [
       "<style scoped>\n",
       "  .table-result-container {\n",
       "    max-height: 300px;\n",
       "    overflow: auto;\n",
       "  }\n",
       "  table, th, td {\n",
       "    border: 1px solid black;\n",
       "    border-collapse: collapse;\n",
       "  }\n",
       "  th, td {\n",
       "    padding: 5px;\n",
       "  }\n",
       "  th {\n",
       "    text-align: left;\n",
       "  }\n",
       "</style><div class='table-result-container'><table class='table-result'><thead style='background-color: white'><tr><th>Driver</th><th>Team</th><th>Points</th><th>Wins</th></tr></thead><tbody><tr><td>Lewis Hamilton</td><td>Mercedes</td><td>2865.0</td><td>74</td></tr><tr><td>Sebastian Vettel</td><td>Red Bull</td><td>1577.0</td><td>38</td></tr><tr><td>Nico Rosberg</td><td>Mercedes</td><td>1519.0</td><td>23</td></tr><tr><td>Sebastian Vettel</td><td>Ferrari</td><td>1400.0</td><td>14</td></tr><tr><td>Fernando Alonso</td><td>Ferrari</td><td>1190.0</td><td>11</td></tr><tr><td>Valtteri Bottas</td><td>Mercedes</td><td>1101.0</td><td>9</td></tr><tr><td>Max Verstappen</td><td>Red Bull</td><td>1100.0</td><td>10</td></tr><tr><td>Kimi Räikkönen</td><td>Ferrari</td><td>1080.0</td><td>10</td></tr><tr><td>Michael Schumacher</td><td>Ferrari</td><td>1066.0</td><td>72</td></tr><tr><td>Mark Webber</td><td>Red Bull</td><td>978.5</td><td>9</td></tr><tr><td>Daniel Ricciardo</td><td>Red Bull</td><td>956.0</td><td>7</td></tr><tr><td>Lewis Hamilton</td><td>McLaren</td><td>913.0</td><td>21</td></tr><tr><td>Jenson Button</td><td>McLaren</td><td>908.0</td><td>8</td></tr><tr><td>Felipe Massa</td><td>Ferrari</td><td>789.0</td><td>11</td></tr><tr><td>Fernando Alonso</td><td>Renault</td><td>468.0</td><td>17</td></tr><tr><td>Alain Prost</td><td>McLaren</td><td>458.5</td><td>30</td></tr><tr><td>Ayrton Senna</td><td>McLaren</td><td>451.0</td><td>35</td></tr><tr><td>David Coulthard</td><td>McLaren</td><td>412.0</td><td>12</td></tr><tr><td>Rubens Barrichello</td><td>Ferrari</td><td>412.0</td><td>9</td></tr><tr><td>Valtteri Bottas</td><td>Williams</td><td>411.0</td><td>0</td></tr><tr><td>Mika Häkkinen</td><td>McLaren</td><td>407.0</td><td>20</td></tr><tr><td>Sergio Pérez</td><td>Force India</td><td>400.0</td><td>0</td></tr><tr><td>Kimi Räikkönen</td><td>Lotus F1</td><td>390.0</td><td>2</td></tr><tr><td>Nigel Mansell</td><td>Williams</td><td>369.0</td><td>28</td></tr><tr><td>Charles Leclerc</td><td>Ferrari</td><td>362.0</td><td>2</td></tr><tr><td>Felipe Massa</td><td>Williams</td><td>351.0</td><td>0</td></tr><tr><td>Kimi Räikkönen</td><td>McLaren</td><td>337.0</td><td>9</td></tr><tr><td>Damon Hill</td><td>Williams</td><td>326.0</td><td>21</td></tr><tr><td>Michael Schumacher</td><td>Benetton</td><td>303.0</td><td>19</td></tr><tr><td>Nico Hülkenberg</td><td>Force India</td><td>289.0</td><td>0</td></tr><tr><td>Romain Grosjean</td><td>Lotus F1</td><td>287.0</td><td>0</td></tr><tr><td>Niki Lauda</td><td>Ferrari</td><td>242.5</td><td>15</td></tr><tr><td>Fernando Alonso</td><td>McLaren</td><td>241.0</td><td>4</td></tr><tr><td>Nelson Piquet</td><td>Brabham</td><td>233.0</td><td>13</td></tr><tr><td>Ralf Schumacher</td><td>Williams</td><td>232.0</td><td>6</td></tr><tr><td>Juan Pablo Montoya</td><td>Williams</td><td>221.0</td><td>4</td></tr><tr><td>Jim Clark</td><td>Lotus-Climax</td><td>207.0</td><td>19</td></tr><tr><td>Jacques Laffite</td><td>Ligier</td><td>206.0</td><td>6</td></tr><tr><td>Carlos Sainz</td><td>McLaren</td><td>201.0</td><td>0</td></tr><tr><td>Michael Schumacher</td><td>Mercedes</td><td>197.0</td><td>0</td></tr><tr><td>Graham Hill</td><td>BRM</td><td>193.0</td><td>10</td></tr><tr><td>Gerhard Berger</td><td>Ferrari</td><td>182.0</td><td>5</td></tr><tr><td>Alexander Albon</td><td>Red Bull</td><td>181.0</td><td>0</td></tr><tr><td>Jacques Villeneuve</td><td>Williams</td><td>180.0</td><td>11</td></tr><tr><td>Riccardo Patrese</td><td>Williams</td><td>180.0</td><td>4</td></tr><tr><td>Jackie Stewart</td><td>Tyrrell</td><td>178.0</td><td>15</td></tr><tr><td>Sergio Pérez</td><td>Racing Point</td><td>177.0</td><td>1</td></tr><tr><td>Daniel Ricciardo</td><td>Renault</td><td>173.0</td><td>0</td></tr><tr><td>Alan Jones</td><td>Williams</td><td>171.0</td><td>11</td></tr><tr><td>Clay Regazzoni</td><td>Ferrari</td><td>169.0</td><td>4</td></tr><tr><td>Nick Heidfeld</td><td>BMW Sauber</td><td>163.0</td><td>0</td></tr><tr><td>Eddie Irvine</td><td>Ferrari</td><td>156.0</td><td>4</td></tr><tr><td>Giancarlo Fisichella</td><td>Renault</td><td>151.0</td><td>2</td></tr><tr><td>Ayrton Senna</td><td>Team Lotus</td><td>150.0</td><td>6</td></tr><tr><td>Nico Hülkenberg</td><td>Renault</td><td>149.0</td><td>0</td></tr><tr><td>Mario Andretti</td><td>Team Lotus</td><td>147.0</td><td>11</td></tr><tr><td>Lando Norris</td><td>McLaren</td><td>146.0</td><td>0</td></tr><tr><td>Nelson Piquet</td><td>Williams</td><td>145.0</td><td>7</td></tr><tr><td>Ronnie Peterson</td><td>Team Lotus</td><td>144.0</td><td>9</td></tr><tr><td>Alberto Ascari</td><td>Ferrari</td><td>139.0</td><td>13</td></tr><tr><td>Jenson Button</td><td>BAR</td><td>139.0</td><td>0</td></tr><tr><td>Michele Alboreto</td><td>Ferrari</td><td>138.5</td><td>3</td></tr><tr><td>Robert Kubica</td><td>BMW Sauber</td><td>137.0</td><td>1</td></tr><tr><td>Bruce McLaren</td><td>Cooper-Climax</td><td>136.5</td><td>3</td></tr><tr><td>Esteban Ocon</td><td>Force India</td><td>136.0</td><td>0</td></tr><tr><td>Robert Kubica</td><td>Renault</td><td>136.0</td><td>0</td></tr><tr><td>Gerhard Berger</td><td>McLaren</td><td>135.0</td><td>3</td></tr><tr><td>Alain Prost</td><td>Renault</td><td>134.0</td><td>9</td></tr><tr><td>Keke Rosberg</td><td>Williams</td><td>131.5</td><td>5</td></tr><tr><td>Jarno Trulli</td><td>Toyota</td><td>129.5</td><td>0</td></tr><tr><td>Emerson Fittipaldi</td><td>Team Lotus</td><td>128.0</td><td>9</td></tr><tr><td>Niki Lauda</td><td>McLaren</td><td>128.0</td><td>8</td></tr><tr><td>Adrian Sutil</td><td>Force India</td><td>123.0</td><td>0</td></tr><tr><td>Kamui Kobayashi</td><td>Sauber</td><td>122.0</td><td>0</td></tr><tr><td>Jacky Ickx</td><td>Ferrari</td><td>121.0</td><td>6</td></tr><tr><td>Jean Alesi</td><td>Ferrari</td><td>121.0</td><td>1</td></tr><tr><td>Paul di Resta</td><td>Force India</td><td>121.0</td><td>0</td></tr><tr><td>Elio de Angelis</td><td>Team Lotus</td><td>119.0</td><td>2</td></tr><tr><td>Patrick Depailler</td><td>Tyrrell</td><td>119.0</td><td>1</td></tr><tr><td>James Hunt</td><td>McLaren</td><td>117.0</td><td>9</td></tr><tr><td>Daniil Kvyat</td><td>Red Bull</td><td>116.0</td><td>0</td></tr><tr><td>Jody Scheckter</td><td>Tyrrell</td><td>114.0</td><td>4</td></tr><tr><td>Mike Hawthorn</td><td>Ferrari</td><td>113.64</td><td>3</td></tr><tr><td>Carlos Sainz</td><td>Toro Rosso</td><td>112.0</td><td>0</td></tr><tr><td>John Watson</td><td>McLaren</td><td>109.0</td><td>4</td></tr><tr><td>Gilles Villeneuve</td><td>Ferrari</td><td>107.0</td><td>6</td></tr><tr><td>Alain Prost</td><td>Ferrari</td><td>107.0</td><td>5</td></tr><tr><td>Carlos Reutemann</td><td>Williams</td><td>104.0</td><td>3</td></tr><tr><td>Romain Grosjean</td><td>Haas F1 Team</td><td>104.0</td><td>0</td></tr><tr><td>Emerson Fittipaldi</td><td>McLaren</td><td>100.0</td><td>5</td></tr><tr><td>Juan Fangio</td><td>Maserati</td><td>99.5</td><td>7</td></tr><tr><td>Jackie Stewart</td><td>Matra-Ford</td><td>99.0</td><td>9</td></tr><tr><td>Alain Prost</td><td>Williams</td><td>99.0</td><td>7</td></tr><tr><td>Phil Hill</td><td>Ferrari</td><td>96.0</td><td>3</td></tr><tr><td>Kevin Magnussen</td><td>Haas F1 Team</td><td>96.0</td><td>0</td></tr><tr><td>Lance Stroll</td><td>Racing Point</td><td>96.0</td><td>0</td></tr><tr><td>Jenson Button</td><td>Brawn</td><td>95.0</td><td>6</td></tr><tr><td>Jack Brabham</td><td>Brabham-Repco</td><td>95.0</td><td>6</td></tr><tr><td>Denny Hulme</td><td>McLaren</td><td>94.0</td><td>3</td></tr><tr><td>Carlos Reutemann</td><td>Ferrari</td><td>90.0</td><td>5</td></tr><tr><td>Carlos Reutemann</td><td>Brabham</td><td>88.0</td><td>4</td></tr><tr><td>John Surtees</td><td>Ferrari</td><td>88.0</td><td>4</td></tr><tr><td>Jarno Trulli</td><td>Renault</td><td>88.0</td><td>1</td></tr><tr><td>François Cevert</td><td>Tyrrell</td><td>88.0</td><td>1</td></tr><tr><td>Juan Pablo Montoya</td><td>McLaren</td><td>86.0</td><td>3</td></tr><tr><td>René Arnoux</td><td>Renault</td><td>85.0</td><td>4</td></tr><tr><td>Jean Alesi</td><td>Benetton</td><td>83.0</td><td>0</td></tr><tr><td>Juan Fangio</td><td>Mercedes</td><td>81.14</td><td>8</td></tr><tr><td>Jack Brabham</td><td>Cooper-Climax</td><td>81.0</td><td>7</td></tr><tr><td>Sergio Pérez</td><td>Sauber</td><td>80.0</td><td>0</td></tr><tr><td>Jody Scheckter</td><td>Wolf</td><td>79.0</td><td>3</td></tr><tr><td>René Arnoux</td><td>Ferrari</td><td>79.0</td><td>3</td></tr><tr><td>Denny Hulme</td><td>McLaren-Ford</td><td>78.0</td><td>3</td></tr><tr><td>Rubens Barrichello</td><td>Brawn</td><td>77.0</td><td>2</td></tr><tr><td>Graham Hill</td><td>Lotus-Ford</td><td>76.0</td><td>4</td></tr><tr><td>Nico Rosberg</td><td>Williams</td><td>75.5</td><td>0</td></tr><tr><td>Nino Farina</td><td>Ferrari</td><td>75.33</td><td>1</td></tr><tr><td>Nigel Mansell</td><td>Ferrari</td><td>75.0</td><td>3</td></tr><tr><td>Heikki Kovalainen</td><td>McLaren</td><td>75.0</td><td>1</td></tr><tr><td>Pierre Gasly</td><td>AlphaTauri</td><td>75.0</td><td>1</td></tr><tr><td>Thierry Boutsen</td><td>Williams</td><td>71.0</td><td>3</td></tr><tr><td>Heinz-Harald Frentzen</td><td>Jordan</td><td>71.0</td><td>2</td></tr><tr><td>Nelson Piquet</td><td>Benetton</td><td>70.5</td><td>3</td></tr><tr><td>Ralf Schumacher</td><td>Toyota</td><td>70.0</td><td>0</td></tr><tr><td>Denny Hulme</td><td>Brabham-Repco</td><td>69.0</td><td>2</td></tr><tr><td>Richie Ginther</td><td>BRM</td><td>67.0</td><td>0</td></tr><tr><td>Patrick Tambay</td><td>Ferrari</td><td>65.0</td><td>2</td></tr><tr><td>Gerhard Berger</td><td>Benetton</td><td>65.0</td><td>2</td></tr><tr><td>Jenson Button</td><td>Honda</td><td>65.0</td><td>1</td></tr><tr><td>Alessandro Nannini</td><td>Benetton</td><td>65.0</td><td>1</td></tr><tr><td>Juan Fangio</td><td>Alfa Romeo</td><td>64.0</td><td>6</td></tr><tr><td>Jochen Mass</td><td>McLaren</td><td>64.0</td><td>1</td></tr><tr><td>Vitaly Petrov</td><td>Renault</td><td>64.0</td><td>0</td></tr><tr><td>David Coulthard</td><td>Williams</td><td>63.0</td><td>1</td></tr><tr><td>Pierre Gasly</td><td>Red Bull</td><td>63.0</td><td>0</td></tr><tr><td>Jody Scheckter</td><td>Ferrari</td><td>62.0</td><td>3</td></tr><tr><td>Esteban Ocon</td><td>Renault</td><td>62.0</td><td>0</td></tr><tr><td>Max Verstappen</td><td>Toro Rosso</td><td>62.0</td><td>0</td></tr><tr><td>Peter Revson</td><td>McLaren</td><td>61.0</td><td>2</td></tr><tr><td>Pierre Gasly</td><td>Toro Rosso</td><td>61.0</td><td>0</td></tr><tr><td>David Coulthard</td><td>Red Bull</td><td>60.0</td><td>0</td></tr><tr><td>Heinz-Harald Frentzen</td><td>Williams</td><td>59.0</td><td>1</td></tr><tr><td>Carlos Sainz</td><td>Renault</td><td>59.0</td><td>0</td></tr><tr><td>Jackie Stewart</td><td>BRM</td><td>58.0</td><td>2</td></tr><tr><td>Stirling Moss</td><td>Vanwall</td><td>57.0</td><td>6</td></tr><tr><td>José Froilán González</td><td>Ferrari</td><td>56.64</td><td>2</td></tr><tr><td>Wolfgang von Trips</td><td>Ferrari</td><td>56.0</td><td>2</td></tr><tr><td>Lorenzo Bandini</td><td>Ferrari</td><td>56.0</td><td>1</td></tr><tr><td>Bruce McLaren</td><td>McLaren-Ford</td><td>56.0</td><td>1</td></tr><tr><td>Kevin Magnussen</td><td>McLaren</td><td>55.0</td><td>0</td></tr><tr><td>Giancarlo Fisichella</td><td>Benetton</td><td>55.0</td><td>0</td></tr><tr><td>Daniil Kvyat</td><td>Toro Rosso</td><td>54.0</td><td>0</td></tr><tr><td>Nino Farina</td><td>Alfa Romeo</td><td>52.0</td><td>4</td></tr><tr><td>Nico Hülkenberg</td><td>Sauber</td><td>51.0</td><td>0</td></tr><tr><td>Rubens Barrichello</td><td>Williams</td><td>51.0</td><td>0</td></tr><tr><td>Jean-Éric Vergne</td><td>Toro Rosso</td><td>51.0</td><td>0</td></tr><tr><td>Jim Clark</td><td>Lotus-Ford</td><td>50.0</td><td>5</td></tr><tr><td>Johnny Herbert</td><td>Benetton</td><td>50.0</td><td>2</td></tr><tr><td>Pedro Rodríguez</td><td>BRM</td><td>50.0</td><td>1</td></tr><tr><td>Sergio Pérez</td><td>McLaren</td><td>49.0</td><td>0</td></tr><tr><td>Timo Glock</td><td>Toyota</td><td>49.0</td><td>0</td></tr><tr><td>Stefan Johansson</td><td>Ferrari</td><td>49.0</td><td>0</td></tr><tr><td>Didier Pironi</td><td>Ferrari</td><td>48.0</td><td>2</td></tr><tr><td>James Hunt</td><td>Hesketh</td><td>48.0</td><td>1</td></tr><tr><td>Peter Collins</td><td>Ferrari</td><td>47.0</td><td>3</td></tr><tr><td>Pastor Maldonado</td><td>Williams</td><td>47.0</td><td>1</td></tr><tr><td>Kimi Räikkönen</td><td>Alfa Romeo</td><td>47.0</td><td>0</td></tr><tr><td>Lance Stroll</td><td>Williams</td><td>46.0</td><td>0</td></tr><tr><td>Rubens Barrichello</td><td>Jordan</td><td>46.0</td><td>0</td></tr><tr><td>Jochen Rindt</td><td>Team Lotus</td><td>45.0</td><td>5</td></tr><tr><td>Jack Brabham</td><td>Brabham</td><td>45.0</td><td>1</td></tr><tr><td>Niki Lauda</td><td>Brabham</td><td>44.0</td><td>2</td></tr><tr><td>Dan Gurney</td><td>Brabham-Climax</td><td>44.0</td><td>2</td></tr><tr><td>Mark Webber</td><td>Williams</td><td>43.0</td><td>0</td></tr><tr><td>Luigi Villoresi</td><td>Ferrari</td><td>43.0</td><td>0</td></tr><tr><td>Thierry Boutsen</td><td>Benetton</td><td>43.0</td><td>0</td></tr><tr><td>Riccardo Patrese</td><td>Brabham</td><td>42.0</td><td>2</td></tr><tr><td>Heinz-Harald Frentzen</td><td>Sauber</td><td>42.0</td><td>0</td></tr><tr><td>Michele Alboreto</td><td>Tyrrell</td><td>41.0</td><td>2</td></tr><tr><td>Rubens Barrichello</td><td>Honda</td><td>41.0</td><td>0</td></tr><tr><td>Sebastian Vettel</td><td>Toro Rosso</td><td>40.0</td><td>1</td></tr><tr><td>John Watson</td><td>Brabham</td><td>40.0</td><td>0</td></tr><tr><td>Giancarlo Fisichella</td><td>Jordan</td><td>39.0</td><td>1</td></tr><tr><td>Charles Leclerc</td><td>Sauber</td><td>39.0</td><td>0</td></tr><tr><td>Jacques Villeneuve</td><td>BAR</td><td>39.0</td><td>0</td></tr><tr><td>Carlos Pace</td><td>Brabham</td><td>38.0</td><td>1</td></tr><tr><td>Olivier Panis</td><td>Ligier</td><td>38.0</td><td>1</td></tr><tr><td>Takuma Sato</td><td>BAR</td><td>38.0</td><td>0</td></tr><tr><td>Martin Brundle</td><td>Benetton</td><td>38.0</td><td>0</td></tr><tr><td>Nigel Mansell</td><td>Team Lotus</td><td>38.0</td><td>0</td></tr><tr><td>Jacky Ickx</td><td>Brabham-Ford</td><td>37.0</td><td>2</td></tr><tr><td>Emerson Fittipaldi</td><td>Fittipaldi</td><td>37.0</td><td>0</td></tr><tr><td>Dan Gurney</td><td>Porsche</td><td>36.0</td><td>1</td></tr><tr><td>Jean Behra</td><td>Maserati</td><td>36.0</td><td>0</td></tr><tr><td>Tony Brooks</td><td>Vanwall</td><td>35.0</td><td>4</td></tr><tr><td>Juan Fangio</td><td>Ferrari</td><td>34.5</td><td>3</td></tr><tr><td>Nick Heidfeld</td><td>Renault</td><td>34.0</td><td>0</td></tr><tr><td>Nelson Piquet</td><td>Team Lotus</td><td>34.0</td><td>0</td></tr><tr><td>Chris Amon</td><td>Ferrari</td><td>34.0</td><td>0</td></tr><tr><td>Maurice Trintignant</td><td>Ferrari</td><td>33.33</td><td>1</td></tr><tr><td>Stirling Moss</td><td>Maserati</td><td>33.0</td><td>2</td></tr><tr><td>Luigi Musso</td><td>Ferrari</td><td>33.0</td><td>1</td></tr><tr><td>Ronnie Peterson</td><td>March-Ford</td><td>33.0</td><td>0</td></tr><tr><td>Piero Taruffi</td><td>Ferrari</td><td>32.0</td><td>1</td></tr><tr><td>Didier Pironi</td><td>Ligier</td><td>32.0</td><td>1</td></tr><tr><td>Clay Regazzoni</td><td>Williams</td><td>32.0</td><td>1</td></tr><tr><td>Luigi Fagioli</td><td>Alfa Romeo</td><td>32.0</td><td>1</td></tr><tr><td>John Surtees</td><td>Honda</td><td>32.0</td><td>1</td></tr><tr><td>Daniil Kvyat</td><td>AlphaTauri</td><td>32.0</td><td>0</td></tr><tr><td>Gunnar Nilsson</td><td>Team Lotus</td><td>31.0</td><td>1</td></tr><tr><td>Bruno Senna</td><td>Williams</td><td>31.0</td><td>0</td></tr><tr><td>Nick Heidfeld</td><td>Sauber</td><td>31.0</td><td>0</td></tr><tr><td>Jaime Alguersuari</td><td>Toro Rosso</td><td>31.0</td><td>0</td></tr><tr><td>Rubens Barrichello</td><td>Stewart</td><td>31.0</td><td>0</td></tr><tr><td>Heikki Kovalainen</td><td>Renault</td><td>30.0</td><td>0</td></tr><tr><td>Daniel Ricciardo</td><td>Toro Rosso</td><td>30.0</td><td>0</td></tr><tr><td>Riccardo Patrese</td><td>Arrows</td><td>30.0</td><td>0</td></tr><tr><td>Stefan Johansson</td><td>McLaren</td><td>30.0</td><td>0</td></tr><tr><td>Jochen Rindt</td><td>Cooper-Maserati</td><td>30.0</td><td>0</td></tr><tr><td>Sébastien Buemi</td><td>Toro Rosso</td><td>29.0</td><td>0</td></tr><tr><td>Felipe Nasr</td><td>Sauber</td><td>29.0</td><td>0</td></tr><tr><td>Pastor Maldonado</td><td>Lotus F1</td><td>29.0</td><td>0</td></tr><tr><td>Jean-Pierre Beltoise</td><td>BRM</td><td>28.0</td><td>1</td></tr><tr><td>Nick Heidfeld</td><td>Williams</td><td>28.0</td><td>0</td></tr><tr><td>Derek Warwick</td><td>Renault</td><td>28.0</td><td>0</td></tr><tr><td>Tony Brooks</td><td>Ferrari</td><td>27.0</td><td>2</td></tr><tr><td>Damon Hill</td><td>Jordan</td><td>27.0</td><td>1</td></tr><tr><td>Jo Siffert</td><td>Lotus-Ford</td><td>27.0</td><td>1</td></tr><tr><td>Felipe Massa</td><td>Sauber</td><td>27.0</td><td>0</td></tr><tr><td>Derek Warwick</td><td>Arrows</td><td>27.0</td><td>0</td></tr><tr><td>Ralf Schumacher</td><td>Jordan</td><td>27.0</td><td>0</td></tr><tr><td>Stoffel Vandoorne</td><td>McLaren</td><td>26.0</td><td>0</td></tr><tr><td>Alexander Wurz</td><td>Benetton</td><td>26.0</td><td>0</td></tr><tr><td>Jackie Stewart</td><td>March</td><td>25.0</td><td>1</td></tr><tr><td>Jean-Pierre Beltoise</td><td>Matra</td><td>25.0</td><td>0</td></tr><tr><td>Carlos Reutemann</td><td>Team Lotus</td><td>25.0</td><td>0</td></tr><tr><td>Richie Ginther</td><td>Ferrari</td><td>24.0</td><td>0</td></tr><tr><td>Mark Webber</td><td>Jaguar</td><td>24.0</td><td>0</td></tr><tr><td>Jean-Pierre Beltoise</td><td>Matra-Ford</td><td>24.0</td><td>0</td></tr><tr><td>Stirling Moss</td><td>Mercedes</td><td>23.0</td><td>1</td></tr><tr><td>Pedro de la Rosa</td><td>McLaren</td><td>23.0</td><td>0</td></tr><tr><td>Chris Amon</td><td>March</td><td>23.0</td><td>0</td></tr><tr><td>Innes Ireland</td><td>Team Lotus</td><td>23.0</td><td>0</td></tr><tr><td>Alan Jones</td><td>Shadow</td><td>22.0</td><td>1</td></tr><tr><td>Ronnie Peterson</td><td>March</td><td>22.0</td><td>1</td></tr><tr><td>Patrick Depailler</td><td>Ligier</td><td>22.0</td><td>1</td></tr><tr><td>Jochen Rindt</td><td>Lotus-Ford</td><td>22.0</td><td>1</td></tr><tr><td>Nico Hülkenberg</td><td>Williams</td><td>22.0</td><td>0</td></tr><tr><td>Giancarlo Fisichella</td><td>Sauber</td><td>22.0</td><td>0</td></tr><tr><td>Tony Maggs</td><td>Cooper-Climax</td><td>22.0</td><td>0</td></tr><tr><td>Jacques Laffite</td><td>Williams</td><td>22.0</td><td>0</td></tr><tr><td>Eddie Cheever</td><td>Renault</td><td>22.0</td><td>0</td></tr><tr><td>Patrick Tambay</td><td>Renault</td><td>22.0</td><td>0</td></tr><tr><td>Keke Rosberg</td><td>McLaren</td><td>22.0</td><td>0</td></tr><tr><td>Stirling Moss</td><td>Lotus-Climax</td><td>21.0</td><td>2</td></tr><tr><td>Jean-Pierre Jabouille</td><td>Renault</td><td>21.0</td><td>2</td></tr><tr><td>Vitantonio Liuzzi</td><td>Force India</td><td>21.0</td><td>0</td></tr><tr><td>Jean Alesi</td><td>Tyrrell</td><td>21.0</td><td>0</td></tr><tr><td>José Froilán González</td><td>Maserati</td><td>21.0</td><td>0</td></tr><tr><td>Chris Amon</td><td>Matra</td><td>21.0</td><td>0</td></tr><tr><td>Didier Pironi</td><td>Tyrrell</td><td>21.0</td><td>0</td></tr><tr><td>John Watson</td><td>Penske</td><td>20.0</td><td>1</td></tr><tr><td>Mario Andretti</td><td>Ferrari</td><td>20.0</td><td>1</td></tr><tr><td>Eddie Cheever</td><td>Arrows</td><td>20.0</td><td>0</td></tr><tr><td>Andrea de Cesaris</td><td>Alfa Romeo</td><td>20.0</td><td>0</td></tr><tr><td>Jean-Pierre Jarier</td><td>Tyrrell</td><td>20.0</td><td>0</td></tr><tr><td>Jack Brabham</td><td>Brabham-Climax</td><td>20.0</td><td>0</td></tr><tr><td>Martin Brundle</td><td>Ligier</td><td>20.0</td><td>0</td></tr><tr><td>Riccardo Patrese</td><td>Benetton</td><td>20.0</td><td>0</td></tr><tr><td>Johnny Herbert</td><td>Sauber</td><td>20.0</td><td>0</td></tr><tr><td>Bill Vukovich</td><td>Kurtis Kraft</td><td>19.0</td><td>2</td></tr><tr><td>Stirling Moss</td><td>Team Lotus</td><td>19.0</td><td>2</td></tr><tr><td>Jo Siffert</td><td>BRM</td><td>19.0</td><td>1</td></tr><tr><td>John Surtees</td><td>Cooper-Maserati</td><td>19.0</td><td>1</td></tr><tr><td>Nelson Piquet Jr.</td><td>Renault</td><td>19.0</td><td>0</td></tr><tr><td>John Surtees</td><td>Lola</td><td>19.0</td><td>0</td></tr><tr><td>Dan Gurney</td><td>Brabham</td><td>19.0</td><td>0</td></tr><tr><td>Harry Schell</td><td>BRM</td><td>19.0</td><td>0</td></tr><tr><td>Maurice Trintignant</td><td>Cooper-Climax</td><td>19.0</td><td>0</td></tr><tr><td>Stirling Moss</td><td>Cooper-Climax</td><td>18.0</td><td>2</td></tr><tr><td>Marcus Ericsson</td><td>Sauber</td><td>18.0</td><td>0</td></tr><tr><td>Antonio Giovinazzi</td><td>Alfa Romeo</td><td>18.0</td><td>0</td></tr><tr><td>Ivan Capelli</td><td>March</td><td>18.0</td><td>0</td></tr><tr><td>Olivier Panis</td><td>Prost</td><td>18.0</td><td>0</td></tr><tr><td>Eddie Irvine</td><td>Jaguar</td><td>18.0</td><td>0</td></tr><tr><td>Jarno Trulli</td><td>Jordan</td><td>18.0</td><td>0</td></tr><tr><td>Jo Bonnier</td><td>BRM</td><td>17.0</td><td>1</td></tr><tr><td>René Arnoux</td><td>Ligier</td><td>17.0</td><td>0</td></tr><tr><td>Karl Kling</td><td>Mercedes</td><td>17.0</td><td>0</td></tr><tr><td>Eddie Irvine</td><td>Jordan</td><td>17.0</td><td>0</td></tr><tr><td>Roy Salvadori</td><td>Cooper</td><td>17.0</td><td>0</td></tr><tr><td>Pierluigi Martini</td><td>Minardi</td><td>16.0</td><td>0</td></tr><tr><td>Alexander Albon</td><td>Toro Rosso</td><td>16.0</td><td>0</td></tr><tr><td>Mike Hailwood</td><td>Surtees</td><td>16.0</td><td>0</td></tr><tr><td>Emerson Fittipaldi</td><td>Lotus-Ford</td><td>16.0</td><td>0</td></tr><tr><td>Thierry Boutsen</td><td>Arrows</td><td>16.0</td><td>0</td></tr><tr><td>Martin Brundle</td><td>McLaren</td><td>16.0</td><td>0</td></tr><tr><td>Louis Rosier</td><td>Talbot-Lago</td><td>16.0</td><td>0</td></tr><tr><td>Piers Courage</td><td>Brabham-Ford</td><td>16.0</td><td>0</td></tr><tr><td>Johnny Herbert</td><td>Stewart</td><td>15.0</td><td>1</td></tr><tr><td>Pedro Rodríguez</td><td>Cooper-Maserati</td><td>15.0</td><td>1</td></tr><tr><td>Jacky Ickx</td><td>Team Lotus</td><td>15.0</td><td>0</td></tr><tr><td>Eddie Cheever</td><td>Ligier</td><td>15.0</td><td>0</td></tr><tr><td>Jim Rathmann</td><td>Watson</td><td>14.0</td><td>1</td></tr><tr><td>Rodger Ward</td><td>Watson</td><td>14.0</td><td>1</td></tr><tr><td>Giancarlo Baghetti</td><td>Ferrari</td><td>14.0</td><td>1</td></tr><tr><td>Innes Ireland</td><td>Lotus-Climax</td><td>14.0</td><td>1</td></tr><tr><td>Richie Ginther</td><td>Honda</td><td>14.0</td><td>1</td></tr><tr><td>Jonathan Palmer</td><td>Tyrrell</td><td>14.0</td><td>0</td></tr><tr><td>Roberto Moreno</td><td>Benetton</td><td>14.0</td><td>0</td></tr><tr><td>James Hunt</td><td>March</td><td>14.0</td><td>0</td></tr><tr><td>Teo Fabi</td><td>Benetton</td><td>14.0</td><td>0</td></tr><tr><td>Mike Spence</td><td>Lotus-Climax</td><td>14.0</td><td>0</td></tr><tr><td>Jenson Button</td><td>Renault</td><td>14.0</td><td>0</td></tr><tr><td>Mike Parkes</td><td>Ferrari</td><td>14.0</td><td>0</td></tr><tr><td>Jack Brabham</td><td>Brabham-Ford</td><td>14.0</td><td>0</td></tr><tr><td>Eugenio Castellotti</td><td>Ferrari</td><td>13.5</td><td>0</td></tr><tr><td>Dan Gurney</td><td>Eagle-Weslake</td><td>13.0</td><td>1</td></tr><tr><td>Alexander Wurz</td><td>Williams</td><td>13.0</td><td>0</td></tr><tr><td>Cristiano da Matta</td><td>Toyota</td><td>13.0</td><td>0</td></tr><tr><td>Mika Häkkinen</td><td>Team Lotus</td><td>13.0</td><td>0</td></tr><tr><td>Johnny Herbert</td><td>Team Lotus</td><td>13.0</td><td>0</td></tr><tr><td>Hans-Joachim Stuck</td><td>March</td><td>13.0</td><td>0</td></tr><tr><td>Roberto Mieres</td><td>Maserati</td><td>13.0</td><td>0</td></tr><tr><td>Bruno Giacomelli</td><td>Alfa Romeo</td><td>13.0</td><td>0</td></tr><tr><td>Ayrton Senna</td><td>Toleman</td><td>13.0</td><td>0</td></tr><tr><td>Mark Blundell</td><td>McLaren</td><td>13.0</td><td>0</td></tr><tr><td>Stuart Lewis-Evans</td><td>Vanwall</td><td>13.0</td><td>0</td></tr><tr><td>Dan Gurney</td><td>Ferrari</td><td>13.0</td><td>0</td></tr><tr><td>Johnnie Parsons</td><td>Kurtis Kraft</td><td>12.0</td><td>1</td></tr><tr><td>Maurice Trintignant</td><td>Cooper</td><td>12.0</td><td>1</td></tr><tr><td>Sam Hanks</td><td>Kurtis Kraft</td><td>12.0</td><td>0</td></tr><tr><td>Andrea de Cesaris</td><td>Jordan</td><td>12.0</td><td>0</td></tr><tr><td>Olivier Panis</td><td>Toyota</td><td>12.0</td><td>0</td></tr><tr><td>Hans-Joachim Stuck</td><td>Brabham</td><td>12.0</td><td>0</td></tr><tr><td>Hector Rebaque</td><td>Brabham</td><td>12.0</td><td>0</td></tr><tr><td>Mike Hailwood</td><td>McLaren</td><td>12.0</td><td>0</td></tr><tr><td>Luigi Musso</td><td>Maserati</td><td>12.0</td><td>0</td></tr><tr><td>Jo Siffert</td><td>Brabham-BRM</td><td>12.0</td><td>0</td></tr><tr><td>Mika Salo</td><td>Tyrrell</td><td>12.0</td><td>0</td></tr><tr><td>Jenson Button</td><td>Williams</td><td>12.0</td><td>0</td></tr><tr><td>Peter Arundell</td><td>Lotus-Climax</td><td>12.0</td><td>0</td></tr><tr><td>Ludovico Scarfiotti</td><td>Ferrari</td><td>11.0</td><td>1</td></tr><tr><td>Christian Klien</td><td>Red Bull</td><td>11.0</td><td>0</td></tr><tr><td>Satoru Nakajima</td><td>Team Lotus</td><td>11.0</td><td>0</td></tr><tr><td>Tom Pryce</td><td>Shadow</td><td>11.0</td><td>0</td></tr><tr><td>Jarno Trulli</td><td>Prost</td><td>11.0</td><td>0</td></tr><tr><td>Jean Alesi</td><td>Sauber</td><td>11.0</td><td>0</td></tr><tr><td>Karl Wendlinger</td><td>Sauber</td><td>11.0</td><td>0</td></tr><tr><td>Felice Bonetto</td><td>Maserati</td><td>10.5</td><td>0</td></tr><tr><td>Peter Gethin</td><td>BRM</td><td>10.0</td><td>1</td></tr><tr><td>Nico Hülkenberg</td><td>Racing Point</td><td>10.0</td><td>0</td></tr><tr><td>Jimmy Bryan</td><td>Kuzma</td><td>10.0</td><td>0</td></tr><tr><td>Stefano Modena</td><td>Tyrrell</td><td>10.0</td><td>0</td></tr><tr><td>Harry Schell</td><td>Maserati</td><td>10.0</td><td>0</td></tr><tr><td>Masten Gregory</td><td>Cooper-Climax</td><td>10.0</td><td>0</td></tr><tr><td>Mike Hawthorn</td><td>Cooper</td><td>10.0</td><td>0</td></tr><tr><td>Rudi Fischer</td><td>Ferrari</td><td>10.0</td><td>0</td></tr><tr><td>Eddie Cheever</td><td>Tyrrell</td><td>10.0</td><td>0</td></tr><tr><td>Mika Salo</td><td>Ferrari</td><td>10.0</td><td>0</td></tr><tr><td>Jos Verstappen</td><td>Benetton</td><td>10.0</td><td>0</td></tr><tr><td>Innes Ireland</td><td>BRP</td><td>10.0</td><td>0</td></tr><tr><td>Mark Blundell</td><td>Ligier</td><td>10.0</td><td>0</td></tr><tr><td>Carlos Pace</td><td>Surtees</td><td>10.0</td><td>0</td></tr><tr><td>Rolf Stommelen</td><td>Brabham</td><td>10.0</td><td>0</td></tr><tr><td>Masten Gregory</td><td>Maserati</td><td>10.0</td><td>0</td></tr><tr><td>Olivier Gendebien</td><td>Cooper-Climax</td><td>10.0</td><td>0</td></tr><tr><td>Lee Wallard</td><td>Kurtis Kraft</td><td>9.0</td><td>1</td></tr><tr><td>Jim Clark</td><td>Lotus-BRM</td><td>9.0</td><td>1</td></tr><tr><td>Kazuki Nakajima</td><td>Williams</td><td>9.0</td><td>0</td></tr><tr><td>Jacques Villeneuve</td><td>Sauber</td><td>9.0</td><td>0</td></tr><tr><td>Jack McGrath</td><td>Kurtis Kraft</td><td>9.0</td><td>0</td></tr><tr><td>Jim Rathmann</td><td>Epperly</td><td>9.0</td><td>0</td></tr><tr><td>Jolyon Palmer</td><td>Renault</td><td>9.0</td><td>0</td></tr><tr><td>Maurício Gugelmin</td><td>March</td><td>9.0</td><td>0</td></tr><tr><td>Derek Warwick</td><td>Toleman</td><td>9.0</td><td>0</td></tr><tr><td>Robert Manzon</td><td>Gordini</td><td>9.0</td><td>0</td></tr><tr><td>Howden Ganley</td><td>BRM</td><td>9.0</td><td>0</td></tr><tr><td>Reine Wisell</td><td>Lotus-Ford</td><td>9.0</td><td>0</td></tr><tr><td>Kimi Räikkönen</td><td>Sauber</td><td>9.0</td><td>0</td></tr><tr><td>Hans Herrmann</td><td>Mercedes</td><td>9.0</td><td>0</td></tr><tr><td>Teo Fabi</td><td>Brabham</td><td>9.0</td><td>0</td></tr><tr><td>Paul Frère</td><td>Ferrari</td><td>9.0</td><td>0</td></tr><tr><td>Jo Siffert</td><td>Cooper-Maserati</td><td>9.0</td><td>0</td></tr><tr><td>Mike Spence</td><td>BRM</td><td>9.0</td><td>0</td></tr><tr><td>Piero Taruffi</td><td>Mercedes</td><td>9.0</td><td>0</td></tr><tr><td>Vittorio Brambilla</td><td>March</td><td>8.5</td><td>1</td></tr><tr><td>Paul Russo</td><td>Kurtis Kraft</td><td>8.5</td><td>0</td></tr><tr><td>Onofre Marimón</td><td>Maserati</td><td>8.14</td><td>0</td></tr><tr><td>Jimmy Bryan</td><td>Epperly</td><td>8.0</td><td>1</td></tr><tr><td>Bob Sweikert</td><td>Kurtis Kraft</td><td>8.0</td><td>1</td></tr><tr><td>Pat Flaherty</td><td>Watson</td><td>8.0</td><td>1</td></tr><tr><td>Troy Ruttman</td><td>Kuzma</td><td>8.0</td><td>1</td></tr><tr><td>Sam Hanks</td><td>Epperly</td><td>8.0</td><td>1</td></tr><tr><td>Stirling Moss</td><td>Cooper</td><td>8.0</td><td>1</td></tr><tr><td>Giancarlo Fisichella</td><td>Force India</td><td>8.0</td><td>0</td></tr><tr><td>Mike Nazaruk</td><td>Kurtis Kraft</td><td>8.0</td><td>0</td></tr><tr><td>Art Cross</td><td>Kurtis Kraft</td><td>8.0</td><td>0</td></tr><tr><td>Antônio Pizzonia</td><td>Williams</td><td>8.0</td><td>0</td></tr><tr><td>Andrea de Cesaris</td><td>Tyrrell</td><td>8.0</td><td>0</td></tr><tr><td>Tom Pryce</td><td>Shadow-Ford</td><td>8.0</td><td>0</td></tr><tr><td>Patrick Tambay</td><td>McLaren</td><td>8.0</td><td>0</td></tr><tr><td>Prince Bira</td><td>Maserati</td><td>8.0</td><td>0</td></tr><tr><td>Bob Anderson</td><td>Brabham-Climax</td><td>8.0</td><td>0</td></tr><tr><td>Jo Bonnier</td><td>Cooper-Climax</td><td>8.0</td><td>0</td></tr><tr><td>Mark Blundell</td><td>Tyrrell</td><td>8.0</td><td>0</td></tr><tr><td>Riccardo Patrese</td><td>Alfa Romeo</td><td>8.0</td><td>0</td></tr><tr><td>Martin Brundle</td><td>Tyrrell</td><td>8.0</td><td>0</td></tr><tr><td>Gianni Morbidelli</td><td>Footwork</td><td>8.0</td><td>0</td></tr><tr><td>Marc Surer</td><td>Arrows</td><td>8.0</td><td>0</td></tr><tr><td>Derek Daly</td><td>Williams</td><td>8.0</td><td>0</td></tr><tr><td>Olivier Gendebien</td><td>Ferrari</td><td>8.0</td><td>0</td></tr><tr><td>Olivier Panis</td><td>BAR</td><td>8.0</td><td>0</td></tr><tr><td>Henri Pescarolo</td><td>Matra</td><td>8.0</td><td>0</td></tr><tr><td>Martin Brundle</td><td>Jordan</td><td>8.0</td><td>0</td></tr><tr><td>Jim Clark</td><td>Team Lotus</td><td>8.0</td><td>0</td></tr><tr><td>Cliff Allison</td><td>Ferrari</td><td>8.0</td><td>0</td></tr><tr><td>Jochen Rindt</td><td>Brabham-Repco</td><td>8.0</td><td>0</td></tr><tr><td>Stirling Moss</td><td>BRM</td><td>7.5</td><td>0</td></tr><tr><td>Johnny Thomson</td><td>Lesovsky</td><td>7.0</td><td>0</td></tr><tr><td>Tony Bettenhausen</td><td>Epperly</td><td>7.0</td><td>0</td></tr><tr><td>Jacques Villeneuve</td><td>BMW Sauber</td><td>7.0</td><td>0</td></tr><tr><td>Kevin Magnussen</td><td>Renault</td><td>7.0</td><td>0</td></tr><tr><td>Tiago Monteiro</td><td>Jordan</td><td>7.0</td><td>0</td></tr><tr><td>Ronnie Peterson</td><td>Tyrrell</td><td>7.0</td><td>0</td></tr><tr><td>Aguri Suzuki</td><td>Larrousse</td><td>7.0</td><td>0</td></tr><tr><td>Ivan Capelli</td><td>Leyton House</td><td>7.0</td><td>0</td></tr><tr><td>Vittorio Brambilla</td><td>Surtees</td><td>7.0</td><td>0</td></tr><tr><td>Trevor Taylor</td><td>Lotus-Climax</td><td>7.0</td><td>0</td></tr><tr><td>Willy Mairesse</td><td>Ferrari</td><td>7.0</td><td>0</td></tr><tr><td>Carlos Pace</td><td>Brabham-Alfa Romeo</td><td>7.0</td><td>0</td></tr><tr><td>Toulo de Graffenried</td><td>Maserati</td><td>7.0</td><td>0</td></tr><tr><td>Alan Jones</td><td>Surtees</td><td>7.0</td><td>0</td></tr><tr><td>Arturo Merzario</td><td>Ferrari</td><td>7.0</td><td>0</td></tr><tr><td>Jochen Mass</td><td>Arrows</td><td>7.0</td><td>0</td></tr><tr><td>Philippe Streiff</td><td>Tyrrell</td><td>7.0</td><td>0</td></tr><tr><td>Michael Andretti</td><td>McLaren</td><td>7.0</td><td>0</td></tr><tr><td>Graham Hill</td><td>Team Lotus</td><td>7.0</td><td>0</td></tr><tr><td>Damon Hill</td><td>Arrows</td><td>7.0</td><td>0</td></tr><tr><td>Jean Behra</td><td>BRM</td><td>7.0</td><td>0</td></tr><tr><td>Tony Brooks</td><td>Cooper-Climax</td><td>7.0</td><td>0</td></tr><tr><td>Felice Bonetto</td><td>Alfa Romeo</td><td>7.0</td><td>0</td></tr><tr><td>Johnny Servoz-Gavin</td><td>Matra-Ford</td><td>7.0</td><td>0</td></tr><tr><td>Pedro de la Rosa</td><td>Sauber</td><td>6.0</td><td>0</td></tr><tr><td>Jim Rathmann</td><td>Kurtis Kraft</td><td>6.0</td><td>0</td></tr><tr><td>Esteban Gutiérrez</td><td>Sauber</td><td>6.0</td><td>0</td></tr><tr><td>Alexander Wurz</td><td>McLaren</td><td>6.0</td><td>0</td></tr><tr><td>Paul Goldsmith</td><td>Epperly</td><td>6.0</td><td>0</td></tr><tr><td>Sébastien Bourdais</td><td>Toro Rosso</td><td>6.0</td><td>0</td></tr><tr><td>Martin Brundle</td><td>Brabham</td><td>6.0</td><td>0</td></tr><tr><td>Philippe Alliot</td><td>Larrousse</td><td>6.0</td><td>0</td></tr><tr><td>Jo Bonnier</td><td>Porsche</td><td>6.0</td><td>0</td></tr><tr><td>Tony Brooks</td><td>BRM</td><td>6.0</td><td>0</td></tr><tr><td>Stefan Johansson</td><td>Onyx</td><td>6.0</td><td>0</td></tr><tr><td>Stefano Modena</td><td>Brabham</td><td>6.0</td><td>0</td></tr><tr><td>Michele Alboreto</td><td>Footwork</td><td>6.0</td><td>0</td></tr><tr><td>Bill Holland</td><td>Deidt</td><td>6.0</td><td>0</td></tr><tr><td>George Amick</td><td>Epperly</td><td>6.0</td><td>0</td></tr><tr><td>Mario Andretti</td><td>Parnelli</td><td>6.0</td><td>0</td></tr><tr><td>Jean Behra</td><td>Gordini</td><td>6.0</td><td>0</td></tr><tr><td>Christian Fittipaldi</td><td>Minardi</td><td>6.0</td><td>0</td></tr><tr><td>Graham Hill</td><td>Brabham</td><td>6.0</td><td>0</td></tr><tr><td>Jean-Pierre Jarier</td><td>Shadow</td><td>6.0</td><td>0</td></tr><tr><td>Keke Rosberg</td><td>Fittipaldi</td><td>6.0</td><td>0</td></tr><tr><td>John Love</td><td>Cooper-Climax</td><td>6.0</td><td>0</td></tr><tr><td>Derek Daly</td><td>Tyrrell</td><td>6.0</td><td>0</td></tr><tr><td>Christian Fittipaldi</td><td>Footwork</td><td>6.0</td><td>0</td></tr><tr><td>Paco Godia</td><td>Maserati</td><td>6.0</td><td>0</td></tr><tr><td>Andrea de Cesaris</td><td>Ligier</td><td>6.0</td><td>0</td></tr><tr><td>Carlos Menditeguy</td><td>Maserati</td><td>6.0</td><td>0</td></tr><tr><td>Richard Attwood</td><td>BRM</td><td>6.0</td><td>0</td></tr><tr><td>Nicola Larini</td><td>Ferrari</td><td>6.0</td><td>0</td></tr><tr><td>Eugenio Castellotti</td><td>Lancia</td><td>6.0</td><td>0</td></tr><tr><td>Jos Verstappen</td><td>Arrows</td><td>6.0</td><td>0</td></tr><tr><td>Mika Salo</td><td>Sauber</td><td>6.0</td><td>0</td></tr><tr><td>John Surtees</td><td>Team Lotus</td><td>6.0</td><td>0</td></tr><tr><td>Jackie Oliver</td><td>Lotus-Ford</td><td>6.0</td><td>0</td></tr><tr><td>Ludovico Scarfiotti</td><td>Cooper-BRM</td><td>6.0</td><td>0</td></tr><tr><td>Graham Hill</td><td>Lotus-BRM</td><td>6.0</td><td>0</td></tr><tr><td>John Surtees</td><td>BRM</td><td>6.0</td><td>0</td></tr><tr><td>Pedro Rodríguez</td><td>Ferrari</td><td>6.0</td><td>0</td></tr><tr><td>Narain Karthikeyan</td><td>Jordan</td><td>5.0</td><td>0</td></tr><tr><td>Pascal Wehrlein</td><td>Sauber</td><td>5.0</td><td>0</td></tr><tr><td>Satoru Nakajima</td><td>Tyrrell</td><td>5.0</td><td>0</td></tr><tr><td>Éric Bernard</td><td>Larrousse</td><td>5.0</td><td>0</td></tr><tr><td>Clay Regazzoni</td><td>Ensign</td><td>5.0</td><td>0</td></tr><tr><td>Patrick Tambay</td><td>Ensign</td><td>5.0</td><td>0</td></tr><tr><td>Ukyo Katayama</td><td>Tyrrell</td><td>5.0</td><td>0</td></tr><tr><td>George Follmer</td><td>Shadow</td><td>5.0</td><td>0</td></tr><tr><td>John Surtees</td><td>Surtees</td><td>5.0</td><td>0</td></tr><tr><td>Jack Fairman</td><td>Connaught</td><td>5.0</td><td>0</td></tr><tr><td>Cesare Perdisa</td><td>Maserati</td><td>5.0</td><td>0</td></tr><tr><td>Tim Schenken</td><td>Brabham</td><td>5.0</td><td>0</td></tr><tr><td>Jyrki Järvilehto</td><td>Sauber</td><td>5.0</td><td>0</td></tr><tr><td>Marc Surer</td><td>Brabham</td><td>5.0</td><td>0</td></tr><tr><td>Yves Cabantous</td><td>Talbot-Lago</td><td>5.0</td><td>0</td></tr><tr><td>Pedro Diniz</td><td>Arrows</td><td>5.0</td><td>0</td></tr><tr><td>Denny Hulme</td><td>Brabham-Climax</td><td>5.0</td><td>0</td></tr><tr><td>Vic Elford</td><td>Cooper-BRM</td><td>5.0</td><td>0</td></tr><tr><td>Lucien Bianchi</td><td>Cooper-BRM</td><td>5.0</td><td>0</td></tr><tr><td>Christijan Albers</td><td>Minardi</td><td>4.0</td><td>0</td></tr><tr><td>Vitantonio Liuzzi</td><td>Toro Rosso</td><td>4.0</td><td>0</td></tr><tr><td>Don Freeland</td><td>Phillips</td><td>4.0</td><td>0</td></tr><tr><td>Jimmy Davies</td><td>Kurtis Kraft</td><td>4.0</td><td>0</td></tr><tr><td>Brendon Hartley</td><td>Toro Rosso</td><td>4.0</td><td>0</td></tr><tr><td>Johnny Boyd</td><td>Kurtis Kraft</td><td>4.0</td><td>0</td></tr><tr><td>Tony Bettenhausen</td><td>Kurtis Kraft</td><td>4.0</td><td>0</td></tr><tr><td>Takuma Sato</td><td>Super Aguri</td><td>4.0</td><td>0</td></tr><tr><td>Carel Godin de Beaufort</td><td>Porsche</td><td>4.0</td><td>0</td></tr><tr><td>Ricardo Rodríguez</td><td>Ferrari</td><td>4.0</td><td>0</td></tr><tr><td>Mauri Rose</td><td>Deidt</td><td>4.0</td><td>0</td></tr><tr><td>Andrea de Cesaris</td><td>Dallara</td><td>4.0</td><td>0</td></tr><tr><td>Jackie Oliver</td><td>Shadow</td><td>4.0</td><td>0</td></tr><tr><td>John Surtees</td><td>Cooper-Climax</td><td>4.0</td><td>0</td></tr><tr><td>Jyrki Järvilehto</td><td>Dallara</td><td>4.0</td><td>0</td></tr><tr><td>Alex Caffi</td><td>Dallara</td><td>4.0</td><td>0</td></tr><tr><td>Érik Comas</td><td>Ligier</td><td>4.0</td><td>0</td></tr><tr><td>Marc Gené</td><td>Williams</td><td>4.0</td><td>0</td></tr><tr><td>Bertrand Gachot</td><td>Jordan</td><td>4.0</td><td>0</td></tr><tr><td>Reine Wisell</td><td>Team Lotus</td><td>4.0</td><td>0</td></tr><tr><td>Marc Surer</td><td>Ensign</td><td>4.0</td><td>0</td></tr><tr><td>Arturo Merzario</td><td>Iso Marlboro</td><td>4.0</td><td>0</td></tr><tr><td>Maurice Trintignant</td><td>Gordini</td><td>4.0</td><td>0</td></tr><tr><td>Robert Manzon</td><td>Ferrari</td><td>4.0</td><td>0</td></tr><tr><td>Peter Whitehead</td><td>Ferrari</td><td>4.0</td><td>0</td></tr><tr><td>Clay Regazzoni</td><td>Shadow</td><td>4.0</td><td>0</td></tr><tr><td>Luigi Villoresi</td><td>Maserati</td><td>4.0</td><td>0</td></tr><tr><td>Stefan Bellof</td><td>Tyrrell</td><td>4.0</td><td>0</td></tr><tr><td>Éric Bernard</td><td>Ligier</td><td>4.0</td><td>0</td></tr><tr><td>Jochen Rindt</td><td>Cooper-Climax</td><td>4.0</td><td>0</td></tr><tr><td>Alfonso de Portago</td><td>Ferrari</td><td>4.0</td><td>0</td></tr><tr><td>Niki Lauda</td><td>Brabham-Alfa Romeo</td><td>4.0</td><td>0</td></tr><tr><td>Henri Pescarolo</td><td>March-Ford</td><td>4.0</td><td>0</td></tr><tr><td>Derek Warwick</td><td>Footwork</td><td>4.0</td><td>0</td></tr><tr><td>Sergio Mantovani</td><td>Maserati</td><td>4.0</td><td>0</td></tr><tr><td>Andrea de Cesaris</td><td>Brabham</td><td>4.0</td><td>0</td></tr><tr><td>Philippe Streiff</td><td>Ligier</td><td>4.0</td><td>0</td></tr><tr><td>Brian Redman</td><td>McLaren</td><td>4.0</td><td>0</td></tr><tr><td>Alan Jones</td><td>Lola</td><td>4.0</td><td>0</td></tr><tr><td>Mark Donohue</td><td>McLaren</td><td>4.0</td><td>0</td></tr><tr><td>Louis Chiron</td><td>Maserati</td><td>4.0</td><td>0</td></tr><tr><td>Tony Maggs</td><td>BRM</td><td>4.0</td><td>0</td></tr><tr><td>Jean Alesi</td><td>Prost</td><td>4.0</td><td>0</td></tr><tr><td>Ron Flockhart</td><td>Connaught</td><td>4.0</td><td>0</td></tr><tr><td>Mario Andretti</td><td>March</td><td>4.0</td><td>0</td></tr><tr><td>Jacky Ickx</td><td>McLaren</td><td>4.0</td><td>0</td></tr><tr><td>Dan Gurney</td><td>McLaren-Ford</td><td>4.0</td><td>0</td></tr><tr><td>Jo Bonnier</td><td>Cooper-Maserati</td><td>4.0</td><td>0</td></tr><tr><td>Mike Spence</td><td>Lotus-BRM</td><td>4.0</td><td>0</td></tr><tr><td>Reg Parnell</td><td>Alfa Romeo</td><td>4.0</td><td>0</td></tr><tr><td>Piers Courage</td><td>BRM</td><td>4.0</td><td>0</td></tr><tr><td>Brian Redman</td><td>Cooper-BRM</td><td>4.0</td><td>0</td></tr><tr><td>Dan Gurney</td><td>Eagle-Climax</td><td>4.0</td><td>0</td></tr><tr><td>Mike Hawthorn</td><td>Maserati</td><td>4.0</td><td>0</td></tr><tr><td>Duane Carter</td><td>Kurtis Kraft</td><td>3.5</td><td>0</td></tr><tr><td>Umberto Maglioli</td><td>Ferrari</td><td>3.33</td><td>0</td></tr><tr><td>Don Branson</td><td>Phillips</td><td>3.0</td><td>0</td></tr><tr><td>Duane Carter</td><td>Lesovsky</td><td>3.0</td><td>0</td></tr><tr><td>Patrick Friesacher</td><td>Minardi</td><td>3.0</td><td>0</td></tr><tr><td>Johnny Thomson</td><td>Kuzma</td><td>3.0</td><td>0</td></tr><tr><td>Cecil Green</td><td>Kurtis Kraft</td><td>3.0</td><td>0</td></tr><tr><td>Kamui Kobayashi</td><td>Toyota</td><td>3.0</td><td>0</td></tr><tr><td>Christian Klien</td><td>Jaguar</td><td>3.0</td><td>0</td></tr><tr><td>Derek Warwick</td><td>Team Lotus</td><td>3.0</td><td>0</td></tr><tr><td>Jackie Lewis</td><td>Cooper-Climax</td><td>3.0</td><td>0</td></tr><tr><td>Nick Heidfeld</td><td>Jordan</td><td>3.0</td><td>0</td></tr><tr><td>Christian Danner</td><td>Rial</td><td>3.0</td><td>0</td></tr><tr><td>Andrea de Adamich</td><td>Surtees</td><td>3.0</td><td>0</td></tr><tr><td>Reg Parnell</td><td>Ferrari</td><td>3.0</td><td>0</td></tr><tr><td>Ivan Capelli</td><td>Ferrari</td><td>3.0</td><td>0</td></tr><tr><td>Jean-Pierre Jarier</td><td>Osella</td><td>3.0</td><td>0</td></tr><tr><td>Mario Andretti</td><td>Alfa Romeo</td><td>3.0</td><td>0</td></tr><tr><td>Carlos Reutemann</td><td>Brabham-Alfa Romeo</td><td>3.0</td><td>0</td></tr><tr><td>Carlos Pace</td><td>March</td><td>3.0</td><td>0</td></tr><tr><td>George Russell</td><td>Mercedes</td><td>3.0</td><td>0</td></tr><tr><td>Dennis Poore</td><td>Connaught</td><td>3.0</td><td>0</td></tr><tr><td>Andy Linden</td><td>Sherman</td><td>3.0</td><td>0</td></tr><tr><td>Wilson Fittipaldi</td><td>Brabham</td><td>3.0</td><td>0</td></tr><tr><td>Andrea de Cesaris</td><td>Rial</td><td>3.0</td><td>0</td></tr><tr><td>Karl Wendlinger</td><td>March</td><td>3.0</td><td>0</td></tr><tr><td>Jim Hall</td><td>Lotus-BRM</td><td>3.0</td><td>0</td></tr><tr><td>Elio de Angelis</td><td>Shadow</td><td>3.0</td><td>0</td></tr><tr><td>Eddie Cheever</td><td>Alfa Romeo</td><td>3.0</td><td>0</td></tr><tr><td>Harry Schell</td><td>Vanwall</td><td>3.0</td><td>0</td></tr><tr><td>Ricardo Zonta</td><td>BAR</td><td>3.0</td><td>0</td></tr><tr><td>Pedro Diniz</td><td>Sauber</td><td>3.0</td><td>0</td></tr><tr><td>Andrea de Adamich</td><td>Brabham</td><td>3.0</td><td>0</td></tr><tr><td>Pedro de la Rosa</td><td>Arrows</td><td>3.0</td><td>0</td></tr><tr><td>Mauro Baldi</td><td>Alfa Romeo</td><td>3.0</td><td>0</td></tr><tr><td>Stefan Johansson</td><td>Toleman</td><td>3.0</td><td>0</td></tr><tr><td>Gerhard Mitter</td><td>Porsche</td><td>3.0</td><td>0</td></tr><tr><td>Jacky Ickx</td><td>Ligier</td><td>3.0</td><td>0</td></tr><tr><td>Nelson Piquet</td><td>Brabham-Alfa Romeo</td><td>3.0</td><td>0</td></tr><tr><td>Gerhard Berger</td><td>Arrows</td><td>3.0</td><td>0</td></tr><tr><td>Érik Comas</td><td>Larrousse</td><td>3.0</td><td>0</td></tr><tr><td>Mika Salo</td><td>Arrows</td><td>3.0</td><td>0</td></tr><tr><td>Jack Brabham</td><td>Lotus-Climax</td><td>3.0</td><td>0</td></tr><tr><td>Ivan Capelli</td><td>Tyrrell</td><td>3.0</td><td>0</td></tr><tr><td>Henry Taylor</td><td>Cooper-Climax</td><td>3.0</td><td>0</td></tr><tr><td>Jean-Christophe Boullion</td><td>Sauber</td><td>3.0</td><td>0</td></tr><tr><td>Robert Manzon</td><td>Simca</td><td>3.0</td><td>0</td></tr><tr><td>Pedro de la Rosa</td><td>Jaguar</td><td>3.0</td><td>0</td></tr><tr><td>Consalvo Sanesi</td><td>Alfa Romeo</td><td>3.0</td><td>0</td></tr><tr><td>Rolf Stommelen</td><td>Surtees</td><td>3.0</td><td>0</td></tr><tr><td>Jack Brabham</td><td>Cooper</td><td>3.0</td><td>0</td></tr><tr><td>Jackie Oliver</td><td>BRM</td><td>3.0</td><td>0</td></tr><tr><td>Dorino Serafini</td><td>Ferrari</td><td>3.0</td><td>0</td></tr><tr><td>Philippe Étancelin</td><td>Talbot-Lago</td><td>3.0</td><td>0</td></tr><tr><td>Cliff Allison</td><td>Team Lotus</td><td>3.0</td><td>0</td></tr><tr><td>Johnny Dumfries</td><td>Team Lotus</td><td>3.0</td><td>0</td></tr><tr><td>Ignazio Giunti</td><td>Ferrari</td><td>3.0</td><td>0</td></tr><tr><td>Carlos Menditeguy</td><td>Cooper-Maserati</td><td>3.0</td><td>0</td></tr><tr><td>Bob Bondurant</td><td>BRM</td><td>3.0</td><td>0</td></tr><tr><td>Ken Wharton</td><td>Frazer Nash</td><td>3.0</td><td>0</td></tr><tr><td>Raymond Sommer</td><td>Ferrari</td><td>3.0</td><td>0</td></tr><tr><td>Bruce McLaren</td><td>McLaren-BRM</td><td>3.0</td><td>0</td></tr><tr><td>Giulio Cabianca</td><td>Cooper-Castellotti</td><td>3.0</td><td>0</td></tr><tr><td>Vic Elford</td><td>McLaren-Ford</td><td>3.0</td><td>0</td></tr><tr><td>Stuart Lewis-Evans</td><td>Connaught</td><td>3.0</td><td>0</td></tr><tr><td>Richard Attwood</td><td>Lotus-Ford</td><td>3.0</td><td>0</td></tr><tr><td>Bruno Senna</td><td>Renault</td><td>2.0</td><td>0</td></tr><tr><td>Jules Bianchi</td><td>Marussia</td><td>2.0</td><td>0</td></tr><tr><td>Andy Linden</td><td>Kurtis Kraft</td><td>2.0</td><td>0</td></tr><tr><td>Dick Rathmann</td><td>Kurtis Kraft</td><td>2.0</td><td>0</td></tr><tr><td>Alex Caffi</td><td>Arrows</td><td>2.0</td><td>0</td></tr><tr><td>Timo Glock</td><td>Jordan</td><td>2.0</td><td>0</td></tr><tr><td>Thierry Boutsen</td><td>Ligier</td><td>2.0</td><td>0</td></tr><tr><td>Emanuele Pirro</td><td>Benetton</td><td>2.0</td><td>0</td></tr><tr><td>Roy Salvadori</td><td>Cooper-Climax</td><td>2.0</td><td>0</td></tr><tr><td>Piercarlo Ghinzani</td><td>Osella</td><td>2.0</td><td>0</td></tr><tr><td>Manfred Winkelhock</td><td>ATS</td><td>2.0</td><td>0</td></tr><tr><td>Tim Schenken</td><td>Surtees</td><td>2.0</td><td>0</td></tr><tr><td>Mauro Baldi</td><td>Arrows</td><td>2.0</td><td>0</td></tr><tr><td>Eliseo Salazar</td><td>ATS</td><td>2.0</td><td>0</td></tr><tr><td>Hans-Joachim Stuck</td><td>Shadow</td><td>2.0</td><td>0</td></tr><tr><td>Bobby Ball</td><td>Schroeder</td><td>2.0</td><td>0</td></tr><tr><td>Manny Ayulo</td><td>Kurtis Kraft</td><td>2.0</td><td>0</td></tr><tr><td>Alan Jones</td><td>Embassy Hill</td><td>2.0</td><td>0</td></tr><tr><td>Mark Donohue</td><td>March</td><td>2.0</td><td>0</td></tr><tr><td>Eric Thompson</td><td>Connaught</td><td>2.0</td><td>0</td></tr><tr><td>André Pilette</td><td>Gordini</td><td>2.0</td><td>0</td></tr><tr><td>Chris Amon</td><td>Ensign</td><td>2.0</td><td>0</td></tr><tr><td>Alan Brown</td><td>Cooper</td><td>2.0</td><td>0</td></tr><tr><td>Mark Donohue</td><td>Penske</td><td>2.0</td><td>0</td></tr><tr><td>Pierluigi Martini</td><td>Dallara</td><td>2.0</td><td>0</td></tr><tr><td>Martin Brundle</td><td>Zakspeed</td><td>2.0</td><td>0</td></tr><tr><td>Louis Rosier</td><td>Maserati</td><td>2.0</td><td>0</td></tr><tr><td>Maurice Trintignant</td><td>BRM</td><td>2.0</td><td>0</td></tr><tr><td>Niki Lauda</td><td>BRM</td><td>2.0</td><td>0</td></tr><tr><td>Hans-Joachim Stuck</td><td>ATS</td><td>2.0</td><td>0</td></tr><tr><td>Horace Gould</td><td>Maserati</td><td>2.0</td><td>0</td></tr><tr><td>Hernando da Silva Ramos</td><td>Gordini</td><td>2.0</td><td>0</td></tr><tr><td>Clay Regazzoni</td><td>BRM</td><td>2.0</td><td>0</td></tr><tr><td>Danny Sullivan</td><td>Tyrrell</td><td>2.0</td><td>0</td></tr><tr><td>Takuma Sato</td><td>Jordan</td><td>2.0</td><td>0</td></tr><tr><td>Élie Bayol</td><td>Gordini</td><td>2.0</td><td>0</td></tr><tr><td>Luigi Villoresi</td><td>Lancia</td><td>2.0</td><td>0</td></tr><tr><td>Lorenzo Bandini</td><td>BRM</td><td>2.0</td><td>0</td></tr><tr><td>Paul Frère</td><td>HWM</td><td>2.0</td><td>0</td></tr><tr><td>Jenson Button</td><td>Benetton</td><td>2.0</td><td>0</td></tr><tr><td>Patrick Tambay</td><td>Lola</td><td>2.0</td><td>0</td></tr><tr><td>Fabrizio Barbazza</td><td>Minardi</td><td>2.0</td><td>0</td></tr><tr><td>Mika Salo</td><td>Toyota</td><td>2.0</td><td>0</td></tr><tr><td>Shinji Nakano</td><td>Prost</td><td>2.0</td><td>0</td></tr><tr><td>Maurice Trintignant</td><td>Simca</td><td>2.0</td><td>0</td></tr><tr><td>Mark Webber</td><td>Minardi</td><td>2.0</td><td>0</td></tr><tr><td>Chris Amon</td><td>Lotus-BRM</td><td>2.0</td><td>0</td></tr><tr><td>Heinz-Harald Frentzen</td><td>Arrows</td><td>2.0</td><td>0</td></tr><tr><td>Phil Hill</td><td>Cooper-Climax</td><td>2.0</td><td>0</td></tr><tr><td>Richard Attwood</td><td>Lotus-BRM</td><td>2.0</td><td>0</td></tr><tr><td>Pedro Diniz</td><td>Ligier</td><td>2.0</td><td>0</td></tr><tr><td>Chris Irwin</td><td>BRM</td><td>2.0</td><td>0</td></tr><tr><td>John Miles</td><td>Team Lotus</td><td>2.0</td><td>0</td></tr><tr><td>Toulo de Graffenried</td><td>Alfa Romeo</td><td>2.0</td><td>0</td></tr><tr><td>Johnny Servoz-Gavin</td><td>March</td><td>2.0</td><td>0</td></tr><tr><td>Denny Hulme</td><td>McLaren-BRM</td><td>2.0</td><td>0</td></tr><tr><td>Ronnie Bucknum</td><td>Honda</td><td>2.0</td><td>0</td></tr><tr><td>Jean Behra</td><td>Ferrari</td><td>2.0</td><td>0</td></tr><tr><td>Walt Hansgen</td><td>Lotus-Climax</td><td>2.0</td><td>0</td></tr><tr><td>Jo Bonnier</td><td>Honda</td><td>2.0</td><td>0</td></tr><tr><td>Reg Parnell</td><td>BRM</td><td>2.0</td><td>0</td></tr><tr><td>Hermann Lang</td><td>Maserati</td><td>2.0</td><td>0</td></tr><tr><td>Oscar Gálvez</td><td>Maserati</td><td>2.0</td><td>0</td></tr><tr><td>Silvio Moser</td><td>Brabham-Repco</td><td>2.0</td><td>0</td></tr><tr><td>Richie Ginther</td><td>Cooper-Maserati</td><td>2.0</td><td>0</td></tr><tr><td>Troy Ruttman</td><td>Kurtis Kraft</td><td>1.5</td><td>0</td></tr><tr><td>Fred Agabashian</td><td>Kurtis Kraft</td><td>1.5</td><td>0</td></tr><tr><td>Chico Landi</td><td>Maserati</td><td>1.5</td><td>0</td></tr><tr><td>Jean-Pierre Jarier</td><td>Shadow-Ford</td><td>1.5</td><td>0</td></tr><tr><td>Gerino Gerini</td><td>Maserati</td><td>1.5</td><td>0</td></tr><tr><td>Pascal Wehrlein</td><td>Manor Marussia</td><td>1.0</td><td>0</td></tr><tr><td>Sergey Sirotkin</td><td>Williams</td><td>1.0</td><td>0</td></tr><tr><td>Sebastian Vettel</td><td>BMW Sauber</td><td>1.0</td><td>0</td></tr><tr><td>Vitantonio Liuzzi</td><td>Red Bull</td><td>1.0</td><td>0</td></tr><tr><td>Eddie Johnson</td><td>Trevis</td><td>1.0</td><td>0</td></tr><tr><td>Walt Faulkner</td><td>Kurtis Kraft</td><td>1.0</td><td>0</td></tr><tr><td>Bill Homeier</td><td>Kurtis Kraft</td><td>1.0</td><td>0</td></tr><tr><td>Adrian Sutil</td><td>Spyker</td><td>1.0</td><td>0</td></tr><tr><td>Mark Blundell</td><td>Brabham</td><td>1.0</td><td>0</td></tr><tr><td>Joie Chitwood</td><td>Kurtis Kraft</td><td>1.0</td><td>0</td></tr><tr><td>Maurício Gugelmin</td><td>Leyton House</td><td>1.0</td><td>0</td></tr><tr><td>Philippe Alliot</td><td>Ligier</td><td>1.0</td><td>0</td></tr><tr><td>Jean-Pierre Jarier</td><td>Penske</td><td>1.0</td><td>0</td></tr><tr><td>Olivier Grouillard</td><td>Ligier</td><td>1.0</td><td>0</td></tr><tr><td>Bertrand Gachot</td><td>Larrousse</td><td>1.0</td><td>0</td></tr><tr><td>Éric Bernard</td><td>Lola</td><td>1.0</td><td>0</td></tr><tr><td>Gabriele Tarquini</td><td>AGS</td><td>1.0</td><td>0</td></tr><tr><td>Zsolt Baumgartner</td><td>Minardi</td><td>1.0</td><td>0</td></tr><tr><td>Robert Kubica</td><td>Williams</td><td>1.0</td><td>0</td></tr><tr><td>Luis Pérez-Sala</td><td>Minardi</td><td>1.0</td><td>0</td></tr><tr><td>Emanuele Pirro</td><td>Dallara</td><td>1.0</td><td>0</td></tr><tr><td>Julian Bailey</td><td>Team Lotus</td><td>1.0</td><td>0</td></tr><tr><td>Derek Daly</td><td>Ensign</td><td>1.0</td><td>0</td></tr><tr><td>Tony Brise</td><td>Embassy Hill</td><td>1.0</td><td>0</td></tr><tr><td>Eliseo Salazar</td><td>Ensign</td><td>1.0</td><td>0</td></tr><tr><td>Rolf Stommelen</td><td>Brabham-Alfa Romeo</td><td>1.0</td><td>0</td></tr><tr><td>Derek Bell</td><td>Surtees</td><td>1.0</td><td>0</td></tr><tr><td>Hans Herrmann</td><td>Porsche</td><td>1.0</td><td>0</td></tr><tr><td>Slim Borgudd</td><td>ATS</td><td>1.0</td><td>0</td></tr><tr><td>Riccardo Patrese</td><td>Shadow</td><td>1.0</td><td>0</td></tr><tr><td>Andrea de Cesaris</td><td>McLaren</td><td>1.0</td><td>0</td></tr><tr><td>Graham Hill</td><td>Lola</td><td>1.0</td><td>0</td></tr><tr><td>Gijs van Lennep</td><td>Ensign</td><td>1.0</td><td>0</td></tr><tr><td>Patrick Tambay</td><td>Theodore</td><td>1.0</td><td>0</td></tr><tr><td>Stefano Modena</td><td>Jordan</td><td>1.0</td><td>0</td></tr><tr><td>Hector Rebaque</td><td>Team Lotus</td><td>1.0</td><td>0</td></tr><tr><td>Chico Serra</td><td>Fittipaldi</td><td>1.0</td><td>0</td></tr><tr><td>Masten Gregory</td><td>Lotus-BRM</td><td>1.0</td><td>0</td></tr><tr><td>Jo Bonnier</td><td>Brabham-Climax</td><td>1.0</td><td>0</td></tr><tr><td>Neville Lederle</td><td>Lotus-Climax</td><td>1.0</td><td>0</td></tr><tr><td>Alessandro Zanardi</td><td>Team Lotus</td><td>1.0</td><td>0</td></tr><tr><td>Johnny Cecotto</td><td>Theodore</td><td>1.0</td><td>0</td></tr><tr><td>Andrea de Cesaris</td><td>Sauber</td><td>1.0</td><td>0</td></tr><tr><td>Jyrki Järvilehto</td><td>Benetton</td><td>1.0</td><td>0</td></tr><tr><td>Bruno Giacomelli</td><td>Toleman</td><td>1.0</td><td>0</td></tr><tr><td>Howden Ganley</td><td>Iso Marlboro</td><td>1.0</td><td>0</td></tr><tr><td>Jo Siffert</td><td>Lotus-BRM</td><td>1.0</td><td>0</td></tr><tr><td>Michele Alboreto</td><td>Minardi</td><td>1.0</td><td>0</td></tr><tr><td>Renzo Zorzi</td><td>Shadow</td><td>1.0</td><td>0</td></tr><tr><td>Marc Gené</td><td>Minardi</td><td>1.0</td><td>0</td></tr><tr><td>Chris Amon</td><td>Tecno</td><td>1.0</td><td>0</td></tr><tr><td>Christian Danner</td><td>Arrows</td><td>1.0</td><td>0</td></tr><tr><td>Nicola Larini</td><td>Sauber</td><td>1.0</td><td>0</td></tr><tr><td>Aguri Suzuki</td><td>Ligier</td><td>1.0</td><td>0</td></tr><tr><td>Mike Hailwood</td><td>Lotus-BRM</td><td>1.0</td><td>0</td></tr><tr><td>Pedro Lamy</td><td>Minardi</td><td>1.0</td><td>0</td></tr><tr><td>Gijs van Lennep</td><td>Iso Marlboro</td><td>1.0</td><td>0</td></tr><tr><td>Jan Magnussen</td><td>Stewart</td><td>1.0</td><td>0</td></tr><tr><td>Alberto Ascari</td><td>Lancia</td><td>1.0</td><td>0</td></tr><tr><td>Jean Alesi</td><td>Jordan</td><td>1.0</td><td>0</td></tr><tr><td>Roberto Moreno</td><td>AGS</td><td>1.0</td><td>0</td></tr><tr><td>Eugène Chaboud</td><td>Talbot-Lago</td><td>1.0</td><td>0</td></tr><tr><td>François Cevert</td><td>March</td><td>1.0</td><td>0</td></tr><tr><td>Ralph Firman</td><td>Jordan</td><td>1.0</td><td>0</td></tr><tr><td>Jos Verstappen</td><td>Footwork</td><td>1.0</td><td>0</td></tr><tr><td>Peter Gethin</td><td>McLaren-Ford</td><td>1.0</td><td>0</td></tr><tr><td>Giorgio Scarlatti</td><td>Maserati</td><td>1.0</td><td>0</td></tr><tr><td>Lucien Bianchi</td><td>Cooper-Climax</td><td>1.0</td><td>0</td></tr><tr><td>Guy Ligier</td><td>Brabham-Repco</td><td>1.0</td><td>0</td></tr><tr><td>Trevor Taylor</td><td>BRP</td><td>1.0</td><td>0</td></tr><tr><td>Justin Wilson</td><td>Jaguar</td><td>1.0</td><td>0</td></tr><tr><td>John Surtees</td><td>McLaren-Ford</td><td>1.0</td><td>0</td></tr><tr><td>Ron Flockhart</td><td>Team Lotus</td><td>1.0</td><td>0</td></tr><tr><td>John Taylor</td><td>Brabham-BRM</td><td>1.0</td><td>0</td></tr><tr><td>Bruce McLaren</td><td>McLaren-Serenissima</td><td>1.0</td><td>0</td></tr><tr><td>Silvio Moser</td><td>Brabham-Ford</td><td>1.0</td><td>0</td></tr><tr><td>Jacky Ickx</td><td>Cooper-Maserati</td><td>1.0</td><td>0</td></tr><tr><td>Jo Bonnier</td><td>McLaren-BRM</td><td>1.0</td><td>0</td></tr><tr><td>Gianni Morbidelli</td><td>Ferrari</td><td>0.5</td><td>0</td></tr><tr><td>Lella Lombardi</td><td>March</td><td>0.5</td><td>0</td></tr><tr><td>Johnny Mantz</td><td>Kurtis Kraft</td><td>0.0</td><td>0</td></tr><tr><td>Nicholas Latifi</td><td>Williams</td><td>0.0</td><td>0</td></tr><tr><td>Larry Crockett</td><td>Kurtis Kraft</td><td>0.0</td><td>0</td></tr><tr><td>Ernie McCoy</td><td>Kurtis Kraft</td><td>0.0</td><td>0</td></tr><tr><td>Danny Kladis</td><td>Bromme</td><td>0.0</td><td>0</td></tr><tr><td>Bill Holland</td><td>Kurtis Kraft</td><td>0.0</td><td>0</td></tr><tr><td>Heikki Kovalainen</td><td>Lotus</td><td>0.0</td><td>0</td></tr><tr><td>Travis Webb</td><td>Kurtis Kraft</td><td>0.0</td><td>0</td></tr><tr><td>Dick Rathmann</td><td>Watson</td><td>0.0</td><td>0</td></tr><tr><td>Jimmy Jackson</td><td>Kurtis Kraft</td><td>0.0</td><td>0</td></tr><tr><td>Marcus Ericsson</td><td>Caterham</td><td>0.0</td><td>0</td></tr><tr><td>Jimmy Daywalt</td><td>Nichels</td><td>0.0</td><td>0</td></tr><tr><td>Bob Veith</td><td>Moore</td><td>0.0</td><td>0</td></tr><tr><td>Eddie Russo</td><td>Pawl</td><td>0.0</td><td>0</td></tr><tr><td>Rodger Ward</td><td>Pawl</td><td>0.0</td><td>0</td></tr><tr><td>Sakon Yamamoto</td><td>Spyker</td><td>0.0</td><td>0</td></tr><tr><td>Henry Banks</td><td>Lesovsky</td><td>0.0</td><td>0</td></tr><tr><td>Jackie Holmes</td><td>Kurtis Kraft</td><td>0.0</td><td>0</td></tr><tr><td>Jerry Hoyt</td><td>Stevens</td><td>0.0</td><td>0</td></tr><tr><td>Daniel Ricciardo</td><td>HRT</td><td>0.0</td><td>0</td></tr><tr><td>Christian Klien</td><td>HRT</td><td>0.0</td><td>0</td></tr><tr><td>Manny Ayulo</td><td>Lesovsky</td><td>0.0</td><td>0</td></tr><tr><td>Chuck Arnold</td><td>Kurtis Kraft</td><td>0.0</td><td>0</td></tr><tr><td>Markus Winkelhock</td><td>Spyker</td><td>0.0</td><td>0</td></tr><tr><td>Franck Montagny</td><td>Super Aguri</td><td>0.0</td><td>0</td></tr><tr><td>Bob Scott</td><td>Bromme</td><td>0.0</td><td>0</td></tr><tr><td>Rodger Ward</td><td>Kurtis Kraft</td><td>0.0</td><td>0</td></tr><tr><td>Christijan Albers</td><td>MF1</td><td>0.0</td><td>0</td></tr><tr><td>Kamui Kobayashi</td><td>Caterham</td><td>0.0</td><td>0</td></tr><tr><td>Eddie Sachs</td><td>Kuzma</td><td>0.0</td><td>0</td></tr><tr><td>Bob Scott</td><td>Stevens</td><td>0.0</td><td>0</td></tr><tr><td>Vitaly Petrov</td><td>Caterham</td><td>0.0</td><td>0</td></tr><tr><td>Don Freeland</td><td>Kurtis Kraft</td><td>0.0</td><td>0</td></tr><tr><td>Jim McWithey</td><td>Epperly</td><td>0.0</td><td>0</td></tr><tr><td>Bobby Grim</td><td>Kurtis Kraft</td><td>0.0</td><td>0</td></tr><tr><td>Rio Haryanto</td><td>Manor Marussia</td><td>0.0</td><td>0</td></tr><tr><td>Red Amick</td><td>Epperly</td><td>0.0</td><td>0</td></tr><tr><td>Tony Bettenhausen</td><td>Kuzma</td><td>0.0</td><td>0</td></tr><tr><td>Gene Hartley</td><td>Kuzma</td><td>0.0</td><td>0</td></tr><tr><td>Ed Elisian</td><td>Stevens</td><td>0.0</td><td>0</td></tr><tr><td>Eddie Sachs</td><td>Ewing</td><td>0.0</td><td>0</td></tr><tr><td>Chet Miller</td><td>Kurtis Kraft</td><td>0.0</td><td>0</td></tr><tr><td>Timo Glock</td><td>Virgin</td><td>0.0</td><td>0</td></tr><tr><td>Christijan Albers</td><td>Spyker MF1</td><td>0.0</td><td>0</td></tr><tr><td>Gene Hartley</td><td>Kurtis Kraft</td><td>0.0</td><td>0</td></tr><tr><td>Shorty Templeman</td><td>Trevis</td><td>0.0</td><td>0</td></tr><tr><td>Al Keller</td><td>Kurtis Kraft</td><td>0.0</td><td>0</td></tr><tr><td>Al Keller</td><td>Kuzma</td><td>0.0</td><td>0</td></tr><tr><td>Jerry Hoyt</td><td>Kurtis Kraft</td><td>0.0</td><td>0</td></tr><tr><td>Sakon Yamamoto</td><td>HRT</td><td>0.0</td><td>0</td></tr><tr><td>Bob Christie</td><td>Kurtis Kraft</td><td>0.0</td><td>0</td></tr><tr><td>Walt Faulkner</td><td>Kuzma</td><td>0.0</td><td>0</td></tr><tr><td>George Fonder</td><td>Kurtis Kraft</td><td>0.0</td><td>0</td></tr><tr><td>Jud Larson</td><td>Kurtis Kraft</td><td>0.0</td><td>0</td></tr><tr><td>Eddie Russo</td><td>Kurtis Kraft</td><td>0.0</td><td>0</td></tr><tr><td>Jim McWithey</td><td>Kurtis Kraft</td><td>0.0</td><td>0</td></tr><tr><td>Ernie McCoy</td><td>Stevens</td><td>0.0</td><td>0</td></tr><tr><td>Gene Force</td><td>Kurtis Kraft</td><td>0.0</td><td>0</td></tr><tr><td>André Lotterer</td><td>Caterham</td><td>0.0</td><td>0</td></tr><tr><td>Jimmy Reece</td><td>Kurtis Kraft</td><td>0.0</td><td>0</td></tr><tr><td>Lucas di Grassi</td><td>Virgin</td><td>0.0</td><td>0</td></tr><tr><td>Keith Andrews</td><td>Schroeder</td><td>0.0</td><td>0</td></tr><tr><td>Duke Nalon</td><td>Kurtis Kraft</td><td>0.0</td><td>0</td></tr><tr><td>Johnny Thomson</td><td>Del Roy</td><td>0.0</td><td>0</td></tr><tr><td>Bud Tingelstad</td><td>Trevis</td><td>0.0</td><td>0</td></tr><tr><td>Bob Scott</td><td>Kurtis Kraft</td><td>0.0</td><td>0</td></tr><tr><td>Don Freeland</td><td>Watson</td><td>0.0</td><td>0</td></tr><tr><td>Jimmy Daywalt</td><td>Kurtis Kraft</td><td>0.0</td><td>0</td></tr><tr><td>Christijan Albers</td><td>Spyker</td><td>0.0</td><td>0</td></tr><tr><td>Bob Veith</td><td>Meskowski</td><td>0.0</td><td>0</td></tr><tr><td>Manny Ayulo</td><td>Kuzma</td><td>0.0</td><td>0</td></tr><tr><td>Eddie Johnson</td><td>Kurtis Kraft</td><td>0.0</td><td>0</td></tr><tr><td>Tiago Monteiro</td><td>Spyker MF1</td><td>0.0</td><td>0</td></tr><tr><td>Dempsey Wilson</td><td>Kurtis Kraft</td><td>0.0</td><td>0</td></tr><tr><td>Pat O'Connor</td><td>Kurtis Kraft</td><td>0.0</td><td>0</td></tr><tr><td>Sakon Yamamoto</td><td>Super Aguri</td><td>0.0</td><td>0</td></tr><tr><td>Bill Homeier</td><td>Kuzma</td><td>0.0</td><td>0</td></tr><tr><td>Jim Rigsby</td><td>Watson</td><td>0.0</td><td>0</td></tr><tr><td>Johnny Thomson</td><td>Kurtis Kraft</td><td>0.0</td><td>0</td></tr><tr><td>Len Sutton</td><td>Watson</td><td>0.0</td><td>0</td></tr><tr><td>Charles Pic</td><td>Marussia</td><td>0.0</td><td>0</td></tr><tr><td>Bill Schindler</td><td>Stevens</td><td>0.0</td><td>0</td></tr><tr><td>Anthony Foyt</td><td>Kuzma</td><td>0.0</td><td>0</td></tr><tr><td>Frank Armi</td><td>Kurtis Kraft</td><td>0.0</td><td>0</td></tr><tr><td>Jim Hurtubise</td><td>Christensen</td><td>0.0</td><td>0</td></tr><tr><td>Johnny Boyd</td><td>Epperly</td><td>0.0</td><td>0</td></tr><tr><td>Mike Nazaruk</td><td>Turner</td><td>0.0</td><td>0</td></tr><tr><td>Pedro de la Rosa</td><td>HRT</td><td>0.0</td><td>0</td></tr><tr><td>Tiago Monteiro</td><td>MF1</td><td>0.0</td><td>0</td></tr><tr><td>George Connor</td><td>Kurtis Kraft</td><td>0.0</td><td>0</td></tr><tr><td>Luca Badoer</td><td>Ferrari</td><td>0.0</td><td>0</td></tr><tr><td>Charles Pic</td><td>Caterham</td><td>0.0</td><td>0</td></tr><tr><td>Andy Linden</td><td>Nichels</td><td>0.0</td><td>0</td></tr><tr><td>Timo Glock</td><td>Marussia</td><td>0.0</td><td>0</td></tr><tr><td>Heikki Kovalainen</td><td>Lotus F1</td><td>0.0</td><td>0</td></tr><tr><td>Vitantonio Liuzzi</td><td>HRT</td><td>0.0</td><td>0</td></tr><tr><td>Jimmy Bryan</td><td>Schroeder</td><td>0.0</td><td>0</td></tr><tr><td>Chuck Stevenson</td><td>Watson</td><td>0.0</td><td>0</td></tr><tr><td>Bob Sweikert</td><td>Kuzma</td><td>0.0</td><td>0</td></tr><tr><td>Mike Magill</td><td>Sutton</td><td>0.0</td><td>0</td></tr><tr><td>Len Sutton</td><td>Lesovsky</td><td>0.0</td><td>0</td></tr><tr><td>Eddie Johnson</td><td>Pawl</td><td>0.0</td><td>0</td></tr><tr><td>Bobby Ball</td><td>Stevens</td><td>0.0</td><td>0</td></tr><tr><td>Tony Bettenhausen</td><td>Deidt</td><td>0.0</td><td>0</td></tr><tr><td>Duke Dinsmore</td><td>Kurtis Kraft</td><td>0.0</td><td>0</td></tr><tr><td>Scott Speed</td><td>Toro Rosso</td><td>0.0</td><td>0</td></tr><tr><td>Jimmy Bryan</td><td>Kurtis Kraft</td><td>0.0</td><td>0</td></tr><tr><td>Max Chilton</td><td>Marussia</td><td>0.0</td><td>0</td></tr><tr><td>Troy Ruttman</td><td>Watson</td><td>0.0</td><td>0</td></tr><tr><td>Jarno Trulli</td><td>Lotus</td><td>0.0</td><td>0</td></tr><tr><td>Ray Crawford</td><td>Kurtis Kraft</td><td>0.0</td><td>0</td></tr><tr><td>Lloyd Ruby</td><td>Watson</td><td>0.0</td><td>0</td></tr><tr><td>Travis Webb</td><td>Bromme</td><td>0.0</td><td>0</td></tr><tr><td>Pat Flaherty</td><td>Kuzma</td><td>0.0</td><td>0</td></tr><tr><td>Cliff Griffith</td><td>Kurtis Kraft</td><td>0.0</td><td>0</td></tr><tr><td>Jérôme d'Ambrosio</td><td>Lotus F1</td><td>0.0</td><td>0</td></tr><tr><td>Cal Niday</td><td>Stevens</td><td>0.0</td><td>0</td></tr><tr><td>Rodger Ward</td><td>Kuzma</td><td>0.0</td><td>0</td></tr><tr><td>Anthony Foyt</td><td>Kurtis Kraft</td><td>0.0</td><td>0</td></tr><tr><td>Al Herman</td><td>Ewing</td><td>0.0</td><td>0</td></tr><tr><td>Jack Turner</td><td>Christensen</td><td>0.0</td><td>0</td></tr><tr><td>Andy Linden</td><td>Stevens</td><td>0.0</td><td>0</td></tr><tr><td>Andy Linden</td><td>Schroeder</td><td>0.0</td><td>0</td></tr><tr><td>Red Amick</td><td>Kurtis Kraft</td><td>0.0</td><td>0</td></tr><tr><td>Jérôme d'Ambrosio</td><td>Virgin</td><td>0.0</td><td>0</td></tr><tr><td>Ed Elisian</td><td>Kurtis Kraft</td><td>0.0</td><td>0</td></tr><tr><td>Robert Doornbos</td><td>Red Bull</td><td>0.0</td><td>0</td></tr><tr><td>Karun Chandhok</td><td>Lotus</td><td>0.0</td><td>0</td></tr><tr><td>Giedo van der Garde</td><td>Caterham</td><td>0.0</td><td>0</td></tr><tr><td>Chuck Weyant</td><td>Kurtis Kraft</td><td>0.0</td><td>0</td></tr><tr><td>Al Herman</td><td>Dunn</td><td>0.0</td><td>0</td></tr><tr><td>Esteban Gutiérrez</td><td>Haas F1 Team</td><td>0.0</td><td>0</td></tr><tr><td>Chuck Stevenson</td><td>Kuzma</td><td>0.0</td><td>0</td></tr><tr><td>George Fonder</td><td>Sherman</td><td>0.0</td><td>0</td></tr><tr><td>Len Duncan</td><td>Schroeder</td><td>0.0</td><td>0</td></tr><tr><td>Marshall Teague</td><td>Kurtis Kraft</td><td>0.0</td><td>0</td></tr><tr><td>Bob Scott</td><td>Schroeder</td><td>0.0</td><td>0</td></tr><tr><td>Bobby Grim</td><td>Meskowski</td><td>0.0</td><td>0</td></tr><tr><td>Johnny McDowell</td><td>Kurtis Kraft</td><td>0.0</td><td>0</td></tr><tr><td>Cal Niday</td><td>Kurtis Kraft</td><td>0.0</td><td>0</td></tr><tr><td>Anthony Davidson</td><td>Super Aguri</td><td>0.0</td><td>0</td></tr><tr><td>Pat Flaherty</td><td>Kurtis Kraft</td><td>0.0</td><td>0</td></tr><tr><td>George Fonder</td><td>Schroeder</td><td>0.0</td><td>0</td></tr><tr><td>Chuck Stevenson</td><td>Kurtis Kraft</td><td>0.0</td><td>0</td></tr><tr><td>Duane Carter</td><td>Kuzma</td><td>0.0</td><td>0</td></tr><tr><td>Heikki Kovalainen</td><td>Caterham</td><td>0.0</td><td>0</td></tr><tr><td>Romain Grosjean</td><td>Renault</td><td>0.0</td><td>0</td></tr><tr><td>Carl Scarborough</td><td>Kurtis Kraft</td><td>0.0</td><td>0</td></tr><tr><td>Tony Bettenhausen</td><td>Watson</td><td>0.0</td><td>0</td></tr><tr><td>Jimmy Reece</td><td>Pankratz</td><td>0.0</td><td>0</td></tr><tr><td>Bill Cheesbourg</td><td>Kuzma</td><td>0.0</td><td>0</td></tr><tr><td>Bruno Senna</td><td>HRT</td><td>0.0</td><td>0</td></tr><tr><td>Ray Crawford</td><td>Elder</td><td>0.0</td><td>0</td></tr><tr><td>Wayne Weiler</td><td>Epperly</td><td>0.0</td><td>0</td></tr><tr><td>Esteban Ocon</td><td>Manor Marussia</td><td>0.0</td><td>0</td></tr><tr><td>Al Herman</td><td>Kurtis Kraft</td><td>0.0</td><td>0</td></tr><tr><td>Narain Karthikeyan</td><td>HRT</td><td>0.0</td><td>0</td></tr><tr><td>Shorty Templeman</td><td>Kurtis Kraft</td><td>0.0</td><td>0</td></tr><tr><td>Yuji Ide</td><td>Super Aguri</td><td>0.0</td><td>0</td></tr><tr><td>Karun Chandhok</td><td>HRT</td><td>0.0</td><td>0</td></tr><tr><td>George Russell</td><td>Williams</td><td>0.0</td><td>0</td></tr><tr><td>Joe James</td><td>Kurtis Kraft</td><td>0.0</td><td>0</td></tr><tr><td>Johnny Thomson</td><td>Nichels</td><td>0.0</td><td>0</td></tr><tr><td>Adrian Sutil</td><td>Sauber</td><td>0.0</td><td>0</td></tr><tr><td>Giancarlo Fisichella</td><td>Ferrari</td><td>0.0</td><td>0</td></tr><tr><td>Olivier Grouillard</td><td>Fondmetal</td><td>0.0</td><td>0</td></tr><tr><td>Gregor Foitek</td><td>Brabham</td><td>0.0</td><td>0</td></tr><tr><td>Bill Cantrell</td><td>Adams</td><td>0.0</td><td>0</td></tr><tr><td>Alfonso Thiele</td><td>Cooper-Climax</td><td>0.0</td><td>0</td></tr><tr><td>Alexander Rossi</td><td>Manor Marussia</td><td>0.0</td><td>0</td></tr><tr><td>Michele Alboreto</td><td>Arrows</td><td>0.0</td><td>0</td></tr><tr><td>Nicola Larini</td><td>Lambo</td><td>0.0</td><td>0</td></tr><tr><td>Yannick Dalmas</td><td>AGS</td><td>0.0</td><td>0</td></tr><tr><td>Jacques Villeneuve</td><td>Renault</td><td>0.0</td><td>0</td></tr><tr><td>Ernesto Prinoth</td><td>Lotus-Climax</td><td>0.0</td><td>0</td></tr><tr><td>Michael May</td><td>Lotus-Climax</td><td>0.0</td><td>0</td></tr><tr><td>Bayliss Levrett</td><td>Adams</td><td>0.0</td><td>0</td></tr><tr><td>Nicola Larini</td><td>Osella</td><td>0.0</td><td>0</td></tr><tr><td>Enrico Bertaggia</td><td>Coloni</td><td>0.0</td><td>0</td></tr><tr><td>Olivier Grouillard</td><td>Osella</td><td>0.0</td><td>0</td></tr><tr><td>Roberto Lippi</td><td>De Tomaso-Osca</td><td>0.0</td><td>0</td></tr><tr><td>Alessandro Zanardi</td><td>Jordan</td><td>0.0</td><td>0</td></tr><tr><td>Gianni Morbidelli</td><td>Dallara</td><td>0.0</td><td>0</td></tr><tr><td>Brett Lunger</td><td>McLaren</td><td>0.0</td><td>0</td></tr><tr><td>Masten Gregory</td><td>Lotus-Climax</td><td>0.0</td><td>0</td></tr><tr><td>Gary Brabham</td><td>Life</td><td>0.0</td><td>0</td></tr><tr><td>Menato Boffa</td><td>Cooper-Climax</td><td>0.0</td><td>0</td></tr><tr><td>Aguri Suzuki</td><td>Zakspeed</td><td>0.0</td><td>0</td></tr><tr><td>Fabrizio Barbazza</td><td>AGS</td><td>0.0</td><td>0</td></tr><tr><td>Michele Alboreto</td><td>Larrousse</td><td>0.0</td><td>0</td></tr><tr><td>Karl Wendlinger</td><td>Leyton House</td><td>0.0</td><td>0</td></tr><tr><td>Cliff Griffith</td><td>Stevens</td><td>0.0</td><td>0</td></tr><tr><td>Pierre-Henri Raphanel</td><td>Rial</td><td>0.0</td><td>0</td></tr><tr><td>Travis Webb</td><td>Maserati</td><td>0.0</td><td>0</td></tr><tr><td>Paul Russo</td><td>Nichels</td><td>0.0</td><td>0</td></tr><tr><td>Renato Pirocchi</td><td>Cooper-Maserati</td><td>0.0</td><td>0</td></tr><tr><td>Bernd Schneider</td><td>Arrows</td><td>0.0</td><td>0</td></tr><tr><td>David Brabham</td><td>Brabham</td><td>0.0</td><td>0</td></tr><tr><td>Bill Schindler</td><td>Snowberger</td><td>0.0</td><td>0</td></tr><tr><td>André Pilette</td><td>Emeryson</td><td>0.0</td><td>0</td></tr><tr><td>Rodger Ward</td><td>Lesovsky</td><td>0.0</td><td>0</td></tr><tr><td>Brian Naylor</td><td>JBW</td><td>0.0</td><td>0</td></tr><tr><td>Maurice Trintignant</td><td>Cooper-Maserati</td><td>0.0</td><td>0</td></tr><tr><td>Will Stevens</td><td>Caterham</td><td>0.0</td><td>0</td></tr><tr><td>Harald Ertl</td><td>Hesketh</td><td>0.0</td><td>0</td></tr><tr><td>Bob Veith</td><td>Kurtis Kraft</td><td>0.0</td><td>0</td></tr><tr><td>Bertrand Gachot</td><td>Coloni</td><td>0.0</td><td>0</td></tr><tr><td>Michael Bartels</td><td>Team Lotus</td><td>0.0</td><td>0</td></tr><tr><td>Gabriele Tarquini</td><td>Fondmetal</td><td>0.0</td><td>0</td></tr><tr><td>Mikko Kozarowitzky</td><td>March</td><td>0.0</td><td>0</td></tr><tr><td>Mack Hellings</td><td>Kurtis Kraft</td><td>0.0</td><td>0</td></tr><tr><td>Walt Brown</td><td>Kurtis Kraft</td><td>0.0</td><td>0</td></tr><tr><td>Gregor Foitek</td><td>Euro Brun</td><td>0.0</td><td>0</td></tr><tr><td>Anthony Davidson</td><td>BAR</td><td>0.0</td><td>0</td></tr><tr><td>Jack Fairman</td><td>Cooper-Climax</td><td>0.0</td><td>0</td></tr><tr><td>Duane Carter</td><td>Stevens</td><td>0.0</td><td>0</td></tr><tr><td>Lorenzo Bandini</td><td>Cooper-Maserati</td><td>0.0</td><td>0</td></tr><tr><td>Johnnie Tolan</td><td>Kurtis Kraft</td><td>0.0</td><td>0</td></tr><tr><td>Alex Caffi</td><td>Footwork</td><td>0.0</td><td>0</td></tr><tr><td>Bernd Schneider</td><td>Zakspeed</td><td>0.0</td><td>0</td></tr><tr><td>Naoki Hattori</td><td>Coloni</td><td>0.0</td><td>0</td></tr><tr><td>Larry Perkins</td><td>Surtees</td><td>0.0</td><td>0</td></tr><tr><td>Joachim Winkelhock</td><td>AGS</td><td>0.0</td><td>0</td></tr><tr><td>Myron Fohr</td><td>Marchese</td><td>0.0</td><td>0</td></tr><tr><td>Nicola Larini</td><td>Ligier</td><td>0.0</td><td>0</td></tr><tr><td>Jack Turner</td><td>Kurtis Kraft</td><td>0.0</td><td>0</td></tr><tr><td>Patrick Nève</td><td>March</td><td>0.0</td><td>0</td></tr><tr><td>Will Stevens</td><td>Manor Marussia</td><td>0.0</td><td>0</td></tr><tr><td>Roberto Moreno</td><td>Minardi</td><td>0.0</td><td>0</td></tr><tr><td>Gianmaria Bruni</td><td>Minardi</td><td>0.0</td><td>0</td></tr><tr><td>Gerry Ashmore</td><td>Lotus-Climax</td><td>0.0</td><td>0</td></tr><tr><td>Jyrki Järvilehto</td><td>Onyx</td><td>0.0</td><td>0</td></tr><tr><td>Gene Hartley</td><td>Lesovsky</td><td>0.0</td><td>0</td></tr><tr><td>Troy Ruttman</td><td>Lesovsky</td><td>0.0</td><td>0</td></tr><tr><td>Roberto Moreno</td><td>Euro Brun</td><td>0.0</td><td>0</td></tr><tr><td>Martin Donnelly</td><td>Team Lotus</td><td>0.0</td><td>0</td></tr><tr><td>Gaetano Starrabba</td><td>Lotus-Maserati</td><td>0.0</td><td>0</td></tr><tr><td>Roberto Bussinello</td><td>De Tomaso-Alfa Romeo</td><td>0.0</td><td>0</td></tr><tr><td>George Connor</td><td>Lesovsky</td><td>0.0</td><td>0</td></tr><tr><td>Chuck Weyant</td><td>Kuzma</td><td>0.0</td><td>0</td></tr><tr><td>Pedro Chaves</td><td>Coloni</td><td>0.0</td><td>0</td></tr><tr><td>Lee Wallard</td><td>Moore</td><td>0.0</td><td>0</td></tr><tr><td>Nino Vaccarella</td><td>De Tomaso-Alfa Romeo</td><td>0.0</td><td>0</td></tr><tr><td>Claudio Langes</td><td>Euro Brun</td><td>0.0</td><td>0</td></tr><tr><td>Eric van de Poele</td><td>Lambo</td><td>0.0</td><td>0</td></tr><tr><td>Pierre-Henri Raphanel</td><td>Coloni</td><td>0.0</td><td>0</td></tr><tr><td>Paolo Barilla</td><td>Minardi</td><td>0.0</td><td>0</td></tr><tr><td>Johnny Herbert</td><td>Tyrrell</td><td>0.0</td><td>0</td></tr><tr><td>Robert Doornbos</td><td>Minardi</td><td>0.0</td><td>0</td></tr><tr><td>Mike Magill</td><td>Kurtis Kraft</td><td>0.0</td><td>0</td></tr><tr><td>Alex Ribeiro</td><td>March</td><td>0.0</td><td>0</td></tr><tr><td>Giorgio Pantano</td><td>Jordan</td><td>0.0</td><td>0</td></tr><tr><td>Bertrand Gachot</td><td>Onyx</td><td>0.0</td><td>0</td></tr><tr><td>Oscar Larrauri</td><td>Euro Brun</td><td>0.0</td><td>0</td></tr><tr><td>Conny Andersson</td><td>BRM</td><td>0.0</td><td>0</td></tr><tr><td>Roberto Merhi</td><td>Manor Marussia</td><td>0.0</td><td>0</td></tr><tr><td>Bruno Giacomelli</td><td>Life</td><td>0.0</td><td>0</td></tr><tr><td>Emilio de Villota</td><td>McLaren</td><td>0.0</td><td>0</td></tr><tr><td>Jackie Holmes</td><td>Olson</td><td>0.0</td><td>0</td></tr><tr><td>Antonio Giovinazzi</td><td>Sauber</td><td>0.0</td><td>0</td></tr><tr><td>David Purley</td><td>LEC</td><td>0.0</td><td>0</td></tr><tr><td>Jimmy Davies</td><td>Ewing</td><td>0.0</td><td>0</td></tr><tr><td>Rupert Keegan</td><td>Hesketh</td><td>0.0</td><td>0</td></tr><tr><td>Walt Ader</td><td>Rae</td><td>0.0</td><td>0</td></tr><tr><td>Billy Garrett</td><td>Kuzma</td><td>0.0</td><td>0</td></tr><tr><td>Yannick Dalmas</td><td>Larrousse</td><td>0.0</td><td>0</td></tr><tr><td>Elmer George</td><td>Kurtis Kraft</td><td>0.0</td><td>0</td></tr><tr><td>Roberto Moreno</td><td>Coloni</td><td>0.0</td><td>0</td></tr><tr><td>Wolfgang Seidel</td><td>Lotus-Climax</td><td>0.0</td><td>0</td></tr><tr><td>Aguri Suzuki</td><td>Lola</td><td>0.0</td><td>0</td></tr><tr><td>Tim Parnell</td><td>Lotus-Climax</td><td>0.0</td><td>0</td></tr><tr><td>Keith Andrews</td><td>Kurtis Kraft</td><td>0.0</td><td>0</td></tr><tr><td>Boy Lunger</td><td>March</td><td>0.0</td><td>0</td></tr><tr><td>Henry Banks</td><td>Maserati</td><td>0.0</td><td>0</td></tr><tr><td>Pietro Fittipaldi</td><td>Haas F1 Team</td><td>0.0</td><td>0</td></tr><tr><td>Gianni Morbidelli</td><td>Minardi</td><td>0.0</td><td>0</td></tr><tr><td>Jimmy Reece</td><td>Lesovsky</td><td>0.0</td><td>0</td></tr><tr><td>Jim Rathmann</td><td>Wetteroth</td><td>0.0</td><td>0</td></tr><tr><td>Hector Rebaque</td><td>Hesketh</td><td>0.0</td><td>0</td></tr><tr><td>Gregor Foitek</td><td>Onyx</td><td>0.0</td><td>0</td></tr><tr><td>Roberto Moreno</td><td>Jordan</td><td>0.0</td><td>0</td></tr><tr><td>Volker Weidler</td><td>Rial</td><td>0.0</td><td>0</td></tr><tr><td>Ricardo Zonta</td><td>Toyota</td><td>0.0</td><td>0</td></tr><tr><td>Bill Cheesbourg</td><td>Kurtis Kraft</td><td>0.0</td><td>0</td></tr><tr><td>Eddie Johnson</td><td>Kuzma</td><td>0.0</td><td>0</td></tr><tr><td>Don Edmunds</td><td>Kurtis Kraft</td><td>0.0</td><td>0</td></tr><tr><td>Gene Hartley</td><td>Langley</td><td>0.0</td><td>0</td></tr><tr><td>Edgar Barth</td><td>Porsche</td><td>0.0</td><td>0</td></tr><tr><td>Henry Taylor</td><td>Lotus-Climax</td><td>0.0</td><td>0</td></tr><tr><td>Martin Donnelly</td><td>Arrows</td><td>0.0</td><td>0</td></tr><tr><td>Bob Veith</td><td>Phillips</td><td>0.0</td><td>0</td></tr><tr><td>Ian Scheckter</td><td>March</td><td>0.0</td><td>0</td></tr><tr><td>Massimo Natili</td><td>Cooper-Maserati</td><td>0.0</td><td>0</td></tr><tr><td>Maurice Trintignant</td><td>Lotus-Climax</td><td>0.0</td><td>0</td></tr><tr><td>Alessandro Zanardi</td><td>Minardi</td><td>0.0</td><td>0</td></tr><tr><td>Geoff Duke</td><td>Cooper-Climax</td><td>0.0</td><td>0</td></tr><tr><td>Ian Burgess</td><td>Lotus-Climax</td><td>0.0</td><td>0</td></tr><tr><td>Jan Lammers</td><td>ATS</td><td>0.0</td><td>0</td></tr><tr><td>Howden Ganley</td><td>Maki</td><td>0.0</td><td>0</td></tr><tr><td>Jo Vonlanthen</td><td>Williams</td><td>0.0</td><td>0</td></tr><tr><td>Renato Pirocchi</td><td>Cooper-Climax</td><td>0.0</td><td>0</td></tr><tr><td>Michael Schumacher</td><td>Jordan</td><td>0.0</td><td>0</td></tr><tr><td>Jacques Swaters</td><td>Ferrari</td><td>0.0</td><td>0</td></tr><tr><td>Tom Belsø</td><td>Iso Marlboro</td><td>0.0</td><td>0</td></tr><tr><td>Johnnie Tolan</td><td>Kuzma</td><td>0.0</td><td>0</td></tr><tr><td>Gino Bianco</td><td>Maserati</td><td>0.0</td><td>0</td></tr><tr><td>Eitel Cantoni</td><td>Maserati</td><td>0.0</td><td>0</td></tr><tr><td>Keke Rosberg</td><td>Wolf</td><td>0.0</td><td>0</td></tr><tr><td>John Riseley-Prichard</td><td>Connaught</td><td>0.0</td><td>0</td></tr><tr><td>Rolf Stommelen</td><td>Embassy Hill</td><td>0.0</td><td>0</td></tr><tr><td>Alberto Ascari</td><td>Maserati</td><td>0.0</td><td>0</td></tr><tr><td>Maurício Gugelmin</td><td>Jordan</td><td>0.0</td><td>0</td></tr><tr><td>Tony Crook</td><td>Frazer Nash</td><td>0.0</td><td>0</td></tr><tr><td>Ernst Klodwig</td><td>BMW</td><td>0.0</td><td>0</td></tr><tr><td>Jochen Mass</td><td>Surtees</td><td>0.0</td><td>0</td></tr><tr><td>Lucien Bianchi</td><td>ENB</td><td>0.0</td><td>0</td></tr><tr><td>Harald Ertl</td><td>Ensign</td><td>0.0</td><td>0</td></tr><tr><td>Riccardo Paletti</td><td>Osella</td><td>0.0</td><td>0</td></tr><tr><td>Joe James</td><td>Watson</td><td>0.0</td><td>0</td></tr><tr><td>Brian Redman</td><td>BRM</td><td>0.0</td><td>0</td></tr><tr><td>Arturo Merzario</td><td>March</td><td>0.0</td><td>0</td></tr><tr><td>Mike Wilds</td><td>Ensign</td><td>0.0</td><td>0</td></tr><tr><td>Jochen Mass</td><td>ATS</td><td>0.0</td><td>0</td></tr><tr><td>Theo Helfrich</td><td>Veritas</td><td>0.0</td><td>0</td></tr><tr><td>Rudolf Krause</td><td>BMW</td><td>0.0</td><td>0</td></tr><tr><td>Lucien Bianchi</td><td>Lotus-Climax</td><td>0.0</td><td>0</td></tr><tr><td>Mack Hellings</td><td>Deidt</td><td>0.0</td><td>0</td></tr><tr><td>Wilson Fittipaldi</td><td>Fittipaldi</td><td>0.0</td><td>0</td></tr><tr><td>Johnny Claes</td><td>Connaught</td><td>0.0</td><td>0</td></tr><tr><td>Brian Henton</td><td>Toleman</td><td>0.0</td><td>0</td></tr><tr><td>Vern Schuppan</td><td>Ensign</td><td>0.0</td><td>0</td></tr><tr><td>Bertrand Gachot</td><td>Rial</td><td>0.0</td><td>0</td></tr><tr><td>Julian Bailey</td><td>Tyrrell</td><td>0.0</td><td>0</td></tr><tr><td>Theo Fitzau</td><td>AFM</td><td>0.0</td><td>0</td></tr><tr><td>Jean-Pierre Jarier</td><td>Shadow-Matra</td><td>0.0</td><td>0</td></tr><tr><td>Charles de Tornaco</td><td>Ferrari</td><td>0.0</td><td>0</td></tr><tr><td>Vern Schuppan</td><td>Surtees</td><td>0.0</td><td>0</td></tr><tr><td>Stefan Johansson</td><td>Ligier</td><td>0.0</td><td>0</td></tr><tr><td>Damon Hill</td><td>Brabham</td><td>0.0</td><td>0</td></tr><tr><td>Henri Pescarolo</td><td>March</td><td>0.0</td><td>0</td></tr><tr><td>Duncan Hamilton</td><td>HWM</td><td>0.0</td><td>0</td></tr><tr><td>Brian McGuire</td><td>McGuire</td><td>0.0</td><td>0</td></tr><tr><td>Emanuele Naspetti</td><td>March</td><td>0.0</td><td>0</td></tr><tr><td>Bob Gerard</td><td>Cooper</td><td>0.0</td><td>0</td></tr><tr><td>Bill Whitehouse</td><td>Connaught</td><td>0.0</td><td>0</td></tr><tr><td>Tony Trimmer</td><td>Surtees</td><td>0.0</td><td>0</td></tr><tr><td>Giorgio Francia</td><td>Osella</td><td>0.0</td><td>0</td></tr><tr><td>Carlo Franchi</td><td>Surtees</td><td>0.0</td><td>0</td></tr><tr><td>Don Beauman</td><td>Connaught</td><td>0.0</td><td>0</td></tr><tr><td>Ed Elisian</td><td>Watson</td><td>0.0</td><td>0</td></tr><tr><td>Paul Belmondo</td><td>March</td><td>0.0</td><td>0</td></tr><tr><td>Henry Banks</td><td>Moore</td><td>0.0</td><td>0</td></tr><tr><td>Jean-Pierre Jabouille</td><td>Tyrrell</td><td>0.0</td><td>0</td></tr><tr><td>Tony Maggs</td><td>Lotus-Climax</td><td>0.0</td><td>0</td></tr><tr><td>Peter Hirt</td><td>Ferrari</td><td>0.0</td><td>0</td></tr><tr><td>Günther Seiffert</td><td>Lotus-BRM</td><td>0.0</td><td>0</td></tr><tr><td>Alberto Colombo</td><td>Merzario</td><td>0.0</td><td>0</td></tr><tr><td>Gregor Foitek</td><td>Rial</td><td>0.0</td><td>0</td></tr><tr><td>Jack Fairman</td><td>Ferguson</td><td>0.0</td><td>0</td></tr><tr><td>Ian Burgess</td><td>Cooper-Climax</td><td>0.0</td><td>0</td></tr><tr><td>Jean-Louis Schlesser</td><td>Williams</td><td>0.0</td><td>0</td></tr><tr><td>Peter Gethin</td><td>Lola</td><td>0.0</td><td>0</td></tr><tr><td>Eric van de Poele</td><td>Brabham</td><td>0.0</td><td>0</td></tr><tr><td>Harry Schell</td><td>Gordini</td><td>0.0</td><td>0</td></tr><tr><td>John Campbell-Jones</td><td>Cooper-Climax</td><td>0.0</td><td>0</td></tr><tr><td>Hans von Stuck</td><td>Ferrari</td><td>0.0</td><td>0</td></tr><tr><td>Kurt Adolff</td><td>Ferrari</td><td>0.0</td><td>0</td></tr><tr><td>Dempsey Wilson</td><td>Kuzma</td><td>0.0</td><td>0</td></tr><tr><td>Ukyo Katayama</td><td>Larrousse</td><td>0.0</td><td>0</td></tr><tr><td>Kenneth McAlpine</td><td>Connaught</td><td>0.0</td><td>0</td></tr><tr><td>Alessandro Pesenti-Rossi</td><td>Tyrrell</td><td>0.0</td><td>0</td></tr><tr><td>David Purley</td><td>Token</td><td>0.0</td><td>0</td></tr><tr><td>Brian Henton</td><td>March</td><td>0.0</td><td>0</td></tr><tr><td>Skip Barber</td><td>March</td><td>0.0</td><td>0</td></tr><tr><td>Jimmy Reece</td><td>Watson</td><td>0.0</td><td>0</td></tr><tr><td>Bill Aston</td><td>Aston Butterworth</td><td>0.0</td><td>0</td></tr><tr><td>Rodney Nuckey</td><td>Cooper</td><td>0.0</td><td>0</td></tr><tr><td>Arturo Merzario</td><td>Wolf</td><td>0.0</td><td>0</td></tr><tr><td>Guy Edwards</td><td>BRM</td><td>0.0</td><td>0</td></tr><tr><td>David Murray</td><td>Cooper</td><td>0.0</td><td>0</td></tr><tr><td>Damien Magee</td><td>Brabham-Ford</td><td>0.0</td><td>0</td></tr><tr><td>André Simon</td><td>Ferrari</td><td>0.0</td><td>0</td></tr><tr><td>Leslie Thorne</td><td>Connaught</td><td>0.0</td><td>0</td></tr><tr><td>Ken Downing</td><td>Connaught</td><td>0.0</td><td>0</td></tr><tr><td>Keith Greene</td><td>Gilby</td><td>0.0</td><td>0</td></tr><tr><td>René Arnoux</td><td>Martini</td><td>0.0</td><td>0</td></tr><tr><td>Stirling Moss</td><td>Ferguson</td><td>0.0</td><td>0</td></tr><tr><td>Danny Ongais</td><td>Shadow</td><td>0.0</td><td>0</td></tr><tr><td>Bob Evans</td><td>BRM</td><td>0.0</td><td>0</td></tr><tr><td>Jochen Mass</td><td>March</td><td>0.0</td><td>0</td></tr><tr><td>Beppe Gabbiani</td><td>Osella</td><td>0.0</td><td>0</td></tr><tr><td>Mike Beuttler</td><td>March</td><td>0.0</td><td>0</td></tr><tr><td>Derek Bell</td><td>Tecno</td><td>0.0</td><td>0</td></tr><tr><td>Jody Scheckter</td><td>McLaren</td><td>0.0</td><td>0</td></tr><tr><td>Rupert Keegan</td><td>Surtees</td><td>0.0</td><td>0</td></tr><tr><td>Roberto Moreno</td><td>Andrea Moda</td><td>0.0</td><td>0</td></tr><tr><td>Ian Ashley</td><td>Brabham</td><td>0.0</td><td>0</td></tr><tr><td>Eliseo Salazar</td><td>March</td><td>0.0</td><td>0</td></tr><tr><td>Peter Collins</td><td>HWM</td><td>0.0</td><td>0</td></tr><tr><td>Jud Larson</td><td>Watson</td><td>0.0</td><td>0</td></tr><tr><td>John Watson</td><td>Surtees</td><td>0.0</td><td>0</td></tr><tr><td>Tim Schenken</td><td>Trojan</td><td>0.0</td><td>0</td></tr><tr><td>Ken Wharton</td><td>Cooper</td><td>0.0</td><td>0</td></tr><tr><td>Rodger Ward</td><td>Bromme</td><td>0.0</td><td>0</td></tr><tr><td>Jo Siffert</td><td>Lotus-Climax</td><td>0.0</td><td>0</td></tr><tr><td>Carl Forberg</td><td>Kurtis Kraft</td><td>0.0</td><td>0</td></tr><tr><td>Ken Wharton</td><td>Maserati</td><td>0.0</td><td>0</td></tr><tr><td>Oswald Karch</td><td>Veritas</td><td>0.0</td><td>0</td></tr><tr><td>Henri Pescarolo</td><td>Surtees</td><td>0.0</td><td>0</td></tr><tr><td>John Nicholson</td><td>Lyncar</td><td>0.0</td><td>0</td></tr><tr><td>Nino Vaccarella</td><td>Porsche</td><td>0.0</td><td>0</td></tr><tr><td>Roy Salvadori</td><td>Ferrari</td><td>0.0</td><td>0</td></tr><tr><td>Olivier Grouillard</td><td>Tyrrell</td><td>0.0</td><td>0</td></tr><tr><td>Duane Carter</td><td>Deidt</td><td>0.0</td><td>0</td></tr><tr><td>Aguri Suzuki</td><td>Footwork</td><td>0.0</td><td>0</td></tr><tr><td>Ernst Loof</td><td>Veritas</td><td>0.0</td><td>0</td></tr><tr><td>Stefan Johansson</td><td>Footwork</td><td>0.0</td><td>0</td></tr><tr><td>Loris Kessel</td><td>Brabham-Ford</td><td>0.0</td><td>0</td></tr><tr><td>Alberto Crespo</td><td>Maserati</td><td>0.0</td><td>0</td></tr><tr><td>Rolf Stommelen</td><td>Lola</td><td>0.0</td><td>0</td></tr><tr><td>Lance Macklin</td><td>HWM</td><td>0.0</td><td>0</td></tr><tr><td>Peter Collins</td><td>Vanwall</td><td>0.0</td><td>0</td></tr><tr><td>Hans von Stuck</td><td>AFM</td><td>0.0</td><td>0</td></tr><tr><td>Willi Heeks</td><td>Veritas</td><td>0.0</td><td>0</td></tr><tr><td>Len Sutton</td><td>Kurtis Kraft</td><td>0.0</td><td>0</td></tr><tr><td>Duke Dinsmore</td><td>Schroeder</td><td>0.0</td><td>0</td></tr><tr><td>Hans Herrmann</td><td>Veritas</td><td>0.0</td><td>0</td></tr><tr><td>Élie Bayol</td><td>OSCA</td><td>0.0</td><td>0</td></tr><tr><td>Günther Bechem</td><td>AFM</td><td>0.0</td><td>0</td></tr><tr><td>Horace Gould</td><td>Cooper</td><td>0.0</td><td>0</td></tr><tr><td>Michel Leclère</td><td>Wolf</td><td>0.0</td><td>0</td></tr><tr><td>Paul Goldsmith</td><td>Kurtis Kraft</td><td>0.0</td><td>0</td></tr><tr><td>Jay Chamberlain</td><td>Lotus-Climax</td><td>0.0</td><td>0</td></tr><tr><td>Jerry Unser</td><td>Kurtis Kraft</td><td>0.0</td><td>0</td></tr><tr><td>Bill Vukovich</td><td>Trevis</td><td>0.0</td><td>0</td></tr><tr><td>Stefano Modena</td><td>Euro Brun</td><td>0.0</td><td>0</td></tr><tr><td>Jimmy Davies</td><td>Pawl</td><td>0.0</td><td>0</td></tr><tr><td>Roberto Guerrero</td><td>Ensign</td><td>0.0</td><td>0</td></tr><tr><td>Keke Rosberg</td><td>ATS</td><td>0.0</td><td>0</td></tr><tr><td>Gilles Villeneuve</td><td>McLaren</td><td>0.0</td><td>0</td></tr><tr><td>Perry McCarthy</td><td>Andrea Moda</td><td>0.0</td><td>0</td></tr><tr><td>Slim Borgudd</td><td>Tyrrell</td><td>0.0</td><td>0</td></tr><tr><td>José Dolhem</td><td>Surtees</td><td>0.0</td><td>0</td></tr><tr><td>Ron Flockhart</td><td>Maserati</td><td>0.0</td><td>0</td></tr><tr><td>Chris Amon</td><td>Amon</td><td>0.0</td><td>0</td></tr><tr><td>Brian Henton</td><td>Team Lotus</td><td>0.0</td><td>0</td></tr><tr><td>Michael Bleekemolen</td><td>ATS</td><td>0.0</td><td>0</td></tr><tr><td>Tony Shelly</td><td>Lotus-Climax</td><td>0.0</td><td>0</td></tr><tr><td>Teo Fabi</td><td>Toleman</td><td>0.0</td><td>0</td></tr><tr><td>Roy Salvadori</td><td>Maserati</td><td>0.0</td><td>0</td></tr><tr><td>Louis Rosier</td><td>Ferrari</td><td>0.0</td><td>0</td></tr><tr><td>Roy Salvadori</td><td>Connaught</td><td>0.0</td><td>0</td></tr><tr><td>Chris Amon</td><td>BRM</td><td>0.0</td><td>0</td></tr><tr><td>Stirling Moss</td><td>ERA</td><td>0.0</td><td>0</td></tr><tr><td>Helmuth Koinigg</td><td>Surtees</td><td>0.0</td><td>0</td></tr><tr><td>Stefan Johansson</td><td>AGS</td><td>0.0</td><td>0</td></tr><tr><td>Erwin Bauer</td><td>Veritas</td><td>0.0</td><td>0</td></tr><tr><td>Harald Ertl</td><td>ATS</td><td>0.0</td><td>0</td></tr><tr><td>David Walker</td><td>Team Lotus</td><td>0.0</td><td>0</td></tr><tr><td>François Migault</td><td>BRM</td><td>0.0</td><td>0</td></tr><tr><td>Tony Trimmer</td><td>Maki</td><td>0.0</td><td>0</td></tr><tr><td>Franco Rol</td><td>Maserati</td><td>0.0</td><td>0</td></tr><tr><td>Jack Aitken</td><td>Williams</td><td>0.0</td><td>0</td></tr><tr><td>Patrick Nève</td><td>Ensign</td><td>0.0</td><td>0</td></tr><tr><td>Leo Kinnunen</td><td>Surtees</td><td>0.0</td><td>0</td></tr><tr><td>Paul di Resta</td><td>Williams</td><td>0.0</td><td>0</td></tr><tr><td>Roy Salvadori</td><td>Lola</td><td>0.0</td><td>0</td></tr><tr><td>François Migault</td><td>Williams</td><td>0.0</td><td>0</td></tr><tr><td>Henri Pescarolo</td><td>BRM</td><td>0.0</td><td>0</td></tr><tr><td>Philippe Streiff</td><td>AGS</td><td>0.0</td><td>0</td></tr><tr><td>Roelof Wunderink</td><td>Ensign</td><td>0.0</td><td>0</td></tr><tr><td>Bernard Collomb</td><td>Cooper-Climax</td><td>0.0</td><td>0</td></tr><tr><td>Peter Whitehead</td><td>Cooper</td><td>0.0</td><td>0</td></tr><tr><td>Bill Mackey</td><td>Hall</td><td>0.0</td><td>0</td></tr><tr><td>Derek Daly</td><td>March</td><td>0.0</td><td>0</td></tr><tr><td>Graham Whitehead</td><td>Alta</td><td>0.0</td><td>0</td></tr><tr><td>Chuck Weyant</td><td>Dunn</td><td>0.0</td><td>0</td></tr><tr><td>Heinz Schiller</td><td>Lotus-BRM</td><td>0.0</td><td>0</td></tr><tr><td>Billy Garrett</td><td>Kurtis Kraft</td><td>0.0</td><td>0</td></tr><tr><td>Art Bisch</td><td>Kuzma</td><td>0.0</td><td>0</td></tr><tr><td>Derek Daly</td><td>Theodore</td><td>0.0</td><td>0</td></tr><tr><td>Brian Henton</td><td>Arrows</td><td>0.0</td><td>0</td></tr><tr><td>Stirling Moss</td><td>Connaught</td><td>0.0</td><td>0</td></tr><tr><td>Tony Gaze</td><td>HWM</td><td>0.0</td><td>0</td></tr><tr><td>Tim Schenken</td><td>Team Lotus</td><td>0.0</td><td>0</td></tr><tr><td>Eric van de Poele</td><td>Fondmetal</td><td>0.0</td><td>0</td></tr><tr><td>Jack Turner</td><td>Lesovsky</td><td>0.0</td><td>0</td></tr><tr><td>Ian Ashley</td><td>Token</td><td>0.0</td><td>0</td></tr><tr><td>Reg Parnell</td><td>Cooper</td><td>0.0</td><td>0</td></tr><tr><td>Larry Perkins</td><td>Amon</td><td>0.0</td><td>0</td></tr><tr><td>Gabriele Tarquini</td><td>Coloni</td><td>0.0</td><td>0</td></tr><tr><td>Bruno Giacomelli</td><td>McLaren</td><td>0.0</td><td>0</td></tr><tr><td>Nelson Piquet</td><td>McLaren</td><td>0.0</td><td>0</td></tr><tr><td>Niki Lauda</td><td>March</td><td>0.0</td><td>0</td></tr><tr><td>Johnny Claes</td><td>Simca</td><td>0.0</td><td>0</td></tr><tr><td>Andrea Chiesa</td><td>Fondmetal</td><td>0.0</td><td>0</td></tr><tr><td>Bill Schindler</td><td>Kurtis Kraft</td><td>0.0</td><td>0</td></tr><tr><td>Arturo Merzario</td><td>Merzario</td><td>0.0</td><td>0</td></tr><tr><td>Guy Edwards</td><td>Hesketh</td><td>0.0</td><td>0</td></tr><tr><td>Jean-Pierre Jabouille</td><td>Ligier</td><td>0.0</td><td>0</td></tr><tr><td>Prince Bira</td><td>Connaught</td><td>0.0</td><td>0</td></tr><tr><td>Jacky Ickx</td><td>Wolf</td><td>0.0</td><td>0</td></tr><tr><td>Lella Lombardi</td><td>Brabham</td><td>0.0</td><td>0</td></tr><tr><td>Clemar Bucci</td><td>Gordini</td><td>0.0</td><td>0</td></tr><tr><td>Mike Wilds</td><td>March</td><td>0.0</td><td>0</td></tr><tr><td>Andy Sutcliffe</td><td>March</td><td>0.0</td><td>0</td></tr><tr><td>Olivier Gendebien</td><td>Emeryson</td><td>0.0</td><td>0</td></tr><tr><td>Tony Marsh</td><td>BRM</td><td>0.0</td><td>0</td></tr><tr><td>Brett Lunger</td><td>Surtees</td><td>0.0</td><td>0</td></tr><tr><td>Edgar Barth</td><td>EMW</td><td>0.0</td><td>0</td></tr><tr><td>Wolfgang Seidel</td><td>Veritas</td><td>0.0</td><td>0</td></tr><tr><td>Jacky Ickx</td><td>Ensign</td><td>0.0</td><td>0</td></tr><tr><td>Brett Lunger</td><td>Hesketh</td><td>0.0</td><td>0</td></tr><tr><td>Eric Brandon</td><td>Cooper</td><td>0.0</td><td>0</td></tr><tr><td>Miguel Ángel Guerra</td><td>Osella</td><td>0.0</td><td>0</td></tr><tr><td>Piercarlo Ghinzani</td><td>Zakspeed</td><td>0.0</td><td>0</td></tr><tr><td>Otto Stuppacher</td><td>Tyrrell</td><td>0.0</td><td>0</td></tr><tr><td>Siegfried Stohr</td><td>Arrows</td><td>0.0</td><td>0</td></tr><tr><td>Ingo Hoffmann</td><td>Fittipaldi</td><td>0.0</td><td>0</td></tr><tr><td>Wolfgang Seidel</td><td>Lotus-BRM</td><td>0.0</td><td>0</td></tr><tr><td>Tony Marsh</td><td>Lotus-Climax</td><td>0.0</td><td>0</td></tr><tr><td>Guy Edwards</td><td>Lola</td><td>0.0</td><td>0</td></tr><tr><td>Chuck Stevenson</td><td>Marchese</td><td>0.0</td><td>0</td></tr><tr><td>Leslie Marr</td><td>Connaught</td><td>0.0</td><td>0</td></tr><tr><td>Piero Dusio</td><td>Cisitalia</td><td>0.0</td><td>0</td></tr><tr><td>Olivier Grouillard</td><td>AGS</td><td>0.0</td><td>0</td></tr><tr><td>Peter Monteverdi</td><td>MBM</td><td>0.0</td><td>0</td></tr><tr><td>Larry Perkins</td><td>Boro</td><td>0.0</td><td>0</td></tr><tr><td>Jacques Laffite</td><td>Iso Marlboro</td><td>0.0</td><td>0</td></tr><tr><td>Sam Posey</td><td>Surtees</td><td>0.0</td><td>0</td></tr><tr><td>Prince Bira</td><td>Gordini</td><td>0.0</td><td>0</td></tr><tr><td>Heini Walter</td><td>Porsche</td><td>0.0</td><td>0</td></tr><tr><td>Raul Boesel</td><td>March</td><td>0.0</td><td>0</td></tr><tr><td>Rolf Stommelen</td><td>Arrows</td><td>0.0</td><td>0</td></tr><tr><td>Johnny McDowell</td><td>Maserati</td><td>0.0</td><td>0</td></tr><tr><td>Ian Raby</td><td>Gilby</td><td>0.0</td><td>0</td></tr><tr><td>Hans Binder</td><td>ATS</td><td>0.0</td><td>0</td></tr><tr><td>Eppie Wietzes</td><td>Brabham</td><td>0.0</td><td>0</td></tr><tr><td>Clive Puzey</td><td>Lotus-Climax</td><td>0.0</td><td>0</td></tr><tr><td>Ray Reed</td><td>RE</td><td>0.0</td><td>0</td></tr><tr><td>Ian Ashley</td><td>Hesketh</td><td>0.0</td><td>0</td></tr><tr><td>Pascal Fabre</td><td>AGS</td><td>0.0</td><td>0</td></tr><tr><td>Luca Badoer</td><td>Minardi</td><td>0.0</td><td>0</td></tr><tr><td>Manfred Winkelhock</td><td>RAM</td><td>0.0</td><td>0</td></tr><tr><td>Hans Binder</td><td>Surtees</td><td>0.0</td><td>0</td></tr><tr><td>Philippe Alliot</td><td>McLaren</td><td>0.0</td><td>0</td></tr><tr><td>Dave Kennedy</td><td>Shadow</td><td>0.0</td><td>0</td></tr><tr><td>Philippe Alliot</td><td>RAM</td><td>0.0</td><td>0</td></tr><tr><td>Eliseo Salazar</td><td>RAM</td><td>0.0</td><td>0</td></tr><tr><td>Patrick Nève</td><td>Brabham-Ford</td><td>0.0</td><td>0</td></tr><tr><td>Giovanna Amati</td><td>Brabham</td><td>0.0</td><td>0</td></tr><tr><td>Danny Ongais</td><td>Ensign</td><td>0.0</td><td>0</td></tr><tr><td>Lamberto Leoni</td><td>Surtees</td><td>0.0</td><td>0</td></tr><tr><td>Philippe Adams</td><td>Team Lotus</td><td>0.0</td><td>0</td></tr><tr><td>Ian Scheckter</td><td>Team Lotus</td><td>0.0</td><td>0</td></tr><tr><td>Umberto Maglioli</td><td>Maserati</td><td>0.0</td><td>0</td></tr><tr><td>Gérard Larrousse</td><td>Brabham</td><td>0.0</td><td>0</td></tr><tr><td>Dave Charlton</td><td>Lotus-Ford</td><td>0.0</td><td>0</td></tr><tr><td>Carlo Facetti</td><td>Brabham</td><td>0.0</td><td>0</td></tr><tr><td>Tony Settember</td><td>Scirocco</td><td>0.0</td><td>0</td></tr><tr><td>Peter de Klerk</td><td>Alfa Romeo</td><td>0.0</td><td>0</td></tr><tr><td>Juan Manuel Bordeu</td><td>Lotus-Climax</td><td>0.0</td><td>0</td></tr><tr><td>Martin Brundle</td><td>Williams</td><td>0.0</td><td>0</td></tr><tr><td>Frank Gardner</td><td>Brabham-BRM</td><td>0.0</td><td>0</td></tr><tr><td>Bernard de Dryver</td><td>March</td><td>0.0</td><td>0</td></tr><tr><td>Piero Carini</td><td>Ferrari</td><td>0.0</td><td>0</td></tr><tr><td>Divina Galica</td><td>Hesketh</td><td>0.0</td><td>0</td></tr><tr><td>Ricardo Zunino</td><td>Tyrrell</td><td>0.0</td><td>0</td></tr><tr><td>René Arnoux</td><td>Surtees</td><td>0.0</td><td>0</td></tr><tr><td>Eddie Cheever</td><td>Osella</td><td>0.0</td><td>0</td></tr><tr><td>Dave Morgan</td><td>Surtees</td><td>0.0</td><td>0</td></tr><tr><td>Michael Bleekemolen</td><td>March</td><td>0.0</td><td>0</td></tr><tr><td>Carlo Abate</td><td>Porsche</td><td>0.0</td><td>0</td></tr><tr><td>David Purley</td><td>March</td><td>0.0</td><td>0</td></tr><tr><td>Dieter Quester</td><td>Surtees</td><td>0.0</td><td>0</td></tr><tr><td>Jean-Marc Gounon</td><td>Simtek</td><td>0.0</td><td>0</td></tr><tr><td>Helmut Marko</td><td>BRM</td><td>0.0</td><td>0</td></tr><tr><td>David Clapham</td><td>Cooper-Maserati</td><td>0.0</td><td>0</td></tr><tr><td>Emilio de Villota</td><td>March</td><td>0.0</td><td>0</td></tr><tr><td>Brett Lunger</td><td>Ensign</td><td>0.0</td><td>0</td></tr><tr><td>Hiroshi Fushida</td><td>Maki</td><td>0.0</td><td>0</td></tr><tr><td>Piercarlo Ghinzani</td><td>Ligier</td><td>0.0</td><td>0</td></tr><tr><td>Rupert Keegan</td><td>March</td><td>0.0</td><td>0</td></tr><tr><td>Giorgio Scarlatti</td><td>De Tomaso-Osca</td><td>0.0</td><td>0</td></tr><tr><td>Vittorio Brambilla</td><td>Alfa Romeo</td><td>0.0</td><td>0</td></tr><tr><td>Jo Bonnier</td><td>McLaren</td><td>0.0</td><td>0</td></tr><tr><td>Marc Surer</td><td>ATS</td><td>0.0</td><td>0</td></tr><tr><td>Geoff Lees</td><td>Team Lotus</td><td>0.0</td><td>0</td></tr><tr><td>Jean-Pierre Jarier</td><td>Ligier</td><td>0.0</td><td>0</td></tr><tr><td>Ian Burgess</td><td>Scirocco</td><td>0.0</td><td>0</td></tr><tr><td>Rikky von Opel</td><td>Ensign</td><td>0.0</td><td>0</td></tr><tr><td>Jan Lammers</td><td>Theodore</td><td>0.0</td><td>0</td></tr><tr><td>Arturo Merzario</td><td>Shadow</td><td>0.0</td><td>0</td></tr><tr><td>Jo Gartner</td><td>Osella</td><td>0.0</td><td>0</td></tr><tr><td>Bruce Halford</td><td>Maserati</td><td>0.0</td><td>0</td></tr><tr><td>Jean-Pierre Jarier</td><td>March</td><td>0.0</td><td>0</td></tr><tr><td>Rupert Keegan</td><td>Williams</td><td>0.0</td><td>0</td></tr><tr><td>Mário de Araújo Cabral</td><td>Cooper-Climax</td><td>0.0</td><td>0</td></tr><tr><td>Torsten Palm</td><td>Hesketh</td><td>0.0</td><td>0</td></tr><tr><td>Graham Hill</td><td>Shadow</td><td>0.0</td><td>0</td></tr><tr><td>Kurt Kuhnke</td><td>Lotus-Borgward</td><td>0.0</td><td>0</td></tr><tr><td>Desmond Titterington</td><td>Connaught</td><td>0.0</td><td>0</td></tr><tr><td>Alberto Colombo</td><td>ATS</td><td>0.0</td><td>0</td></tr><tr><td>Taki Inoue</td><td>Simtek</td><td>0.0</td><td>0</td></tr><tr><td>Mike Hailwood</td><td>Lola</td><td>0.0</td><td>0</td></tr><tr><td>Ernie Pieterse</td><td>Lotus-Climax</td><td>0.0</td><td>0</td></tr><tr><td>Jackie Pretorius</td><td>LDS-Alfa Romeo</td><td>0.0</td><td>0</td></tr><tr><td>André Pilette</td><td>Lotus-Climax</td><td>0.0</td><td>0</td></tr><tr><td>John Fitch</td><td>HWM</td><td>0.0</td><td>0</td></tr><tr><td>Roberto Guerrero</td><td>Theodore</td><td>0.0</td><td>0</td></tr><tr><td>Jonathan Palmer</td><td>Williams</td><td>0.0</td><td>0</td></tr><tr><td>Geoff Lees</td><td>Shadow</td><td>0.0</td><td>0</td></tr><tr><td>José Froilán González</td><td>Vanwall</td><td>0.0</td><td>0</td></tr><tr><td>Paul Belmondo</td><td>Pacific</td><td>0.0</td><td>0</td></tr><tr><td>Eddie Keizan</td><td>Team Lotus</td><td>0.0</td><td>0</td></tr><tr><td>Hector Rebaque</td><td>Rebaque</td><td>0.0</td><td>0</td></tr><tr><td>Jean-Pierre Jarier</td><td>Team Lotus</td><td>0.0</td><td>0</td></tr><tr><td>Michele Alboreto</td><td>Lola</td><td>0.0</td><td>0</td></tr><tr><td>Alan Jones</td><td>Hesketh</td><td>0.0</td><td>0</td></tr><tr><td>Yves Cabantous</td><td>HWM</td><td>0.0</td><td>0</td></tr><tr><td>Bob Anderson</td><td>Lola</td><td>0.0</td><td>0</td></tr><tr><td>Teddy Pilette</td><td>BRM</td><td>0.0</td><td>0</td></tr><tr><td>Jean-Pierre Jabouille</td><td>Surtees</td><td>0.0</td><td>0</td></tr><tr><td>Geoff Lees</td><td>Ensign</td><td>0.0</td><td>0</td></tr><tr><td>Toranosuke Takagi</td><td>Arrows</td><td>0.0</td><td>0</td></tr><tr><td>Louis Chiron</td><td>OSCA</td><td>0.0</td><td>0</td></tr><tr><td>Mike Hawthorn</td><td>BRM</td><td>0.0</td><td>0</td></tr><tr><td>Arturo Merzario</td><td>Williams</td><td>0.0</td><td>0</td></tr><tr><td>Skip Barber</td><td>March-Ford</td><td>0.0</td><td>0</td></tr><tr><td>Thierry Boutsen</td><td>Jordan</td><td>0.0</td><td>0</td></tr><tr><td>Kenny Acheson</td><td>RAM</td><td>0.0</td><td>0</td></tr><tr><td>Alessandro Nannini</td><td>Minardi</td><td>0.0</td><td>0</td></tr><tr><td>Renzo Zorzi</td><td>Williams</td><td>0.0</td><td>0</td></tr><tr><td>Hans Binder</td><td>Penske</td><td>0.0</td><td>0</td></tr><tr><td>Christian Danner</td><td>Zakspeed</td><td>0.0</td><td>0</td></tr><tr><td>Brian Redman</td><td>Shadow</td><td>0.0</td><td>0</td></tr><tr><td>Damien Magee</td><td>Williams</td><td>0.0</td><td>0</td></tr><tr><td>Paddy Driver</td><td>Team Lotus</td><td>0.0</td><td>0</td></tr><tr><td>Ricardo Zunino</td><td>Brabham</td><td>0.0</td><td>0</td></tr><tr><td>Beppe Gabbiani</td><td>Surtees</td><td>0.0</td><td>0</td></tr><tr><td>Nicola Larini</td><td>Coloni</td><td>0.0</td><td>0</td></tr><tr><td>Chris Craft</td><td>Brabham</td><td>0.0</td><td>0</td></tr><tr><td>Domenico Schiattarella</td><td>Simtek</td><td>0.0</td><td>0</td></tr><tr><td>Éric Bernard</td><td>Team Lotus</td><td>0.0</td><td>0</td></tr><tr><td>Franck Lagorce</td><td>Ligier</td><td>0.0</td><td>0</td></tr><tr><td>Nanni Galli</td><td>March-Ford</td><td>0.0</td><td>0</td></tr><tr><td>Jean-Pierre Jarier</td><td>ATS</td><td>0.0</td><td>0</td></tr><tr><td>Adrián Campos</td><td>Minardi</td><td>0.0</td><td>0</td></tr><tr><td>Vern Schuppan</td><td>Embassy Hill</td><td>0.0</td><td>0</td></tr><tr><td>Olivier Beretta</td><td>Larrousse</td><td>0.0</td><td>0</td></tr><tr><td>Chico Serra</td><td>Arrows</td><td>0.0</td><td>0</td></tr><tr><td>Tim Schenken</td><td>Iso Marlboro</td><td>0.0</td><td>0</td></tr><tr><td>Ian Scheckter</td><td>Tyrrell</td><td>0.0</td><td>0</td></tr><tr><td>Jean-Pierre Jabouille</td><td>Iso Marlboro</td><td>0.0</td><td>0</td></tr><tr><td>Doug Serrurier</td><td>LDS-Climax</td><td>0.0</td><td>0</td></tr><tr><td>David Prophet</td><td>Brabham-Ford</td><td>0.0</td><td>0</td></tr><tr><td>Patrick Tambay</td><td>Surtees</td><td>0.0</td><td>0</td></tr><tr><td>David Hobbs</td><td>McLaren</td><td>0.0</td><td>0</td></tr><tr><td>Ricardo Londoño</td><td>Ensign</td><td>0.0</td><td>0</td></tr><tr><td>John Cannon</td><td>BRM</td><td>0.0</td><td>0</td></tr><tr><td>Nasif Estéfano</td><td>De Tomaso</td><td>0.0</td><td>0</td></tr><tr><td>Giancarlo Baghetti</td><td>ATS</td><td>0.0</td><td>0</td></tr><tr><td>Paul Hawkins</td><td>Brabham-Ford</td><td>0.0</td><td>0</td></tr><tr><td>Keke Rosberg</td><td>Theodore</td><td>0.0</td><td>0</td></tr><tr><td>Lamberto Leoni</td><td>Ensign</td><td>0.0</td><td>0</td></tr><tr><td>Ernesto Brambilla</td><td>Cooper-Maserati</td><td>0.0</td><td>0</td></tr><tr><td>Ian Scheckter</td><td>Hesketh</td><td>0.0</td><td>0</td></tr><tr><td>Trevor Blokdyk</td><td>Cooper-Ford</td><td>0.0</td><td>0</td></tr><tr><td>Jacky Ickx</td><td>Iso Marlboro</td><td>0.0</td><td>0</td></tr><tr><td>Franco Forini</td><td>Osella</td><td>0.0</td><td>0</td></tr><tr><td>Richard Robarts</td><td>Brabham</td><td>0.0</td><td>0</td></tr><tr><td>Bobby Rahal</td><td>Wolf</td><td>0.0</td><td>0</td></tr><tr><td>Helmuth Koinigg</td><td>Brabham</td><td>0.0</td><td>0</td></tr><tr><td>Ian Scheckter</td><td>Williams</td><td>0.0</td><td>0</td></tr><tr><td>Emilio Zapico</td><td>Williams</td><td>0.0</td><td>0</td></tr><tr><td>David Brabham</td><td>Simtek</td><td>0.0</td><td>0</td></tr><tr><td>Brian Henton</td><td>Tyrrell</td><td>0.0</td><td>0</td></tr><tr><td>Sam Tingle</td><td>LDS-Alfa Romeo</td><td>0.0</td><td>0</td></tr><tr><td>Mike Thackwell</td><td>Arrows</td><td>0.0</td><td>0</td></tr><tr><td>Corrado Fabi</td><td>Osella</td><td>0.0</td><td>0</td></tr><tr><td>Pete Lovely</td><td>Lotus-Ford</td><td>0.0</td><td>0</td></tr><tr><td>Roberto Lippi</td><td>De Tomaso-Ferrari</td><td>0.0</td><td>0</td></tr><tr><td>Bertrand Gachot</td><td>Pacific</td><td>0.0</td><td>0</td></tr><tr><td>Jim Crawford</td><td>Team Lotus</td><td>0.0</td><td>0</td></tr><tr><td>Guy Tunmer</td><td>Team Lotus</td><td>0.0</td><td>0</td></tr><tr><td>Chris Amon</td><td>Tyrrell</td><td>0.0</td><td>0</td></tr><tr><td>Hideki Noda</td><td>Larrousse</td><td>0.0</td><td>0</td></tr><tr><td>Stefan Johansson</td><td>Spirit</td><td>0.0</td><td>0</td></tr><tr><td>Tommy Byrne</td><td>Theodore</td><td>0.0</td><td>0</td></tr><tr><td>Hans Heyer</td><td>Penske</td><td>0.0</td><td>0</td></tr><tr><td>Loris Kessel</td><td>Apollon</td><td>0.0</td><td>0</td></tr><tr><td>Alessandro Zanardi</td><td>Williams</td><td>0.0</td><td>0</td></tr><tr><td>Gerhard Berger</td><td>ATS</td><td>0.0</td><td>0</td></tr><tr><td>Philippe Streiff</td><td>Renault</td><td>0.0</td><td>0</td></tr><tr><td>Paul Emery</td><td>Emeryson</td><td>0.0</td><td>0</td></tr><tr><td>Willy Mairesse</td><td>Lotus-Climax</td><td>0.0</td><td>0</td></tr><tr><td>Patrick Tambay</td><td>Ligier</td><td>0.0</td><td>0</td></tr><tr><td>Lella Lombardi</td><td>Brabham-Ford</td><td>0.0</td><td>0</td></tr><tr><td>Alex Ribeiro</td><td>Fittipaldi</td><td>0.0</td><td>0</td></tr><tr><td>Tony Trimmer</td><td>McLaren</td><td>0.0</td><td>0</td></tr><tr><td>Nelson Piquet</td><td>Brabham-Ford</td><td>0.0</td><td>0</td></tr><tr><td>Ricardo Zunino</td><td>Brabham-Ford</td><td>0.0</td><td>0</td></tr><tr><td>Archie Scott Brown</td><td>Connaught</td><td>0.0</td><td>0</td></tr><tr><td>Dave Charlton</td><td>McLaren</td><td>0.0</td><td>0</td></tr><tr><td>Brett Lunger</td><td>March</td><td>0.0</td><td>0</td></tr><tr><td>Patrick Depailler</td><td>Alfa Romeo</td><td>0.0</td><td>0</td></tr><tr><td>Jonathan Palmer</td><td>RAM</td><td>0.0</td><td>0</td></tr><tr><td>Stefan Johansson</td><td>Shadow</td><td>0.0</td><td>0</td></tr><tr><td>Brian Henton</td><td>Boro</td><td>0.0</td><td>0</td></tr><tr><td>Roberto Moreno</td><td>Team Lotus</td><td>0.0</td><td>0</td></tr><tr><td>Jan Lammers</td><td>Shadow</td><td>0.0</td><td>0</td></tr><tr><td>Derek Daly</td><td>Hesketh</td><td>0.0</td><td>0</td></tr><tr><td>Rikky von Opel</td><td>Brabham</td><td>0.0</td><td>0</td></tr><tr><td>Marc Surer</td><td>Theodore</td><td>0.0</td><td>0</td></tr><tr><td>Phil Hill</td><td>ATS</td><td>0.0</td><td>0</td></tr><tr><td>Chris Amon</td><td>Lola</td><td>0.0</td><td>0</td></tr><tr><td>Eddie Cheever</td><td>Theodore</td><td>0.0</td><td>0</td></tr><tr><td>Raul Boesel</td><td>Ligier</td><td>0.0</td><td>0</td></tr><tr><td>Eddie Keizan</td><td>Tyrrell</td><td>0.0</td><td>0</td></tr><tr><td>Jan Lammers</td><td>Ensign</td><td>0.0</td><td>0</td></tr><tr><td>Niki Lauda</td><td>Brabham-Ford</td><td>0.0</td><td>0</td></tr><tr><td>Giorgio Francia</td><td>Brabham</td><td>0.0</td><td>0</td></tr><tr><td>Mario Andretti</td><td>Williams</td><td>0.0</td><td>0</td></tr><tr><td>James Hunt</td><td>Wolf</td><td>0.0</td><td>0</td></tr><tr><td>Ron Flockhart</td><td>BRM</td><td>0.0</td><td>0</td></tr><tr><td>Peter Revson</td><td>Tyrrell</td><td>0.0</td><td>0</td></tr><tr><td>Johnny Herbert</td><td>Ligier</td><td>0.0</td><td>0</td></tr><tr><td>Manfred Winkelhock</td><td>Brabham</td><td>0.0</td><td>0</td></tr><tr><td>Jacques Villeneuve Sr.</td><td>Arrows</td><td>0.0</td><td>0</td></tr><tr><td>Pierre-Henri Raphanel</td><td>Larrousse</td><td>0.0</td><td>0</td></tr><tr><td>Jean-Louis Schlesser</td><td>RAM</td><td>0.0</td><td>0</td></tr><tr><td>Andrea de Adamich</td><td>March-Alfa Romeo</td><td>0.0</td><td>0</td></tr><tr><td>Mika Salo</td><td>Team Lotus</td><td>0.0</td><td>0</td></tr><tr><td>Tony Settember</td><td>Emeryson</td><td>0.0</td><td>0</td></tr><tr><td>Arturo Merzario</td><td>Fittipaldi</td><td>0.0</td><td>0</td></tr><tr><td>François Hesnault</td><td>Ligier</td><td>0.0</td><td>0</td></tr><tr><td>Eddie Cheever</td><td>Hesketh</td><td>0.0</td><td>0</td></tr><tr><td>Eliseo Salazar</td><td>Osella</td><td>0.0</td><td>0</td></tr><tr><td>Mauro Baldi</td><td>Spirit</td><td>0.0</td><td>0</td></tr><tr><td>Nelson Piquet</td><td>Ensign</td><td>0.0</td><td>0</td></tr><tr><td>Tony Shelly</td><td>Lotus-BRM</td><td>0.0</td><td>0</td></tr><tr><td>Alex Blignaut</td><td>Cooper-Climax</td><td>0.0</td><td>0</td></tr><tr><td>Emilio de Villota</td><td>Brabham-Ford</td><td>0.0</td><td>0</td></tr><tr><td>Gianfranco Brancatelli</td><td>Kauhsen</td><td>0.0</td><td>0</td></tr><tr><td>Roberto Mieres</td><td>Gordini</td><td>0.0</td><td>0</td></tr><tr><td>Jonathan Palmer</td><td>Zakspeed</td><td>0.0</td><td>0</td></tr><tr><td>Graham McRae</td><td>Iso Marlboro</td><td>0.0</td><td>0</td></tr><tr><td>Nino Vaccarella</td><td>Lotus-Climax</td><td>0.0</td><td>0</td></tr><tr><td>Roger Williamson</td><td>March</td><td>0.0</td><td>0</td></tr><tr><td>Luca Badoer</td><td>Lola</td><td>0.0</td><td>0</td></tr><tr><td>Alex Caffi</td><td>Osella</td><td>0.0</td><td>0</td></tr><tr><td>Maurice Trintignant</td><td>Vanwall</td><td>0.0</td><td>0</td></tr><tr><td>Jack Brabham</td><td>Maserati</td><td>0.0</td><td>0</td></tr><tr><td>Tony Maggs</td><td>Lotus-BRM</td><td>0.0</td><td>0</td></tr><tr><td>Brausch Niemann</td><td>Lotus-Ford</td><td>0.0</td><td>0</td></tr><tr><td>Hans Herrmann</td><td>Cooper-Maserati</td><td>0.0</td><td>0</td></tr><tr><td>Esteban Tuero</td><td>Minardi</td><td>0.0</td><td>0</td></tr><tr><td>John Campbell-Jones</td><td>Emeryson</td><td>0.0</td><td>0</td></tr><tr><td>Allan McNish</td><td>Toyota</td><td>0.0</td><td>0</td></tr><tr><td>Cuth Harrison</td><td>ERA</td><td>0.0</td><td>0</td></tr><tr><td>Les Leston</td><td>Connaught</td><td>0.0</td><td>0</td></tr><tr><td>Manfred Winkelhock</td><td>Arrows</td><td>0.0</td><td>0</td></tr><tr><td>Hans Klenk</td><td>Veritas</td><td>0.0</td><td>0</td></tr><tr><td>Mike Taylor</td><td>Cooper-Climax</td><td>0.0</td><td>0</td></tr><tr><td>Shinji Nakano</td><td>Minardi</td><td>0.0</td><td>0</td></tr><tr><td>Johnny Cecotto</td><td>Toleman</td><td>0.0</td><td>0</td></tr><tr><td>Innes Ireland</td><td>Lotus-BRM</td><td>0.0</td><td>0</td></tr><tr><td>Peter Revson</td><td>Lotus-BRM</td><td>0.0</td><td>0</td></tr><tr><td>Pedro Lamy</td><td>Team Lotus</td><td>0.0</td><td>0</td></tr><tr><td>Roger Laurent</td><td>Ferrari</td><td>0.0</td><td>0</td></tr><tr><td>Bob Evans</td><td>Team Lotus</td><td>0.0</td><td>0</td></tr><tr><td>Geoff Lees</td><td>Tyrrell</td><td>0.0</td><td>0</td></tr><tr><td>Jan Lammers</td><td>March</td><td>0.0</td><td>0</td></tr><tr><td>Felice Bonetto</td><td>Milano</td><td>0.0</td><td>0</td></tr><tr><td>Christian Goethals</td><td>Cooper</td><td>0.0</td><td>0</td></tr><tr><td>Bernard Collomb</td><td>Lotus-Climax</td><td>0.0</td><td>0</td></tr><tr><td>Robert La Caze</td><td>Cooper</td><td>0.0</td><td>0</td></tr><tr><td>Jo Bonnier</td><td>Brabham-BRM</td><td>0.0</td><td>0</td></tr><tr><td>Helmut Niedermayr</td><td>AFM</td><td>0.0</td><td>0</td></tr><tr><td>François Migault</td><td>Connew</td><td>0.0</td><td>0</td></tr><tr><td>Nanni Galli</td><td>Ferrari</td><td>0.0</td><td>0</td></tr><tr><td>Bob Evans</td><td>Brabham-Ford</td><td>0.0</td><td>0</td></tr><tr><td>Roberto Moreno</td><td>Forti</td><td>0.0</td><td>0</td></tr><tr><td>Louis Chiron</td><td>Talbot-Lago</td><td>0.0</td><td>0</td></tr><tr><td>Toranosuke Takagi</td><td>Tyrrell</td><td>0.0</td><td>0</td></tr><tr><td>Ivan Capelli</td><td>AGS</td><td>0.0</td><td>0</td></tr><tr><td>Ian Burgess</td><td>Cooper-Maserati</td><td>0.0</td><td>0</td></tr><tr><td>Aguri Suzuki</td><td>Jordan</td><td>0.0</td><td>0</td></tr><tr><td>Gastón Mazzacane</td><td>Prost</td><td>0.0</td><td>0</td></tr><tr><td>Ivor Bueb</td><td>Team Lotus</td><td>0.0</td><td>0</td></tr><tr><td>Jos Verstappen</td><td>Stewart</td><td>0.0</td><td>0</td></tr><tr><td>Pierre Levegh</td><td>Talbot-Lago</td><td>0.0</td><td>0</td></tr><tr><td>Mike Parkes</td><td>Fry</td><td>0.0</td><td>0</td></tr><tr><td>Tony Marsh</td><td>Cooper</td><td>0.0</td><td>0</td></tr><tr><td>John Love</td><td>Surtees</td><td>0.0</td><td>0</td></tr><tr><td>Hans Herrmann</td><td>Maserati</td><td>0.0</td><td>0</td></tr><tr><td>Allen Berg</td><td>Osella</td><td>0.0</td><td>0</td></tr><tr><td>Keith Greene</td><td>Cooper-Climax</td><td>0.0</td><td>0</td></tr><tr><td>Pedro Diniz</td><td>Forti</td><td>0.0</td><td>0</td></tr><tr><td>Tomáš Enge</td><td>Prost</td><td>0.0</td><td>0</td></tr><tr><td>Johnny Claes</td><td>HWM</td><td>0.0</td><td>0</td></tr><tr><td>Bertil Roos</td><td>Shadow</td><td>0.0</td><td>0</td></tr><tr><td>Andrea Montermini</td><td>Simtek</td><td>0.0</td><td>0</td></tr><tr><td>Andrea Montermini</td><td>Pacific</td><td>0.0</td><td>0</td></tr><tr><td>Franco Comotti</td><td>Maserati</td><td>0.0</td><td>0</td></tr><tr><td>Nick Heidfeld</td><td>Prost</td><td>0.0</td><td>0</td></tr><tr><td>Johnny Herbert</td><td>Jaguar</td><td>0.0</td><td>0</td></tr><tr><td>Chris Amon</td><td>Wolf</td><td>0.0</td><td>0</td></tr><tr><td>André Simon</td><td>Simca</td><td>0.0</td><td>0</td></tr><tr><td>Adolf Brudes</td><td>Veritas</td><td>0.0</td><td>0</td></tr><tr><td>Troy Ruttman</td><td>Maserati</td><td>0.0</td><td>0</td></tr><tr><td>Jean-Denis Délétraz</td><td>Pacific</td><td>0.0</td><td>0</td></tr><tr><td>Ian Ashley</td><td>Williams</td><td>0.0</td><td>0</td></tr><tr><td>Jos Verstappen</td><td>Simtek</td><td>0.0</td><td>0</td></tr><tr><td>Bruce McLaren</td><td>Cooper</td><td>0.0</td><td>0</td></tr><tr><td>Mike Thackwell</td><td>RAM</td><td>0.0</td><td>0</td></tr><tr><td>Keith Greene</td><td>Lotus-Climax</td><td>0.0</td><td>0</td></tr><tr><td>Ian Raby</td><td>Brabham-BRM</td><td>0.0</td><td>0</td></tr><tr><td>Günther Bechem</td><td>BMW</td><td>0.0</td><td>0</td></tr><tr><td>Dave Charlton</td><td>Team Lotus</td><td>0.0</td><td>0</td></tr><tr><td>Dick Gibson</td><td>Cooper</td><td>0.0</td><td>0</td></tr><tr><td>Bill Moss</td><td>Cooper-Climax</td><td>0.0</td><td>0</td></tr><tr><td>Kevin Cogan</td><td>Tyrrell</td><td>0.0</td><td>0</td></tr><tr><td>Heinz-Harald Frentzen</td><td>Prost</td><td>0.0</td><td>0</td></tr><tr><td>Guy Mairesse</td><td>Talbot-Lago</td><td>0.0</td><td>0</td></tr><tr><td>Henri Louveau</td><td>Talbot-Lago</td><td>0.0</td><td>0</td></tr><tr><td>Raymond Sommer</td><td>Talbot-Lago</td><td>0.0</td><td>0</td></tr><tr><td>Larry Perkins</td><td>Brabham-Alfa Romeo</td><td>0.0</td><td>0</td></tr><tr><td>John Taylor</td><td>Cooper-Climax</td><td>0.0</td><td>0</td></tr><tr><td>Fritz d'Orey</td><td>Maserati</td><td>0.0</td><td>0</td></tr><tr><td>Rolf Stommelen</td><td>March</td><td>0.0</td><td>0</td></tr><tr><td>Alberto Uria</td><td>Maserati</td><td>0.0</td><td>0</td></tr><tr><td>Conny Andersson</td><td>Surtees</td><td>0.0</td><td>0</td></tr><tr><td>Wolfgang Seidel</td><td>Cooper</td><td>0.0</td><td>0</td></tr><tr><td>Jean-Marc Gounon</td><td>Minardi</td><td>0.0</td><td>0</td></tr><tr><td>Clemar Bucci</td><td>Maserati</td><td>0.0</td><td>0</td></tr><tr><td>François Hesnault</td><td>Renault</td><td>0.0</td><td>0</td></tr><tr><td>Giovanni Lavaggi</td><td>Pacific</td><td>0.0</td><td>0</td></tr><tr><td>Corrado Fabi</td><td>Brabham</td><td>0.0</td><td>0</td></tr><tr><td>Ian Burgess</td><td>Cooper</td><td>0.0</td><td>0</td></tr><tr><td>Mike Wilds</td><td>Shadow</td><td>0.0</td><td>0</td></tr><tr><td>Huub Rothengatter</td><td>Osella</td><td>0.0</td><td>0</td></tr><tr><td>Luciano Burti</td><td>Prost</td><td>0.0</td><td>0</td></tr><tr><td>Andrea de Cesaris</td><td>Minardi</td><td>0.0</td><td>0</td></tr><tr><td>George Eaton</td><td>BRM</td><td>0.0</td><td>0</td></tr><tr><td>Tom Bridger</td><td>Cooper</td><td>0.0</td><td>0</td></tr><tr><td>Masahiro Hasemi</td><td>Kojima</td><td>0.0</td><td>0</td></tr><tr><td>Huub Rothengatter</td><td>Zakspeed</td><td>0.0</td><td>0</td></tr><tr><td>Ivan Capelli</td><td>Jordan</td><td>0.0</td><td>0</td></tr><tr><td>Danny Ongais</td><td>Penske</td><td>0.0</td><td>0</td></tr><tr><td>Nanni Galli</td><td>Tecno</td><td>0.0</td><td>0</td></tr><tr><td>Patrick Gaillard</td><td>Ensign</td><td>0.0</td><td>0</td></tr><tr><td>Josef Peters</td><td>Veritas</td><td>0.0</td><td>0</td></tr><tr><td>Roland Ratzenberger</td><td>Simtek</td><td>0.0</td><td>0</td></tr><tr><td>Luigi Piotti</td><td>Maserati</td><td>0.0</td><td>0</td></tr><tr><td>John Watson</td><td>Team Lotus</td><td>0.0</td><td>0</td></tr><tr><td>Johnny Claes</td><td>Talbot-Lago</td><td>0.0</td><td>0</td></tr><tr><td>Marco Apicella</td><td>Jordan</td><td>0.0</td><td>0</td></tr><tr><td>Carroll Shelby</td><td>Aston Martin</td><td>0.0</td><td>0</td></tr><tr><td>François Picard</td><td>Cooper</td><td>0.0</td><td>0</td></tr><tr><td>Alan Jones</td><td>Arrows</td><td>0.0</td><td>0</td></tr><tr><td>Lella Lombardi</td><td>Williams</td><td>0.0</td><td>0</td></tr><tr><td>Hans Binder</td><td>Wolf</td><td>0.0</td><td>0</td></tr><tr><td>Jesús Iglesias</td><td>Gordini</td><td>0.0</td><td>0</td></tr><tr><td>Hans Binder</td><td>Ensign</td><td>0.0</td><td>0</td></tr><tr><td>Peter Revson</td><td>Shadow</td><td>0.0</td><td>0</td></tr><tr><td>Henri Pescarolo</td><td>Iso Marlboro</td><td>0.0</td><td>0</td></tr><tr><td>Toshio Suzuki</td><td>Larrousse</td><td>0.0</td><td>0</td></tr><tr><td>Cliff Allison</td><td>Lotus-Climax</td><td>0.0</td><td>0</td></tr><tr><td>David Piper</td><td>Team Lotus</td><td>0.0</td><td>0</td></tr><tr><td>Jo Bonnier</td><td>Maserati</td><td>0.0</td><td>0</td></tr><tr><td>Geoff Lees</td><td>Theodore</td><td>0.0</td><td>0</td></tr><tr><td>Jean-Denis Délétraz</td><td>Larrousse</td><td>0.0</td><td>0</td></tr><tr><td>Clemente Biondetti</td><td>Ferrari</td><td>0.0</td><td>0</td></tr><tr><td>Toni Ulmen</td><td>Veritas</td><td>0.0</td><td>0</td></tr><tr><td>Boy Lunger</td><td>Penske</td><td>0.0</td><td>0</td></tr><tr><td>Eddie Cheever</td><td>Lola</td><td>0.0</td><td>0</td></tr><tr><td>Michel Leclère</td><td>Tyrrell</td><td>0.0</td><td>0</td></tr><tr><td>Ivor Bueb</td><td>Cooper-Borgward</td><td>0.0</td><td>0</td></tr><tr><td>Alex Yoong</td><td>Minardi</td><td>0.0</td><td>0</td></tr><tr><td>Taki Inoue</td><td>Footwork</td><td>0.0</td><td>0</td></tr><tr><td>Elio de Angelis</td><td>Brabham</td><td>0.0</td><td>0</td></tr><tr><td>Pablo Birger</td><td>Gordini</td><td>0.0</td><td>0</td></tr><tr><td>Huub Rothengatter</td><td>Spirit</td><td>0.0</td><td>0</td></tr><tr><td>Tarso Marques</td><td>Minardi</td><td>0.0</td><td>0</td></tr><tr><td>Gastón Mazzacane</td><td>Minardi</td><td>0.0</td><td>0</td></tr><tr><td>Luciano Burti</td><td>Jaguar</td><td>0.0</td><td>0</td></tr><tr><td>Chris Bristow</td><td>Cooper-Borgward</td><td>0.0</td><td>0</td></tr><tr><td>Marcel Balsa</td><td>BMW</td><td>0.0</td><td>0</td></tr><tr><td>André Guelfi</td><td>Cooper</td><td>0.0</td><td>0</td></tr><tr><td>Alan Stacey</td><td>Team Lotus</td><td>0.0</td><td>0</td></tr><tr><td>Rolf Stommelen</td><td>Hesketh</td><td>0.0</td><td>0</td></tr><tr><td>Paul Pietsch</td><td>Veritas</td><td>0.0</td><td>0</td></tr><tr><td>Richard Robarts</td><td>Iso Marlboro</td><td>0.0</td><td>0</td></tr><tr><td>Trevor Taylor</td><td>Cooper-Climax</td><td>0.0</td><td>0</td></tr><tr><td>Jos Verstappen</td><td>Tyrrell</td><td>0.0</td><td>0</td></tr><tr><td>Divina Galica</td><td>Surtees</td><td>0.0</td><td>0</td></tr><tr><td>Jac Nelleman</td><td>Brabham-Ford</td><td>0.0</td><td>0</td></tr><tr><td>Reine Wisell</td><td>BRM</td><td>0.0</td><td>0</td></tr><tr><td>Dennis Taylor</td><td>Team Lotus</td><td>0.0</td><td>0</td></tr><tr><td>Fritz Riess</td><td>Veritas</td><td>0.0</td><td>0</td></tr><tr><td>Mike Beuttler</td><td>March-Ford</td><td>0.0</td><td>0</td></tr><tr><td>Noritake Takahara</td><td>Surtees</td><td>0.0</td><td>0</td></tr><tr><td>Derek Warwick</td><td>Brabham</td><td>0.0</td><td>0</td></tr><tr><td>Peter Ashdown</td><td>Cooper-Climax</td><td>0.0</td><td>0</td></tr><tr><td>Stefan Johansson</td><td>Tyrrell</td><td>0.0</td><td>0</td></tr><tr><td>Jack Fairman</td><td>Cooper</td><td>0.0</td><td>0</td></tr><tr><td>Frank Gardner</td><td>Brabham-Ford</td><td>0.0</td><td>0</td></tr><tr><td>Rudolf Schoeller</td><td>Ferrari</td><td>0.0</td><td>0</td></tr><tr><td>Jarno Trulli</td><td>Minardi</td><td>0.0</td><td>0</td></tr><tr><td>Jacques Villeneuve Sr.</td><td>RAM</td><td>0.0</td><td>0</td></tr><tr><td>Tim Parnell</td><td>Cooper-Climax</td><td>0.0</td><td>0</td></tr><tr><td>Gabriele Tarquini</td><td>Osella</td><td>0.0</td><td>0</td></tr><tr><td>Nigel Mansell</td><td>McLaren</td><td>0.0</td><td>0</td></tr><tr><td>André Simon</td><td>Gordini</td><td>0.0</td><td>0</td></tr><tr><td>Enrique Bernoldi</td><td>Arrows</td><td>0.0</td><td>0</td></tr><tr><td>Gianni Morbidelli</td><td>Sauber</td><td>0.0</td><td>0</td></tr><tr><td>Piero Taruffi</td><td>Vanwall</td><td>0.0</td><td>0</td></tr><tr><td>Roy Salvadori</td><td>Aston Martin</td><td>0.0</td><td>0</td></tr><tr><td>Christian Danner</td><td>Osella</td><td>0.0</td><td>0</td></tr><tr><td>Piercarlo Ghinzani</td><td>Toleman</td><td>0.0</td><td>0</td></tr><tr><td>Brian Naylor</td><td>Cooper</td><td>0.0</td><td>0</td></tr><tr><td>Reine Wisell</td><td>March</td><td>0.0</td><td>0</td></tr><tr><td>Ayrton Senna</td><td>Williams</td><td>0.0</td><td>0</td></tr><tr><td>Mike Thackwell</td><td>Tyrrell</td><td>0.0</td><td>0</td></tr><tr><td>Piero Taruffi</td><td>Alfa Romeo</td><td>0.0</td><td>0</td></tr><tr><td>Aldo Gordini</td><td>Simca</td><td>0.0</td><td>0</td></tr><tr><td>Kevin Cogan</td><td>Williams</td><td>0.0</td><td>0</td></tr><tr><td>Mike Wilds</td><td>BRM</td><td>0.0</td><td>0</td></tr><tr><td>Ukyo Katayama</td><td>Minardi</td><td>0.0</td><td>0</td></tr><tr><td>Emanuele Naspetti</td><td>Jordan</td><td>0.0</td><td>0</td></tr><tr><td>Fernando Alonso</td><td>Minardi</td><td>0.0</td><td>0</td></tr><tr><td>Willi Heeks</td><td>AFM</td><td>0.0</td><td>0</td></tr><tr><td>Howden Ganley</td><td>March</td><td>0.0</td><td>0</td></tr><tr><td>Trevor Taylor</td><td>Lotus-BRM</td><td>0.0</td><td>0</td></tr><tr><td>Giancarlo Baghetti</td><td>BRM</td><td>0.0</td><td>0</td></tr><tr><td>Massimiliano Papis</td><td>Footwork</td><td>0.0</td><td>0</td></tr><tr><td>Kazuyoshi Hoshino</td><td>Tyrrell</td><td>0.0</td><td>0</td></tr><tr><td>David Murray</td><td>Maserati</td><td>0.0</td><td>0</td></tr><tr><td>Henri Pescarolo</td><td>Politoys</td><td>0.0</td><td>0</td></tr><tr><td>Paul Pietsch</td><td>Maserati</td><td>0.0</td><td>0</td></tr><tr><td>Pete Lovely</td><td>Team Lotus</td><td>0.0</td><td>0</td></tr><tr><td>Hubert Hahne</td><td>March</td><td>0.0</td><td>0</td></tr><tr><td>Thomas Monarch</td><td>Lotus-Climax</td><td>0.0</td><td>0</td></tr><tr><td>Justin Wilson</td><td>Minardi</td><td>0.0</td><td>0</td></tr><tr><td>Umberto Maglioli</td><td>Porsche</td><td>0.0</td><td>0</td></tr><tr><td>Gino Munaron</td><td>Cooper-Castellotti</td><td>0.0</td><td>0</td></tr><tr><td>Brian Gubby</td><td>Lotus-Climax</td><td>0.0</td><td>0</td></tr><tr><td>Graham Hill</td><td>Embassy Hill</td><td>0.0</td><td>0</td></tr><tr><td>Jo Schlesser</td><td>Matra</td><td>0.0</td><td>0</td></tr><tr><td>François Migault</td><td>Lola</td><td>0.0</td><td>0</td></tr><tr><td>François Hesnault</td><td>Brabham</td><td>0.0</td><td>0</td></tr><tr><td>Mike Hawthorn</td><td>Vanwall</td><td>0.0</td><td>0</td></tr><tr><td>Hap Sharp</td><td>Lotus-BRM</td><td>0.0</td><td>0</td></tr><tr><td>Luigi Piotti</td><td>OSCA</td><td>0.0</td><td>0</td></tr><tr><td>Walt Hansgen</td><td>Team Lotus</td><td>0.0</td><td>0</td></tr><tr><td>Nanni Galli</td><td>Iso Marlboro</td><td>0.0</td><td>0</td></tr><tr><td>Maurice Trintignant</td><td>Aston Martin</td><td>0.0</td><td>0</td></tr><tr><td>Ted Whiteaway</td><td>HWM</td><td>0.0</td><td>0</td></tr><tr><td>Brian Redman</td><td>De Tomaso</td><td>0.0</td><td>0</td></tr><tr><td>Gus Hutchison</td><td>Brabham</td><td>0.0</td><td>0</td></tr><tr><td>Silvio Moser</td><td>Bellasi</td><td>0.0</td><td>0</td></tr><tr><td>Giulio Cabianca</td><td>OSCA</td><td>0.0</td><td>0</td></tr><tr><td>Bill Brack</td><td>BRM</td><td>0.0</td><td>0</td></tr><tr><td>Maria de Filippis</td><td>Maserati</td><td>0.0</td><td>0</td></tr><tr><td>Bernie Ecclestone</td><td>Connaught</td><td>0.0</td><td>0</td></tr><tr><td>Antônio Pizzonia</td><td>Jaguar</td><td>0.0</td><td>0</td></tr><tr><td>Giancarlo Fisichella</td><td>Minardi</td><td>0.0</td><td>0</td></tr><tr><td>Harry Schell</td><td>Ferrari</td><td>0.0</td><td>0</td></tr><tr><td>Jackie Pretorius</td><td>Iso Marlboro</td><td>0.0</td><td>0</td></tr><tr><td>François Mazet</td><td>March-Ford</td><td>0.0</td><td>0</td></tr><tr><td>Dan Gurney</td><td>BRM</td><td>0.0</td><td>0</td></tr><tr><td>Kurt Ahrens</td><td>Protos</td><td>0.0</td><td>0</td></tr><tr><td>Nanni Galli</td><td>McLaren-Alfa Romeo</td><td>0.0</td><td>0</td></tr><tr><td>Alan Rollinson</td><td>Cooper-Ford</td><td>0.0</td><td>0</td></tr><tr><td>Paul England</td><td>Cooper</td><td>0.0</td><td>0</td></tr><tr><td>Peter Gethin</td><td>McLaren</td><td>0.0</td><td>0</td></tr><tr><td>Ken Kavanagh</td><td>Maserati</td><td>0.0</td><td>0</td></tr><tr><td>Max Jean</td><td>March-Ford</td><td>0.0</td><td>0</td></tr><tr><td>Peter Walker</td><td>Connaught</td><td>0.0</td><td>0</td></tr><tr><td>Jacky Ickx</td><td>Matra</td><td>0.0</td><td>0</td></tr><tr><td>Andrea de Adamich</td><td>McLaren-Alfa Romeo</td><td>0.0</td><td>0</td></tr><tr><td>John Campbell-Jones</td><td>Lola</td><td>0.0</td><td>0</td></tr><tr><td>Louis Chiron</td><td>Lancia</td><td>0.0</td><td>0</td></tr><tr><td>Alex Soler-Roig</td><td>BRM</td><td>0.0</td><td>0</td></tr><tr><td>Geoff Lees</td><td>Williams</td><td>0.0</td><td>0</td></tr><tr><td>Norberto Fontana</td><td>Sauber</td><td>0.0</td><td>0</td></tr><tr><td>Peter Westbury</td><td>BRM</td><td>0.0</td><td>0</td></tr><tr><td>Brian Hart</td><td>Protos</td><td>0.0</td><td>0</td></tr><tr><td>Vincenzo Sospiri</td><td>Lola</td><td>0.0</td><td>0</td></tr><tr><td>Luigi Taramazzo</td><td>Maserati</td><td>0.0</td><td>0</td></tr><tr><td>Masten Gregory</td><td>BRM</td><td>0.0</td><td>0</td></tr><tr><td>Alex Ribeiro</td><td>Hesketh</td><td>0.0</td><td>0</td></tr><tr><td>John Love</td><td>March-Ford</td><td>0.0</td><td>0</td></tr><tr><td>John Rhodes</td><td>Cooper-Climax</td><td>0.0</td><td>0</td></tr><tr><td>Peter Collins</td><td>Maserati</td><td>0.0</td><td>0</td></tr><tr><td>Ronnie Peterson</td><td>March-Alfa Romeo</td><td>0.0</td><td>0</td></tr><tr><td>Brian Redman</td><td>Surtees</td><td>0.0</td><td>0</td></tr><tr><td>Masten Gregory</td><td>Lola</td><td>0.0</td><td>0</td></tr><tr><td>Ricardo Rosset</td><td>Footwork</td><td>0.0</td><td>0</td></tr><tr><td>Jos Verstappen</td><td>Minardi</td><td>0.0</td><td>0</td></tr><tr><td>André Testut</td><td>Maserati</td><td>0.0</td><td>0</td></tr><tr><td>Phil Hill</td><td>Lotus-BRM</td><td>0.0</td><td>0</td></tr><tr><td>Vic Elford</td><td>BRM</td><td>0.0</td><td>0</td></tr><tr><td>Jo Siffert</td><td>March</td><td>0.0</td><td>0</td></tr><tr><td>Larry Perkins</td><td>BRM</td><td>0.0</td><td>0</td></tr><tr><td>Lance Reventlow</td><td>Cooper-Climax</td><td>0.0</td><td>0</td></tr><tr><td>Ian Ashley</td><td>BRM</td><td>0.0</td><td>0</td></tr><tr><td>Warwick Brown</td><td>Wolf</td><td>0.0</td><td>0</td></tr><tr><td>Hubert Hahne</td><td>Lola</td><td>0.0</td><td>0</td></tr><tr><td>Jan Magnussen</td><td>McLaren</td><td>0.0</td><td>0</td></tr><tr><td>André Simon</td><td>Maserati</td><td>0.0</td><td>0</td></tr><tr><td>Jacques Pollet</td><td>Gordini</td><td>0.0</td><td>0</td></tr><tr><td>Paul Emery</td><td>Connaught</td><td>0.0</td><td>0</td></tr><tr><td>Alex Soler-Roig</td><td>March-Ford</td><td>0.0</td><td>0</td></tr><tr><td>Mike Hailwood</td><td>Lotus-Climax</td><td>0.0</td><td>0</td></tr><tr><td>Keith Greene</td><td>Cooper-Maserati</td><td>0.0</td><td>0</td></tr><tr><td>Tony Brise</td><td>Williams</td><td>0.0</td><td>0</td></tr><tr><td>Desiré Wilson</td><td>Williams</td><td>0.0</td><td>0</td></tr><tr><td>François Migault</td><td>Embassy Hill</td><td>0.0</td><td>0</td></tr><tr><td>Masten Gregory</td><td>Cooper-Maserati</td><td>0.0</td><td>0</td></tr><tr><td>Mike Sparken</td><td>Gordini</td><td>0.0</td><td>0</td></tr><tr><td>Frank Dochnal</td><td>Cooper-Climax</td><td>0.0</td><td>0</td></tr><tr><td>Ron Flockhart</td><td>Cooper</td><td>0.0</td><td>0</td></tr><tr><td>Bruce McLaren</td><td>Eagle-Weslake</td><td>0.0</td><td>0</td></tr><tr><td>Ricardo Rosset</td><td>Tyrrell</td><td>0.0</td><td>0</td></tr><tr><td>Alan Rees</td><td>Brabham-Ford</td><td>0.0</td><td>0</td></tr><tr><td>Lance Macklin</td><td>Maserati</td><td>0.0</td><td>0</td></tr><tr><td>Moisés Solana</td><td>BRM</td><td>0.0</td><td>0</td></tr><tr><td>André Simon</td><td>Mercedes</td><td>0.0</td><td>0</td></tr><tr><td>Ricardo Rosset</td><td>Lola</td><td>0.0</td><td>0</td></tr><tr><td>Andrea Montermini</td><td>Forti</td><td>0.0</td><td>0</td></tr><tr><td>Dave Charlton</td><td>Brabham</td><td>0.0</td><td>0</td></tr><tr><td>Luca Badoer</td><td>Forti</td><td>0.0</td><td>0</td></tr><tr><td>Tim Schenken</td><td>De Tomaso</td><td>0.0</td><td>0</td></tr><tr><td>Jackie Pretorius</td><td>Brabham</td><td>0.0</td><td>0</td></tr><tr><td>Nanni Galli</td><td>March-Alfa Romeo</td><td>0.0</td><td>0</td></tr><tr><td>Alex Soler-Roig</td><td>Team Lotus</td><td>0.0</td><td>0</td></tr><tr><td>Ken Wharton</td><td>Vanwall</td><td>0.0</td><td>0</td></tr><tr><td>Tiff Needell</td><td>Ensign</td><td>0.0</td><td>0</td></tr><tr><td>Chuck Daigh</td><td>Cooper-Climax</td><td>0.0</td><td>0</td></tr><tr><td>Bruce Kessler</td><td>Connaught</td><td>0.0</td><td>0</td></tr><tr><td>Tony Rolt</td><td>Connaught</td><td>0.0</td><td>0</td></tr><tr><td>Jo Bonnier</td><td>McLaren-Ford</td><td>0.0</td><td>0</td></tr><tr><td>David Hobbs</td><td>Lola</td><td>0.0</td><td>0</td></tr><tr><td>Giovanni Lavaggi</td><td>Minardi</td><td>0.0</td><td>0</td></tr><tr><td>Pedro Rodríguez</td><td>Lotus-Climax</td><td>0.0</td><td>0</td></tr><tr><td>Toni Branca</td><td>Maserati</td><td>0.0</td><td>0</td></tr><tr><td>Tony Rolt</td><td>ERA</td><td>0.0</td><td>0</td></tr><tr><td>Noritake Takahara</td><td>Kojima</td><td>0.0</td><td>0</td></tr><tr><td>Kazuyoshi Hoshino</td><td>Kojima</td><td>0.0</td><td>0</td></tr><tr><td>Robin Montgomerie-Charrington</td><td>Aston Butterworth</td><td>0.0</td><td>0</td></tr><tr><td>Antonio Creus</td><td>Maserati</td><td>0.0</td><td>0</td></tr><tr><td>Niki Lauda</td><td>March-Ford</td><td>0.0</td><td>0</td></tr><tr><td>Eugène Martin</td><td>Talbot-Lago</td><td>0.0</td><td>0</td></tr><tr><td>André Pilette</td><td>Scirocco</td><td>0.0</td><td>0</td></tr><tr><td>Azdrubal Fontes</td><td>Maserati</td><td>0.0</td><td>0</td></tr><tr><td>Peter de Klerk</td><td>Brabham</td><td>0.0</td><td>0</td></tr><tr><td>Peter Walker</td><td>ERA</td><td>0.0</td><td>0</td></tr><tr><td>Carel Godin de Beaufort</td><td>Maserati</td><td>0.0</td><td>0</td></tr><tr><td>Jack Fairman</td><td>HWM</td><td>0.0</td><td>0</td></tr><tr><td>Brian Redman</td><td>Cooper-Maserati</td><td>0.0</td><td>0</td></tr><tr><td>Geoff Crossley</td><td>Alta</td><td>0.0</td><td>0</td></tr><tr><td>Ben Pon</td><td>Porsche</td><td>0.0</td><td>0</td></tr><tr><td>Jean-Pierre Jarier</td><td>March-Ford</td><td>0.0</td><td>0</td></tr><tr><td>Jimmy Stewart</td><td>Cooper</td><td>0.0</td><td>0</td></tr><tr><td>Ettore Chimeri</td><td>Maserati</td><td>0.0</td><td>0</td></tr><tr><td>Gianfranco Brancatelli</td><td>Merzario</td><td>0.0</td><td>0</td></tr><tr><td>Ian Stewart</td><td>Connaught</td><td>0.0</td><td>0</td></tr><tr><td>Arthur Legat</td><td>Veritas</td><td>0.0</td><td>0</td></tr><tr><td>Colin Davis</td><td>Cooper-Maserati</td><td>0.0</td><td>0</td></tr><tr><td>David Walker</td><td>Lotus-Pratt &amp; Whitney</td><td>0.0</td><td>0</td></tr><tr><td>Lance Reventlow</td><td>Scarab</td><td>0.0</td><td>0</td></tr><tr><td>Tony Crook</td><td>Cooper</td><td>0.0</td><td>0</td></tr><tr><td>Roberto Bonomi</td><td>Cooper-Maserati</td><td>0.0</td><td>0</td></tr><tr><td>Edgar Barth</td><td>Cooper-Climax</td><td>0.0</td><td>0</td></tr><tr><td>Giorgio Bassi</td><td>BRM</td><td>0.0</td><td>0</td></tr><tr><td>Zsolt Baumgartner</td><td>Jordan</td><td>0.0</td><td>0</td></tr><tr><td>George Abecassis</td><td>HWM</td><td>0.0</td><td>0</td></tr><tr><td>Lucien Bianchi</td><td>Lola</td><td>0.0</td><td>0</td></tr><tr><td>Peter Arundell</td><td>Team Lotus</td><td>0.0</td><td>0</td></tr><tr><td>Wolfgang Seidel</td><td>Emeryson</td><td>0.0</td><td>0</td></tr><tr><td>Stephen South</td><td>McLaren</td><td>0.0</td><td>0</td></tr><tr><td>David Prophet</td><td>Brabham</td><td>0.0</td><td>0</td></tr><tr><td>Colin Davis</td><td>Porsche</td><td>0.0</td><td>0</td></tr><tr><td>Duncan Hamilton</td><td>Talbot-Lago</td><td>0.0</td><td>0</td></tr><tr><td>Giacomo Russo</td><td>Lotus-Climax</td><td>0.0</td><td>0</td></tr><tr><td>Roger Laurent</td><td>HWM</td><td>0.0</td><td>0</td></tr><tr><td>Pierluigi Martini</td><td>Toleman</td><td>0.0</td><td>0</td></tr><tr><td>Theo Helfrich</td><td>Klenk</td><td>0.0</td><td>0</td></tr><tr><td>Piers Courage</td><td>De Tomaso</td><td>0.0</td><td>0</td></tr><tr><td>John Campbell-Jones</td><td>Lotus-BRM</td><td>0.0</td><td>0</td></tr><tr><td>Bruce Halford</td><td>Cooper-Climax</td><td>0.0</td><td>0</td></tr><tr><td>Teddy Pilette</td><td>Brabham</td><td>0.0</td><td>0</td></tr><tr><td>Chris Bristow</td><td>Cooper-Climax</td><td>0.0</td><td>0</td></tr><tr><td>Gijs van Lennep</td><td>Surtees</td><td>0.0</td><td>0</td></tr><tr><td>Wolfgang von Trips</td><td>Cooper-Maserati</td><td>0.0</td><td>0</td></tr><tr><td>Bob Gerard</td><td>ERA</td><td>0.0</td><td>0</td></tr><tr><td>Gino Munaron</td><td>Maserati</td><td>0.0</td><td>0</td></tr><tr><td>Alberto Rodriguez Larreta</td><td>Team Lotus</td><td>0.0</td><td>0</td></tr><tr><td>Hernando da Silva Ramos</td><td>Maserati</td><td>0.0</td><td>0</td></tr><tr><td>Reine Wisell</td><td>Lotus-Pratt &amp; Whitney</td><td>0.0</td><td>0</td></tr><tr><td>Jack Fairman</td><td>BRM</td><td>0.0</td><td>0</td></tr><tr><td>David Hampshire</td><td>Maserati</td><td>0.0</td><td>0</td></tr><tr><td>Mário de Araújo Cabral</td><td>Derrington</td><td>0.0</td><td>0</td></tr><tr><td>Johnny Claes</td><td>Gordini</td><td>0.0</td><td>0</td></tr><tr><td>Jackie Lewis</td><td>Cooper</td><td>0.0</td><td>0</td></tr><tr><td>Bob Drake</td><td>Maserati</td><td>0.0</td><td>0</td></tr><tr><td>Peter Hirt</td><td>Veritas</td><td>0.0</td><td>0</td></tr><tr><td>Harry Schell</td><td>Cooper-Climax</td><td>0.0</td><td>0</td></tr><tr><td>Jean Lucas</td><td>Gordini</td><td>0.0</td><td>0</td></tr><tr><td>Chuck Daigh</td><td>Scarab</td><td>0.0</td><td>0</td></tr><tr><td>Ernie de Vos</td><td>Stebro</td><td>0.0</td><td>0</td></tr><tr><td>Roberto Bussinello</td><td>BRM</td><td>0.0</td><td>0</td></tr><tr><td>Giancarlo Baghetti</td><td>Brabham-Climax</td><td>0.0</td><td>0</td></tr><tr><td>Paul Pietsch</td><td>Alfa Romeo</td><td>0.0</td><td>0</td></tr><tr><td>Ivor Bueb</td><td>Maserati</td><td>0.0</td><td>0</td></tr><tr><td>Paul Frère</td><td>Gordini</td><td>0.0</td><td>0</td></tr><tr><td>Stirling Moss</td><td>HWM</td><td>0.0</td><td>0</td></tr><tr><td>Carlo Abate</td><td>Lotus-Climax</td><td>0.0</td><td>0</td></tr><tr><td>Colin Chapman</td><td>Vanwall</td><td>0.0</td><td>0</td></tr><tr><td>Gerhard Mitter</td><td>Lotus-Climax</td><td>0.0</td><td>0</td></tr><tr><td>Leslie Johnson</td><td>ERA</td><td>0.0</td><td>0</td></tr><tr><td>Chris Amon</td><td>Brabham-BRM</td><td>0.0</td><td>0</td></tr><tr><td>Richie Ginther</td><td>Scarab</td><td>0.0</td><td>0</td></tr><tr><td>Brian Naylor</td><td>Cooper-Maserati</td><td>0.0</td><td>0</td></tr><tr><td>Maurice Trintignant</td><td>Lola</td><td>0.0</td><td>0</td></tr><tr><td>Pete Lovely</td><td>Cooper-Castellotti</td><td>0.0</td><td>0</td></tr><tr><td>Tom Pryce</td><td>Token</td><td>0.0</td><td>0</td></tr><tr><td>Sam Tingle</td><td>LDS</td><td>0.0</td><td>0</td></tr><tr><td>Gabriele Tarquini</td><td>Tyrrell</td><td>0.0</td><td>0</td></tr><tr><td>Nino Vaccarella</td><td>Ferrari</td><td>0.0</td><td>0</td></tr><tr><td>Ron Flockhart</td><td>Cooper-Climax</td><td>0.0</td><td>0</td></tr><tr><td>José Froilán González</td><td>Talbot-Lago</td><td>0.0</td><td>0</td></tr><tr><td>Kurt Ahrens</td><td>Brabham-Repco</td><td>0.0</td><td>0</td></tr><tr><td>Dan Gurney</td><td>Lotus-BRM</td><td>0.0</td><td>0</td></tr><tr><td>John Love</td><td>Team Lotus</td><td>0.0</td><td>0</td></tr><tr><td>Jim Hall</td><td>Team Lotus</td><td>0.0</td><td>0</td></tr><tr><td>Bruce McLaren</td><td>McLaren</td><td>0.0</td><td>0</td></tr><tr><td>Brian Shawe Taylor</td><td>Maserati</td><td>0.0</td><td>0</td></tr><tr><td>Joe Fry</td><td>Maserati</td><td>0.0</td><td>0</td></tr><tr><td>Luigi Piotti</td><td>Arzani-Volpini</td><td>0.0</td><td>0</td></tr><tr><td>Emerson Fittipaldi</td><td>Lotus-Pratt &amp; Whitney</td><td>0.0</td><td>0</td></tr><tr><td>Jackie Oliver</td><td>McLaren</td><td>0.0</td><td>0</td></tr><tr><td>Peter Broeker</td><td>Stebro</td><td>0.0</td><td>0</td></tr><tr><td>Gerry Ashmore</td><td>BRM</td><td>0.0</td><td>0</td></tr><tr><td>Hermann Lang</td><td>Mercedes</td><td>0.0</td><td>0</td></tr><tr><td>Kunimitsu Takahashi</td><td>Tyrrell</td><td>0.0</td><td>0</td></tr><tr><td>Jackie Lewis</td><td>BRM</td><td>0.0</td><td>0</td></tr><tr><td>Jackie Pretorius</td><td>Brabham-Climax</td><td>0.0</td><td>0</td></tr><tr><td>Dave Charlton</td><td>Brabham-Repco</td><td>0.0</td><td>0</td></tr><tr><td>Anthony Davidson</td><td>Minardi</td><td>0.0</td><td>0</td></tr><tr><td>Rob Slotemaker</td><td>Porsche</td><td>0.0</td><td>0</td></tr><tr><td>Robert O'Brien</td><td>Simca</td><td>0.0</td><td>0</td></tr><tr><td>Doug Serrurier</td><td>LDS</td><td>0.0</td><td>0</td></tr><tr><td>Basil van Rooyen</td><td>Cooper-Climax</td><td>0.0</td><td>0</td></tr><tr><td>Prince Bira</td><td>Simca</td><td>0.0</td><td>0</td></tr><tr><td>Ottorino Volonterio</td><td>Maserati</td><td>0.0</td><td>0</td></tr><tr><td>Maurice Trintignant</td><td>Bugatti</td><td>0.0</td><td>0</td></tr><tr><td>Nasif Estéfano</td><td>Maserati</td><td>0.0</td><td>0</td></tr><tr><td>Ricardo Zonta</td><td>Jordan</td><td>0.0</td><td>0</td></tr><tr><td>Rodger Ward</td><td>Lotus-BRM</td><td>0.0</td><td>0</td></tr><tr><td>Heinz Schiller</td><td>Porsche</td><td>0.0</td><td>0</td></tr><tr><td>Roy Salvadori</td><td>Cooper-Maserati</td><td>0.0</td><td>0</td></tr><tr><td>Trevor Blokdyk</td><td>Cooper-Maserati</td><td>0.0</td><td>0</td></tr><tr><td>Masten Gregory</td><td>Behra-Porsche</td><td>0.0</td><td>0</td></tr><tr><td>Max de Terra</td><td>Simca</td><td>0.0</td><td>0</td></tr><tr><td>Giorgio Scarlatti</td><td>Cooper-Castellotti</td><td>0.0</td><td>0</td></tr><tr><td>Nicolas Kiesa</td><td>Minardi</td><td>0.0</td><td>0</td></tr><tr><td>Joe Kelly</td><td>Alta</td><td>0.0</td><td>0</td></tr><tr><td>Phil Hill</td><td>Eagle-Climax</td><td>0.0</td><td>0</td></tr><tr><td>Jacques Swaters</td><td>Talbot-Lago</td><td>0.0</td><td>0</td></tr><tr><td>Mika Salo</td><td>BAR</td><td>0.0</td><td>0</td></tr><tr><td>Andrea de Adamich</td><td>Ferrari</td><td>0.0</td><td>0</td></tr><tr><td>Paddy Driver</td><td>Lotus-BRM</td><td>0.0</td><td>0</td></tr><tr><td>John Campbell-Jones</td><td>Lotus-Climax</td><td>0.0</td><td>0</td></tr><tr><td>Peter Arundell</td><td>Lotus-BRM</td><td>0.0</td><td>0</td></tr><tr><td>Les Leston</td><td>BRM</td><td>0.0</td><td>0</td></tr><tr><td>John Fitch</td><td>Maserati</td><td>0.0</td><td>0</td></tr><tr><td>Giacomo Russo</td><td>Brabham-BRM</td><td>0.0</td><td>0</td></tr><tr><td>John Love</td><td>Brabham-Repco</td><td>0.0</td><td>0</td></tr><tr><td>Jan Flinterman</td><td>Maserati</td><td>0.0</td><td>0</td></tr><tr><td>Pedro Rodríguez</td><td>Lotus-BRM</td><td>0.0</td><td>0</td></tr><tr><td>Bob Bondurant</td><td>Ferrari</td><td>0.0</td><td>0</td></tr><tr><td>Hans Herrmann</td><td>BRM</td><td>0.0</td><td>0</td></tr><tr><td>Georges Berger</td><td>Simca</td><td>0.0</td><td>0</td></tr><tr><td>Chris Irwin</td><td>Brabham-Climax</td><td>0.0</td><td>0</td></tr><tr><td>Alain de Changy</td><td>Cooper-Climax</td><td>0.0</td><td>0</td></tr><tr><td>David Hobbs</td><td>BRM</td><td>0.0</td><td>0</td></tr><tr><td>Carlos Menditeguy</td><td>Gordini</td><td>0.0</td><td>0</td></tr><tr><td>André Milhoux</td><td>Gordini</td><td>0.0</td><td>0</td></tr><tr><td>Trevor Taylor</td><td>Shannon</td><td>0.0</td><td>0</td></tr><tr><td>Moisés Solana</td><td>Lotus-Ford</td><td>0.0</td><td>0</td></tr><tr><td>Hap Sharp</td><td>Cooper-Climax</td><td>0.0</td><td>0</td></tr><tr><td>Phil Hill</td><td>Maserati</td><td>0.0</td><td>0</td></tr><tr><td>Jorge Daponte</td><td>Maserati</td><td>0.0</td><td>0</td></tr><tr><td>Lucien Bianchi</td><td>BRM</td><td>0.0</td><td>0</td></tr><tr><td>Peter de Klerk</td><td>Brabham-Repco</td><td>0.0</td><td>0</td></tr><tr><td>Jo Bonnier</td><td>Lotus-Ford</td><td>0.0</td><td>0</td></tr><tr><td>Al Pease</td><td>Eagle-Climax</td><td>0.0</td><td>0</td></tr><tr><td>John Barber</td><td>Cooper</td><td>0.0</td><td>0</td></tr><tr><td>Paul Frère</td><td>Simca</td><td>0.0</td><td>0</td></tr><tr><td>André Pilette</td><td>Talbot-Lago</td><td>0.0</td><td>0</td></tr><tr><td>George Constantine</td><td>Cooper-Borgward</td><td>0.0</td><td>0</td></tr><tr><td>Alessandro de Tomaso</td><td>Ferrari</td><td>0.0</td><td>0</td></tr><tr><td>Bruce Johnstone</td><td>BRM</td><td>0.0</td><td>0</td></tr><tr><td>Mike Taylor</td><td>Team Lotus</td><td>0.0</td><td>0</td></tr><tr><td>Bob Bondurant</td><td>Lotus-BRM</td><td>0.0</td><td>0</td></tr><tr><td>Bob Bondurant</td><td>Eagle-Weslake</td><td>0.0</td><td>0</td></tr><tr><td>Vic Wilson</td><td>BRM</td><td>0.0</td><td>0</td></tr><tr><td>Peter Walker</td><td>Maserati</td><td>0.0</td><td>0</td></tr><tr><td>Carel Godin de Beaufort</td><td>Cooper-Climax</td><td>0.0</td><td>0</td></tr><tr><td>Alessandro de Tomaso</td><td>Cooper-OSCA</td><td>0.0</td><td>0</td></tr><tr><td>Charles Pozzi</td><td>Talbot-Lago</td><td>0.0</td><td>0</td></tr><tr><td>Cliff Allison</td><td>Maserati</td><td>0.0</td><td>0</td></tr><tr><td>Philippe Étancelin</td><td>Maserati</td><td>0.0</td><td>0</td></tr><tr><td>Arthur Owen</td><td>Cooper-Climax</td><td>0.0</td><td>0</td></tr><tr><td>Johnny Servoz-Gavin</td><td>Matra</td><td>0.0</td><td>0</td></tr><tr><td>André Pilette</td><td>Connaught</td><td>0.0</td><td>0</td></tr><tr><td>David Hobbs</td><td>Honda</td><td>0.0</td><td>0</td></tr><tr><td>Fritz d'Orey</td><td>Tec-Mec</td><td>0.0</td><td>0</td></tr><tr><td>Moisés Solana</td><td>Cooper-Maserati</td><td>0.0</td><td>0</td></tr><tr><td>Pablo Birger</td><td>Simca</td><td>0.0</td><td>0</td></tr><tr><td>John James</td><td>Maserati</td><td>0.0</td><td>0</td></tr><tr><td>Moisés Solana</td><td>Lotus-BRM</td><td>0.0</td><td>0</td></tr><tr><td>Reg Parnell</td><td>Maserati</td><td>0.0</td><td>0</td></tr><tr><td>Juan Jover</td><td>Maserati</td><td>0.0</td><td>0</td></tr><tr><td>Vic Wilson</td><td>Cooper-Climax</td><td>0.0</td><td>0</td></tr><tr><td>Phil Cade</td><td>Maserati</td><td>0.0</td><td>0</td></tr><tr><td>John Love</td><td>Lotus-Ford</td><td>0.0</td><td>0</td></tr><tr><td>Óscar González</td><td>Maserati</td><td>0.0</td><td>0</td></tr><tr><td>Nello Pagani</td><td>Maserati</td><td>0.0</td><td>0</td></tr><tr><td>Fred Gamble</td><td>Behra-Porsche</td><td>0.0</td><td>0</td></tr><tr><td>Bruce Halford</td><td>Team Lotus</td><td>0.0</td><td>0</td></tr><tr><td>Sam Tingle</td><td>Lotus-Climax</td><td>0.0</td><td>0</td></tr><tr><td>Chris Irwin</td><td>Lotus-BRM</td><td>0.0</td><td>0</td></tr><tr><td>Herbert MacKay-Fraser</td><td>BRM</td><td>0.0</td><td>0</td></tr><tr><td>Giulio Cabianca</td><td>Maserati</td><td>0.0</td><td>0</td></tr><tr><td>Brian Shawe Taylor</td><td>ERA</td><td>0.0</td><td>0</td></tr><tr><td>Lucien Bianchi</td><td>Emeryson</td><td>0.0</td><td>0</td></tr><tr><td>Derek Bell</td><td>Brabham</td><td>0.0</td><td>0</td></tr><tr><td>Mario Andretti</td><td>Lotus-Ford</td><td>0.0</td><td>0</td></tr><tr><td>Harry Schell</td><td>Cooper</td><td>0.0</td><td>0</td></tr><tr><td>Bob Bondurant</td><td>Eagle-Climax</td><td>0.0</td><td>0</td></tr><tr><td>John Cordts</td><td>Brabham-Climax</td><td>0.0</td><td>0</td></tr><tr><td>Harry Blanchard</td><td>Porsche</td><td>0.0</td><td>0</td></tr><tr><td>Carroll Shelby</td><td>Maserati</td><td>0.0</td><td>0</td></tr><tr><td>Dan Gurney</td><td>Brabham-Repco</td><td>0.0</td><td>0</td></tr><tr><td>Mike Fisher</td><td>Lotus-BRM</td><td>0.0</td><td>0</td></tr><tr><td>Dries van der Lof</td><td>HWM</td><td>0.0</td><td>0</td></tr><tr><td>Richie Ginther</td><td>Eagle-Climax</td><td>0.0</td><td>0</td></tr><tr><td>Mike MacDowel</td><td>Cooper</td><td>0.0</td><td>0</td></tr><tr><td>Moisés Solana</td><td>Lotus-Climax</td><td>0.0</td><td>0</td></tr><tr><td>Alan Rees</td><td>Cooper-Maserati</td><td>0.0</td><td>0</td></tr><tr><td>Piero Drogo</td><td>Cooper-Climax</td><td>0.0</td><td>0</td></tr><tr><td>Albert Scherrer</td><td>HWM</td><td>0.0</td><td>0</td></tr><tr><td>Georges Grignard</td><td>Talbot-Lago</td><td>0.0</td><td>0</td></tr><tr><td>Bernard Collomb</td><td>Lotus-BRM</td><td>0.0</td><td>0</td></tr><tr><td>Jim Hall</td><td>Lotus-Climax</td><td>0.0</td><td>0</td></tr><tr><td>Jochen Rindt</td><td>Brabham-BRM</td><td>0.0</td><td>0</td></tr><tr><td>Jean Lucienbonnet</td><td>Cooper-Climax</td><td>0.0</td><td>0</td></tr><tr><td>Alfonso Thiele</td><td>Cooper-Maserati</td><td>0.0</td><td>0</td></tr><tr><td>Innes Ireland</td><td>BRM</td><td>0.0</td><td>0</td></tr><tr><td>Jo Schlesser</td><td>Honda</td><td>0.0</td><td>0</td></tr><tr><td>Johnny Claes</td><td>Maserati</td><td>0.0</td><td>0</td></tr><tr><td>Jean-Pierre Beltoise</td><td>McLaren-Ford</td><td>0.0</td><td>0</td></tr><tr><td>Timmy Mayer</td><td>Cooper-Climax</td><td>0.0</td><td>0</td></tr><tr><td>Tom Jones</td><td>Cooper-Climax</td><td>0.0</td><td>0</td></tr><tr><td>Bob Said</td><td>Connaught</td><td>0.0</td><td>0</td></tr><tr><td>Dave Charlton</td><td>Brabham-Climax</td><td>0.0</td><td>0</td></tr><tr><td>Derek Bell</td><td>McLaren-Ford</td><td>0.0</td><td>0</td></tr><tr><td>Adolfo Cruz</td><td>Cooper</td><td>0.0</td><td>0</td></tr><tr><td>Chris Lawrence</td><td>Cooper-Ferrari</td><td>0.0</td><td>0</td></tr><tr><td>Alfredo Pián</td><td>Maserati</td><td>0.0</td><td>0</td></tr><tr><td>Fred Wacker</td><td>Gordini</td><td>0.0</td><td>0</td></tr><tr><td>Ken Miles</td><td>Lotus-Climax</td><td>0.0</td><td>0</td></tr><tr><td>Gary Hocking</td><td>Lotus-Climax</td><td>0.0</td><td>0</td></tr><tr><td>Ian Raby</td><td>Brabham-Climax</td><td>0.0</td><td>0</td></tr><tr><td>Peter Ryan</td><td>Lotus-Climax</td><td>0.0</td><td>0</td></tr><tr><td>Chris Amon</td><td>Cooper-Maserati</td><td>0.0</td><td>0</td></tr><tr><td>Giorgio Scarlatti</td><td>Cooper-Climax</td><td>0.0</td><td>0</td></tr><tr><td>Eppie Wietzes</td><td>Lotus-Ford</td><td>0.0</td><td>0</td></tr><tr><td>Maurice Trintignant</td><td>Maserati</td><td>0.0</td><td>0</td></tr><tr><td>Chris Amon</td><td>Lotus-Climax</td><td>0.0</td><td>0</td></tr><tr><td>Ken Richardson</td><td>BRM</td><td>0.0</td><td>0</td></tr><tr><td>Les Leston</td><td>Cooper</td><td>0.0</td><td>0</td></tr><tr><td>Mike Harris</td><td>Cooper-Alfa Romeo</td><td>0.0</td><td>0</td></tr><tr><td>Roy Salvadori</td><td>BRM</td><td>0.0</td><td>0</td></tr><tr><td>Lloyd Ruby</td><td>Lotus-Climax</td><td>0.0</td><td>0</td></tr><tr><td>Guy Ligier</td><td>Cooper-Maserati</td><td>0.0</td><td>0</td></tr><tr><td>Jo Siffert</td><td>Brabham-Climax</td><td>0.0</td><td>0</td></tr><tr><td>Giovanni de Riu</td><td>Maserati</td><td>0.0</td><td>0</td></tr><tr><td>John Miles</td><td>Lotus-Ford</td><td>0.0</td><td>0</td></tr><tr><td>Derek Bell</td><td>Ferrari</td><td>0.0</td><td>0</td></tr><tr><td>Mário de Araújo Cabral</td><td>Cooper-Maserati</td><td>0.0</td><td>0</td></tr><tr><td>Sam Tingle</td><td>Brabham-Repco</td><td>0.0</td><td>0</td></tr><tr><td>Peter Whitehead</td><td>Alta</td><td>0.0</td><td>0</td></tr><tr><td>Wolfgang Seidel</td><td>Cooper-Climax</td><td>0.0</td><td>0</td></tr><tr><td>Richard Attwood</td><td>Cooper-Maserati</td><td>0.0</td><td>0</td></tr><tr><td>Hap Sharp</td><td>Brabham-BRM</td><td>0.0</td><td>0</td></tr><tr><td>Vic Elford</td><td>Cooper-Maserati</td><td>0.0</td><td>0</td></tr><tr><td>Bill Brack</td><td>Lotus-Ford</td><td>0.0</td><td>0</td></tr><tr><td>Silvio Moser</td><td>Cooper-ATS</td><td>0.0</td><td>0</td></tr><tr><td>Johnny Servoz-Gavin</td><td>Cooper-BRM</td><td>0.0</td><td>0</td></tr><tr><td>Syd van der Vyver</td><td>Lotus-Climax</td><td>0.0</td><td>0</td></tr><tr><td>Jonathan Williams</td><td>Ferrari</td><td>0.0</td><td>0</td></tr><tr><td>Bobby Unser</td><td>BRM</td><td>0.0</td><td>0</td></tr><tr><td>Roger Penske</td><td>Cooper-Climax</td><td>0.0</td><td>0</td></tr><tr><td>Jack Fairman</td><td>Cooper-Maserati</td><td>0.0</td><td>0</td></tr><tr><td>Peter Revson</td><td>Lotus-Climax</td><td>0.0</td><td>0</td></tr><tr><td>Giorgio Scarlatti</td><td>Ferrari</td><td>0.0</td><td>0</td></tr><tr><td>Olivier Gendebien</td><td>Lotus-Climax</td><td>0.0</td><td>0</td></tr><tr><td>Frank Gardner</td><td>BRM</td><td>0.0</td><td>0</td></tr><tr><td>Max de Terra</td><td>Ferrari</td><td>0.0</td><td>0</td></tr><tr><td>Maria de Filippis</td><td>Porsche</td><td>0.0</td><td>0</td></tr><tr><td>Piers Courage</td><td>Lotus-BRM</td><td>0.0</td><td>0</td></tr><tr><td>Ivor Bueb</td><td>Connaught</td><td>0.0</td><td>0</td></tr><tr><td>Harry Schell</td><td>Talbot-Lago</td><td>0.0</td><td>0</td></tr><tr><td>Franco Rol</td><td>OSCA</td><td>0.0</td><td>0</td></tr><tr><td>Johnny Claes</td><td>Ferrari</td><td>0.0</td><td>0</td></tr><tr><td>Franco Comotti</td><td>Ferrari</td><td>0.0</td><td>0</td></tr><tr><td>Stéphane Sarrazin</td><td>Minardi</td><td>0.0</td><td>0</td></tr><tr><td>Peter Walker</td><td>BRM</td><td>0.0</td><td>0</td></tr><tr><td>Basil van Rooyen</td><td>McLaren-Ford</td><td>0.0</td><td>0</td></tr><tr><td>André Pilette</td><td>Ferrari</td><td>0.0</td><td>0</td></tr><tr><td>Georges Berger</td><td>Gordini</td><td>0.0</td><td>0</td></tr><tr><td>Walt Hansgen</td><td>Cooper-Climax</td><td>0.0</td><td>0</td></tr><tr><td>Rob Schroeder</td><td>Lotus-Climax</td><td>0.0</td><td>0</td></tr><tr><td>Luki Botha</td><td>Brabham-Climax</td><td>0.0</td><td>0</td></tr><tr><td>Ivor Bueb</td><td>Cooper-Climax</td><td>0.0</td><td>0</td></tr><tr><td>Ludovico Scarfiotti</td><td>Eagle-Weslake</td><td>0.0</td><td>0</td></tr><tr><td>Robin Widdows</td><td>Cooper-BRM</td><td>0.0</td><td>0</td></tr><tr><td>Giancarlo Baghetti</td><td>Lotus-Ford</td><td>0.0</td><td>0</td></tr><tr><td>Roger Loyer</td><td>Gordini</td><td>0.0</td><td>0</td></tr><tr><td>Jackie Oliver</td><td>BRM-Ford</td><td>0.0</td><td>0</td></tr><tr><td>Cesare Perdisa</td><td>Ferrari</td><td>0.0</td><td>0</td></tr><tr><td>Chico Landi</td><td>Ferrari</td><td>0.0</td><td>0</td></tr><tr><td>Philip Fotheringham-Parker</td><td>Maserati</td><td>0.0</td><td>0</td></tr><tr><td>Wolfgang Seidel</td><td>Maserati</td><td>0.0</td><td>0</td></tr><tr><td>Piero Scotti</td><td>Connaught</td><td>0.0</td><td>0</td></tr><tr><td>Wolfgang von Trips</td><td>Porsche</td><td>0.0</td><td>0</td></tr><tr><td>Paul Hawkins</td><td>Lotus-Climax</td><td>0.0</td><td>0</td></tr><tr><td>Roy Salvadori</td><td>Vanwall</td><td>0.0</td><td>0</td></tr><tr><td>Giorgio Scarlatti</td><td>Cooper-Maserati</td><td>0.0</td><td>0</td></tr><tr><td>Sam Tingle</td><td>LDS-Climax</td><td>0.0</td><td>0</td></tr><tr><td>Roger Penske</td><td>Lotus-Climax</td><td>0.0</td><td>0</td></tr><tr><td>Luiz Bueno</td><td>Surtees</td><td>0.0</td><td>0</td></tr></tbody></table></div>"
      ]
     },
     "metadata": {
      "application/vnd.databricks.v1+output": {
       "addedWidgets": {},
       "aggData": [],
       "aggError": "",
       "aggOverflow": false,
       "aggSchema": [],
       "aggSeriesLimitReached": false,
       "aggType": "",
       "arguments": {},
       "columnCustomDisplayInfos": {},
       "data": [
        [
         "Lewis Hamilton",
         "Mercedes",
         2865.0,
         74
        ],
        [
         "Sebastian Vettel",
         "Red Bull",
         1577.0,
         38
        ],
        [
         "Nico Rosberg",
         "Mercedes",
         1519.0,
         23
        ],
        [
         "Sebastian Vettel",
         "Ferrari",
         1400.0,
         14
        ],
        [
         "Fernando Alonso",
         "Ferrari",
         1190.0,
         11
        ],
        [
         "Valtteri Bottas",
         "Mercedes",
         1101.0,
         9
        ],
        [
         "Max Verstappen",
         "Red Bull",
         1100.0,
         10
        ],
        [
         "Kimi Räikkönen",
         "Ferrari",
         1080.0,
         10
        ],
        [
         "Michael Schumacher",
         "Ferrari",
         1066.0,
         72
        ],
        [
         "Mark Webber",
         "Red Bull",
         978.5,
         9
        ],
        [
         "Daniel Ricciardo",
         "Red Bull",
         956.0,
         7
        ],
        [
         "Lewis Hamilton",
         "McLaren",
         913.0,
         21
        ],
        [
         "Jenson Button",
         "McLaren",
         908.0,
         8
        ],
        [
         "Felipe Massa",
         "Ferrari",
         789.0,
         11
        ],
        [
         "Fernando Alonso",
         "Renault",
         468.0,
         17
        ],
        [
         "Alain Prost",
         "McLaren",
         458.5,
         30
        ],
        [
         "Ayrton Senna",
         "McLaren",
         451.0,
         35
        ],
        [
         "David Coulthard",
         "McLaren",
         412.0,
         12
        ],
        [
         "Rubens Barrichello",
         "Ferrari",
         412.0,
         9
        ],
        [
         "Valtteri Bottas",
         "Williams",
         411.0,
         0
        ],
        [
         "Mika Häkkinen",
         "McLaren",
         407.0,
         20
        ],
        [
         "Sergio Pérez",
         "Force India",
         400.0,
         0
        ],
        [
         "Kimi Räikkönen",
         "Lotus F1",
         390.0,
         2
        ],
        [
         "Nigel Mansell",
         "Williams",
         369.0,
         28
        ],
        [
         "Charles Leclerc",
         "Ferrari",
         362.0,
         2
        ],
        [
         "Felipe Massa",
         "Williams",
         351.0,
         0
        ],
        [
         "Kimi Räikkönen",
         "McLaren",
         337.0,
         9
        ],
        [
         "Damon Hill",
         "Williams",
         326.0,
         21
        ],
        [
         "Michael Schumacher",
         "Benetton",
         303.0,
         19
        ],
        [
         "Nico Hülkenberg",
         "Force India",
         289.0,
         0
        ],
        [
         "Romain Grosjean",
         "Lotus F1",
         287.0,
         0
        ],
        [
         "Niki Lauda",
         "Ferrari",
         242.5,
         15
        ],
        [
         "Fernando Alonso",
         "McLaren",
         241.0,
         4
        ],
        [
         "Nelson Piquet",
         "Brabham",
         233.0,
         13
        ],
        [
         "Ralf Schumacher",
         "Williams",
         232.0,
         6
        ],
        [
         "Juan Pablo Montoya",
         "Williams",
         221.0,
         4
        ],
        [
         "Jim Clark",
         "Lotus-Climax",
         207.0,
         19
        ],
        [
         "Jacques Laffite",
         "Ligier",
         206.0,
         6
        ],
        [
         "Carlos Sainz",
         "McLaren",
         201.0,
         0
        ],
        [
         "Michael Schumacher",
         "Mercedes",
         197.0,
         0
        ],
        [
         "Graham Hill",
         "BRM",
         193.0,
         10
        ],
        [
         "Gerhard Berger",
         "Ferrari",
         182.0,
         5
        ],
        [
         "Alexander Albon",
         "Red Bull",
         181.0,
         0
        ],
        [
         "Jacques Villeneuve",
         "Williams",
         180.0,
         11
        ],
        [
         "Riccardo Patrese",
         "Williams",
         180.0,
         4
        ],
        [
         "Jackie Stewart",
         "Tyrrell",
         178.0,
         15
        ],
        [
         "Sergio Pérez",
         "Racing Point",
         177.0,
         1
        ],
        [
         "Daniel Ricciardo",
         "Renault",
         173.0,
         0
        ],
        [
         "Alan Jones",
         "Williams",
         171.0,
         11
        ],
        [
         "Clay Regazzoni",
         "Ferrari",
         169.0,
         4
        ],
        [
         "Nick Heidfeld",
         "BMW Sauber",
         163.0,
         0
        ],
        [
         "Eddie Irvine",
         "Ferrari",
         156.0,
         4
        ],
        [
         "Giancarlo Fisichella",
         "Renault",
         151.0,
         2
        ],
        [
         "Ayrton Senna",
         "Team Lotus",
         150.0,
         6
        ],
        [
         "Nico Hülkenberg",
         "Renault",
         149.0,
         0
        ],
        [
         "Mario Andretti",
         "Team Lotus",
         147.0,
         11
        ],
        [
         "Lando Norris",
         "McLaren",
         146.0,
         0
        ],
        [
         "Nelson Piquet",
         "Williams",
         145.0,
         7
        ],
        [
         "Ronnie Peterson",
         "Team Lotus",
         144.0,
         9
        ],
        [
         "Alberto Ascari",
         "Ferrari",
         139.0,
         13
        ],
        [
         "Jenson Button",
         "BAR",
         139.0,
         0
        ],
        [
         "Michele Alboreto",
         "Ferrari",
         138.5,
         3
        ],
        [
         "Robert Kubica",
         "BMW Sauber",
         137.0,
         1
        ],
        [
         "Bruce McLaren",
         "Cooper-Climax",
         136.5,
         3
        ],
        [
         "Esteban Ocon",
         "Force India",
         136.0,
         0
        ],
        [
         "Robert Kubica",
         "Renault",
         136.0,
         0
        ],
        [
         "Gerhard Berger",
         "McLaren",
         135.0,
         3
        ],
        [
         "Alain Prost",
         "Renault",
         134.0,
         9
        ],
        [
         "Keke Rosberg",
         "Williams",
         131.5,
         5
        ],
        [
         "Jarno Trulli",
         "Toyota",
         129.5,
         0
        ],
        [
         "Emerson Fittipaldi",
         "Team Lotus",
         128.0,
         9
        ],
        [
         "Niki Lauda",
         "McLaren",
         128.0,
         8
        ],
        [
         "Adrian Sutil",
         "Force India",
         123.0,
         0
        ],
        [
         "Kamui Kobayashi",
         "Sauber",
         122.0,
         0
        ],
        [
         "Jacky Ickx",
         "Ferrari",
         121.0,
         6
        ],
        [
         "Jean Alesi",
         "Ferrari",
         121.0,
         1
        ],
        [
         "Paul di Resta",
         "Force India",
         121.0,
         0
        ],
        [
         "Elio de Angelis",
         "Team Lotus",
         119.0,
         2
        ],
        [
         "Patrick Depailler",
         "Tyrrell",
         119.0,
         1
        ],
        [
         "James Hunt",
         "McLaren",
         117.0,
         9
        ],
        [
         "Daniil Kvyat",
         "Red Bull",
         116.0,
         0
        ],
        [
         "Jody Scheckter",
         "Tyrrell",
         114.0,
         4
        ],
        [
         "Mike Hawthorn",
         "Ferrari",
         113.64,
         3
        ],
        [
         "Carlos Sainz",
         "Toro Rosso",
         112.0,
         0
        ],
        [
         "John Watson",
         "McLaren",
         109.0,
         4
        ],
        [
         "Gilles Villeneuve",
         "Ferrari",
         107.0,
         6
        ],
        [
         "Alain Prost",
         "Ferrari",
         107.0,
         5
        ],
        [
         "Carlos Reutemann",
         "Williams",
         104.0,
         3
        ],
        [
         "Romain Grosjean",
         "Haas F1 Team",
         104.0,
         0
        ],
        [
         "Emerson Fittipaldi",
         "McLaren",
         100.0,
         5
        ],
        [
         "Juan Fangio",
         "Maserati",
         99.5,
         7
        ],
        [
         "Jackie Stewart",
         "Matra-Ford",
         99.0,
         9
        ],
        [
         "Alain Prost",
         "Williams",
         99.0,
         7
        ],
        [
         "Phil Hill",
         "Ferrari",
         96.0,
         3
        ],
        [
         "Kevin Magnussen",
         "Haas F1 Team",
         96.0,
         0
        ],
        [
         "Lance Stroll",
         "Racing Point",
         96.0,
         0
        ],
        [
         "Jenson Button",
         "Brawn",
         95.0,
         6
        ],
        [
         "Jack Brabham",
         "Brabham-Repco",
         95.0,
         6
        ],
        [
         "Denny Hulme",
         "McLaren",
         94.0,
         3
        ],
        [
         "Carlos Reutemann",
         "Ferrari",
         90.0,
         5
        ],
        [
         "Carlos Reutemann",
         "Brabham",
         88.0,
         4
        ],
        [
         "John Surtees",
         "Ferrari",
         88.0,
         4
        ],
        [
         "Jarno Trulli",
         "Renault",
         88.0,
         1
        ],
        [
         "François Cevert",
         "Tyrrell",
         88.0,
         1
        ],
        [
         "Juan Pablo Montoya",
         "McLaren",
         86.0,
         3
        ],
        [
         "René Arnoux",
         "Renault",
         85.0,
         4
        ],
        [
         "Jean Alesi",
         "Benetton",
         83.0,
         0
        ],
        [
         "Juan Fangio",
         "Mercedes",
         81.14,
         8
        ],
        [
         "Jack Brabham",
         "Cooper-Climax",
         81.0,
         7
        ],
        [
         "Sergio Pérez",
         "Sauber",
         80.0,
         0
        ],
        [
         "Jody Scheckter",
         "Wolf",
         79.0,
         3
        ],
        [
         "René Arnoux",
         "Ferrari",
         79.0,
         3
        ],
        [
         "Denny Hulme",
         "McLaren-Ford",
         78.0,
         3
        ],
        [
         "Rubens Barrichello",
         "Brawn",
         77.0,
         2
        ],
        [
         "Graham Hill",
         "Lotus-Ford",
         76.0,
         4
        ],
        [
         "Nico Rosberg",
         "Williams",
         75.5,
         0
        ],
        [
         "Nino Farina",
         "Ferrari",
         75.33,
         1
        ],
        [
         "Nigel Mansell",
         "Ferrari",
         75.0,
         3
        ],
        [
         "Heikki Kovalainen",
         "McLaren",
         75.0,
         1
        ],
        [
         "Pierre Gasly",
         "AlphaTauri",
         75.0,
         1
        ],
        [
         "Thierry Boutsen",
         "Williams",
         71.0,
         3
        ],
        [
         "Heinz-Harald Frentzen",
         "Jordan",
         71.0,
         2
        ],
        [
         "Nelson Piquet",
         "Benetton",
         70.5,
         3
        ],
        [
         "Ralf Schumacher",
         "Toyota",
         70.0,
         0
        ],
        [
         "Denny Hulme",
         "Brabham-Repco",
         69.0,
         2
        ],
        [
         "Richie Ginther",
         "BRM",
         67.0,
         0
        ],
        [
         "Patrick Tambay",
         "Ferrari",
         65.0,
         2
        ],
        [
         "Gerhard Berger",
         "Benetton",
         65.0,
         2
        ],
        [
         "Jenson Button",
         "Honda",
         65.0,
         1
        ],
        [
         "Alessandro Nannini",
         "Benetton",
         65.0,
         1
        ],
        [
         "Juan Fangio",
         "Alfa Romeo",
         64.0,
         6
        ],
        [
         "Jochen Mass",
         "McLaren",
         64.0,
         1
        ],
        [
         "Vitaly Petrov",
         "Renault",
         64.0,
         0
        ],
        [
         "David Coulthard",
         "Williams",
         63.0,
         1
        ],
        [
         "Pierre Gasly",
         "Red Bull",
         63.0,
         0
        ],
        [
         "Jody Scheckter",
         "Ferrari",
         62.0,
         3
        ],
        [
         "Esteban Ocon",
         "Renault",
         62.0,
         0
        ],
        [
         "Max Verstappen",
         "Toro Rosso",
         62.0,
         0
        ],
        [
         "Peter Revson",
         "McLaren",
         61.0,
         2
        ],
        [
         "Pierre Gasly",
         "Toro Rosso",
         61.0,
         0
        ],
        [
         "David Coulthard",
         "Red Bull",
         60.0,
         0
        ],
        [
         "Heinz-Harald Frentzen",
         "Williams",
         59.0,
         1
        ],
        [
         "Carlos Sainz",
         "Renault",
         59.0,
         0
        ],
        [
         "Jackie Stewart",
         "BRM",
         58.0,
         2
        ],
        [
         "Stirling Moss",
         "Vanwall",
         57.0,
         6
        ],
        [
         "José Froilán González",
         "Ferrari",
         56.64,
         2
        ],
        [
         "Wolfgang von Trips",
         "Ferrari",
         56.0,
         2
        ],
        [
         "Lorenzo Bandini",
         "Ferrari",
         56.0,
         1
        ],
        [
         "Bruce McLaren",
         "McLaren-Ford",
         56.0,
         1
        ],
        [
         "Kevin Magnussen",
         "McLaren",
         55.0,
         0
        ],
        [
         "Giancarlo Fisichella",
         "Benetton",
         55.0,
         0
        ],
        [
         "Daniil Kvyat",
         "Toro Rosso",
         54.0,
         0
        ],
        [
         "Nino Farina",
         "Alfa Romeo",
         52.0,
         4
        ],
        [
         "Nico Hülkenberg",
         "Sauber",
         51.0,
         0
        ],
        [
         "Rubens Barrichello",
         "Williams",
         51.0,
         0
        ],
        [
         "Jean-Éric Vergne",
         "Toro Rosso",
         51.0,
         0
        ],
        [
         "Jim Clark",
         "Lotus-Ford",
         50.0,
         5
        ],
        [
         "Johnny Herbert",
         "Benetton",
         50.0,
         2
        ],
        [
         "Pedro Rodríguez",
         "BRM",
         50.0,
         1
        ],
        [
         "Sergio Pérez",
         "McLaren",
         49.0,
         0
        ],
        [
         "Timo Glock",
         "Toyota",
         49.0,
         0
        ],
        [
         "Stefan Johansson",
         "Ferrari",
         49.0,
         0
        ],
        [
         "Didier Pironi",
         "Ferrari",
         48.0,
         2
        ],
        [
         "James Hunt",
         "Hesketh",
         48.0,
         1
        ],
        [
         "Peter Collins",
         "Ferrari",
         47.0,
         3
        ],
        [
         "Pastor Maldonado",
         "Williams",
         47.0,
         1
        ],
        [
         "Kimi Räikkönen",
         "Alfa Romeo",
         47.0,
         0
        ],
        [
         "Lance Stroll",
         "Williams",
         46.0,
         0
        ],
        [
         "Rubens Barrichello",
         "Jordan",
         46.0,
         0
        ],
        [
         "Jochen Rindt",
         "Team Lotus",
         45.0,
         5
        ],
        [
         "Jack Brabham",
         "Brabham",
         45.0,
         1
        ],
        [
         "Niki Lauda",
         "Brabham",
         44.0,
         2
        ],
        [
         "Dan Gurney",
         "Brabham-Climax",
         44.0,
         2
        ],
        [
         "Mark Webber",
         "Williams",
         43.0,
         0
        ],
        [
         "Luigi Villoresi",
         "Ferrari",
         43.0,
         0
        ],
        [
         "Thierry Boutsen",
         "Benetton",
         43.0,
         0
        ],
        [
         "Riccardo Patrese",
         "Brabham",
         42.0,
         2
        ],
        [
         "Heinz-Harald Frentzen",
         "Sauber",
         42.0,
         0
        ],
        [
         "Michele Alboreto",
         "Tyrrell",
         41.0,
         2
        ],
        [
         "Rubens Barrichello",
         "Honda",
         41.0,
         0
        ],
        [
         "Sebastian Vettel",
         "Toro Rosso",
         40.0,
         1
        ],
        [
         "John Watson",
         "Brabham",
         40.0,
         0
        ],
        [
         "Giancarlo Fisichella",
         "Jordan",
         39.0,
         1
        ],
        [
         "Charles Leclerc",
         "Sauber",
         39.0,
         0
        ],
        [
         "Jacques Villeneuve",
         "BAR",
         39.0,
         0
        ],
        [
         "Carlos Pace",
         "Brabham",
         38.0,
         1
        ],
        [
         "Olivier Panis",
         "Ligier",
         38.0,
         1
        ],
        [
         "Takuma Sato",
         "BAR",
         38.0,
         0
        ],
        [
         "Martin Brundle",
         "Benetton",
         38.0,
         0
        ],
        [
         "Nigel Mansell",
         "Team Lotus",
         38.0,
         0
        ],
        [
         "Jacky Ickx",
         "Brabham-Ford",
         37.0,
         2
        ],
        [
         "Emerson Fittipaldi",
         "Fittipaldi",
         37.0,
         0
        ],
        [
         "Dan Gurney",
         "Porsche",
         36.0,
         1
        ],
        [
         "Jean Behra",
         "Maserati",
         36.0,
         0
        ],
        [
         "Tony Brooks",
         "Vanwall",
         35.0,
         4
        ],
        [
         "Juan Fangio",
         "Ferrari",
         34.5,
         3
        ],
        [
         "Nick Heidfeld",
         "Renault",
         34.0,
         0
        ],
        [
         "Nelson Piquet",
         "Team Lotus",
         34.0,
         0
        ],
        [
         "Chris Amon",
         "Ferrari",
         34.0,
         0
        ],
        [
         "Maurice Trintignant",
         "Ferrari",
         33.33,
         1
        ],
        [
         "Stirling Moss",
         "Maserati",
         33.0,
         2
        ],
        [
         "Luigi Musso",
         "Ferrari",
         33.0,
         1
        ],
        [
         "Ronnie Peterson",
         "March-Ford",
         33.0,
         0
        ],
        [
         "Piero Taruffi",
         "Ferrari",
         32.0,
         1
        ],
        [
         "Didier Pironi",
         "Ligier",
         32.0,
         1
        ],
        [
         "Clay Regazzoni",
         "Williams",
         32.0,
         1
        ],
        [
         "Luigi Fagioli",
         "Alfa Romeo",
         32.0,
         1
        ],
        [
         "John Surtees",
         "Honda",
         32.0,
         1
        ],
        [
         "Daniil Kvyat",
         "AlphaTauri",
         32.0,
         0
        ],
        [
         "Gunnar Nilsson",
         "Team Lotus",
         31.0,
         1
        ],
        [
         "Bruno Senna",
         "Williams",
         31.0,
         0
        ],
        [
         "Nick Heidfeld",
         "Sauber",
         31.0,
         0
        ],
        [
         "Jaime Alguersuari",
         "Toro Rosso",
         31.0,
         0
        ],
        [
         "Rubens Barrichello",
         "Stewart",
         31.0,
         0
        ],
        [
         "Heikki Kovalainen",
         "Renault",
         30.0,
         0
        ],
        [
         "Daniel Ricciardo",
         "Toro Rosso",
         30.0,
         0
        ],
        [
         "Riccardo Patrese",
         "Arrows",
         30.0,
         0
        ],
        [
         "Stefan Johansson",
         "McLaren",
         30.0,
         0
        ],
        [
         "Jochen Rindt",
         "Cooper-Maserati",
         30.0,
         0
        ],
        [
         "Sébastien Buemi",
         "Toro Rosso",
         29.0,
         0
        ],
        [
         "Felipe Nasr",
         "Sauber",
         29.0,
         0
        ],
        [
         "Pastor Maldonado",
         "Lotus F1",
         29.0,
         0
        ],
        [
         "Jean-Pierre Beltoise",
         "BRM",
         28.0,
         1
        ],
        [
         "Nick Heidfeld",
         "Williams",
         28.0,
         0
        ],
        [
         "Derek Warwick",
         "Renault",
         28.0,
         0
        ],
        [
         "Tony Brooks",
         "Ferrari",
         27.0,
         2
        ],
        [
         "Damon Hill",
         "Jordan",
         27.0,
         1
        ],
        [
         "Jo Siffert",
         "Lotus-Ford",
         27.0,
         1
        ],
        [
         "Felipe Massa",
         "Sauber",
         27.0,
         0
        ],
        [
         "Derek Warwick",
         "Arrows",
         27.0,
         0
        ],
        [
         "Ralf Schumacher",
         "Jordan",
         27.0,
         0
        ],
        [
         "Stoffel Vandoorne",
         "McLaren",
         26.0,
         0
        ],
        [
         "Alexander Wurz",
         "Benetton",
         26.0,
         0
        ],
        [
         "Jackie Stewart",
         "March",
         25.0,
         1
        ],
        [
         "Jean-Pierre Beltoise",
         "Matra",
         25.0,
         0
        ],
        [
         "Carlos Reutemann",
         "Team Lotus",
         25.0,
         0
        ],
        [
         "Richie Ginther",
         "Ferrari",
         24.0,
         0
        ],
        [
         "Mark Webber",
         "Jaguar",
         24.0,
         0
        ],
        [
         "Jean-Pierre Beltoise",
         "Matra-Ford",
         24.0,
         0
        ],
        [
         "Stirling Moss",
         "Mercedes",
         23.0,
         1
        ],
        [
         "Pedro de la Rosa",
         "McLaren",
         23.0,
         0
        ],
        [
         "Chris Amon",
         "March",
         23.0,
         0
        ],
        [
         "Innes Ireland",
         "Team Lotus",
         23.0,
         0
        ],
        [
         "Alan Jones",
         "Shadow",
         22.0,
         1
        ],
        [
         "Ronnie Peterson",
         "March",
         22.0,
         1
        ],
        [
         "Patrick Depailler",
         "Ligier",
         22.0,
         1
        ],
        [
         "Jochen Rindt",
         "Lotus-Ford",
         22.0,
         1
        ],
        [
         "Nico Hülkenberg",
         "Williams",
         22.0,
         0
        ],
        [
         "Giancarlo Fisichella",
         "Sauber",
         22.0,
         0
        ],
        [
         "Tony Maggs",
         "Cooper-Climax",
         22.0,
         0
        ],
        [
         "Jacques Laffite",
         "Williams",
         22.0,
         0
        ],
        [
         "Eddie Cheever",
         "Renault",
         22.0,
         0
        ],
        [
         "Patrick Tambay",
         "Renault",
         22.0,
         0
        ],
        [
         "Keke Rosberg",
         "McLaren",
         22.0,
         0
        ],
        [
         "Stirling Moss",
         "Lotus-Climax",
         21.0,
         2
        ],
        [
         "Jean-Pierre Jabouille",
         "Renault",
         21.0,
         2
        ],
        [
         "Vitantonio Liuzzi",
         "Force India",
         21.0,
         0
        ],
        [
         "Jean Alesi",
         "Tyrrell",
         21.0,
         0
        ],
        [
         "José Froilán González",
         "Maserati",
         21.0,
         0
        ],
        [
         "Chris Amon",
         "Matra",
         21.0,
         0
        ],
        [
         "Didier Pironi",
         "Tyrrell",
         21.0,
         0
        ],
        [
         "John Watson",
         "Penske",
         20.0,
         1
        ],
        [
         "Mario Andretti",
         "Ferrari",
         20.0,
         1
        ],
        [
         "Eddie Cheever",
         "Arrows",
         20.0,
         0
        ],
        [
         "Andrea de Cesaris",
         "Alfa Romeo",
         20.0,
         0
        ],
        [
         "Jean-Pierre Jarier",
         "Tyrrell",
         20.0,
         0
        ],
        [
         "Jack Brabham",
         "Brabham-Climax",
         20.0,
         0
        ],
        [
         "Martin Brundle",
         "Ligier",
         20.0,
         0
        ],
        [
         "Riccardo Patrese",
         "Benetton",
         20.0,
         0
        ],
        [
         "Johnny Herbert",
         "Sauber",
         20.0,
         0
        ],
        [
         "Bill Vukovich",
         "Kurtis Kraft",
         19.0,
         2
        ],
        [
         "Stirling Moss",
         "Team Lotus",
         19.0,
         2
        ],
        [
         "Jo Siffert",
         "BRM",
         19.0,
         1
        ],
        [
         "John Surtees",
         "Cooper-Maserati",
         19.0,
         1
        ],
        [
         "Nelson Piquet Jr.",
         "Renault",
         19.0,
         0
        ],
        [
         "John Surtees",
         "Lola",
         19.0,
         0
        ],
        [
         "Dan Gurney",
         "Brabham",
         19.0,
         0
        ],
        [
         "Harry Schell",
         "BRM",
         19.0,
         0
        ],
        [
         "Maurice Trintignant",
         "Cooper-Climax",
         19.0,
         0
        ],
        [
         "Stirling Moss",
         "Cooper-Climax",
         18.0,
         2
        ],
        [
         "Marcus Ericsson",
         "Sauber",
         18.0,
         0
        ],
        [
         "Antonio Giovinazzi",
         "Alfa Romeo",
         18.0,
         0
        ],
        [
         "Ivan Capelli",
         "March",
         18.0,
         0
        ],
        [
         "Olivier Panis",
         "Prost",
         18.0,
         0
        ],
        [
         "Eddie Irvine",
         "Jaguar",
         18.0,
         0
        ],
        [
         "Jarno Trulli",
         "Jordan",
         18.0,
         0
        ],
        [
         "Jo Bonnier",
         "BRM",
         17.0,
         1
        ],
        [
         "René Arnoux",
         "Ligier",
         17.0,
         0
        ],
        [
         "Karl Kling",
         "Mercedes",
         17.0,
         0
        ],
        [
         "Eddie Irvine",
         "Jordan",
         17.0,
         0
        ],
        [
         "Roy Salvadori",
         "Cooper",
         17.0,
         0
        ],
        [
         "Pierluigi Martini",
         "Minardi",
         16.0,
         0
        ],
        [
         "Alexander Albon",
         "Toro Rosso",
         16.0,
         0
        ],
        [
         "Mike Hailwood",
         "Surtees",
         16.0,
         0
        ],
        [
         "Emerson Fittipaldi",
         "Lotus-Ford",
         16.0,
         0
        ],
        [
         "Thierry Boutsen",
         "Arrows",
         16.0,
         0
        ],
        [
         "Martin Brundle",
         "McLaren",
         16.0,
         0
        ],
        [
         "Louis Rosier",
         "Talbot-Lago",
         16.0,
         0
        ],
        [
         "Piers Courage",
         "Brabham-Ford",
         16.0,
         0
        ],
        [
         "Johnny Herbert",
         "Stewart",
         15.0,
         1
        ],
        [
         "Pedro Rodríguez",
         "Cooper-Maserati",
         15.0,
         1
        ],
        [
         "Jacky Ickx",
         "Team Lotus",
         15.0,
         0
        ],
        [
         "Eddie Cheever",
         "Ligier",
         15.0,
         0
        ],
        [
         "Jim Rathmann",
         "Watson",
         14.0,
         1
        ],
        [
         "Rodger Ward",
         "Watson",
         14.0,
         1
        ],
        [
         "Giancarlo Baghetti",
         "Ferrari",
         14.0,
         1
        ],
        [
         "Innes Ireland",
         "Lotus-Climax",
         14.0,
         1
        ],
        [
         "Richie Ginther",
         "Honda",
         14.0,
         1
        ],
        [
         "Jonathan Palmer",
         "Tyrrell",
         14.0,
         0
        ],
        [
         "Roberto Moreno",
         "Benetton",
         14.0,
         0
        ],
        [
         "James Hunt",
         "March",
         14.0,
         0
        ],
        [
         "Teo Fabi",
         "Benetton",
         14.0,
         0
        ],
        [
         "Mike Spence",
         "Lotus-Climax",
         14.0,
         0
        ],
        [
         "Jenson Button",
         "Renault",
         14.0,
         0
        ],
        [
         "Mike Parkes",
         "Ferrari",
         14.0,
         0
        ],
        [
         "Jack Brabham",
         "Brabham-Ford",
         14.0,
         0
        ],
        [
         "Eugenio Castellotti",
         "Ferrari",
         13.5,
         0
        ],
        [
         "Dan Gurney",
         "Eagle-Weslake",
         13.0,
         1
        ],
        [
         "Alexander Wurz",
         "Williams",
         13.0,
         0
        ],
        [
         "Cristiano da Matta",
         "Toyota",
         13.0,
         0
        ],
        [
         "Mika Häkkinen",
         "Team Lotus",
         13.0,
         0
        ],
        [
         "Johnny Herbert",
         "Team Lotus",
         13.0,
         0
        ],
        [
         "Hans-Joachim Stuck",
         "March",
         13.0,
         0
        ],
        [
         "Roberto Mieres",
         "Maserati",
         13.0,
         0
        ],
        [
         "Bruno Giacomelli",
         "Alfa Romeo",
         13.0,
         0
        ],
        [
         "Ayrton Senna",
         "Toleman",
         13.0,
         0
        ],
        [
         "Mark Blundell",
         "McLaren",
         13.0,
         0
        ],
        [
         "Stuart Lewis-Evans",
         "Vanwall",
         13.0,
         0
        ],
        [
         "Dan Gurney",
         "Ferrari",
         13.0,
         0
        ],
        [
         "Johnnie Parsons",
         "Kurtis Kraft",
         12.0,
         1
        ],
        [
         "Maurice Trintignant",
         "Cooper",
         12.0,
         1
        ],
        [
         "Sam Hanks",
         "Kurtis Kraft",
         12.0,
         0
        ],
        [
         "Andrea de Cesaris",
         "Jordan",
         12.0,
         0
        ],
        [
         "Olivier Panis",
         "Toyota",
         12.0,
         0
        ],
        [
         "Hans-Joachim Stuck",
         "Brabham",
         12.0,
         0
        ],
        [
         "Hector Rebaque",
         "Brabham",
         12.0,
         0
        ],
        [
         "Mike Hailwood",
         "McLaren",
         12.0,
         0
        ],
        [
         "Luigi Musso",
         "Maserati",
         12.0,
         0
        ],
        [
         "Jo Siffert",
         "Brabham-BRM",
         12.0,
         0
        ],
        [
         "Mika Salo",
         "Tyrrell",
         12.0,
         0
        ],
        [
         "Jenson Button",
         "Williams",
         12.0,
         0
        ],
        [
         "Peter Arundell",
         "Lotus-Climax",
         12.0,
         0
        ],
        [
         "Ludovico Scarfiotti",
         "Ferrari",
         11.0,
         1
        ],
        [
         "Christian Klien",
         "Red Bull",
         11.0,
         0
        ],
        [
         "Satoru Nakajima",
         "Team Lotus",
         11.0,
         0
        ],
        [
         "Tom Pryce",
         "Shadow",
         11.0,
         0
        ],
        [
         "Jarno Trulli",
         "Prost",
         11.0,
         0
        ],
        [
         "Jean Alesi",
         "Sauber",
         11.0,
         0
        ],
        [
         "Karl Wendlinger",
         "Sauber",
         11.0,
         0
        ],
        [
         "Felice Bonetto",
         "Maserati",
         10.5,
         0
        ],
        [
         "Peter Gethin",
         "BRM",
         10.0,
         1
        ],
        [
         "Nico Hülkenberg",
         "Racing Point",
         10.0,
         0
        ],
        [
         "Jimmy Bryan",
         "Kuzma",
         10.0,
         0
        ],
        [
         "Stefano Modena",
         "Tyrrell",
         10.0,
         0
        ],
        [
         "Harry Schell",
         "Maserati",
         10.0,
         0
        ],
        [
         "Masten Gregory",
         "Cooper-Climax",
         10.0,
         0
        ],
        [
         "Mike Hawthorn",
         "Cooper",
         10.0,
         0
        ],
        [
         "Rudi Fischer",
         "Ferrari",
         10.0,
         0
        ],
        [
         "Eddie Cheever",
         "Tyrrell",
         10.0,
         0
        ],
        [
         "Mika Salo",
         "Ferrari",
         10.0,
         0
        ],
        [
         "Jos Verstappen",
         "Benetton",
         10.0,
         0
        ],
        [
         "Innes Ireland",
         "BRP",
         10.0,
         0
        ],
        [
         "Mark Blundell",
         "Ligier",
         10.0,
         0
        ],
        [
         "Carlos Pace",
         "Surtees",
         10.0,
         0
        ],
        [
         "Rolf Stommelen",
         "Brabham",
         10.0,
         0
        ],
        [
         "Masten Gregory",
         "Maserati",
         10.0,
         0
        ],
        [
         "Olivier Gendebien",
         "Cooper-Climax",
         10.0,
         0
        ],
        [
         "Lee Wallard",
         "Kurtis Kraft",
         9.0,
         1
        ],
        [
         "Jim Clark",
         "Lotus-BRM",
         9.0,
         1
        ],
        [
         "Kazuki Nakajima",
         "Williams",
         9.0,
         0
        ],
        [
         "Jacques Villeneuve",
         "Sauber",
         9.0,
         0
        ],
        [
         "Jack McGrath",
         "Kurtis Kraft",
         9.0,
         0
        ],
        [
         "Jim Rathmann",
         "Epperly",
         9.0,
         0
        ],
        [
         "Jolyon Palmer",
         "Renault",
         9.0,
         0
        ],
        [
         "Maurício Gugelmin",
         "March",
         9.0,
         0
        ],
        [
         "Derek Warwick",
         "Toleman",
         9.0,
         0
        ],
        [
         "Robert Manzon",
         "Gordini",
         9.0,
         0
        ],
        [
         "Howden Ganley",
         "BRM",
         9.0,
         0
        ],
        [
         "Reine Wisell",
         "Lotus-Ford",
         9.0,
         0
        ],
        [
         "Kimi Räikkönen",
         "Sauber",
         9.0,
         0
        ],
        [
         "Hans Herrmann",
         "Mercedes",
         9.0,
         0
        ],
        [
         "Teo Fabi",
         "Brabham",
         9.0,
         0
        ],
        [
         "Paul Frère",
         "Ferrari",
         9.0,
         0
        ],
        [
         "Jo Siffert",
         "Cooper-Maserati",
         9.0,
         0
        ],
        [
         "Mike Spence",
         "BRM",
         9.0,
         0
        ],
        [
         "Piero Taruffi",
         "Mercedes",
         9.0,
         0
        ],
        [
         "Vittorio Brambilla",
         "March",
         8.5,
         1
        ],
        [
         "Paul Russo",
         "Kurtis Kraft",
         8.5,
         0
        ],
        [
         "Onofre Marimón",
         "Maserati",
         8.14,
         0
        ],
        [
         "Jimmy Bryan",
         "Epperly",
         8.0,
         1
        ],
        [
         "Bob Sweikert",
         "Kurtis Kraft",
         8.0,
         1
        ],
        [
         "Pat Flaherty",
         "Watson",
         8.0,
         1
        ],
        [
         "Troy Ruttman",
         "Kuzma",
         8.0,
         1
        ],
        [
         "Sam Hanks",
         "Epperly",
         8.0,
         1
        ],
        [
         "Stirling Moss",
         "Cooper",
         8.0,
         1
        ],
        [
         "Giancarlo Fisichella",
         "Force India",
         8.0,
         0
        ],
        [
         "Mike Nazaruk",
         "Kurtis Kraft",
         8.0,
         0
        ],
        [
         "Art Cross",
         "Kurtis Kraft",
         8.0,
         0
        ],
        [
         "Antônio Pizzonia",
         "Williams",
         8.0,
         0
        ],
        [
         "Andrea de Cesaris",
         "Tyrrell",
         8.0,
         0
        ],
        [
         "Tom Pryce",
         "Shadow-Ford",
         8.0,
         0
        ],
        [
         "Patrick Tambay",
         "McLaren",
         8.0,
         0
        ],
        [
         "Prince Bira",
         "Maserati",
         8.0,
         0
        ],
        [
         "Bob Anderson",
         "Brabham-Climax",
         8.0,
         0
        ],
        [
         "Jo Bonnier",
         "Cooper-Climax",
         8.0,
         0
        ],
        [
         "Mark Blundell",
         "Tyrrell",
         8.0,
         0
        ],
        [
         "Riccardo Patrese",
         "Alfa Romeo",
         8.0,
         0
        ],
        [
         "Martin Brundle",
         "Tyrrell",
         8.0,
         0
        ],
        [
         "Gianni Morbidelli",
         "Footwork",
         8.0,
         0
        ],
        [
         "Marc Surer",
         "Arrows",
         8.0,
         0
        ],
        [
         "Derek Daly",
         "Williams",
         8.0,
         0
        ],
        [
         "Olivier Gendebien",
         "Ferrari",
         8.0,
         0
        ],
        [
         "Olivier Panis",
         "BAR",
         8.0,
         0
        ],
        [
         "Henri Pescarolo",
         "Matra",
         8.0,
         0
        ],
        [
         "Martin Brundle",
         "Jordan",
         8.0,
         0
        ],
        [
         "Jim Clark",
         "Team Lotus",
         8.0,
         0
        ],
        [
         "Cliff Allison",
         "Ferrari",
         8.0,
         0
        ],
        [
         "Jochen Rindt",
         "Brabham-Repco",
         8.0,
         0
        ],
        [
         "Stirling Moss",
         "BRM",
         7.5,
         0
        ],
        [
         "Johnny Thomson",
         "Lesovsky",
         7.0,
         0
        ],
        [
         "Tony Bettenhausen",
         "Epperly",
         7.0,
         0
        ],
        [
         "Jacques Villeneuve",
         "BMW Sauber",
         7.0,
         0
        ],
        [
         "Kevin Magnussen",
         "Renault",
         7.0,
         0
        ],
        [
         "Tiago Monteiro",
         "Jordan",
         7.0,
         0
        ],
        [
         "Ronnie Peterson",
         "Tyrrell",
         7.0,
         0
        ],
        [
         "Aguri Suzuki",
         "Larrousse",
         7.0,
         0
        ],
        [
         "Ivan Capelli",
         "Leyton House",
         7.0,
         0
        ],
        [
         "Vittorio Brambilla",
         "Surtees",
         7.0,
         0
        ],
        [
         "Trevor Taylor",
         "Lotus-Climax",
         7.0,
         0
        ],
        [
         "Willy Mairesse",
         "Ferrari",
         7.0,
         0
        ],
        [
         "Carlos Pace",
         "Brabham-Alfa Romeo",
         7.0,
         0
        ],
        [
         "Toulo de Graffenried",
         "Maserati",
         7.0,
         0
        ],
        [
         "Alan Jones",
         "Surtees",
         7.0,
         0
        ],
        [
         "Arturo Merzario",
         "Ferrari",
         7.0,
         0
        ],
        [
         "Jochen Mass",
         "Arrows",
         7.0,
         0
        ],
        [
         "Philippe Streiff",
         "Tyrrell",
         7.0,
         0
        ],
        [
         "Michael Andretti",
         "McLaren",
         7.0,
         0
        ],
        [
         "Graham Hill",
         "Team Lotus",
         7.0,
         0
        ],
        [
         "Damon Hill",
         "Arrows",
         7.0,
         0
        ],
        [
         "Jean Behra",
         "BRM",
         7.0,
         0
        ],
        [
         "Tony Brooks",
         "Cooper-Climax",
         7.0,
         0
        ],
        [
         "Felice Bonetto",
         "Alfa Romeo",
         7.0,
         0
        ],
        [
         "Johnny Servoz-Gavin",
         "Matra-Ford",
         7.0,
         0
        ],
        [
         "Pedro de la Rosa",
         "Sauber",
         6.0,
         0
        ],
        [
         "Jim Rathmann",
         "Kurtis Kraft",
         6.0,
         0
        ],
        [
         "Esteban Gutiérrez",
         "Sauber",
         6.0,
         0
        ],
        [
         "Alexander Wurz",
         "McLaren",
         6.0,
         0
        ],
        [
         "Paul Goldsmith",
         "Epperly",
         6.0,
         0
        ],
        [
         "Sébastien Bourdais",
         "Toro Rosso",
         6.0,
         0
        ],
        [
         "Martin Brundle",
         "Brabham",
         6.0,
         0
        ],
        [
         "Philippe Alliot",
         "Larrousse",
         6.0,
         0
        ],
        [
         "Jo Bonnier",
         "Porsche",
         6.0,
         0
        ],
        [
         "Tony Brooks",
         "BRM",
         6.0,
         0
        ],
        [
         "Stefan Johansson",
         "Onyx",
         6.0,
         0
        ],
        [
         "Stefano Modena",
         "Brabham",
         6.0,
         0
        ],
        [
         "Michele Alboreto",
         "Footwork",
         6.0,
         0
        ],
        [
         "Bill Holland",
         "Deidt",
         6.0,
         0
        ],
        [
         "George Amick",
         "Epperly",
         6.0,
         0
        ],
        [
         "Mario Andretti",
         "Parnelli",
         6.0,
         0
        ],
        [
         "Jean Behra",
         "Gordini",
         6.0,
         0
        ],
        [
         "Christian Fittipaldi",
         "Minardi",
         6.0,
         0
        ],
        [
         "Graham Hill",
         "Brabham",
         6.0,
         0
        ],
        [
         "Jean-Pierre Jarier",
         "Shadow",
         6.0,
         0
        ],
        [
         "Keke Rosberg",
         "Fittipaldi",
         6.0,
         0
        ],
        [
         "John Love",
         "Cooper-Climax",
         6.0,
         0
        ],
        [
         "Derek Daly",
         "Tyrrell",
         6.0,
         0
        ],
        [
         "Christian Fittipaldi",
         "Footwork",
         6.0,
         0
        ],
        [
         "Paco Godia",
         "Maserati",
         6.0,
         0
        ],
        [
         "Andrea de Cesaris",
         "Ligier",
         6.0,
         0
        ],
        [
         "Carlos Menditeguy",
         "Maserati",
         6.0,
         0
        ],
        [
         "Richard Attwood",
         "BRM",
         6.0,
         0
        ],
        [
         "Nicola Larini",
         "Ferrari",
         6.0,
         0
        ],
        [
         "Eugenio Castellotti",
         "Lancia",
         6.0,
         0
        ],
        [
         "Jos Verstappen",
         "Arrows",
         6.0,
         0
        ],
        [
         "Mika Salo",
         "Sauber",
         6.0,
         0
        ],
        [
         "John Surtees",
         "Team Lotus",
         6.0,
         0
        ],
        [
         "Jackie Oliver",
         "Lotus-Ford",
         6.0,
         0
        ],
        [
         "Ludovico Scarfiotti",
         "Cooper-BRM",
         6.0,
         0
        ],
        [
         "Graham Hill",
         "Lotus-BRM",
         6.0,
         0
        ],
        [
         "John Surtees",
         "BRM",
         6.0,
         0
        ],
        [
         "Pedro Rodríguez",
         "Ferrari",
         6.0,
         0
        ],
        [
         "Narain Karthikeyan",
         "Jordan",
         5.0,
         0
        ],
        [
         "Pascal Wehrlein",
         "Sauber",
         5.0,
         0
        ],
        [
         "Satoru Nakajima",
         "Tyrrell",
         5.0,
         0
        ],
        [
         "Éric Bernard",
         "Larrousse",
         5.0,
         0
        ],
        [
         "Clay Regazzoni",
         "Ensign",
         5.0,
         0
        ],
        [
         "Patrick Tambay",
         "Ensign",
         5.0,
         0
        ],
        [
         "Ukyo Katayama",
         "Tyrrell",
         5.0,
         0
        ],
        [
         "George Follmer",
         "Shadow",
         5.0,
         0
        ],
        [
         "John Surtees",
         "Surtees",
         5.0,
         0
        ],
        [
         "Jack Fairman",
         "Connaught",
         5.0,
         0
        ],
        [
         "Cesare Perdisa",
         "Maserati",
         5.0,
         0
        ],
        [
         "Tim Schenken",
         "Brabham",
         5.0,
         0
        ],
        [
         "Jyrki Järvilehto",
         "Sauber",
         5.0,
         0
        ],
        [
         "Marc Surer",
         "Brabham",
         5.0,
         0
        ],
        [
         "Yves Cabantous",
         "Talbot-Lago",
         5.0,
         0
        ],
        [
         "Pedro Diniz",
         "Arrows",
         5.0,
         0
        ],
        [
         "Denny Hulme",
         "Brabham-Climax",
         5.0,
         0
        ],
        [
         "Vic Elford",
         "Cooper-BRM",
         5.0,
         0
        ],
        [
         "Lucien Bianchi",
         "Cooper-BRM",
         5.0,
         0
        ],
        [
         "Christijan Albers",
         "Minardi",
         4.0,
         0
        ],
        [
         "Vitantonio Liuzzi",
         "Toro Rosso",
         4.0,
         0
        ],
        [
         "Don Freeland",
         "Phillips",
         4.0,
         0
        ],
        [
         "Jimmy Davies",
         "Kurtis Kraft",
         4.0,
         0
        ],
        [
         "Brendon Hartley",
         "Toro Rosso",
         4.0,
         0
        ],
        [
         "Johnny Boyd",
         "Kurtis Kraft",
         4.0,
         0
        ],
        [
         "Tony Bettenhausen",
         "Kurtis Kraft",
         4.0,
         0
        ],
        [
         "Takuma Sato",
         "Super Aguri",
         4.0,
         0
        ],
        [
         "Carel Godin de Beaufort",
         "Porsche",
         4.0,
         0
        ],
        [
         "Ricardo Rodríguez",
         "Ferrari",
         4.0,
         0
        ],
        [
         "Mauri Rose",
         "Deidt",
         4.0,
         0
        ],
        [
         "Andrea de Cesaris",
         "Dallara",
         4.0,
         0
        ],
        [
         "Jackie Oliver",
         "Shadow",
         4.0,
         0
        ],
        [
         "John Surtees",
         "Cooper-Climax",
         4.0,
         0
        ],
        [
         "Jyrki Järvilehto",
         "Dallara",
         4.0,
         0
        ],
        [
         "Alex Caffi",
         "Dallara",
         4.0,
         0
        ],
        [
         "Érik Comas",
         "Ligier",
         4.0,
         0
        ],
        [
         "Marc Gené",
         "Williams",
         4.0,
         0
        ],
        [
         "Bertrand Gachot",
         "Jordan",
         4.0,
         0
        ],
        [
         "Reine Wisell",
         "Team Lotus",
         4.0,
         0
        ],
        [
         "Marc Surer",
         "Ensign",
         4.0,
         0
        ],
        [
         "Arturo Merzario",
         "Iso Marlboro",
         4.0,
         0
        ],
        [
         "Maurice Trintignant",
         "Gordini",
         4.0,
         0
        ],
        [
         "Robert Manzon",
         "Ferrari",
         4.0,
         0
        ],
        [
         "Peter Whitehead",
         "Ferrari",
         4.0,
         0
        ],
        [
         "Clay Regazzoni",
         "Shadow",
         4.0,
         0
        ],
        [
         "Luigi Villoresi",
         "Maserati",
         4.0,
         0
        ],
        [
         "Stefan Bellof",
         "Tyrrell",
         4.0,
         0
        ],
        [
         "Éric Bernard",
         "Ligier",
         4.0,
         0
        ],
        [
         "Jochen Rindt",
         "Cooper-Climax",
         4.0,
         0
        ],
        [
         "Alfonso de Portago",
         "Ferrari",
         4.0,
         0
        ],
        [
         "Niki Lauda",
         "Brabham-Alfa Romeo",
         4.0,
         0
        ],
        [
         "Henri Pescarolo",
         "March-Ford",
         4.0,
         0
        ],
        [
         "Derek Warwick",
         "Footwork",
         4.0,
         0
        ],
        [
         "Sergio Mantovani",
         "Maserati",
         4.0,
         0
        ],
        [
         "Andrea de Cesaris",
         "Brabham",
         4.0,
         0
        ],
        [
         "Philippe Streiff",
         "Ligier",
         4.0,
         0
        ],
        [
         "Brian Redman",
         "McLaren",
         4.0,
         0
        ],
        [
         "Alan Jones",
         "Lola",
         4.0,
         0
        ],
        [
         "Mark Donohue",
         "McLaren",
         4.0,
         0
        ],
        [
         "Louis Chiron",
         "Maserati",
         4.0,
         0
        ],
        [
         "Tony Maggs",
         "BRM",
         4.0,
         0
        ],
        [
         "Jean Alesi",
         "Prost",
         4.0,
         0
        ],
        [
         "Ron Flockhart",
         "Connaught",
         4.0,
         0
        ],
        [
         "Mario Andretti",
         "March",
         4.0,
         0
        ],
        [
         "Jacky Ickx",
         "McLaren",
         4.0,
         0
        ],
        [
         "Dan Gurney",
         "McLaren-Ford",
         4.0,
         0
        ],
        [
         "Jo Bonnier",
         "Cooper-Maserati",
         4.0,
         0
        ],
        [
         "Mike Spence",
         "Lotus-BRM",
         4.0,
         0
        ],
        [
         "Reg Parnell",
         "Alfa Romeo",
         4.0,
         0
        ],
        [
         "Piers Courage",
         "BRM",
         4.0,
         0
        ],
        [
         "Brian Redman",
         "Cooper-BRM",
         4.0,
         0
        ],
        [
         "Dan Gurney",
         "Eagle-Climax",
         4.0,
         0
        ],
        [
         "Mike Hawthorn",
         "Maserati",
         4.0,
         0
        ],
        [
         "Duane Carter",
         "Kurtis Kraft",
         3.5,
         0
        ],
        [
         "Umberto Maglioli",
         "Ferrari",
         3.33,
         0
        ],
        [
         "Don Branson",
         "Phillips",
         3.0,
         0
        ],
        [
         "Duane Carter",
         "Lesovsky",
         3.0,
         0
        ],
        [
         "Patrick Friesacher",
         "Minardi",
         3.0,
         0
        ],
        [
         "Johnny Thomson",
         "Kuzma",
         3.0,
         0
        ],
        [
         "Cecil Green",
         "Kurtis Kraft",
         3.0,
         0
        ],
        [
         "Kamui Kobayashi",
         "Toyota",
         3.0,
         0
        ],
        [
         "Christian Klien",
         "Jaguar",
         3.0,
         0
        ],
        [
         "Derek Warwick",
         "Team Lotus",
         3.0,
         0
        ],
        [
         "Jackie Lewis",
         "Cooper-Climax",
         3.0,
         0
        ],
        [
         "Nick Heidfeld",
         "Jordan",
         3.0,
         0
        ],
        [
         "Christian Danner",
         "Rial",
         3.0,
         0
        ],
        [
         "Andrea de Adamich",
         "Surtees",
         3.0,
         0
        ],
        [
         "Reg Parnell",
         "Ferrari",
         3.0,
         0
        ],
        [
         "Ivan Capelli",
         "Ferrari",
         3.0,
         0
        ],
        [
         "Jean-Pierre Jarier",
         "Osella",
         3.0,
         0
        ],
        [
         "Mario Andretti",
         "Alfa Romeo",
         3.0,
         0
        ],
        [
         "Carlos Reutemann",
         "Brabham-Alfa Romeo",
         3.0,
         0
        ],
        [
         "Carlos Pace",
         "March",
         3.0,
         0
        ],
        [
         "George Russell",
         "Mercedes",
         3.0,
         0
        ],
        [
         "Dennis Poore",
         "Connaught",
         3.0,
         0
        ],
        [
         "Andy Linden",
         "Sherman",
         3.0,
         0
        ],
        [
         "Wilson Fittipaldi",
         "Brabham",
         3.0,
         0
        ],
        [
         "Andrea de Cesaris",
         "Rial",
         3.0,
         0
        ],
        [
         "Karl Wendlinger",
         "March",
         3.0,
         0
        ],
        [
         "Jim Hall",
         "Lotus-BRM",
         3.0,
         0
        ],
        [
         "Elio de Angelis",
         "Shadow",
         3.0,
         0
        ],
        [
         "Eddie Cheever",
         "Alfa Romeo",
         3.0,
         0
        ],
        [
         "Harry Schell",
         "Vanwall",
         3.0,
         0
        ],
        [
         "Ricardo Zonta",
         "BAR",
         3.0,
         0
        ],
        [
         "Pedro Diniz",
         "Sauber",
         3.0,
         0
        ],
        [
         "Andrea de Adamich",
         "Brabham",
         3.0,
         0
        ],
        [
         "Pedro de la Rosa",
         "Arrows",
         3.0,
         0
        ],
        [
         "Mauro Baldi",
         "Alfa Romeo",
         3.0,
         0
        ],
        [
         "Stefan Johansson",
         "Toleman",
         3.0,
         0
        ],
        [
         "Gerhard Mitter",
         "Porsche",
         3.0,
         0
        ],
        [
         "Jacky Ickx",
         "Ligier",
         3.0,
         0
        ],
        [
         "Nelson Piquet",
         "Brabham-Alfa Romeo",
         3.0,
         0
        ],
        [
         "Gerhard Berger",
         "Arrows",
         3.0,
         0
        ],
        [
         "Érik Comas",
         "Larrousse",
         3.0,
         0
        ],
        [
         "Mika Salo",
         "Arrows",
         3.0,
         0
        ],
        [
         "Jack Brabham",
         "Lotus-Climax",
         3.0,
         0
        ],
        [
         "Ivan Capelli",
         "Tyrrell",
         3.0,
         0
        ],
        [
         "Henry Taylor",
         "Cooper-Climax",
         3.0,
         0
        ],
        [
         "Jean-Christophe Boullion",
         "Sauber",
         3.0,
         0
        ],
        [
         "Robert Manzon",
         "Simca",
         3.0,
         0
        ],
        [
         "Pedro de la Rosa",
         "Jaguar",
         3.0,
         0
        ],
        [
         "Consalvo Sanesi",
         "Alfa Romeo",
         3.0,
         0
        ],
        [
         "Rolf Stommelen",
         "Surtees",
         3.0,
         0
        ],
        [
         "Jack Brabham",
         "Cooper",
         3.0,
         0
        ],
        [
         "Jackie Oliver",
         "BRM",
         3.0,
         0
        ],
        [
         "Dorino Serafini",
         "Ferrari",
         3.0,
         0
        ],
        [
         "Philippe Étancelin",
         "Talbot-Lago",
         3.0,
         0
        ],
        [
         "Cliff Allison",
         "Team Lotus",
         3.0,
         0
        ],
        [
         "Johnny Dumfries",
         "Team Lotus",
         3.0,
         0
        ],
        [
         "Ignazio Giunti",
         "Ferrari",
         3.0,
         0
        ],
        [
         "Carlos Menditeguy",
         "Cooper-Maserati",
         3.0,
         0
        ],
        [
         "Bob Bondurant",
         "BRM",
         3.0,
         0
        ],
        [
         "Ken Wharton",
         "Frazer Nash",
         3.0,
         0
        ],
        [
         "Raymond Sommer",
         "Ferrari",
         3.0,
         0
        ],
        [
         "Bruce McLaren",
         "McLaren-BRM",
         3.0,
         0
        ],
        [
         "Giulio Cabianca",
         "Cooper-Castellotti",
         3.0,
         0
        ],
        [
         "Vic Elford",
         "McLaren-Ford",
         3.0,
         0
        ],
        [
         "Stuart Lewis-Evans",
         "Connaught",
         3.0,
         0
        ],
        [
         "Richard Attwood",
         "Lotus-Ford",
         3.0,
         0
        ],
        [
         "Bruno Senna",
         "Renault",
         2.0,
         0
        ],
        [
         "Jules Bianchi",
         "Marussia",
         2.0,
         0
        ],
        [
         "Andy Linden",
         "Kurtis Kraft",
         2.0,
         0
        ],
        [
         "Dick Rathmann",
         "Kurtis Kraft",
         2.0,
         0
        ],
        [
         "Alex Caffi",
         "Arrows",
         2.0,
         0
        ],
        [
         "Timo Glock",
         "Jordan",
         2.0,
         0
        ],
        [
         "Thierry Boutsen",
         "Ligier",
         2.0,
         0
        ],
        [
         "Emanuele Pirro",
         "Benetton",
         2.0,
         0
        ],
        [
         "Roy Salvadori",
         "Cooper-Climax",
         2.0,
         0
        ],
        [
         "Piercarlo Ghinzani",
         "Osella",
         2.0,
         0
        ],
        [
         "Manfred Winkelhock",
         "ATS",
         2.0,
         0
        ],
        [
         "Tim Schenken",
         "Surtees",
         2.0,
         0
        ],
        [
         "Mauro Baldi",
         "Arrows",
         2.0,
         0
        ],
        [
         "Eliseo Salazar",
         "ATS",
         2.0,
         0
        ],
        [
         "Hans-Joachim Stuck",
         "Shadow",
         2.0,
         0
        ],
        [
         "Bobby Ball",
         "Schroeder",
         2.0,
         0
        ],
        [
         "Manny Ayulo",
         "Kurtis Kraft",
         2.0,
         0
        ],
        [
         "Alan Jones",
         "Embassy Hill",
         2.0,
         0
        ],
        [
         "Mark Donohue",
         "March",
         2.0,
         0
        ],
        [
         "Eric Thompson",
         "Connaught",
         2.0,
         0
        ],
        [
         "André Pilette",
         "Gordini",
         2.0,
         0
        ],
        [
         "Chris Amon",
         "Ensign",
         2.0,
         0
        ],
        [
         "Alan Brown",
         "Cooper",
         2.0,
         0
        ],
        [
         "Mark Donohue",
         "Penske",
         2.0,
         0
        ],
        [
         "Pierluigi Martini",
         "Dallara",
         2.0,
         0
        ],
        [
         "Martin Brundle",
         "Zakspeed",
         2.0,
         0
        ],
        [
         "Louis Rosier",
         "Maserati",
         2.0,
         0
        ],
        [
         "Maurice Trintignant",
         "BRM",
         2.0,
         0
        ],
        [
         "Niki Lauda",
         "BRM",
         2.0,
         0
        ],
        [
         "Hans-Joachim Stuck",
         "ATS",
         2.0,
         0
        ],
        [
         "Horace Gould",
         "Maserati",
         2.0,
         0
        ],
        [
         "Hernando da Silva Ramos",
         "Gordini",
         2.0,
         0
        ],
        [
         "Clay Regazzoni",
         "BRM",
         2.0,
         0
        ],
        [
         "Danny Sullivan",
         "Tyrrell",
         2.0,
         0
        ],
        [
         "Takuma Sato",
         "Jordan",
         2.0,
         0
        ],
        [
         "Élie Bayol",
         "Gordini",
         2.0,
         0
        ],
        [
         "Luigi Villoresi",
         "Lancia",
         2.0,
         0
        ],
        [
         "Lorenzo Bandini",
         "BRM",
         2.0,
         0
        ],
        [
         "Paul Frère",
         "HWM",
         2.0,
         0
        ],
        [
         "Jenson Button",
         "Benetton",
         2.0,
         0
        ],
        [
         "Patrick Tambay",
         "Lola",
         2.0,
         0
        ],
        [
         "Fabrizio Barbazza",
         "Minardi",
         2.0,
         0
        ],
        [
         "Mika Salo",
         "Toyota",
         2.0,
         0
        ],
        [
         "Shinji Nakano",
         "Prost",
         2.0,
         0
        ],
        [
         "Maurice Trintignant",
         "Simca",
         2.0,
         0
        ],
        [
         "Mark Webber",
         "Minardi",
         2.0,
         0
        ],
        [
         "Chris Amon",
         "Lotus-BRM",
         2.0,
         0
        ],
        [
         "Heinz-Harald Frentzen",
         "Arrows",
         2.0,
         0
        ],
        [
         "Phil Hill",
         "Cooper-Climax",
         2.0,
         0
        ],
        [
         "Richard Attwood",
         "Lotus-BRM",
         2.0,
         0
        ],
        [
         "Pedro Diniz",
         "Ligier",
         2.0,
         0
        ],
        [
         "Chris Irwin",
         "BRM",
         2.0,
         0
        ],
        [
         "John Miles",
         "Team Lotus",
         2.0,
         0
        ],
        [
         "Toulo de Graffenried",
         "Alfa Romeo",
         2.0,
         0
        ],
        [
         "Johnny Servoz-Gavin",
         "March",
         2.0,
         0
        ],
        [
         "Denny Hulme",
         "McLaren-BRM",
         2.0,
         0
        ],
        [
         "Ronnie Bucknum",
         "Honda",
         2.0,
         0
        ],
        [
         "Jean Behra",
         "Ferrari",
         2.0,
         0
        ],
        [
         "Walt Hansgen",
         "Lotus-Climax",
         2.0,
         0
        ],
        [
         "Jo Bonnier",
         "Honda",
         2.0,
         0
        ],
        [
         "Reg Parnell",
         "BRM",
         2.0,
         0
        ],
        [
         "Hermann Lang",
         "Maserati",
         2.0,
         0
        ],
        [
         "Oscar Gálvez",
         "Maserati",
         2.0,
         0
        ],
        [
         "Silvio Moser",
         "Brabham-Repco",
         2.0,
         0
        ],
        [
         "Richie Ginther",
         "Cooper-Maserati",
         2.0,
         0
        ],
        [
         "Troy Ruttman",
         "Kurtis Kraft",
         1.5,
         0
        ],
        [
         "Fred Agabashian",
         "Kurtis Kraft",
         1.5,
         0
        ],
        [
         "Chico Landi",
         "Maserati",
         1.5,
         0
        ],
        [
         "Jean-Pierre Jarier",
         "Shadow-Ford",
         1.5,
         0
        ],
        [
         "Gerino Gerini",
         "Maserati",
         1.5,
         0
        ],
        [
         "Pascal Wehrlein",
         "Manor Marussia",
         1.0,
         0
        ],
        [
         "Sergey Sirotkin",
         "Williams",
         1.0,
         0
        ],
        [
         "Sebastian Vettel",
         "BMW Sauber",
         1.0,
         0
        ],
        [
         "Vitantonio Liuzzi",
         "Red Bull",
         1.0,
         0
        ],
        [
         "Eddie Johnson",
         "Trevis",
         1.0,
         0
        ],
        [
         "Walt Faulkner",
         "Kurtis Kraft",
         1.0,
         0
        ],
        [
         "Bill Homeier",
         "Kurtis Kraft",
         1.0,
         0
        ],
        [
         "Adrian Sutil",
         "Spyker",
         1.0,
         0
        ],
        [
         "Mark Blundell",
         "Brabham",
         1.0,
         0
        ],
        [
         "Joie Chitwood",
         "Kurtis Kraft",
         1.0,
         0
        ],
        [
         "Maurício Gugelmin",
         "Leyton House",
         1.0,
         0
        ],
        [
         "Philippe Alliot",
         "Ligier",
         1.0,
         0
        ],
        [
         "Jean-Pierre Jarier",
         "Penske",
         1.0,
         0
        ],
        [
         "Olivier Grouillard",
         "Ligier",
         1.0,
         0
        ],
        [
         "Bertrand Gachot",
         "Larrousse",
         1.0,
         0
        ],
        [
         "Éric Bernard",
         "Lola",
         1.0,
         0
        ],
        [
         "Gabriele Tarquini",
         "AGS",
         1.0,
         0
        ],
        [
         "Zsolt Baumgartner",
         "Minardi",
         1.0,
         0
        ],
        [
         "Robert Kubica",
         "Williams",
         1.0,
         0
        ],
        [
         "Luis Pérez-Sala",
         "Minardi",
         1.0,
         0
        ],
        [
         "Emanuele Pirro",
         "Dallara",
         1.0,
         0
        ],
        [
         "Julian Bailey",
         "Team Lotus",
         1.0,
         0
        ],
        [
         "Derek Daly",
         "Ensign",
         1.0,
         0
        ],
        [
         "Tony Brise",
         "Embassy Hill",
         1.0,
         0
        ],
        [
         "Eliseo Salazar",
         "Ensign",
         1.0,
         0
        ],
        [
         "Rolf Stommelen",
         "Brabham-Alfa Romeo",
         1.0,
         0
        ],
        [
         "Derek Bell",
         "Surtees",
         1.0,
         0
        ],
        [
         "Hans Herrmann",
         "Porsche",
         1.0,
         0
        ],
        [
         "Slim Borgudd",
         "ATS",
         1.0,
         0
        ],
        [
         "Riccardo Patrese",
         "Shadow",
         1.0,
         0
        ],
        [
         "Andrea de Cesaris",
         "McLaren",
         1.0,
         0
        ],
        [
         "Graham Hill",
         "Lola",
         1.0,
         0
        ],
        [
         "Gijs van Lennep",
         "Ensign",
         1.0,
         0
        ],
        [
         "Patrick Tambay",
         "Theodore",
         1.0,
         0
        ],
        [
         "Stefano Modena",
         "Jordan",
         1.0,
         0
        ],
        [
         "Hector Rebaque",
         "Team Lotus",
         1.0,
         0
        ],
        [
         "Chico Serra",
         "Fittipaldi",
         1.0,
         0
        ],
        [
         "Masten Gregory",
         "Lotus-BRM",
         1.0,
         0
        ],
        [
         "Jo Bonnier",
         "Brabham-Climax",
         1.0,
         0
        ],
        [
         "Neville Lederle",
         "Lotus-Climax",
         1.0,
         0
        ],
        [
         "Alessandro Zanardi",
         "Team Lotus",
         1.0,
         0
        ],
        [
         "Johnny Cecotto",
         "Theodore",
         1.0,
         0
        ],
        [
         "Andrea de Cesaris",
         "Sauber",
         1.0,
         0
        ],
        [
         "Jyrki Järvilehto",
         "Benetton",
         1.0,
         0
        ],
        [
         "Bruno Giacomelli",
         "Toleman",
         1.0,
         0
        ],
        [
         "Howden Ganley",
         "Iso Marlboro",
         1.0,
         0
        ],
        [
         "Jo Siffert",
         "Lotus-BRM",
         1.0,
         0
        ],
        [
         "Michele Alboreto",
         "Minardi",
         1.0,
         0
        ],
        [
         "Renzo Zorzi",
         "Shadow",
         1.0,
         0
        ],
        [
         "Marc Gené",
         "Minardi",
         1.0,
         0
        ],
        [
         "Chris Amon",
         "Tecno",
         1.0,
         0
        ],
        [
         "Christian Danner",
         "Arrows",
         1.0,
         0
        ],
        [
         "Nicola Larini",
         "Sauber",
         1.0,
         0
        ],
        [
         "Aguri Suzuki",
         "Ligier",
         1.0,
         0
        ],
        [
         "Mike Hailwood",
         "Lotus-BRM",
         1.0,
         0
        ],
        [
         "Pedro Lamy",
         "Minardi",
         1.0,
         0
        ],
        [
         "Gijs van Lennep",
         "Iso Marlboro",
         1.0,
         0
        ],
        [
         "Jan Magnussen",
         "Stewart",
         1.0,
         0
        ],
        [
         "Alberto Ascari",
         "Lancia",
         1.0,
         0
        ],
        [
         "Jean Alesi",
         "Jordan",
         1.0,
         0
        ],
        [
         "Roberto Moreno",
         "AGS",
         1.0,
         0
        ],
        [
         "Eugène Chaboud",
         "Talbot-Lago",
         1.0,
         0
        ],
        [
         "François Cevert",
         "March",
         1.0,
         0
        ],
        [
         "Ralph Firman",
         "Jordan",
         1.0,
         0
        ],
        [
         "Jos Verstappen",
         "Footwork",
         1.0,
         0
        ],
        [
         "Peter Gethin",
         "McLaren-Ford",
         1.0,
         0
        ],
        [
         "Giorgio Scarlatti",
         "Maserati",
         1.0,
         0
        ],
        [
         "Lucien Bianchi",
         "Cooper-Climax",
         1.0,
         0
        ],
        [
         "Guy Ligier",
         "Brabham-Repco",
         1.0,
         0
        ],
        [
         "Trevor Taylor",
         "BRP",
         1.0,
         0
        ],
        [
         "Justin Wilson",
         "Jaguar",
         1.0,
         0
        ],
        [
         "John Surtees",
         "McLaren-Ford",
         1.0,
         0
        ],
        [
         "Ron Flockhart",
         "Team Lotus",
         1.0,
         0
        ],
        [
         "John Taylor",
         "Brabham-BRM",
         1.0,
         0
        ],
        [
         "Bruce McLaren",
         "McLaren-Serenissima",
         1.0,
         0
        ],
        [
         "Silvio Moser",
         "Brabham-Ford",
         1.0,
         0
        ],
        [
         "Jacky Ickx",
         "Cooper-Maserati",
         1.0,
         0
        ],
        [
         "Jo Bonnier",
         "McLaren-BRM",
         1.0,
         0
        ],
        [
         "Gianni Morbidelli",
         "Ferrari",
         0.5,
         0
        ],
        [
         "Lella Lombardi",
         "March",
         0.5,
         0
        ],
        [
         "Johnny Mantz",
         "Kurtis Kraft",
         0.0,
         0
        ],
        [
         "Nicholas Latifi",
         "Williams",
         0.0,
         0
        ],
        [
         "Larry Crockett",
         "Kurtis Kraft",
         0.0,
         0
        ],
        [
         "Ernie McCoy",
         "Kurtis Kraft",
         0.0,
         0
        ],
        [
         "Danny Kladis",
         "Bromme",
         0.0,
         0
        ],
        [
         "Bill Holland",
         "Kurtis Kraft",
         0.0,
         0
        ],
        [
         "Heikki Kovalainen",
         "Lotus",
         0.0,
         0
        ],
        [
         "Travis Webb",
         "Kurtis Kraft",
         0.0,
         0
        ],
        [
         "Dick Rathmann",
         "Watson",
         0.0,
         0
        ],
        [
         "Jimmy Jackson",
         "Kurtis Kraft",
         0.0,
         0
        ],
        [
         "Marcus Ericsson",
         "Caterham",
         0.0,
         0
        ],
        [
         "Jimmy Daywalt",
         "Nichels",
         0.0,
         0
        ],
        [
         "Bob Veith",
         "Moore",
         0.0,
         0
        ],
        [
         "Eddie Russo",
         "Pawl",
         0.0,
         0
        ],
        [
         "Rodger Ward",
         "Pawl",
         0.0,
         0
        ],
        [
         "Sakon Yamamoto",
         "Spyker",
         0.0,
         0
        ],
        [
         "Henry Banks",
         "Lesovsky",
         0.0,
         0
        ],
        [
         "Jackie Holmes",
         "Kurtis Kraft",
         0.0,
         0
        ],
        [
         "Jerry Hoyt",
         "Stevens",
         0.0,
         0
        ],
        [
         "Daniel Ricciardo",
         "HRT",
         0.0,
         0
        ],
        [
         "Christian Klien",
         "HRT",
         0.0,
         0
        ],
        [
         "Manny Ayulo",
         "Lesovsky",
         0.0,
         0
        ],
        [
         "Chuck Arnold",
         "Kurtis Kraft",
         0.0,
         0
        ],
        [
         "Markus Winkelhock",
         "Spyker",
         0.0,
         0
        ],
        [
         "Franck Montagny",
         "Super Aguri",
         0.0,
         0
        ],
        [
         "Bob Scott",
         "Bromme",
         0.0,
         0
        ],
        [
         "Rodger Ward",
         "Kurtis Kraft",
         0.0,
         0
        ],
        [
         "Christijan Albers",
         "MF1",
         0.0,
         0
        ],
        [
         "Kamui Kobayashi",
         "Caterham",
         0.0,
         0
        ],
        [
         "Eddie Sachs",
         "Kuzma",
         0.0,
         0
        ],
        [
         "Bob Scott",
         "Stevens",
         0.0,
         0
        ],
        [
         "Vitaly Petrov",
         "Caterham",
         0.0,
         0
        ],
        [
         "Don Freeland",
         "Kurtis Kraft",
         0.0,
         0
        ],
        [
         "Jim McWithey",
         "Epperly",
         0.0,
         0
        ],
        [
         "Bobby Grim",
         "Kurtis Kraft",
         0.0,
         0
        ],
        [
         "Rio Haryanto",
         "Manor Marussia",
         0.0,
         0
        ],
        [
         "Red Amick",
         "Epperly",
         0.0,
         0
        ],
        [
         "Tony Bettenhausen",
         "Kuzma",
         0.0,
         0
        ],
        [
         "Gene Hartley",
         "Kuzma",
         0.0,
         0
        ],
        [
         "Ed Elisian",
         "Stevens",
         0.0,
         0
        ],
        [
         "Eddie Sachs",
         "Ewing",
         0.0,
         0
        ],
        [
         "Chet Miller",
         "Kurtis Kraft",
         0.0,
         0
        ],
        [
         "Timo Glock",
         "Virgin",
         0.0,
         0
        ],
        [
         "Christijan Albers",
         "Spyker MF1",
         0.0,
         0
        ],
        [
         "Gene Hartley",
         "Kurtis Kraft",
         0.0,
         0
        ],
        [
         "Shorty Templeman",
         "Trevis",
         0.0,
         0
        ],
        [
         "Al Keller",
         "Kurtis Kraft",
         0.0,
         0
        ],
        [
         "Al Keller",
         "Kuzma",
         0.0,
         0
        ],
        [
         "Jerry Hoyt",
         "Kurtis Kraft",
         0.0,
         0
        ],
        [
         "Sakon Yamamoto",
         "HRT",
         0.0,
         0
        ],
        [
         "Bob Christie",
         "Kurtis Kraft",
         0.0,
         0
        ],
        [
         "Walt Faulkner",
         "Kuzma",
         0.0,
         0
        ],
        [
         "George Fonder",
         "Kurtis Kraft",
         0.0,
         0
        ],
        [
         "Jud Larson",
         "Kurtis Kraft",
         0.0,
         0
        ],
        [
         "Eddie Russo",
         "Kurtis Kraft",
         0.0,
         0
        ],
        [
         "Jim McWithey",
         "Kurtis Kraft",
         0.0,
         0
        ],
        [
         "Ernie McCoy",
         "Stevens",
         0.0,
         0
        ],
        [
         "Gene Force",
         "Kurtis Kraft",
         0.0,
         0
        ],
        [
         "André Lotterer",
         "Caterham",
         0.0,
         0
        ],
        [
         "Jimmy Reece",
         "Kurtis Kraft",
         0.0,
         0
        ],
        [
         "Lucas di Grassi",
         "Virgin",
         0.0,
         0
        ],
        [
         "Keith Andrews",
         "Schroeder",
         0.0,
         0
        ],
        [
         "Duke Nalon",
         "Kurtis Kraft",
         0.0,
         0
        ],
        [
         "Johnny Thomson",
         "Del Roy",
         0.0,
         0
        ],
        [
         "Bud Tingelstad",
         "Trevis",
         0.0,
         0
        ],
        [
         "Bob Scott",
         "Kurtis Kraft",
         0.0,
         0
        ],
        [
         "Don Freeland",
         "Watson",
         0.0,
         0
        ],
        [
         "Jimmy Daywalt",
         "Kurtis Kraft",
         0.0,
         0
        ],
        [
         "Christijan Albers",
         "Spyker",
         0.0,
         0
        ],
        [
         "Bob Veith",
         "Meskowski",
         0.0,
         0
        ],
        [
         "Manny Ayulo",
         "Kuzma",
         0.0,
         0
        ],
        [
         "Eddie Johnson",
         "Kurtis Kraft",
         0.0,
         0
        ],
        [
         "Tiago Monteiro",
         "Spyker MF1",
         0.0,
         0
        ],
        [
         "Dempsey Wilson",
         "Kurtis Kraft",
         0.0,
         0
        ],
        [
         "Pat O'Connor",
         "Kurtis Kraft",
         0.0,
         0
        ],
        [
         "Sakon Yamamoto",
         "Super Aguri",
         0.0,
         0
        ],
        [
         "Bill Homeier",
         "Kuzma",
         0.0,
         0
        ],
        [
         "Jim Rigsby",
         "Watson",
         0.0,
         0
        ],
        [
         "Johnny Thomson",
         "Kurtis Kraft",
         0.0,
         0
        ],
        [
         "Len Sutton",
         "Watson",
         0.0,
         0
        ],
        [
         "Charles Pic",
         "Marussia",
         0.0,
         0
        ],
        [
         "Bill Schindler",
         "Stevens",
         0.0,
         0
        ],
        [
         "Anthony Foyt",
         "Kuzma",
         0.0,
         0
        ],
        [
         "Frank Armi",
         "Kurtis Kraft",
         0.0,
         0
        ],
        [
         "Jim Hurtubise",
         "Christensen",
         0.0,
         0
        ],
        [
         "Johnny Boyd",
         "Epperly",
         0.0,
         0
        ],
        [
         "Mike Nazaruk",
         "Turner",
         0.0,
         0
        ],
        [
         "Pedro de la Rosa",
         "HRT",
         0.0,
         0
        ],
        [
         "Tiago Monteiro",
         "MF1",
         0.0,
         0
        ],
        [
         "George Connor",
         "Kurtis Kraft",
         0.0,
         0
        ],
        [
         "Luca Badoer",
         "Ferrari",
         0.0,
         0
        ],
        [
         "Charles Pic",
         "Caterham",
         0.0,
         0
        ],
        [
         "Andy Linden",
         "Nichels",
         0.0,
         0
        ],
        [
         "Timo Glock",
         "Marussia",
         0.0,
         0
        ],
        [
         "Heikki Kovalainen",
         "Lotus F1",
         0.0,
         0
        ],
        [
         "Vitantonio Liuzzi",
         "HRT",
         0.0,
         0
        ],
        [
         "Jimmy Bryan",
         "Schroeder",
         0.0,
         0
        ],
        [
         "Chuck Stevenson",
         "Watson",
         0.0,
         0
        ],
        [
         "Bob Sweikert",
         "Kuzma",
         0.0,
         0
        ],
        [
         "Mike Magill",
         "Sutton",
         0.0,
         0
        ],
        [
         "Len Sutton",
         "Lesovsky",
         0.0,
         0
        ],
        [
         "Eddie Johnson",
         "Pawl",
         0.0,
         0
        ],
        [
         "Bobby Ball",
         "Stevens",
         0.0,
         0
        ],
        [
         "Tony Bettenhausen",
         "Deidt",
         0.0,
         0
        ],
        [
         "Duke Dinsmore",
         "Kurtis Kraft",
         0.0,
         0
        ],
        [
         "Scott Speed",
         "Toro Rosso",
         0.0,
         0
        ],
        [
         "Jimmy Bryan",
         "Kurtis Kraft",
         0.0,
         0
        ],
        [
         "Max Chilton",
         "Marussia",
         0.0,
         0
        ],
        [
         "Troy Ruttman",
         "Watson",
         0.0,
         0
        ],
        [
         "Jarno Trulli",
         "Lotus",
         0.0,
         0
        ],
        [
         "Ray Crawford",
         "Kurtis Kraft",
         0.0,
         0
        ],
        [
         "Lloyd Ruby",
         "Watson",
         0.0,
         0
        ],
        [
         "Travis Webb",
         "Bromme",
         0.0,
         0
        ],
        [
         "Pat Flaherty",
         "Kuzma",
         0.0,
         0
        ],
        [
         "Cliff Griffith",
         "Kurtis Kraft",
         0.0,
         0
        ],
        [
         "Jérôme d'Ambrosio",
         "Lotus F1",
         0.0,
         0
        ],
        [
         "Cal Niday",
         "Stevens",
         0.0,
         0
        ],
        [
         "Rodger Ward",
         "Kuzma",
         0.0,
         0
        ],
        [
         "Anthony Foyt",
         "Kurtis Kraft",
         0.0,
         0
        ],
        [
         "Al Herman",
         "Ewing",
         0.0,
         0
        ],
        [
         "Jack Turner",
         "Christensen",
         0.0,
         0
        ],
        [
         "Andy Linden",
         "Stevens",
         0.0,
         0
        ],
        [
         "Andy Linden",
         "Schroeder",
         0.0,
         0
        ],
        [
         "Red Amick",
         "Kurtis Kraft",
         0.0,
         0
        ],
        [
         "Jérôme d'Ambrosio",
         "Virgin",
         0.0,
         0
        ],
        [
         "Ed Elisian",
         "Kurtis Kraft",
         0.0,
         0
        ],
        [
         "Robert Doornbos",
         "Red Bull",
         0.0,
         0
        ],
        [
         "Karun Chandhok",
         "Lotus",
         0.0,
         0
        ],
        [
         "Giedo van der Garde",
         "Caterham",
         0.0,
         0
        ],
        [
         "Chuck Weyant",
         "Kurtis Kraft",
         0.0,
         0
        ],
        [
         "Al Herman",
         "Dunn",
         0.0,
         0
        ],
        [
         "Esteban Gutiérrez",
         "Haas F1 Team",
         0.0,
         0
        ],
        [
         "Chuck Stevenson",
         "Kuzma",
         0.0,
         0
        ],
        [
         "George Fonder",
         "Sherman",
         0.0,
         0
        ],
        [
         "Len Duncan",
         "Schroeder",
         0.0,
         0
        ],
        [
         "Marshall Teague",
         "Kurtis Kraft",
         0.0,
         0
        ],
        [
         "Bob Scott",
         "Schroeder",
         0.0,
         0
        ],
        [
         "Bobby Grim",
         "Meskowski",
         0.0,
         0
        ],
        [
         "Johnny McDowell",
         "Kurtis Kraft",
         0.0,
         0
        ],
        [
         "Cal Niday",
         "Kurtis Kraft",
         0.0,
         0
        ],
        [
         "Anthony Davidson",
         "Super Aguri",
         0.0,
         0
        ],
        [
         "Pat Flaherty",
         "Kurtis Kraft",
         0.0,
         0
        ],
        [
         "George Fonder",
         "Schroeder",
         0.0,
         0
        ],
        [
         "Chuck Stevenson",
         "Kurtis Kraft",
         0.0,
         0
        ],
        [
         "Duane Carter",
         "Kuzma",
         0.0,
         0
        ],
        [
         "Heikki Kovalainen",
         "Caterham",
         0.0,
         0
        ],
        [
         "Romain Grosjean",
         "Renault",
         0.0,
         0
        ],
        [
         "Carl Scarborough",
         "Kurtis Kraft",
         0.0,
         0
        ],
        [
         "Tony Bettenhausen",
         "Watson",
         0.0,
         0
        ],
        [
         "Jimmy Reece",
         "Pankratz",
         0.0,
         0
        ],
        [
         "Bill Cheesbourg",
         "Kuzma",
         0.0,
         0
        ],
        [
         "Bruno Senna",
         "HRT",
         0.0,
         0
        ],
        [
         "Ray Crawford",
         "Elder",
         0.0,
         0
        ],
        [
         "Wayne Weiler",
         "Epperly",
         0.0,
         0
        ],
        [
         "Esteban Ocon",
         "Manor Marussia",
         0.0,
         0
        ],
        [
         "Al Herman",
         "Kurtis Kraft",
         0.0,
         0
        ],
        [
         "Narain Karthikeyan",
         "HRT",
         0.0,
         0
        ],
        [
         "Shorty Templeman",
         "Kurtis Kraft",
         0.0,
         0
        ],
        [
         "Yuji Ide",
         "Super Aguri",
         0.0,
         0
        ],
        [
         "Karun Chandhok",
         "HRT",
         0.0,
         0
        ],
        [
         "George Russell",
         "Williams",
         0.0,
         0
        ],
        [
         "Joe James",
         "Kurtis Kraft",
         0.0,
         0
        ],
        [
         "Johnny Thomson",
         "Nichels",
         0.0,
         0
        ],
        [
         "Adrian Sutil",
         "Sauber",
         0.0,
         0
        ],
        [
         "Giancarlo Fisichella",
         "Ferrari",
         0.0,
         0
        ],
        [
         "Olivier Grouillard",
         "Fondmetal",
         0.0,
         0
        ],
        [
         "Gregor Foitek",
         "Brabham",
         0.0,
         0
        ],
        [
         "Bill Cantrell",
         "Adams",
         0.0,
         0
        ],
        [
         "Alfonso Thiele",
         "Cooper-Climax",
         0.0,
         0
        ],
        [
         "Alexander Rossi",
         "Manor Marussia",
         0.0,
         0
        ],
        [
         "Michele Alboreto",
         "Arrows",
         0.0,
         0
        ],
        [
         "Nicola Larini",
         "Lambo",
         0.0,
         0
        ],
        [
         "Yannick Dalmas",
         "AGS",
         0.0,
         0
        ],
        [
         "Jacques Villeneuve",
         "Renault",
         0.0,
         0
        ],
        [
         "Ernesto Prinoth",
         "Lotus-Climax",
         0.0,
         0
        ],
        [
         "Michael May",
         "Lotus-Climax",
         0.0,
         0
        ],
        [
         "Bayliss Levrett",
         "Adams",
         0.0,
         0
        ],
        [
         "Nicola Larini",
         "Osella",
         0.0,
         0
        ],
        [
         "Enrico Bertaggia",
         "Coloni",
         0.0,
         0
        ],
        [
         "Olivier Grouillard",
         "Osella",
         0.0,
         0
        ],
        [
         "Roberto Lippi",
         "De Tomaso-Osca",
         0.0,
         0
        ],
        [
         "Alessandro Zanardi",
         "Jordan",
         0.0,
         0
        ],
        [
         "Gianni Morbidelli",
         "Dallara",
         0.0,
         0
        ],
        [
         "Brett Lunger",
         "McLaren",
         0.0,
         0
        ],
        [
         "Masten Gregory",
         "Lotus-Climax",
         0.0,
         0
        ],
        [
         "Gary Brabham",
         "Life",
         0.0,
         0
        ],
        [
         "Menato Boffa",
         "Cooper-Climax",
         0.0,
         0
        ],
        [
         "Aguri Suzuki",
         "Zakspeed",
         0.0,
         0
        ],
        [
         "Fabrizio Barbazza",
         "AGS",
         0.0,
         0
        ],
        [
         "Michele Alboreto",
         "Larrousse",
         0.0,
         0
        ],
        [
         "Karl Wendlinger",
         "Leyton House",
         0.0,
         0
        ],
        [
         "Cliff Griffith",
         "Stevens",
         0.0,
         0
        ],
        [
         "Pierre-Henri Raphanel",
         "Rial",
         0.0,
         0
        ],
        [
         "Travis Webb",
         "Maserati",
         0.0,
         0
        ],
        [
         "Paul Russo",
         "Nichels",
         0.0,
         0
        ],
        [
         "Renato Pirocchi",
         "Cooper-Maserati",
         0.0,
         0
        ],
        [
         "Bernd Schneider",
         "Arrows",
         0.0,
         0
        ],
        [
         "David Brabham",
         "Brabham",
         0.0,
         0
        ],
        [
         "Bill Schindler",
         "Snowberger",
         0.0,
         0
        ],
        [
         "André Pilette",
         "Emeryson",
         0.0,
         0
        ],
        [
         "Rodger Ward",
         "Lesovsky",
         0.0,
         0
        ],
        [
         "Brian Naylor",
         "JBW",
         0.0,
         0
        ],
        [
         "Maurice Trintignant",
         "Cooper-Maserati",
         0.0,
         0
        ],
        [
         "Will Stevens",
         "Caterham",
         0.0,
         0
        ],
        [
         "Harald Ertl",
         "Hesketh",
         0.0,
         0
        ],
        [
         "Bob Veith",
         "Kurtis Kraft",
         0.0,
         0
        ],
        [
         "Bertrand Gachot",
         "Coloni",
         0.0,
         0
        ],
        [
         "Michael Bartels",
         "Team Lotus",
         0.0,
         0
        ],
        [
         "Gabriele Tarquini",
         "Fondmetal",
         0.0,
         0
        ],
        [
         "Mikko Kozarowitzky",
         "March",
         0.0,
         0
        ],
        [
         "Mack Hellings",
         "Kurtis Kraft",
         0.0,
         0
        ],
        [
         "Walt Brown",
         "Kurtis Kraft",
         0.0,
         0
        ],
        [
         "Gregor Foitek",
         "Euro Brun",
         0.0,
         0
        ],
        [
         "Anthony Davidson",
         "BAR",
         0.0,
         0
        ],
        [
         "Jack Fairman",
         "Cooper-Climax",
         0.0,
         0
        ],
        [
         "Duane Carter",
         "Stevens",
         0.0,
         0
        ],
        [
         "Lorenzo Bandini",
         "Cooper-Maserati",
         0.0,
         0
        ],
        [
         "Johnnie Tolan",
         "Kurtis Kraft",
         0.0,
         0
        ],
        [
         "Alex Caffi",
         "Footwork",
         0.0,
         0
        ],
        [
         "Bernd Schneider",
         "Zakspeed",
         0.0,
         0
        ],
        [
         "Naoki Hattori",
         "Coloni",
         0.0,
         0
        ],
        [
         "Larry Perkins",
         "Surtees",
         0.0,
         0
        ],
        [
         "Joachim Winkelhock",
         "AGS",
         0.0,
         0
        ],
        [
         "Myron Fohr",
         "Marchese",
         0.0,
         0
        ],
        [
         "Nicola Larini",
         "Ligier",
         0.0,
         0
        ],
        [
         "Jack Turner",
         "Kurtis Kraft",
         0.0,
         0
        ],
        [
         "Patrick Nève",
         "March",
         0.0,
         0
        ],
        [
         "Will Stevens",
         "Manor Marussia",
         0.0,
         0
        ],
        [
         "Roberto Moreno",
         "Minardi",
         0.0,
         0
        ],
        [
         "Gianmaria Bruni",
         "Minardi",
         0.0,
         0
        ],
        [
         "Gerry Ashmore",
         "Lotus-Climax",
         0.0,
         0
        ],
        [
         "Jyrki Järvilehto",
         "Onyx",
         0.0,
         0
        ],
        [
         "Gene Hartley",
         "Lesovsky",
         0.0,
         0
        ],
        [
         "Troy Ruttman",
         "Lesovsky",
         0.0,
         0
        ],
        [
         "Roberto Moreno",
         "Euro Brun",
         0.0,
         0
        ],
        [
         "Martin Donnelly",
         "Team Lotus",
         0.0,
         0
        ],
        [
         "Gaetano Starrabba",
         "Lotus-Maserati",
         0.0,
         0
        ],
        [
         "Roberto Bussinello",
         "De Tomaso-Alfa Romeo",
         0.0,
         0
        ],
        [
         "George Connor",
         "Lesovsky",
         0.0,
         0
        ],
        [
         "Chuck Weyant",
         "Kuzma",
         0.0,
         0
        ],
        [
         "Pedro Chaves",
         "Coloni",
         0.0,
         0
        ],
        [
         "Lee Wallard",
         "Moore",
         0.0,
         0
        ],
        [
         "Nino Vaccarella",
         "De Tomaso-Alfa Romeo",
         0.0,
         0
        ],
        [
         "Claudio Langes",
         "Euro Brun",
         0.0,
         0
        ],
        [
         "Eric van de Poele",
         "Lambo",
         0.0,
         0
        ],
        [
         "Pierre-Henri Raphanel",
         "Coloni",
         0.0,
         0
        ],
        [
         "Paolo Barilla",
         "Minardi",
         0.0,
         0
        ],
        [
         "Johnny Herbert",
         "Tyrrell",
         0.0,
         0
        ],
        [
         "Robert Doornbos",
         "Minardi",
         0.0,
         0
        ],
        [
         "Mike Magill",
         "Kurtis Kraft",
         0.0,
         0
        ],
        [
         "Alex Ribeiro",
         "March",
         0.0,
         0
        ],
        [
         "Giorgio Pantano",
         "Jordan",
         0.0,
         0
        ],
        [
         "Bertrand Gachot",
         "Onyx",
         0.0,
         0
        ],
        [
         "Oscar Larrauri",
         "Euro Brun",
         0.0,
         0
        ],
        [
         "Conny Andersson",
         "BRM",
         0.0,
         0
        ],
        [
         "Roberto Merhi",
         "Manor Marussia",
         0.0,
         0
        ],
        [
         "Bruno Giacomelli",
         "Life",
         0.0,
         0
        ],
        [
         "Emilio de Villota",
         "McLaren",
         0.0,
         0
        ],
        [
         "Jackie Holmes",
         "Olson",
         0.0,
         0
        ],
        [
         "Antonio Giovinazzi",
         "Sauber",
         0.0,
         0
        ],
        [
         "David Purley",
         "LEC",
         0.0,
         0
        ],
        [
         "Jimmy Davies",
         "Ewing",
         0.0,
         0
        ],
        [
         "Rupert Keegan",
         "Hesketh",
         0.0,
         0
        ],
        [
         "Walt Ader",
         "Rae",
         0.0,
         0
        ],
        [
         "Billy Garrett",
         "Kuzma",
         0.0,
         0
        ],
        [
         "Yannick Dalmas",
         "Larrousse",
         0.0,
         0
        ],
        [
         "Elmer George",
         "Kurtis Kraft",
         0.0,
         0
        ],
        [
         "Roberto Moreno",
         "Coloni",
         0.0,
         0
        ],
        [
         "Wolfgang Seidel",
         "Lotus-Climax",
         0.0,
         0
        ],
        [
         "Aguri Suzuki",
         "Lola",
         0.0,
         0
        ],
        [
         "Tim Parnell",
         "Lotus-Climax",
         0.0,
         0
        ],
        [
         "Keith Andrews",
         "Kurtis Kraft",
         0.0,
         0
        ],
        [
         "Boy Lunger",
         "March",
         0.0,
         0
        ],
        [
         "Henry Banks",
         "Maserati",
         0.0,
         0
        ],
        [
         "Pietro Fittipaldi",
         "Haas F1 Team",
         0.0,
         0
        ],
        [
         "Gianni Morbidelli",
         "Minardi",
         0.0,
         0
        ],
        [
         "Jimmy Reece",
         "Lesovsky",
         0.0,
         0
        ],
        [
         "Jim Rathmann",
         "Wetteroth",
         0.0,
         0
        ],
        [
         "Hector Rebaque",
         "Hesketh",
         0.0,
         0
        ],
        [
         "Gregor Foitek",
         "Onyx",
         0.0,
         0
        ],
        [
         "Roberto Moreno",
         "Jordan",
         0.0,
         0
        ],
        [
         "Volker Weidler",
         "Rial",
         0.0,
         0
        ],
        [
         "Ricardo Zonta",
         "Toyota",
         0.0,
         0
        ],
        [
         "Bill Cheesbourg",
         "Kurtis Kraft",
         0.0,
         0
        ],
        [
         "Eddie Johnson",
         "Kuzma",
         0.0,
         0
        ],
        [
         "Don Edmunds",
         "Kurtis Kraft",
         0.0,
         0
        ],
        [
         "Gene Hartley",
         "Langley",
         0.0,
         0
        ],
        [
         "Edgar Barth",
         "Porsche",
         0.0,
         0
        ],
        [
         "Henry Taylor",
         "Lotus-Climax",
         0.0,
         0
        ],
        [
         "Martin Donnelly",
         "Arrows",
         0.0,
         0
        ],
        [
         "Bob Veith",
         "Phillips",
         0.0,
         0
        ],
        [
         "Ian Scheckter",
         "March",
         0.0,
         0
        ],
        [
         "Massimo Natili",
         "Cooper-Maserati",
         0.0,
         0
        ],
        [
         "Maurice Trintignant",
         "Lotus-Climax",
         0.0,
         0
        ],
        [
         "Alessandro Zanardi",
         "Minardi",
         0.0,
         0
        ],
        [
         "Geoff Duke",
         "Cooper-Climax",
         0.0,
         0
        ],
        [
         "Ian Burgess",
         "Lotus-Climax",
         0.0,
         0
        ],
        [
         "Jan Lammers",
         "ATS",
         0.0,
         0
        ],
        [
         "Howden Ganley",
         "Maki",
         0.0,
         0
        ],
        [
         "Jo Vonlanthen",
         "Williams",
         0.0,
         0
        ],
        [
         "Renato Pirocchi",
         "Cooper-Climax",
         0.0,
         0
        ],
        [
         "Michael Schumacher",
         "Jordan",
         0.0,
         0
        ],
        [
         "Jacques Swaters",
         "Ferrari",
         0.0,
         0
        ],
        [
         "Tom Belsø",
         "Iso Marlboro",
         0.0,
         0
        ],
        [
         "Johnnie Tolan",
         "Kuzma",
         0.0,
         0
        ],
        [
         "Gino Bianco",
         "Maserati",
         0.0,
         0
        ],
        [
         "Eitel Cantoni",
         "Maserati",
         0.0,
         0
        ],
        [
         "Keke Rosberg",
         "Wolf",
         0.0,
         0
        ],
        [
         "John Riseley-Prichard",
         "Connaught",
         0.0,
         0
        ],
        [
         "Rolf Stommelen",
         "Embassy Hill",
         0.0,
         0
        ],
        [
         "Alberto Ascari",
         "Maserati",
         0.0,
         0
        ],
        [
         "Maurício Gugelmin",
         "Jordan",
         0.0,
         0
        ],
        [
         "Tony Crook",
         "Frazer Nash",
         0.0,
         0
        ],
        [
         "Ernst Klodwig",
         "BMW",
         0.0,
         0
        ],
        [
         "Jochen Mass",
         "Surtees",
         0.0,
         0
        ],
        [
         "Lucien Bianchi",
         "ENB",
         0.0,
         0
        ],
        [
         "Harald Ertl",
         "Ensign",
         0.0,
         0
        ],
        [
         "Riccardo Paletti",
         "Osella",
         0.0,
         0
        ],
        [
         "Joe James",
         "Watson",
         0.0,
         0
        ],
        [
         "Brian Redman",
         "BRM",
         0.0,
         0
        ],
        [
         "Arturo Merzario",
         "March",
         0.0,
         0
        ],
        [
         "Mike Wilds",
         "Ensign",
         0.0,
         0
        ],
        [
         "Jochen Mass",
         "ATS",
         0.0,
         0
        ],
        [
         "Theo Helfrich",
         "Veritas",
         0.0,
         0
        ],
        [
         "Rudolf Krause",
         "BMW",
         0.0,
         0
        ],
        [
         "Lucien Bianchi",
         "Lotus-Climax",
         0.0,
         0
        ],
        [
         "Mack Hellings",
         "Deidt",
         0.0,
         0
        ],
        [
         "Wilson Fittipaldi",
         "Fittipaldi",
         0.0,
         0
        ],
        [
         "Johnny Claes",
         "Connaught",
         0.0,
         0
        ],
        [
         "Brian Henton",
         "Toleman",
         0.0,
         0
        ],
        [
         "Vern Schuppan",
         "Ensign",
         0.0,
         0
        ],
        [
         "Bertrand Gachot",
         "Rial",
         0.0,
         0
        ],
        [
         "Julian Bailey",
         "Tyrrell",
         0.0,
         0
        ],
        [
         "Theo Fitzau",
         "AFM",
         0.0,
         0
        ],
        [
         "Jean-Pierre Jarier",
         "Shadow-Matra",
         0.0,
         0
        ],
        [
         "Charles de Tornaco",
         "Ferrari",
         0.0,
         0
        ],
        [
         "Vern Schuppan",
         "Surtees",
         0.0,
         0
        ],
        [
         "Stefan Johansson",
         "Ligier",
         0.0,
         0
        ],
        [
         "Damon Hill",
         "Brabham",
         0.0,
         0
        ],
        [
         "Henri Pescarolo",
         "March",
         0.0,
         0
        ],
        [
         "Duncan Hamilton",
         "HWM",
         0.0,
         0
        ],
        [
         "Brian McGuire",
         "McGuire",
         0.0,
         0
        ],
        [
         "Emanuele Naspetti",
         "March",
         0.0,
         0
        ],
        [
         "Bob Gerard",
         "Cooper",
         0.0,
         0
        ],
        [
         "Bill Whitehouse",
         "Connaught",
         0.0,
         0
        ],
        [
         "Tony Trimmer",
         "Surtees",
         0.0,
         0
        ],
        [
         "Giorgio Francia",
         "Osella",
         0.0,
         0
        ],
        [
         "Carlo Franchi",
         "Surtees",
         0.0,
         0
        ],
        [
         "Don Beauman",
         "Connaught",
         0.0,
         0
        ],
        [
         "Ed Elisian",
         "Watson",
         0.0,
         0
        ],
        [
         "Paul Belmondo",
         "March",
         0.0,
         0
        ],
        [
         "Henry Banks",
         "Moore",
         0.0,
         0
        ],
        [
         "Jean-Pierre Jabouille",
         "Tyrrell",
         0.0,
         0
        ],
        [
         "Tony Maggs",
         "Lotus-Climax",
         0.0,
         0
        ],
        [
         "Peter Hirt",
         "Ferrari",
         0.0,
         0
        ],
        [
         "Günther Seiffert",
         "Lotus-BRM",
         0.0,
         0
        ],
        [
         "Alberto Colombo",
         "Merzario",
         0.0,
         0
        ],
        [
         "Gregor Foitek",
         "Rial",
         0.0,
         0
        ],
        [
         "Jack Fairman",
         "Ferguson",
         0.0,
         0
        ],
        [
         "Ian Burgess",
         "Cooper-Climax",
         0.0,
         0
        ],
        [
         "Jean-Louis Schlesser",
         "Williams",
         0.0,
         0
        ],
        [
         "Peter Gethin",
         "Lola",
         0.0,
         0
        ],
        [
         "Eric van de Poele",
         "Brabham",
         0.0,
         0
        ],
        [
         "Harry Schell",
         "Gordini",
         0.0,
         0
        ],
        [
         "John Campbell-Jones",
         "Cooper-Climax",
         0.0,
         0
        ],
        [
         "Hans von Stuck",
         "Ferrari",
         0.0,
         0
        ],
        [
         "Kurt Adolff",
         "Ferrari",
         0.0,
         0
        ],
        [
         "Dempsey Wilson",
         "Kuzma",
         0.0,
         0
        ],
        [
         "Ukyo Katayama",
         "Larrousse",
         0.0,
         0
        ],
        [
         "Kenneth McAlpine",
         "Connaught",
         0.0,
         0
        ],
        [
         "Alessandro Pesenti-Rossi",
         "Tyrrell",
         0.0,
         0
        ],
        [
         "David Purley",
         "Token",
         0.0,
         0
        ],
        [
         "Brian Henton",
         "March",
         0.0,
         0
        ],
        [
         "Skip Barber",
         "March",
         0.0,
         0
        ],
        [
         "Jimmy Reece",
         "Watson",
         0.0,
         0
        ],
        [
         "Bill Aston",
         "Aston Butterworth",
         0.0,
         0
        ],
        [
         "Rodney Nuckey",
         "Cooper",
         0.0,
         0
        ],
        [
         "Arturo Merzario",
         "Wolf",
         0.0,
         0
        ],
        [
         "Guy Edwards",
         "BRM",
         0.0,
         0
        ],
        [
         "David Murray",
         "Cooper",
         0.0,
         0
        ],
        [
         "Damien Magee",
         "Brabham-Ford",
         0.0,
         0
        ],
        [
         "André Simon",
         "Ferrari",
         0.0,
         0
        ],
        [
         "Leslie Thorne",
         "Connaught",
         0.0,
         0
        ],
        [
         "Ken Downing",
         "Connaught",
         0.0,
         0
        ],
        [
         "Keith Greene",
         "Gilby",
         0.0,
         0
        ],
        [
         "René Arnoux",
         "Martini",
         0.0,
         0
        ],
        [
         "Stirling Moss",
         "Ferguson",
         0.0,
         0
        ],
        [
         "Danny Ongais",
         "Shadow",
         0.0,
         0
        ],
        [
         "Bob Evans",
         "BRM",
         0.0,
         0
        ],
        [
         "Jochen Mass",
         "March",
         0.0,
         0
        ],
        [
         "Beppe Gabbiani",
         "Osella",
         0.0,
         0
        ],
        [
         "Mike Beuttler",
         "March",
         0.0,
         0
        ],
        [
         "Derek Bell",
         "Tecno",
         0.0,
         0
        ],
        [
         "Jody Scheckter",
         "McLaren",
         0.0,
         0
        ],
        [
         "Rupert Keegan",
         "Surtees",
         0.0,
         0
        ],
        [
         "Roberto Moreno",
         "Andrea Moda",
         0.0,
         0
        ],
        [
         "Ian Ashley",
         "Brabham",
         0.0,
         0
        ],
        [
         "Eliseo Salazar",
         "March",
         0.0,
         0
        ],
        [
         "Peter Collins",
         "HWM",
         0.0,
         0
        ],
        [
         "Jud Larson",
         "Watson",
         0.0,
         0
        ],
        [
         "John Watson",
         "Surtees",
         0.0,
         0
        ],
        [
         "Tim Schenken",
         "Trojan",
         0.0,
         0
        ],
        [
         "Ken Wharton",
         "Cooper",
         0.0,
         0
        ],
        [
         "Rodger Ward",
         "Bromme",
         0.0,
         0
        ],
        [
         "Jo Siffert",
         "Lotus-Climax",
         0.0,
         0
        ],
        [
         "Carl Forberg",
         "Kurtis Kraft",
         0.0,
         0
        ],
        [
         "Ken Wharton",
         "Maserati",
         0.0,
         0
        ],
        [
         "Oswald Karch",
         "Veritas",
         0.0,
         0
        ],
        [
         "Henri Pescarolo",
         "Surtees",
         0.0,
         0
        ],
        [
         "John Nicholson",
         "Lyncar",
         0.0,
         0
        ],
        [
         "Nino Vaccarella",
         "Porsche",
         0.0,
         0
        ],
        [
         "Roy Salvadori",
         "Ferrari",
         0.0,
         0
        ],
        [
         "Olivier Grouillard",
         "Tyrrell",
         0.0,
         0
        ],
        [
         "Duane Carter",
         "Deidt",
         0.0,
         0
        ],
        [
         "Aguri Suzuki",
         "Footwork",
         0.0,
         0
        ],
        [
         "Ernst Loof",
         "Veritas",
         0.0,
         0
        ],
        [
         "Stefan Johansson",
         "Footwork",
         0.0,
         0
        ],
        [
         "Loris Kessel",
         "Brabham-Ford",
         0.0,
         0
        ],
        [
         "Alberto Crespo",
         "Maserati",
         0.0,
         0
        ],
        [
         "Rolf Stommelen",
         "Lola",
         0.0,
         0
        ],
        [
         "Lance Macklin",
         "HWM",
         0.0,
         0
        ],
        [
         "Peter Collins",
         "Vanwall",
         0.0,
         0
        ],
        [
         "Hans von Stuck",
         "AFM",
         0.0,
         0
        ],
        [
         "Willi Heeks",
         "Veritas",
         0.0,
         0
        ],
        [
         "Len Sutton",
         "Kurtis Kraft",
         0.0,
         0
        ],
        [
         "Duke Dinsmore",
         "Schroeder",
         0.0,
         0
        ],
        [
         "Hans Herrmann",
         "Veritas",
         0.0,
         0
        ],
        [
         "Élie Bayol",
         "OSCA",
         0.0,
         0
        ],
        [
         "Günther Bechem",
         "AFM",
         0.0,
         0
        ],
        [
         "Horace Gould",
         "Cooper",
         0.0,
         0
        ],
        [
         "Michel Leclère",
         "Wolf",
         0.0,
         0
        ],
        [
         "Paul Goldsmith",
         "Kurtis Kraft",
         0.0,
         0
        ],
        [
         "Jay Chamberlain",
         "Lotus-Climax",
         0.0,
         0
        ],
        [
         "Jerry Unser",
         "Kurtis Kraft",
         0.0,
         0
        ],
        [
         "Bill Vukovich",
         "Trevis",
         0.0,
         0
        ],
        [
         "Stefano Modena",
         "Euro Brun",
         0.0,
         0
        ],
        [
         "Jimmy Davies",
         "Pawl",
         0.0,
         0
        ],
        [
         "Roberto Guerrero",
         "Ensign",
         0.0,
         0
        ],
        [
         "Keke Rosberg",
         "ATS",
         0.0,
         0
        ],
        [
         "Gilles Villeneuve",
         "McLaren",
         0.0,
         0
        ],
        [
         "Perry McCarthy",
         "Andrea Moda",
         0.0,
         0
        ],
        [
         "Slim Borgudd",
         "Tyrrell",
         0.0,
         0
        ],
        [
         "José Dolhem",
         "Surtees",
         0.0,
         0
        ],
        [
         "Ron Flockhart",
         "Maserati",
         0.0,
         0
        ],
        [
         "Chris Amon",
         "Amon",
         0.0,
         0
        ],
        [
         "Brian Henton",
         "Team Lotus",
         0.0,
         0
        ],
        [
         "Michael Bleekemolen",
         "ATS",
         0.0,
         0
        ],
        [
         "Tony Shelly",
         "Lotus-Climax",
         0.0,
         0
        ],
        [
         "Teo Fabi",
         "Toleman",
         0.0,
         0
        ],
        [
         "Roy Salvadori",
         "Maserati",
         0.0,
         0
        ],
        [
         "Louis Rosier",
         "Ferrari",
         0.0,
         0
        ],
        [
         "Roy Salvadori",
         "Connaught",
         0.0,
         0
        ],
        [
         "Chris Amon",
         "BRM",
         0.0,
         0
        ],
        [
         "Stirling Moss",
         "ERA",
         0.0,
         0
        ],
        [
         "Helmuth Koinigg",
         "Surtees",
         0.0,
         0
        ],
        [
         "Stefan Johansson",
         "AGS",
         0.0,
         0
        ],
        [
         "Erwin Bauer",
         "Veritas",
         0.0,
         0
        ],
        [
         "Harald Ertl",
         "ATS",
         0.0,
         0
        ],
        [
         "David Walker",
         "Team Lotus",
         0.0,
         0
        ],
        [
         "François Migault",
         "BRM",
         0.0,
         0
        ],
        [
         "Tony Trimmer",
         "Maki",
         0.0,
         0
        ],
        [
         "Franco Rol",
         "Maserati",
         0.0,
         0
        ],
        [
         "Jack Aitken",
         "Williams",
         0.0,
         0
        ],
        [
         "Patrick Nève",
         "Ensign",
         0.0,
         0
        ],
        [
         "Leo Kinnunen",
         "Surtees",
         0.0,
         0
        ],
        [
         "Paul di Resta",
         "Williams",
         0.0,
         0
        ],
        [
         "Roy Salvadori",
         "Lola",
         0.0,
         0
        ],
        [
         "François Migault",
         "Williams",
         0.0,
         0
        ],
        [
         "Henri Pescarolo",
         "BRM",
         0.0,
         0
        ],
        [
         "Philippe Streiff",
         "AGS",
         0.0,
         0
        ],
        [
         "Roelof Wunderink",
         "Ensign",
         0.0,
         0
        ],
        [
         "Bernard Collomb",
         "Cooper-Climax",
         0.0,
         0
        ],
        [
         "Peter Whitehead",
         "Cooper",
         0.0,
         0
        ],
        [
         "Bill Mackey",
         "Hall",
         0.0,
         0
        ],
        [
         "Derek Daly",
         "March",
         0.0,
         0
        ],
        [
         "Graham Whitehead",
         "Alta",
         0.0,
         0
        ],
        [
         "Chuck Weyant",
         "Dunn",
         0.0,
         0
        ],
        [
         "Heinz Schiller",
         "Lotus-BRM",
         0.0,
         0
        ],
        [
         "Billy Garrett",
         "Kurtis Kraft",
         0.0,
         0
        ],
        [
         "Art Bisch",
         "Kuzma",
         0.0,
         0
        ],
        [
         "Derek Daly",
         "Theodore",
         0.0,
         0
        ],
        [
         "Brian Henton",
         "Arrows",
         0.0,
         0
        ],
        [
         "Stirling Moss",
         "Connaught",
         0.0,
         0
        ],
        [
         "Tony Gaze",
         "HWM",
         0.0,
         0
        ],
        [
         "Tim Schenken",
         "Team Lotus",
         0.0,
         0
        ],
        [
         "Eric van de Poele",
         "Fondmetal",
         0.0,
         0
        ],
        [
         "Jack Turner",
         "Lesovsky",
         0.0,
         0
        ],
        [
         "Ian Ashley",
         "Token",
         0.0,
         0
        ],
        [
         "Reg Parnell",
         "Cooper",
         0.0,
         0
        ],
        [
         "Larry Perkins",
         "Amon",
         0.0,
         0
        ],
        [
         "Gabriele Tarquini",
         "Coloni",
         0.0,
         0
        ],
        [
         "Bruno Giacomelli",
         "McLaren",
         0.0,
         0
        ],
        [
         "Nelson Piquet",
         "McLaren",
         0.0,
         0
        ],
        [
         "Niki Lauda",
         "March",
         0.0,
         0
        ],
        [
         "Johnny Claes",
         "Simca",
         0.0,
         0
        ],
        [
         "Andrea Chiesa",
         "Fondmetal",
         0.0,
         0
        ],
        [
         "Bill Schindler",
         "Kurtis Kraft",
         0.0,
         0
        ],
        [
         "Arturo Merzario",
         "Merzario",
         0.0,
         0
        ],
        [
         "Guy Edwards",
         "Hesketh",
         0.0,
         0
        ],
        [
         "Jean-Pierre Jabouille",
         "Ligier",
         0.0,
         0
        ],
        [
         "Prince Bira",
         "Connaught",
         0.0,
         0
        ],
        [
         "Jacky Ickx",
         "Wolf",
         0.0,
         0
        ],
        [
         "Lella Lombardi",
         "Brabham",
         0.0,
         0
        ],
        [
         "Clemar Bucci",
         "Gordini",
         0.0,
         0
        ],
        [
         "Mike Wilds",
         "March",
         0.0,
         0
        ],
        [
         "Andy Sutcliffe",
         "March",
         0.0,
         0
        ],
        [
         "Olivier Gendebien",
         "Emeryson",
         0.0,
         0
        ],
        [
         "Tony Marsh",
         "BRM",
         0.0,
         0
        ],
        [
         "Brett Lunger",
         "Surtees",
         0.0,
         0
        ],
        [
         "Edgar Barth",
         "EMW",
         0.0,
         0
        ],
        [
         "Wolfgang Seidel",
         "Veritas",
         0.0,
         0
        ],
        [
         "Jacky Ickx",
         "Ensign",
         0.0,
         0
        ],
        [
         "Brett Lunger",
         "Hesketh",
         0.0,
         0
        ],
        [
         "Eric Brandon",
         "Cooper",
         0.0,
         0
        ],
        [
         "Miguel Ángel Guerra",
         "Osella",
         0.0,
         0
        ],
        [
         "Piercarlo Ghinzani",
         "Zakspeed",
         0.0,
         0
        ],
        [
         "Otto Stuppacher",
         "Tyrrell",
         0.0,
         0
        ],
        [
         "Siegfried Stohr",
         "Arrows",
         0.0,
         0
        ],
        [
         "Ingo Hoffmann",
         "Fittipaldi",
         0.0,
         0
        ],
        [
         "Wolfgang Seidel",
         "Lotus-BRM",
         0.0,
         0
        ],
        [
         "Tony Marsh",
         "Lotus-Climax",
         0.0,
         0
        ],
        [
         "Guy Edwards",
         "Lola",
         0.0,
         0
        ],
        [
         "Chuck Stevenson",
         "Marchese",
         0.0,
         0
        ],
        [
         "Leslie Marr",
         "Connaught",
         0.0,
         0
        ],
        [
         "Piero Dusio",
         "Cisitalia",
         0.0,
         0
        ],
        [
         "Olivier Grouillard",
         "AGS",
         0.0,
         0
        ],
        [
         "Peter Monteverdi",
         "MBM",
         0.0,
         0
        ],
        [
         "Larry Perkins",
         "Boro",
         0.0,
         0
        ],
        [
         "Jacques Laffite",
         "Iso Marlboro",
         0.0,
         0
        ],
        [
         "Sam Posey",
         "Surtees",
         0.0,
         0
        ],
        [
         "Prince Bira",
         "Gordini",
         0.0,
         0
        ],
        [
         "Heini Walter",
         "Porsche",
         0.0,
         0
        ],
        [
         "Raul Boesel",
         "March",
         0.0,
         0
        ],
        [
         "Rolf Stommelen",
         "Arrows",
         0.0,
         0
        ],
        [
         "Johnny McDowell",
         "Maserati",
         0.0,
         0
        ],
        [
         "Ian Raby",
         "Gilby",
         0.0,
         0
        ],
        [
         "Hans Binder",
         "ATS",
         0.0,
         0
        ],
        [
         "Eppie Wietzes",
         "Brabham",
         0.0,
         0
        ],
        [
         "Clive Puzey",
         "Lotus-Climax",
         0.0,
         0
        ],
        [
         "Ray Reed",
         "RE",
         0.0,
         0
        ],
        [
         "Ian Ashley",
         "Hesketh",
         0.0,
         0
        ],
        [
         "Pascal Fabre",
         "AGS",
         0.0,
         0
        ],
        [
         "Luca Badoer",
         "Minardi",
         0.0,
         0
        ],
        [
         "Manfred Winkelhock",
         "RAM",
         0.0,
         0
        ],
        [
         "Hans Binder",
         "Surtees",
         0.0,
         0
        ],
        [
         "Philippe Alliot",
         "McLaren",
         0.0,
         0
        ],
        [
         "Dave Kennedy",
         "Shadow",
         0.0,
         0
        ],
        [
         "Philippe Alliot",
         "RAM",
         0.0,
         0
        ],
        [
         "Eliseo Salazar",
         "RAM",
         0.0,
         0
        ],
        [
         "Patrick Nève",
         "Brabham-Ford",
         0.0,
         0
        ],
        [
         "Giovanna Amati",
         "Brabham",
         0.0,
         0
        ],
        [
         "Danny Ongais",
         "Ensign",
         0.0,
         0
        ],
        [
         "Lamberto Leoni",
         "Surtees",
         0.0,
         0
        ],
        [
         "Philippe Adams",
         "Team Lotus",
         0.0,
         0
        ],
        [
         "Ian Scheckter",
         "Team Lotus",
         0.0,
         0
        ],
        [
         "Umberto Maglioli",
         "Maserati",
         0.0,
         0
        ],
        [
         "Gérard Larrousse",
         "Brabham",
         0.0,
         0
        ],
        [
         "Dave Charlton",
         "Lotus-Ford",
         0.0,
         0
        ],
        [
         "Carlo Facetti",
         "Brabham",
         0.0,
         0
        ],
        [
         "Tony Settember",
         "Scirocco",
         0.0,
         0
        ],
        [
         "Peter de Klerk",
         "Alfa Romeo",
         0.0,
         0
        ],
        [
         "Juan Manuel Bordeu",
         "Lotus-Climax",
         0.0,
         0
        ],
        [
         "Martin Brundle",
         "Williams",
         0.0,
         0
        ],
        [
         "Frank Gardner",
         "Brabham-BRM",
         0.0,
         0
        ],
        [
         "Bernard de Dryver",
         "March",
         0.0,
         0
        ],
        [
         "Piero Carini",
         "Ferrari",
         0.0,
         0
        ],
        [
         "Divina Galica",
         "Hesketh",
         0.0,
         0
        ],
        [
         "Ricardo Zunino",
         "Tyrrell",
         0.0,
         0
        ],
        [
         "René Arnoux",
         "Surtees",
         0.0,
         0
        ],
        [
         "Eddie Cheever",
         "Osella",
         0.0,
         0
        ],
        [
         "Dave Morgan",
         "Surtees",
         0.0,
         0
        ],
        [
         "Michael Bleekemolen",
         "March",
         0.0,
         0
        ],
        [
         "Carlo Abate",
         "Porsche",
         0.0,
         0
        ],
        [
         "David Purley",
         "March",
         0.0,
         0
        ],
        [
         "Dieter Quester",
         "Surtees",
         0.0,
         0
        ],
        [
         "Jean-Marc Gounon",
         "Simtek",
         0.0,
         0
        ],
        [
         "Helmut Marko",
         "BRM",
         0.0,
         0
        ],
        [
         "David Clapham",
         "Cooper-Maserati",
         0.0,
         0
        ],
        [
         "Emilio de Villota",
         "March",
         0.0,
         0
        ],
        [
         "Brett Lunger",
         "Ensign",
         0.0,
         0
        ],
        [
         "Hiroshi Fushida",
         "Maki",
         0.0,
         0
        ],
        [
         "Piercarlo Ghinzani",
         "Ligier",
         0.0,
         0
        ],
        [
         "Rupert Keegan",
         "March",
         0.0,
         0
        ],
        [
         "Giorgio Scarlatti",
         "De Tomaso-Osca",
         0.0,
         0
        ],
        [
         "Vittorio Brambilla",
         "Alfa Romeo",
         0.0,
         0
        ],
        [
         "Jo Bonnier",
         "McLaren",
         0.0,
         0
        ],
        [
         "Marc Surer",
         "ATS",
         0.0,
         0
        ],
        [
         "Geoff Lees",
         "Team Lotus",
         0.0,
         0
        ],
        [
         "Jean-Pierre Jarier",
         "Ligier",
         0.0,
         0
        ],
        [
         "Ian Burgess",
         "Scirocco",
         0.0,
         0
        ],
        [
         "Rikky von Opel",
         "Ensign",
         0.0,
         0
        ],
        [
         "Jan Lammers",
         "Theodore",
         0.0,
         0
        ],
        [
         "Arturo Merzario",
         "Shadow",
         0.0,
         0
        ],
        [
         "Jo Gartner",
         "Osella",
         0.0,
         0
        ],
        [
         "Bruce Halford",
         "Maserati",
         0.0,
         0
        ],
        [
         "Jean-Pierre Jarier",
         "March",
         0.0,
         0
        ],
        [
         "Rupert Keegan",
         "Williams",
         0.0,
         0
        ],
        [
         "Mário de Araújo Cabral",
         "Cooper-Climax",
         0.0,
         0
        ],
        [
         "Torsten Palm",
         "Hesketh",
         0.0,
         0
        ],
        [
         "Graham Hill",
         "Shadow",
         0.0,
         0
        ],
        [
         "Kurt Kuhnke",
         "Lotus-Borgward",
         0.0,
         0
        ],
        [
         "Desmond Titterington",
         "Connaught",
         0.0,
         0
        ],
        [
         "Alberto Colombo",
         "ATS",
         0.0,
         0
        ],
        [
         "Taki Inoue",
         "Simtek",
         0.0,
         0
        ],
        [
         "Mike Hailwood",
         "Lola",
         0.0,
         0
        ],
        [
         "Ernie Pieterse",
         "Lotus-Climax",
         0.0,
         0
        ],
        [
         "Jackie Pretorius",
         "LDS-Alfa Romeo",
         0.0,
         0
        ],
        [
         "André Pilette",
         "Lotus-Climax",
         0.0,
         0
        ],
        [
         "John Fitch",
         "HWM",
         0.0,
         0
        ],
        [
         "Roberto Guerrero",
         "Theodore",
         0.0,
         0
        ],
        [
         "Jonathan Palmer",
         "Williams",
         0.0,
         0
        ],
        [
         "Geoff Lees",
         "Shadow",
         0.0,
         0
        ],
        [
         "José Froilán González",
         "Vanwall",
         0.0,
         0
        ],
        [
         "Paul Belmondo",
         "Pacific",
         0.0,
         0
        ],
        [
         "Eddie Keizan",
         "Team Lotus",
         0.0,
         0
        ],
        [
         "Hector Rebaque",
         "Rebaque",
         0.0,
         0
        ],
        [
         "Jean-Pierre Jarier",
         "Team Lotus",
         0.0,
         0
        ],
        [
         "Michele Alboreto",
         "Lola",
         0.0,
         0
        ],
        [
         "Alan Jones",
         "Hesketh",
         0.0,
         0
        ],
        [
         "Yves Cabantous",
         "HWM",
         0.0,
         0
        ],
        [
         "Bob Anderson",
         "Lola",
         0.0,
         0
        ],
        [
         "Teddy Pilette",
         "BRM",
         0.0,
         0
        ],
        [
         "Jean-Pierre Jabouille",
         "Surtees",
         0.0,
         0
        ],
        [
         "Geoff Lees",
         "Ensign",
         0.0,
         0
        ],
        [
         "Toranosuke Takagi",
         "Arrows",
         0.0,
         0
        ],
        [
         "Louis Chiron",
         "OSCA",
         0.0,
         0
        ],
        [
         "Mike Hawthorn",
         "BRM",
         0.0,
         0
        ],
        [
         "Arturo Merzario",
         "Williams",
         0.0,
         0
        ],
        [
         "Skip Barber",
         "March-Ford",
         0.0,
         0
        ],
        [
         "Thierry Boutsen",
         "Jordan",
         0.0,
         0
        ],
        [
         "Kenny Acheson",
         "RAM",
         0.0,
         0
        ],
        [
         "Alessandro Nannini",
         "Minardi",
         0.0,
         0
        ],
        [
         "Renzo Zorzi",
         "Williams",
         0.0,
         0
        ],
        [
         "Hans Binder",
         "Penske",
         0.0,
         0
        ],
        [
         "Christian Danner",
         "Zakspeed",
         0.0,
         0
        ],
        [
         "Brian Redman",
         "Shadow",
         0.0,
         0
        ],
        [
         "Damien Magee",
         "Williams",
         0.0,
         0
        ],
        [
         "Paddy Driver",
         "Team Lotus",
         0.0,
         0
        ],
        [
         "Ricardo Zunino",
         "Brabham",
         0.0,
         0
        ],
        [
         "Beppe Gabbiani",
         "Surtees",
         0.0,
         0
        ],
        [
         "Nicola Larini",
         "Coloni",
         0.0,
         0
        ],
        [
         "Chris Craft",
         "Brabham",
         0.0,
         0
        ],
        [
         "Domenico Schiattarella",
         "Simtek",
         0.0,
         0
        ],
        [
         "Éric Bernard",
         "Team Lotus",
         0.0,
         0
        ],
        [
         "Franck Lagorce",
         "Ligier",
         0.0,
         0
        ],
        [
         "Nanni Galli",
         "March-Ford",
         0.0,
         0
        ],
        [
         "Jean-Pierre Jarier",
         "ATS",
         0.0,
         0
        ],
        [
         "Adrián Campos",
         "Minardi",
         0.0,
         0
        ],
        [
         "Vern Schuppan",
         "Embassy Hill",
         0.0,
         0
        ],
        [
         "Olivier Beretta",
         "Larrousse",
         0.0,
         0
        ],
        [
         "Chico Serra",
         "Arrows",
         0.0,
         0
        ],
        [
         "Tim Schenken",
         "Iso Marlboro",
         0.0,
         0
        ],
        [
         "Ian Scheckter",
         "Tyrrell",
         0.0,
         0
        ],
        [
         "Jean-Pierre Jabouille",
         "Iso Marlboro",
         0.0,
         0
        ],
        [
         "Doug Serrurier",
         "LDS-Climax",
         0.0,
         0
        ],
        [
         "David Prophet",
         "Brabham-Ford",
         0.0,
         0
        ],
        [
         "Patrick Tambay",
         "Surtees",
         0.0,
         0
        ],
        [
         "David Hobbs",
         "McLaren",
         0.0,
         0
        ],
        [
         "Ricardo Londoño",
         "Ensign",
         0.0,
         0
        ],
        [
         "John Cannon",
         "BRM",
         0.0,
         0
        ],
        [
         "Nasif Estéfano",
         "De Tomaso",
         0.0,
         0
        ],
        [
         "Giancarlo Baghetti",
         "ATS",
         0.0,
         0
        ],
        [
         "Paul Hawkins",
         "Brabham-Ford",
         0.0,
         0
        ],
        [
         "Keke Rosberg",
         "Theodore",
         0.0,
         0
        ],
        [
         "Lamberto Leoni",
         "Ensign",
         0.0,
         0
        ],
        [
         "Ernesto Brambilla",
         "Cooper-Maserati",
         0.0,
         0
        ],
        [
         "Ian Scheckter",
         "Hesketh",
         0.0,
         0
        ],
        [
         "Trevor Blokdyk",
         "Cooper-Ford",
         0.0,
         0
        ],
        [
         "Jacky Ickx",
         "Iso Marlboro",
         0.0,
         0
        ],
        [
         "Franco Forini",
         "Osella",
         0.0,
         0
        ],
        [
         "Richard Robarts",
         "Brabham",
         0.0,
         0
        ],
        [
         "Bobby Rahal",
         "Wolf",
         0.0,
         0
        ],
        [
         "Helmuth Koinigg",
         "Brabham",
         0.0,
         0
        ],
        [
         "Ian Scheckter",
         "Williams",
         0.0,
         0
        ],
        [
         "Emilio Zapico",
         "Williams",
         0.0,
         0
        ],
        [
         "David Brabham",
         "Simtek",
         0.0,
         0
        ],
        [
         "Brian Henton",
         "Tyrrell",
         0.0,
         0
        ],
        [
         "Sam Tingle",
         "LDS-Alfa Romeo",
         0.0,
         0
        ],
        [
         "Mike Thackwell",
         "Arrows",
         0.0,
         0
        ],
        [
         "Corrado Fabi",
         "Osella",
         0.0,
         0
        ],
        [
         "Pete Lovely",
         "Lotus-Ford",
         0.0,
         0
        ],
        [
         "Roberto Lippi",
         "De Tomaso-Ferrari",
         0.0,
         0
        ],
        [
         "Bertrand Gachot",
         "Pacific",
         0.0,
         0
        ],
        [
         "Jim Crawford",
         "Team Lotus",
         0.0,
         0
        ],
        [
         "Guy Tunmer",
         "Team Lotus",
         0.0,
         0
        ],
        [
         "Chris Amon",
         "Tyrrell",
         0.0,
         0
        ],
        [
         "Hideki Noda",
         "Larrousse",
         0.0,
         0
        ],
        [
         "Stefan Johansson",
         "Spirit",
         0.0,
         0
        ],
        [
         "Tommy Byrne",
         "Theodore",
         0.0,
         0
        ],
        [
         "Hans Heyer",
         "Penske",
         0.0,
         0
        ],
        [
         "Loris Kessel",
         "Apollon",
         0.0,
         0
        ],
        [
         "Alessandro Zanardi",
         "Williams",
         0.0,
         0
        ],
        [
         "Gerhard Berger",
         "ATS",
         0.0,
         0
        ],
        [
         "Philippe Streiff",
         "Renault",
         0.0,
         0
        ],
        [
         "Paul Emery",
         "Emeryson",
         0.0,
         0
        ],
        [
         "Willy Mairesse",
         "Lotus-Climax",
         0.0,
         0
        ],
        [
         "Patrick Tambay",
         "Ligier",
         0.0,
         0
        ],
        [
         "Lella Lombardi",
         "Brabham-Ford",
         0.0,
         0
        ],
        [
         "Alex Ribeiro",
         "Fittipaldi",
         0.0,
         0
        ],
        [
         "Tony Trimmer",
         "McLaren",
         0.0,
         0
        ],
        [
         "Nelson Piquet",
         "Brabham-Ford",
         0.0,
         0
        ],
        [
         "Ricardo Zunino",
         "Brabham-Ford",
         0.0,
         0
        ],
        [
         "Archie Scott Brown",
         "Connaught",
         0.0,
         0
        ],
        [
         "Dave Charlton",
         "McLaren",
         0.0,
         0
        ],
        [
         "Brett Lunger",
         "March",
         0.0,
         0
        ],
        [
         "Patrick Depailler",
         "Alfa Romeo",
         0.0,
         0
        ],
        [
         "Jonathan Palmer",
         "RAM",
         0.0,
         0
        ],
        [
         "Stefan Johansson",
         "Shadow",
         0.0,
         0
        ],
        [
         "Brian Henton",
         "Boro",
         0.0,
         0
        ],
        [
         "Roberto Moreno",
         "Team Lotus",
         0.0,
         0
        ],
        [
         "Jan Lammers",
         "Shadow",
         0.0,
         0
        ],
        [
         "Derek Daly",
         "Hesketh",
         0.0,
         0
        ],
        [
         "Rikky von Opel",
         "Brabham",
         0.0,
         0
        ],
        [
         "Marc Surer",
         "Theodore",
         0.0,
         0
        ],
        [
         "Phil Hill",
         "ATS",
         0.0,
         0
        ],
        [
         "Chris Amon",
         "Lola",
         0.0,
         0
        ],
        [
         "Eddie Cheever",
         "Theodore",
         0.0,
         0
        ],
        [
         "Raul Boesel",
         "Ligier",
         0.0,
         0
        ],
        [
         "Eddie Keizan",
         "Tyrrell",
         0.0,
         0
        ],
        [
         "Jan Lammers",
         "Ensign",
         0.0,
         0
        ],
        [
         "Niki Lauda",
         "Brabham-Ford",
         0.0,
         0
        ],
        [
         "Giorgio Francia",
         "Brabham",
         0.0,
         0
        ],
        [
         "Mario Andretti",
         "Williams",
         0.0,
         0
        ],
        [
         "James Hunt",
         "Wolf",
         0.0,
         0
        ],
        [
         "Ron Flockhart",
         "BRM",
         0.0,
         0
        ],
        [
         "Peter Revson",
         "Tyrrell",
         0.0,
         0
        ],
        [
         "Johnny Herbert",
         "Ligier",
         0.0,
         0
        ],
        [
         "Manfred Winkelhock",
         "Brabham",
         0.0,
         0
        ],
        [
         "Jacques Villeneuve Sr.",
         "Arrows",
         0.0,
         0
        ],
        [
         "Pierre-Henri Raphanel",
         "Larrousse",
         0.0,
         0
        ],
        [
         "Jean-Louis Schlesser",
         "RAM",
         0.0,
         0
        ],
        [
         "Andrea de Adamich",
         "March-Alfa Romeo",
         0.0,
         0
        ],
        [
         "Mika Salo",
         "Team Lotus",
         0.0,
         0
        ],
        [
         "Tony Settember",
         "Emeryson",
         0.0,
         0
        ],
        [
         "Arturo Merzario",
         "Fittipaldi",
         0.0,
         0
        ],
        [
         "François Hesnault",
         "Ligier",
         0.0,
         0
        ],
        [
         "Eddie Cheever",
         "Hesketh",
         0.0,
         0
        ],
        [
         "Eliseo Salazar",
         "Osella",
         0.0,
         0
        ],
        [
         "Mauro Baldi",
         "Spirit",
         0.0,
         0
        ],
        [
         "Nelson Piquet",
         "Ensign",
         0.0,
         0
        ],
        [
         "Tony Shelly",
         "Lotus-BRM",
         0.0,
         0
        ],
        [
         "Alex Blignaut",
         "Cooper-Climax",
         0.0,
         0
        ],
        [
         "Emilio de Villota",
         "Brabham-Ford",
         0.0,
         0
        ],
        [
         "Gianfranco Brancatelli",
         "Kauhsen",
         0.0,
         0
        ],
        [
         "Roberto Mieres",
         "Gordini",
         0.0,
         0
        ],
        [
         "Jonathan Palmer",
         "Zakspeed",
         0.0,
         0
        ],
        [
         "Graham McRae",
         "Iso Marlboro",
         0.0,
         0
        ],
        [
         "Nino Vaccarella",
         "Lotus-Climax",
         0.0,
         0
        ],
        [
         "Roger Williamson",
         "March",
         0.0,
         0
        ],
        [
         "Luca Badoer",
         "Lola",
         0.0,
         0
        ],
        [
         "Alex Caffi",
         "Osella",
         0.0,
         0
        ],
        [
         "Maurice Trintignant",
         "Vanwall",
         0.0,
         0
        ],
        [
         "Jack Brabham",
         "Maserati",
         0.0,
         0
        ],
        [
         "Tony Maggs",
         "Lotus-BRM",
         0.0,
         0
        ],
        [
         "Brausch Niemann",
         "Lotus-Ford",
         0.0,
         0
        ],
        [
         "Hans Herrmann",
         "Cooper-Maserati",
         0.0,
         0
        ],
        [
         "Esteban Tuero",
         "Minardi",
         0.0,
         0
        ],
        [
         "John Campbell-Jones",
         "Emeryson",
         0.0,
         0
        ],
        [
         "Allan McNish",
         "Toyota",
         0.0,
         0
        ],
        [
         "Cuth Harrison",
         "ERA",
         0.0,
         0
        ],
        [
         "Les Leston",
         "Connaught",
         0.0,
         0
        ],
        [
         "Manfred Winkelhock",
         "Arrows",
         0.0,
         0
        ],
        [
         "Hans Klenk",
         "Veritas",
         0.0,
         0
        ],
        [
         "Mike Taylor",
         "Cooper-Climax",
         0.0,
         0
        ],
        [
         "Shinji Nakano",
         "Minardi",
         0.0,
         0
        ],
        [
         "Johnny Cecotto",
         "Toleman",
         0.0,
         0
        ],
        [
         "Innes Ireland",
         "Lotus-BRM",
         0.0,
         0
        ],
        [
         "Peter Revson",
         "Lotus-BRM",
         0.0,
         0
        ],
        [
         "Pedro Lamy",
         "Team Lotus",
         0.0,
         0
        ],
        [
         "Roger Laurent",
         "Ferrari",
         0.0,
         0
        ],
        [
         "Bob Evans",
         "Team Lotus",
         0.0,
         0
        ],
        [
         "Geoff Lees",
         "Tyrrell",
         0.0,
         0
        ],
        [
         "Jan Lammers",
         "March",
         0.0,
         0
        ],
        [
         "Felice Bonetto",
         "Milano",
         0.0,
         0
        ],
        [
         "Christian Goethals",
         "Cooper",
         0.0,
         0
        ],
        [
         "Bernard Collomb",
         "Lotus-Climax",
         0.0,
         0
        ],
        [
         "Robert La Caze",
         "Cooper",
         0.0,
         0
        ],
        [
         "Jo Bonnier",
         "Brabham-BRM",
         0.0,
         0
        ],
        [
         "Helmut Niedermayr",
         "AFM",
         0.0,
         0
        ],
        [
         "François Migault",
         "Connew",
         0.0,
         0
        ],
        [
         "Nanni Galli",
         "Ferrari",
         0.0,
         0
        ],
        [
         "Bob Evans",
         "Brabham-Ford",
         0.0,
         0
        ],
        [
         "Roberto Moreno",
         "Forti",
         0.0,
         0
        ],
        [
         "Louis Chiron",
         "Talbot-Lago",
         0.0,
         0
        ],
        [
         "Toranosuke Takagi",
         "Tyrrell",
         0.0,
         0
        ],
        [
         "Ivan Capelli",
         "AGS",
         0.0,
         0
        ],
        [
         "Ian Burgess",
         "Cooper-Maserati",
         0.0,
         0
        ],
        [
         "Aguri Suzuki",
         "Jordan",
         0.0,
         0
        ],
        [
         "Gastón Mazzacane",
         "Prost",
         0.0,
         0
        ],
        [
         "Ivor Bueb",
         "Team Lotus",
         0.0,
         0
        ],
        [
         "Jos Verstappen",
         "Stewart",
         0.0,
         0
        ],
        [
         "Pierre Levegh",
         "Talbot-Lago",
         0.0,
         0
        ],
        [
         "Mike Parkes",
         "Fry",
         0.0,
         0
        ],
        [
         "Tony Marsh",
         "Cooper",
         0.0,
         0
        ],
        [
         "John Love",
         "Surtees",
         0.0,
         0
        ],
        [
         "Hans Herrmann",
         "Maserati",
         0.0,
         0
        ],
        [
         "Allen Berg",
         "Osella",
         0.0,
         0
        ],
        [
         "Keith Greene",
         "Cooper-Climax",
         0.0,
         0
        ],
        [
         "Pedro Diniz",
         "Forti",
         0.0,
         0
        ],
        [
         "Tomáš Enge",
         "Prost",
         0.0,
         0
        ],
        [
         "Johnny Claes",
         "HWM",
         0.0,
         0
        ],
        [
         "Bertil Roos",
         "Shadow",
         0.0,
         0
        ],
        [
         "Andrea Montermini",
         "Simtek",
         0.0,
         0
        ],
        [
         "Andrea Montermini",
         "Pacific",
         0.0,
         0
        ],
        [
         "Franco Comotti",
         "Maserati",
         0.0,
         0
        ],
        [
         "Nick Heidfeld",
         "Prost",
         0.0,
         0
        ],
        [
         "Johnny Herbert",
         "Jaguar",
         0.0,
         0
        ],
        [
         "Chris Amon",
         "Wolf",
         0.0,
         0
        ],
        [
         "André Simon",
         "Simca",
         0.0,
         0
        ],
        [
         "Adolf Brudes",
         "Veritas",
         0.0,
         0
        ],
        [
         "Troy Ruttman",
         "Maserati",
         0.0,
         0
        ],
        [
         "Jean-Denis Délétraz",
         "Pacific",
         0.0,
         0
        ],
        [
         "Ian Ashley",
         "Williams",
         0.0,
         0
        ],
        [
         "Jos Verstappen",
         "Simtek",
         0.0,
         0
        ],
        [
         "Bruce McLaren",
         "Cooper",
         0.0,
         0
        ],
        [
         "Mike Thackwell",
         "RAM",
         0.0,
         0
        ],
        [
         "Keith Greene",
         "Lotus-Climax",
         0.0,
         0
        ],
        [
         "Ian Raby",
         "Brabham-BRM",
         0.0,
         0
        ],
        [
         "Günther Bechem",
         "BMW",
         0.0,
         0
        ],
        [
         "Dave Charlton",
         "Team Lotus",
         0.0,
         0
        ],
        [
         "Dick Gibson",
         "Cooper",
         0.0,
         0
        ],
        [
         "Bill Moss",
         "Cooper-Climax",
         0.0,
         0
        ],
        [
         "Kevin Cogan",
         "Tyrrell",
         0.0,
         0
        ],
        [
         "Heinz-Harald Frentzen",
         "Prost",
         0.0,
         0
        ],
        [
         "Guy Mairesse",
         "Talbot-Lago",
         0.0,
         0
        ],
        [
         "Henri Louveau",
         "Talbot-Lago",
         0.0,
         0
        ],
        [
         "Raymond Sommer",
         "Talbot-Lago",
         0.0,
         0
        ],
        [
         "Larry Perkins",
         "Brabham-Alfa Romeo",
         0.0,
         0
        ],
        [
         "John Taylor",
         "Cooper-Climax",
         0.0,
         0
        ],
        [
         "Fritz d'Orey",
         "Maserati",
         0.0,
         0
        ],
        [
         "Rolf Stommelen",
         "March",
         0.0,
         0
        ],
        [
         "Alberto Uria",
         "Maserati",
         0.0,
         0
        ],
        [
         "Conny Andersson",
         "Surtees",
         0.0,
         0
        ],
        [
         "Wolfgang Seidel",
         "Cooper",
         0.0,
         0
        ],
        [
         "Jean-Marc Gounon",
         "Minardi",
         0.0,
         0
        ],
        [
         "Clemar Bucci",
         "Maserati",
         0.0,
         0
        ],
        [
         "François Hesnault",
         "Renault",
         0.0,
         0
        ],
        [
         "Giovanni Lavaggi",
         "Pacific",
         0.0,
         0
        ],
        [
         "Corrado Fabi",
         "Brabham",
         0.0,
         0
        ],
        [
         "Ian Burgess",
         "Cooper",
         0.0,
         0
        ],
        [
         "Mike Wilds",
         "Shadow",
         0.0,
         0
        ],
        [
         "Huub Rothengatter",
         "Osella",
         0.0,
         0
        ],
        [
         "Luciano Burti",
         "Prost",
         0.0,
         0
        ],
        [
         "Andrea de Cesaris",
         "Minardi",
         0.0,
         0
        ],
        [
         "George Eaton",
         "BRM",
         0.0,
         0
        ],
        [
         "Tom Bridger",
         "Cooper",
         0.0,
         0
        ],
        [
         "Masahiro Hasemi",
         "Kojima",
         0.0,
         0
        ],
        [
         "Huub Rothengatter",
         "Zakspeed",
         0.0,
         0
        ],
        [
         "Ivan Capelli",
         "Jordan",
         0.0,
         0
        ],
        [
         "Danny Ongais",
         "Penske",
         0.0,
         0
        ],
        [
         "Nanni Galli",
         "Tecno",
         0.0,
         0
        ],
        [
         "Patrick Gaillard",
         "Ensign",
         0.0,
         0
        ],
        [
         "Josef Peters",
         "Veritas",
         0.0,
         0
        ],
        [
         "Roland Ratzenberger",
         "Simtek",
         0.0,
         0
        ],
        [
         "Luigi Piotti",
         "Maserati",
         0.0,
         0
        ],
        [
         "John Watson",
         "Team Lotus",
         0.0,
         0
        ],
        [
         "Johnny Claes",
         "Talbot-Lago",
         0.0,
         0
        ],
        [
         "Marco Apicella",
         "Jordan",
         0.0,
         0
        ],
        [
         "Carroll Shelby",
         "Aston Martin",
         0.0,
         0
        ],
        [
         "François Picard",
         "Cooper",
         0.0,
         0
        ],
        [
         "Alan Jones",
         "Arrows",
         0.0,
         0
        ],
        [
         "Lella Lombardi",
         "Williams",
         0.0,
         0
        ],
        [
         "Hans Binder",
         "Wolf",
         0.0,
         0
        ],
        [
         "Jesús Iglesias",
         "Gordini",
         0.0,
         0
        ],
        [
         "Hans Binder",
         "Ensign",
         0.0,
         0
        ],
        [
         "Peter Revson",
         "Shadow",
         0.0,
         0
        ],
        [
         "Henri Pescarolo",
         "Iso Marlboro",
         0.0,
         0
        ],
        [
         "Toshio Suzuki",
         "Larrousse",
         0.0,
         0
        ],
        [
         "Cliff Allison",
         "Lotus-Climax",
         0.0,
         0
        ],
        [
         "David Piper",
         "Team Lotus",
         0.0,
         0
        ],
        [
         "Jo Bonnier",
         "Maserati",
         0.0,
         0
        ],
        [
         "Geoff Lees",
         "Theodore",
         0.0,
         0
        ],
        [
         "Jean-Denis Délétraz",
         "Larrousse",
         0.0,
         0
        ],
        [
         "Clemente Biondetti",
         "Ferrari",
         0.0,
         0
        ],
        [
         "Toni Ulmen",
         "Veritas",
         0.0,
         0
        ],
        [
         "Boy Lunger",
         "Penske",
         0.0,
         0
        ],
        [
         "Eddie Cheever",
         "Lola",
         0.0,
         0
        ],
        [
         "Michel Leclère",
         "Tyrrell",
         0.0,
         0
        ],
        [
         "Ivor Bueb",
         "Cooper-Borgward",
         0.0,
         0
        ],
        [
         "Alex Yoong",
         "Minardi",
         0.0,
         0
        ],
        [
         "Taki Inoue",
         "Footwork",
         0.0,
         0
        ],
        [
         "Elio de Angelis",
         "Brabham",
         0.0,
         0
        ],
        [
         "Pablo Birger",
         "Gordini",
         0.0,
         0
        ],
        [
         "Huub Rothengatter",
         "Spirit",
         0.0,
         0
        ],
        [
         "Tarso Marques",
         "Minardi",
         0.0,
         0
        ],
        [
         "Gastón Mazzacane",
         "Minardi",
         0.0,
         0
        ],
        [
         "Luciano Burti",
         "Jaguar",
         0.0,
         0
        ],
        [
         "Chris Bristow",
         "Cooper-Borgward",
         0.0,
         0
        ],
        [
         "Marcel Balsa",
         "BMW",
         0.0,
         0
        ],
        [
         "André Guelfi",
         "Cooper",
         0.0,
         0
        ],
        [
         "Alan Stacey",
         "Team Lotus",
         0.0,
         0
        ],
        [
         "Rolf Stommelen",
         "Hesketh",
         0.0,
         0
        ],
        [
         "Paul Pietsch",
         "Veritas",
         0.0,
         0
        ],
        [
         "Richard Robarts",
         "Iso Marlboro",
         0.0,
         0
        ],
        [
         "Trevor Taylor",
         "Cooper-Climax",
         0.0,
         0
        ],
        [
         "Jos Verstappen",
         "Tyrrell",
         0.0,
         0
        ],
        [
         "Divina Galica",
         "Surtees",
         0.0,
         0
        ],
        [
         "Jac Nelleman",
         "Brabham-Ford",
         0.0,
         0
        ],
        [
         "Reine Wisell",
         "BRM",
         0.0,
         0
        ],
        [
         "Dennis Taylor",
         "Team Lotus",
         0.0,
         0
        ],
        [
         "Fritz Riess",
         "Veritas",
         0.0,
         0
        ],
        [
         "Mike Beuttler",
         "March-Ford",
         0.0,
         0
        ],
        [
         "Noritake Takahara",
         "Surtees",
         0.0,
         0
        ],
        [
         "Derek Warwick",
         "Brabham",
         0.0,
         0
        ],
        [
         "Peter Ashdown",
         "Cooper-Climax",
         0.0,
         0
        ],
        [
         "Stefan Johansson",
         "Tyrrell",
         0.0,
         0
        ],
        [
         "Jack Fairman",
         "Cooper",
         0.0,
         0
        ],
        [
         "Frank Gardner",
         "Brabham-Ford",
         0.0,
         0
        ],
        [
         "Rudolf Schoeller",
         "Ferrari",
         0.0,
         0
        ],
        [
         "Jarno Trulli",
         "Minardi",
         0.0,
         0
        ],
        [
         "Jacques Villeneuve Sr.",
         "RAM",
         0.0,
         0
        ],
        [
         "Tim Parnell",
         "Cooper-Climax",
         0.0,
         0
        ],
        [
         "Gabriele Tarquini",
         "Osella",
         0.0,
         0
        ],
        [
         "Nigel Mansell",
         "McLaren",
         0.0,
         0
        ],
        [
         "André Simon",
         "Gordini",
         0.0,
         0
        ],
        [
         "Enrique Bernoldi",
         "Arrows",
         0.0,
         0
        ],
        [
         "Gianni Morbidelli",
         "Sauber",
         0.0,
         0
        ],
        [
         "Piero Taruffi",
         "Vanwall",
         0.0,
         0
        ],
        [
         "Roy Salvadori",
         "Aston Martin",
         0.0,
         0
        ],
        [
         "Christian Danner",
         "Osella",
         0.0,
         0
        ],
        [
         "Piercarlo Ghinzani",
         "Toleman",
         0.0,
         0
        ],
        [
         "Brian Naylor",
         "Cooper",
         0.0,
         0
        ],
        [
         "Reine Wisell",
         "March",
         0.0,
         0
        ],
        [
         "Ayrton Senna",
         "Williams",
         0.0,
         0
        ],
        [
         "Mike Thackwell",
         "Tyrrell",
         0.0,
         0
        ],
        [
         "Piero Taruffi",
         "Alfa Romeo",
         0.0,
         0
        ],
        [
         "Aldo Gordini",
         "Simca",
         0.0,
         0
        ],
        [
         "Kevin Cogan",
         "Williams",
         0.0,
         0
        ],
        [
         "Mike Wilds",
         "BRM",
         0.0,
         0
        ],
        [
         "Ukyo Katayama",
         "Minardi",
         0.0,
         0
        ],
        [
         "Emanuele Naspetti",
         "Jordan",
         0.0,
         0
        ],
        [
         "Fernando Alonso",
         "Minardi",
         0.0,
         0
        ],
        [
         "Willi Heeks",
         "AFM",
         0.0,
         0
        ],
        [
         "Howden Ganley",
         "March",
         0.0,
         0
        ],
        [
         "Trevor Taylor",
         "Lotus-BRM",
         0.0,
         0
        ],
        [
         "Giancarlo Baghetti",
         "BRM",
         0.0,
         0
        ],
        [
         "Massimiliano Papis",
         "Footwork",
         0.0,
         0
        ],
        [
         "Kazuyoshi Hoshino",
         "Tyrrell",
         0.0,
         0
        ],
        [
         "David Murray",
         "Maserati",
         0.0,
         0
        ],
        [
         "Henri Pescarolo",
         "Politoys",
         0.0,
         0
        ],
        [
         "Paul Pietsch",
         "Maserati",
         0.0,
         0
        ],
        [
         "Pete Lovely",
         "Team Lotus",
         0.0,
         0
        ],
        [
         "Hubert Hahne",
         "March",
         0.0,
         0
        ],
        [
         "Thomas Monarch",
         "Lotus-Climax",
         0.0,
         0
        ],
        [
         "Justin Wilson",
         "Minardi",
         0.0,
         0
        ],
        [
         "Umberto Maglioli",
         "Porsche",
         0.0,
         0
        ],
        [
         "Gino Munaron",
         "Cooper-Castellotti",
         0.0,
         0
        ],
        [
         "Brian Gubby",
         "Lotus-Climax",
         0.0,
         0
        ],
        [
         "Graham Hill",
         "Embassy Hill",
         0.0,
         0
        ],
        [
         "Jo Schlesser",
         "Matra",
         0.0,
         0
        ],
        [
         "François Migault",
         "Lola",
         0.0,
         0
        ],
        [
         "François Hesnault",
         "Brabham",
         0.0,
         0
        ],
        [
         "Mike Hawthorn",
         "Vanwall",
         0.0,
         0
        ],
        [
         "Hap Sharp",
         "Lotus-BRM",
         0.0,
         0
        ],
        [
         "Luigi Piotti",
         "OSCA",
         0.0,
         0
        ],
        [
         "Walt Hansgen",
         "Team Lotus",
         0.0,
         0
        ],
        [
         "Nanni Galli",
         "Iso Marlboro",
         0.0,
         0
        ],
        [
         "Maurice Trintignant",
         "Aston Martin",
         0.0,
         0
        ],
        [
         "Ted Whiteaway",
         "HWM",
         0.0,
         0
        ],
        [
         "Brian Redman",
         "De Tomaso",
         0.0,
         0
        ],
        [
         "Gus Hutchison",
         "Brabham",
         0.0,
         0
        ],
        [
         "Silvio Moser",
         "Bellasi",
         0.0,
         0
        ],
        [
         "Giulio Cabianca",
         "OSCA",
         0.0,
         0
        ],
        [
         "Bill Brack",
         "BRM",
         0.0,
         0
        ],
        [
         "Maria de Filippis",
         "Maserati",
         0.0,
         0
        ],
        [
         "Bernie Ecclestone",
         "Connaught",
         0.0,
         0
        ],
        [
         "Antônio Pizzonia",
         "Jaguar",
         0.0,
         0
        ],
        [
         "Giancarlo Fisichella",
         "Minardi",
         0.0,
         0
        ],
        [
         "Harry Schell",
         "Ferrari",
         0.0,
         0
        ],
        [
         "Jackie Pretorius",
         "Iso Marlboro",
         0.0,
         0
        ],
        [
         "François Mazet",
         "March-Ford",
         0.0,
         0
        ],
        [
         "Dan Gurney",
         "BRM",
         0.0,
         0
        ],
        [
         "Kurt Ahrens",
         "Protos",
         0.0,
         0
        ],
        [
         "Nanni Galli",
         "McLaren-Alfa Romeo",
         0.0,
         0
        ],
        [
         "Alan Rollinson",
         "Cooper-Ford",
         0.0,
         0
        ],
        [
         "Paul England",
         "Cooper",
         0.0,
         0
        ],
        [
         "Peter Gethin",
         "McLaren",
         0.0,
         0
        ],
        [
         "Ken Kavanagh",
         "Maserati",
         0.0,
         0
        ],
        [
         "Max Jean",
         "March-Ford",
         0.0,
         0
        ],
        [
         "Peter Walker",
         "Connaught",
         0.0,
         0
        ],
        [
         "Jacky Ickx",
         "Matra",
         0.0,
         0
        ],
        [
         "Andrea de Adamich",
         "McLaren-Alfa Romeo",
         0.0,
         0
        ],
        [
         "John Campbell-Jones",
         "Lola",
         0.0,
         0
        ],
        [
         "Louis Chiron",
         "Lancia",
         0.0,
         0
        ],
        [
         "Alex Soler-Roig",
         "BRM",
         0.0,
         0
        ],
        [
         "Geoff Lees",
         "Williams",
         0.0,
         0
        ],
        [
         "Norberto Fontana",
         "Sauber",
         0.0,
         0
        ],
        [
         "Peter Westbury",
         "BRM",
         0.0,
         0
        ],
        [
         "Brian Hart",
         "Protos",
         0.0,
         0
        ],
        [
         "Vincenzo Sospiri",
         "Lola",
         0.0,
         0
        ],
        [
         "Luigi Taramazzo",
         "Maserati",
         0.0,
         0
        ],
        [
         "Masten Gregory",
         "BRM",
         0.0,
         0
        ],
        [
         "Alex Ribeiro",
         "Hesketh",
         0.0,
         0
        ],
        [
         "John Love",
         "March-Ford",
         0.0,
         0
        ],
        [
         "John Rhodes",
         "Cooper-Climax",
         0.0,
         0
        ],
        [
         "Peter Collins",
         "Maserati",
         0.0,
         0
        ],
        [
         "Ronnie Peterson",
         "March-Alfa Romeo",
         0.0,
         0
        ],
        [
         "Brian Redman",
         "Surtees",
         0.0,
         0
        ],
        [
         "Masten Gregory",
         "Lola",
         0.0,
         0
        ],
        [
         "Ricardo Rosset",
         "Footwork",
         0.0,
         0
        ],
        [
         "Jos Verstappen",
         "Minardi",
         0.0,
         0
        ],
        [
         "André Testut",
         "Maserati",
         0.0,
         0
        ],
        [
         "Phil Hill",
         "Lotus-BRM",
         0.0,
         0
        ],
        [
         "Vic Elford",
         "BRM",
         0.0,
         0
        ],
        [
         "Jo Siffert",
         "March",
         0.0,
         0
        ],
        [
         "Larry Perkins",
         "BRM",
         0.0,
         0
        ],
        [
         "Lance Reventlow",
         "Cooper-Climax",
         0.0,
         0
        ],
        [
         "Ian Ashley",
         "BRM",
         0.0,
         0
        ],
        [
         "Warwick Brown",
         "Wolf",
         0.0,
         0
        ],
        [
         "Hubert Hahne",
         "Lola",
         0.0,
         0
        ],
        [
         "Jan Magnussen",
         "McLaren",
         0.0,
         0
        ],
        [
         "André Simon",
         "Maserati",
         0.0,
         0
        ],
        [
         "Jacques Pollet",
         "Gordini",
         0.0,
         0
        ],
        [
         "Paul Emery",
         "Connaught",
         0.0,
         0
        ],
        [
         "Alex Soler-Roig",
         "March-Ford",
         0.0,
         0
        ],
        [
         "Mike Hailwood",
         "Lotus-Climax",
         0.0,
         0
        ],
        [
         "Keith Greene",
         "Cooper-Maserati",
         0.0,
         0
        ],
        [
         "Tony Brise",
         "Williams",
         0.0,
         0
        ],
        [
         "Desiré Wilson",
         "Williams",
         0.0,
         0
        ],
        [
         "François Migault",
         "Embassy Hill",
         0.0,
         0
        ],
        [
         "Masten Gregory",
         "Cooper-Maserati",
         0.0,
         0
        ],
        [
         "Mike Sparken",
         "Gordini",
         0.0,
         0
        ],
        [
         "Frank Dochnal",
         "Cooper-Climax",
         0.0,
         0
        ],
        [
         "Ron Flockhart",
         "Cooper",
         0.0,
         0
        ],
        [
         "Bruce McLaren",
         "Eagle-Weslake",
         0.0,
         0
        ],
        [
         "Ricardo Rosset",
         "Tyrrell",
         0.0,
         0
        ],
        [
         "Alan Rees",
         "Brabham-Ford",
         0.0,
         0
        ],
        [
         "Lance Macklin",
         "Maserati",
         0.0,
         0
        ],
        [
         "Moisés Solana",
         "BRM",
         0.0,
         0
        ],
        [
         "André Simon",
         "Mercedes",
         0.0,
         0
        ],
        [
         "Ricardo Rosset",
         "Lola",
         0.0,
         0
        ],
        [
         "Andrea Montermini",
         "Forti",
         0.0,
         0
        ],
        [
         "Dave Charlton",
         "Brabham",
         0.0,
         0
        ],
        [
         "Luca Badoer",
         "Forti",
         0.0,
         0
        ],
        [
         "Tim Schenken",
         "De Tomaso",
         0.0,
         0
        ],
        [
         "Jackie Pretorius",
         "Brabham",
         0.0,
         0
        ],
        [
         "Nanni Galli",
         "March-Alfa Romeo",
         0.0,
         0
        ],
        [
         "Alex Soler-Roig",
         "Team Lotus",
         0.0,
         0
        ],
        [
         "Ken Wharton",
         "Vanwall",
         0.0,
         0
        ],
        [
         "Tiff Needell",
         "Ensign",
         0.0,
         0
        ],
        [
         "Chuck Daigh",
         "Cooper-Climax",
         0.0,
         0
        ],
        [
         "Bruce Kessler",
         "Connaught",
         0.0,
         0
        ],
        [
         "Tony Rolt",
         "Connaught",
         0.0,
         0
        ],
        [
         "Jo Bonnier",
         "McLaren-Ford",
         0.0,
         0
        ],
        [
         "David Hobbs",
         "Lola",
         0.0,
         0
        ],
        [
         "Giovanni Lavaggi",
         "Minardi",
         0.0,
         0
        ],
        [
         "Pedro Rodríguez",
         "Lotus-Climax",
         0.0,
         0
        ],
        [
         "Toni Branca",
         "Maserati",
         0.0,
         0
        ],
        [
         "Tony Rolt",
         "ERA",
         0.0,
         0
        ],
        [
         "Noritake Takahara",
         "Kojima",
         0.0,
         0
        ],
        [
         "Kazuyoshi Hoshino",
         "Kojima",
         0.0,
         0
        ],
        [
         "Robin Montgomerie-Charrington",
         "Aston Butterworth",
         0.0,
         0
        ],
        [
         "Antonio Creus",
         "Maserati",
         0.0,
         0
        ],
        [
         "Niki Lauda",
         "March-Ford",
         0.0,
         0
        ],
        [
         "Eugène Martin",
         "Talbot-Lago",
         0.0,
         0
        ],
        [
         "André Pilette",
         "Scirocco",
         0.0,
         0
        ],
        [
         "Azdrubal Fontes",
         "Maserati",
         0.0,
         0
        ],
        [
         "Peter de Klerk",
         "Brabham",
         0.0,
         0
        ],
        [
         "Peter Walker",
         "ERA",
         0.0,
         0
        ],
        [
         "Carel Godin de Beaufort",
         "Maserati",
         0.0,
         0
        ],
        [
         "Jack Fairman",
         "HWM",
         0.0,
         0
        ],
        [
         "Brian Redman",
         "Cooper-Maserati",
         0.0,
         0
        ],
        [
         "Geoff Crossley",
         "Alta",
         0.0,
         0
        ],
        [
         "Ben Pon",
         "Porsche",
         0.0,
         0
        ],
        [
         "Jean-Pierre Jarier",
         "March-Ford",
         0.0,
         0
        ],
        [
         "Jimmy Stewart",
         "Cooper",
         0.0,
         0
        ],
        [
         "Ettore Chimeri",
         "Maserati",
         0.0,
         0
        ],
        [
         "Gianfranco Brancatelli",
         "Merzario",
         0.0,
         0
        ],
        [
         "Ian Stewart",
         "Connaught",
         0.0,
         0
        ],
        [
         "Arthur Legat",
         "Veritas",
         0.0,
         0
        ],
        [
         "Colin Davis",
         "Cooper-Maserati",
         0.0,
         0
        ],
        [
         "David Walker",
         "Lotus-Pratt &amp; Whitney",
         0.0,
         0
        ],
        [
         "Lance Reventlow",
         "Scarab",
         0.0,
         0
        ],
        [
         "Tony Crook",
         "Cooper",
         0.0,
         0
        ],
        [
         "Roberto Bonomi",
         "Cooper-Maserati",
         0.0,
         0
        ],
        [
         "Edgar Barth",
         "Cooper-Climax",
         0.0,
         0
        ],
        [
         "Giorgio Bassi",
         "BRM",
         0.0,
         0
        ],
        [
         "Zsolt Baumgartner",
         "Jordan",
         0.0,
         0
        ],
        [
         "George Abecassis",
         "HWM",
         0.0,
         0
        ],
        [
         "Lucien Bianchi",
         "Lola",
         0.0,
         0
        ],
        [
         "Peter Arundell",
         "Team Lotus",
         0.0,
         0
        ],
        [
         "Wolfgang Seidel",
         "Emeryson",
         0.0,
         0
        ],
        [
         "Stephen South",
         "McLaren",
         0.0,
         0
        ],
        [
         "David Prophet",
         "Brabham",
         0.0,
         0
        ],
        [
         "Colin Davis",
         "Porsche",
         0.0,
         0
        ],
        [
         "Duncan Hamilton",
         "Talbot-Lago",
         0.0,
         0
        ],
        [
         "Giacomo Russo",
         "Lotus-Climax",
         0.0,
         0
        ],
        [
         "Roger Laurent",
         "HWM",
         0.0,
         0
        ],
        [
         "Pierluigi Martini",
         "Toleman",
         0.0,
         0
        ],
        [
         "Theo Helfrich",
         "Klenk",
         0.0,
         0
        ],
        [
         "Piers Courage",
         "De Tomaso",
         0.0,
         0
        ],
        [
         "John Campbell-Jones",
         "Lotus-BRM",
         0.0,
         0
        ],
        [
         "Bruce Halford",
         "Cooper-Climax",
         0.0,
         0
        ],
        [
         "Teddy Pilette",
         "Brabham",
         0.0,
         0
        ],
        [
         "Chris Bristow",
         "Cooper-Climax",
         0.0,
         0
        ],
        [
         "Gijs van Lennep",
         "Surtees",
         0.0,
         0
        ],
        [
         "Wolfgang von Trips",
         "Cooper-Maserati",
         0.0,
         0
        ],
        [
         "Bob Gerard",
         "ERA",
         0.0,
         0
        ],
        [
         "Gino Munaron",
         "Maserati",
         0.0,
         0
        ],
        [
         "Alberto Rodriguez Larreta",
         "Team Lotus",
         0.0,
         0
        ],
        [
         "Hernando da Silva Ramos",
         "Maserati",
         0.0,
         0
        ],
        [
         "Reine Wisell",
         "Lotus-Pratt &amp; Whitney",
         0.0,
         0
        ],
        [
         "Jack Fairman",
         "BRM",
         0.0,
         0
        ],
        [
         "David Hampshire",
         "Maserati",
         0.0,
         0
        ],
        [
         "Mário de Araújo Cabral",
         "Derrington",
         0.0,
         0
        ],
        [
         "Johnny Claes",
         "Gordini",
         0.0,
         0
        ],
        [
         "Jackie Lewis",
         "Cooper",
         0.0,
         0
        ],
        [
         "Bob Drake",
         "Maserati",
         0.0,
         0
        ],
        [
         "Peter Hirt",
         "Veritas",
         0.0,
         0
        ],
        [
         "Harry Schell",
         "Cooper-Climax",
         0.0,
         0
        ],
        [
         "Jean Lucas",
         "Gordini",
         0.0,
         0
        ],
        [
         "Chuck Daigh",
         "Scarab",
         0.0,
         0
        ],
        [
         "Ernie de Vos",
         "Stebro",
         0.0,
         0
        ],
        [
         "Roberto Bussinello",
         "BRM",
         0.0,
         0
        ],
        [
         "Giancarlo Baghetti",
         "Brabham-Climax",
         0.0,
         0
        ],
        [
         "Paul Pietsch",
         "Alfa Romeo",
         0.0,
         0
        ],
        [
         "Ivor Bueb",
         "Maserati",
         0.0,
         0
        ],
        [
         "Paul Frère",
         "Gordini",
         0.0,
         0
        ],
        [
         "Stirling Moss",
         "HWM",
         0.0,
         0
        ],
        [
         "Carlo Abate",
         "Lotus-Climax",
         0.0,
         0
        ],
        [
         "Colin Chapman",
         "Vanwall",
         0.0,
         0
        ],
        [
         "Gerhard Mitter",
         "Lotus-Climax",
         0.0,
         0
        ],
        [
         "Leslie Johnson",
         "ERA",
         0.0,
         0
        ],
        [
         "Chris Amon",
         "Brabham-BRM",
         0.0,
         0
        ],
        [
         "Richie Ginther",
         "Scarab",
         0.0,
         0
        ],
        [
         "Brian Naylor",
         "Cooper-Maserati",
         0.0,
         0
        ],
        [
         "Maurice Trintignant",
         "Lola",
         0.0,
         0
        ],
        [
         "Pete Lovely",
         "Cooper-Castellotti",
         0.0,
         0
        ],
        [
         "Tom Pryce",
         "Token",
         0.0,
         0
        ],
        [
         "Sam Tingle",
         "LDS",
         0.0,
         0
        ],
        [
         "Gabriele Tarquini",
         "Tyrrell",
         0.0,
         0
        ],
        [
         "Nino Vaccarella",
         "Ferrari",
         0.0,
         0
        ],
        [
         "Ron Flockhart",
         "Cooper-Climax",
         0.0,
         0
        ],
        [
         "José Froilán González",
         "Talbot-Lago",
         0.0,
         0
        ],
        [
         "Kurt Ahrens",
         "Brabham-Repco",
         0.0,
         0
        ],
        [
         "Dan Gurney",
         "Lotus-BRM",
         0.0,
         0
        ],
        [
         "John Love",
         "Team Lotus",
         0.0,
         0
        ],
        [
         "Jim Hall",
         "Team Lotus",
         0.0,
         0
        ],
        [
         "Bruce McLaren",
         "McLaren",
         0.0,
         0
        ],
        [
         "Brian Shawe Taylor",
         "Maserati",
         0.0,
         0
        ],
        [
         "Joe Fry",
         "Maserati",
         0.0,
         0
        ],
        [
         "Luigi Piotti",
         "Arzani-Volpini",
         0.0,
         0
        ],
        [
         "Emerson Fittipaldi",
         "Lotus-Pratt &amp; Whitney",
         0.0,
         0
        ],
        [
         "Jackie Oliver",
         "McLaren",
         0.0,
         0
        ],
        [
         "Peter Broeker",
         "Stebro",
         0.0,
         0
        ],
        [
         "Gerry Ashmore",
         "BRM",
         0.0,
         0
        ],
        [
         "Hermann Lang",
         "Mercedes",
         0.0,
         0
        ],
        [
         "Kunimitsu Takahashi",
         "Tyrrell",
         0.0,
         0
        ],
        [
         "Jackie Lewis",
         "BRM",
         0.0,
         0
        ],
        [
         "Jackie Pretorius",
         "Brabham-Climax",
         0.0,
         0
        ],
        [
         "Dave Charlton",
         "Brabham-Repco",
         0.0,
         0
        ],
        [
         "Anthony Davidson",
         "Minardi",
         0.0,
         0
        ],
        [
         "Rob Slotemaker",
         "Porsche",
         0.0,
         0
        ],
        [
         "Robert O'Brien",
         "Simca",
         0.0,
         0
        ],
        [
         "Doug Serrurier",
         "LDS",
         0.0,
         0
        ],
        [
         "Basil van Rooyen",
         "Cooper-Climax",
         0.0,
         0
        ],
        [
         "Prince Bira",
         "Simca",
         0.0,
         0
        ],
        [
         "Ottorino Volonterio",
         "Maserati",
         0.0,
         0
        ],
        [
         "Maurice Trintignant",
         "Bugatti",
         0.0,
         0
        ],
        [
         "Nasif Estéfano",
         "Maserati",
         0.0,
         0
        ],
        [
         "Ricardo Zonta",
         "Jordan",
         0.0,
         0
        ],
        [
         "Rodger Ward",
         "Lotus-BRM",
         0.0,
         0
        ],
        [
         "Heinz Schiller",
         "Porsche",
         0.0,
         0
        ],
        [
         "Roy Salvadori",
         "Cooper-Maserati",
         0.0,
         0
        ],
        [
         "Trevor Blokdyk",
         "Cooper-Maserati",
         0.0,
         0
        ],
        [
         "Masten Gregory",
         "Behra-Porsche",
         0.0,
         0
        ],
        [
         "Max de Terra",
         "Simca",
         0.0,
         0
        ],
        [
         "Giorgio Scarlatti",
         "Cooper-Castellotti",
         0.0,
         0
        ],
        [
         "Nicolas Kiesa",
         "Minardi",
         0.0,
         0
        ],
        [
         "Joe Kelly",
         "Alta",
         0.0,
         0
        ],
        [
         "Phil Hill",
         "Eagle-Climax",
         0.0,
         0
        ],
        [
         "Jacques Swaters",
         "Talbot-Lago",
         0.0,
         0
        ],
        [
         "Mika Salo",
         "BAR",
         0.0,
         0
        ],
        [
         "Andrea de Adamich",
         "Ferrari",
         0.0,
         0
        ],
        [
         "Paddy Driver",
         "Lotus-BRM",
         0.0,
         0
        ],
        [
         "John Campbell-Jones",
         "Lotus-Climax",
         0.0,
         0
        ],
        [
         "Peter Arundell",
         "Lotus-BRM",
         0.0,
         0
        ],
        [
         "Les Leston",
         "BRM",
         0.0,
         0
        ],
        [
         "John Fitch",
         "Maserati",
         0.0,
         0
        ],
        [
         "Giacomo Russo",
         "Brabham-BRM",
         0.0,
         0
        ],
        [
         "John Love",
         "Brabham-Repco",
         0.0,
         0
        ],
        [
         "Jan Flinterman",
         "Maserati",
         0.0,
         0
        ],
        [
         "Pedro Rodríguez",
         "Lotus-BRM",
         0.0,
         0
        ],
        [
         "Bob Bondurant",
         "Ferrari",
         0.0,
         0
        ],
        [
         "Hans Herrmann",
         "BRM",
         0.0,
         0
        ],
        [
         "Georges Berger",
         "Simca",
         0.0,
         0
        ],
        [
         "Chris Irwin",
         "Brabham-Climax",
         0.0,
         0
        ],
        [
         "Alain de Changy",
         "Cooper-Climax",
         0.0,
         0
        ],
        [
         "David Hobbs",
         "BRM",
         0.0,
         0
        ],
        [
         "Carlos Menditeguy",
         "Gordini",
         0.0,
         0
        ],
        [
         "André Milhoux",
         "Gordini",
         0.0,
         0
        ],
        [
         "Trevor Taylor",
         "Shannon",
         0.0,
         0
        ],
        [
         "Moisés Solana",
         "Lotus-Ford",
         0.0,
         0
        ],
        [
         "Hap Sharp",
         "Cooper-Climax",
         0.0,
         0
        ],
        [
         "Phil Hill",
         "Maserati",
         0.0,
         0
        ],
        [
         "Jorge Daponte",
         "Maserati",
         0.0,
         0
        ],
        [
         "Lucien Bianchi",
         "BRM",
         0.0,
         0
        ],
        [
         "Peter de Klerk",
         "Brabham-Repco",
         0.0,
         0
        ],
        [
         "Jo Bonnier",
         "Lotus-Ford",
         0.0,
         0
        ],
        [
         "Al Pease",
         "Eagle-Climax",
         0.0,
         0
        ],
        [
         "John Barber",
         "Cooper",
         0.0,
         0
        ],
        [
         "Paul Frère",
         "Simca",
         0.0,
         0
        ],
        [
         "André Pilette",
         "Talbot-Lago",
         0.0,
         0
        ],
        [
         "George Constantine",
         "Cooper-Borgward",
         0.0,
         0
        ],
        [
         "Alessandro de Tomaso",
         "Ferrari",
         0.0,
         0
        ],
        [
         "Bruce Johnstone",
         "BRM",
         0.0,
         0
        ],
        [
         "Mike Taylor",
         "Team Lotus",
         0.0,
         0
        ],
        [
         "Bob Bondurant",
         "Lotus-BRM",
         0.0,
         0
        ],
        [
         "Bob Bondurant",
         "Eagle-Weslake",
         0.0,
         0
        ],
        [
         "Vic Wilson",
         "BRM",
         0.0,
         0
        ],
        [
         "Peter Walker",
         "Maserati",
         0.0,
         0
        ],
        [
         "Carel Godin de Beaufort",
         "Cooper-Climax",
         0.0,
         0
        ],
        [
         "Alessandro de Tomaso",
         "Cooper-OSCA",
         0.0,
         0
        ],
        [
         "Charles Pozzi",
         "Talbot-Lago",
         0.0,
         0
        ],
        [
         "Cliff Allison",
         "Maserati",
         0.0,
         0
        ],
        [
         "Philippe Étancelin",
         "Maserati",
         0.0,
         0
        ],
        [
         "Arthur Owen",
         "Cooper-Climax",
         0.0,
         0
        ],
        [
         "Johnny Servoz-Gavin",
         "Matra",
         0.0,
         0
        ],
        [
         "André Pilette",
         "Connaught",
         0.0,
         0
        ],
        [
         "David Hobbs",
         "Honda",
         0.0,
         0
        ],
        [
         "Fritz d'Orey",
         "Tec-Mec",
         0.0,
         0
        ],
        [
         "Moisés Solana",
         "Cooper-Maserati",
         0.0,
         0
        ],
        [
         "Pablo Birger",
         "Simca",
         0.0,
         0
        ],
        [
         "John James",
         "Maserati",
         0.0,
         0
        ],
        [
         "Moisés Solana",
         "Lotus-BRM",
         0.0,
         0
        ],
        [
         "Reg Parnell",
         "Maserati",
         0.0,
         0
        ],
        [
         "Juan Jover",
         "Maserati",
         0.0,
         0
        ],
        [
         "Vic Wilson",
         "Cooper-Climax",
         0.0,
         0
        ],
        [
         "Phil Cade",
         "Maserati",
         0.0,
         0
        ],
        [
         "John Love",
         "Lotus-Ford",
         0.0,
         0
        ],
        [
         "Óscar González",
         "Maserati",
         0.0,
         0
        ],
        [
         "Nello Pagani",
         "Maserati",
         0.0,
         0
        ],
        [
         "Fred Gamble",
         "Behra-Porsche",
         0.0,
         0
        ],
        [
         "Bruce Halford",
         "Team Lotus",
         0.0,
         0
        ],
        [
         "Sam Tingle",
         "Lotus-Climax",
         0.0,
         0
        ],
        [
         "Chris Irwin",
         "Lotus-BRM",
         0.0,
         0
        ],
        [
         "Herbert MacKay-Fraser",
         "BRM",
         0.0,
         0
        ],
        [
         "Giulio Cabianca",
         "Maserati",
         0.0,
         0
        ],
        [
         "Brian Shawe Taylor",
         "ERA",
         0.0,
         0
        ],
        [
         "Lucien Bianchi",
         "Emeryson",
         0.0,
         0
        ],
        [
         "Derek Bell",
         "Brabham",
         0.0,
         0
        ],
        [
         "Mario Andretti",
         "Lotus-Ford",
         0.0,
         0
        ],
        [
         "Harry Schell",
         "Cooper",
         0.0,
         0
        ],
        [
         "Bob Bondurant",
         "Eagle-Climax",
         0.0,
         0
        ],
        [
         "John Cordts",
         "Brabham-Climax",
         0.0,
         0
        ],
        [
         "Harry Blanchard",
         "Porsche",
         0.0,
         0
        ],
        [
         "Carroll Shelby",
         "Maserati",
         0.0,
         0
        ],
        [
         "Dan Gurney",
         "Brabham-Repco",
         0.0,
         0
        ],
        [
         "Mike Fisher",
         "Lotus-BRM",
         0.0,
         0
        ],
        [
         "Dries van der Lof",
         "HWM",
         0.0,
         0
        ],
        [
         "Richie Ginther",
         "Eagle-Climax",
         0.0,
         0
        ],
        [
         "Mike MacDowel",
         "Cooper",
         0.0,
         0
        ],
        [
         "Moisés Solana",
         "Lotus-Climax",
         0.0,
         0
        ],
        [
         "Alan Rees",
         "Cooper-Maserati",
         0.0,
         0
        ],
        [
         "Piero Drogo",
         "Cooper-Climax",
         0.0,
         0
        ],
        [
         "Albert Scherrer",
         "HWM",
         0.0,
         0
        ],
        [
         "Georges Grignard",
         "Talbot-Lago",
         0.0,
         0
        ],
        [
         "Bernard Collomb",
         "Lotus-BRM",
         0.0,
         0
        ],
        [
         "Jim Hall",
         "Lotus-Climax",
         0.0,
         0
        ],
        [
         "Jochen Rindt",
         "Brabham-BRM",
         0.0,
         0
        ],
        [
         "Jean Lucienbonnet",
         "Cooper-Climax",
         0.0,
         0
        ],
        [
         "Alfonso Thiele",
         "Cooper-Maserati",
         0.0,
         0
        ],
        [
         "Innes Ireland",
         "BRM",
         0.0,
         0
        ],
        [
         "Jo Schlesser",
         "Honda",
         0.0,
         0
        ],
        [
         "Johnny Claes",
         "Maserati",
         0.0,
         0
        ],
        [
         "Jean-Pierre Beltoise",
         "McLaren-Ford",
         0.0,
         0
        ],
        [
         "Timmy Mayer",
         "Cooper-Climax",
         0.0,
         0
        ],
        [
         "Tom Jones",
         "Cooper-Climax",
         0.0,
         0
        ],
        [
         "Bob Said",
         "Connaught",
         0.0,
         0
        ],
        [
         "Dave Charlton",
         "Brabham-Climax",
         0.0,
         0
        ],
        [
         "Derek Bell",
         "McLaren-Ford",
         0.0,
         0
        ],
        [
         "Adolfo Cruz",
         "Cooper",
         0.0,
         0
        ],
        [
         "Chris Lawrence",
         "Cooper-Ferrari",
         0.0,
         0
        ],
        [
         "Alfredo Pián",
         "Maserati",
         0.0,
         0
        ],
        [
         "Fred Wacker",
         "Gordini",
         0.0,
         0
        ],
        [
         "Ken Miles",
         "Lotus-Climax",
         0.0,
         0
        ],
        [
         "Gary Hocking",
         "Lotus-Climax",
         0.0,
         0
        ],
        [
         "Ian Raby",
         "Brabham-Climax",
         0.0,
         0
        ],
        [
         "Peter Ryan",
         "Lotus-Climax",
         0.0,
         0
        ],
        [
         "Chris Amon",
         "Cooper-Maserati",
         0.0,
         0
        ],
        [
         "Giorgio Scarlatti",
         "Cooper-Climax",
         0.0,
         0
        ],
        [
         "Eppie Wietzes",
         "Lotus-Ford",
         0.0,
         0
        ],
        [
         "Maurice Trintignant",
         "Maserati",
         0.0,
         0
        ],
        [
         "Chris Amon",
         "Lotus-Climax",
         0.0,
         0
        ],
        [
         "Ken Richardson",
         "BRM",
         0.0,
         0
        ],
        [
         "Les Leston",
         "Cooper",
         0.0,
         0
        ],
        [
         "Mike Harris",
         "Cooper-Alfa Romeo",
         0.0,
         0
        ],
        [
         "Roy Salvadori",
         "BRM",
         0.0,
         0
        ],
        [
         "Lloyd Ruby",
         "Lotus-Climax",
         0.0,
         0
        ],
        [
         "Guy Ligier",
         "Cooper-Maserati",
         0.0,
         0
        ],
        [
         "Jo Siffert",
         "Brabham-Climax",
         0.0,
         0
        ],
        [
         "Giovanni de Riu",
         "Maserati",
         0.0,
         0
        ],
        [
         "John Miles",
         "Lotus-Ford",
         0.0,
         0
        ],
        [
         "Derek Bell",
         "Ferrari",
         0.0,
         0
        ],
        [
         "Mário de Araújo Cabral",
         "Cooper-Maserati",
         0.0,
         0
        ],
        [
         "Sam Tingle",
         "Brabham-Repco",
         0.0,
         0
        ],
        [
         "Peter Whitehead",
         "Alta",
         0.0,
         0
        ],
        [
         "Wolfgang Seidel",
         "Cooper-Climax",
         0.0,
         0
        ],
        [
         "Richard Attwood",
         "Cooper-Maserati",
         0.0,
         0
        ],
        [
         "Hap Sharp",
         "Brabham-BRM",
         0.0,
         0
        ],
        [
         "Vic Elford",
         "Cooper-Maserati",
         0.0,
         0
        ],
        [
         "Bill Brack",
         "Lotus-Ford",
         0.0,
         0
        ],
        [
         "Silvio Moser",
         "Cooper-ATS",
         0.0,
         0
        ],
        [
         "Johnny Servoz-Gavin",
         "Cooper-BRM",
         0.0,
         0
        ],
        [
         "Syd van der Vyver",
         "Lotus-Climax",
         0.0,
         0
        ],
        [
         "Jonathan Williams",
         "Ferrari",
         0.0,
         0
        ],
        [
         "Bobby Unser",
         "BRM",
         0.0,
         0
        ],
        [
         "Roger Penske",
         "Cooper-Climax",
         0.0,
         0
        ],
        [
         "Jack Fairman",
         "Cooper-Maserati",
         0.0,
         0
        ],
        [
         "Peter Revson",
         "Lotus-Climax",
         0.0,
         0
        ],
        [
         "Giorgio Scarlatti",
         "Ferrari",
         0.0,
         0
        ],
        [
         "Olivier Gendebien",
         "Lotus-Climax",
         0.0,
         0
        ],
        [
         "Frank Gardner",
         "BRM",
         0.0,
         0
        ],
        [
         "Max de Terra",
         "Ferrari",
         0.0,
         0
        ],
        [
         "Maria de Filippis",
         "Porsche",
         0.0,
         0
        ],
        [
         "Piers Courage",
         "Lotus-BRM",
         0.0,
         0
        ],
        [
         "Ivor Bueb",
         "Connaught",
         0.0,
         0
        ],
        [
         "Harry Schell",
         "Talbot-Lago",
         0.0,
         0
        ],
        [
         "Franco Rol",
         "OSCA",
         0.0,
         0
        ],
        [
         "Johnny Claes",
         "Ferrari",
         0.0,
         0
        ],
        [
         "Franco Comotti",
         "Ferrari",
         0.0,
         0
        ],
        [
         "Stéphane Sarrazin",
         "Minardi",
         0.0,
         0
        ],
        [
         "Peter Walker",
         "BRM",
         0.0,
         0
        ],
        [
         "Basil van Rooyen",
         "McLaren-Ford",
         0.0,
         0
        ],
        [
         "André Pilette",
         "Ferrari",
         0.0,
         0
        ],
        [
         "Georges Berger",
         "Gordini",
         0.0,
         0
        ],
        [
         "Walt Hansgen",
         "Cooper-Climax",
         0.0,
         0
        ],
        [
         "Rob Schroeder",
         "Lotus-Climax",
         0.0,
         0
        ],
        [
         "Luki Botha",
         "Brabham-Climax",
         0.0,
         0
        ],
        [
         "Ivor Bueb",
         "Cooper-Climax",
         0.0,
         0
        ],
        [
         "Ludovico Scarfiotti",
         "Eagle-Weslake",
         0.0,
         0
        ],
        [
         "Robin Widdows",
         "Cooper-BRM",
         0.0,
         0
        ],
        [
         "Giancarlo Baghetti",
         "Lotus-Ford",
         0.0,
         0
        ],
        [
         "Roger Loyer",
         "Gordini",
         0.0,
         0
        ],
        [
         "Jackie Oliver",
         "BRM-Ford",
         0.0,
         0
        ],
        [
         "Cesare Perdisa",
         "Ferrari",
         0.0,
         0
        ],
        [
         "Chico Landi",
         "Ferrari",
         0.0,
         0
        ],
        [
         "Philip Fotheringham-Parker",
         "Maserati",
         0.0,
         0
        ],
        [
         "Wolfgang Seidel",
         "Maserati",
         0.0,
         0
        ],
        [
         "Piero Scotti",
         "Connaught",
         0.0,
         0
        ],
        [
         "Wolfgang von Trips",
         "Porsche",
         0.0,
         0
        ],
        [
         "Paul Hawkins",
         "Lotus-Climax",
         0.0,
         0
        ],
        [
         "Roy Salvadori",
         "Vanwall",
         0.0,
         0
        ],
        [
         "Giorgio Scarlatti",
         "Cooper-Maserati",
         0.0,
         0
        ],
        [
         "Sam Tingle",
         "LDS-Climax",
         0.0,
         0
        ],
        [
         "Roger Penske",
         "Lotus-Climax",
         0.0,
         0
        ],
        [
         "Luiz Bueno",
         "Surtees",
         0.0,
         0
        ]
       ],
       "datasetInfos": [],
       "dbfsResultPath": null,
       "isJsonSchema": true,
       "metadata": {},
       "overflow": false,
       "plotOptions": {
        "customPlotOptions": {},
        "displayType": "table",
        "pivotAggregation": null,
        "pivotColumns": null,
        "xColumns": null,
        "yColumns": null
       },
       "removedWidgets": [],
       "schema": [
        {
         "metadata": "{}",
         "name": "Driver",
         "type": "\"string\""
        },
        {
         "metadata": "{}",
         "name": "Team",
         "type": "\"string\""
        },
        {
         "metadata": "{}",
         "name": "Points",
         "type": "\"double\""
        },
        {
         "metadata": "{}",
         "name": "Wins",
         "type": "\"long\""
        }
       ],
       "type": "table"
      }
     },
     "output_type": "display_data"
    }
   ],
   "source": [
    "from pyspark.sql.functions import *\n",
    "\n",
    "race_results_df = (results_df_silver\n",
    "                       .join(drivers_df_silver, on='driver_id') \n",
    "                       .join(constructors_df_silver, on='constructor_id')\n",
    "                       .select(\n",
    "                           drivers_df_silver.name.alias('Driver'),\n",
    "                           constructors_df_silver.name.alias('Team'),\n",
    "                           results_df_silver.position_order.alias('Position'),\n",
    "                           results_df_silver.points.alias('Points')\n",
    "                           \n",
    "                       ))\n",
    "\n",
    "#display(race_results_df)\n",
    "\n",
    "\n",
    "standings_df = (race_results_df\n",
    "                .groupBy('Driver','Team')\n",
    "                .agg(\n",
    "                    sum('Points').alias('Points'),\n",
    "                    count(when(col('Position') == 1, True)).alias('Wins'))\n",
    "                .select(col('Driver'), col('Team'), col('Points'), col('Wins'))\n",
    "                .orderBy(col(\"Points\").desc(), col(\"Wins\").desc()))\n",
    "\n",
    "display(standings_df)\n",
    "\n",
    "standings_df.write.mode('overwrite').parquet(gold_path + '/driver_standings')"
   ]
  },
  {
   "cell_type": "code",
   "execution_count": 0,
   "metadata": {
    "application/vnd.databricks.v1+cell": {
     "cellMetadata": {
      "byteLimit": 2048000,
      "rowLimit": 10000
     },
     "inputWidgets": {},
     "nuid": "f20f414d-0536-4e1b-8c3d-e9f2a1a7e542",
     "showTitle": false,
     "tableResultSettingsMap": {},
     "title": ""
    }
   },
   "outputs": [
    {
     "output_type": "display_data",
     "data": {
      "text/html": [
       "<style scoped>\n",
       "  .table-result-container {\n",
       "    max-height: 300px;\n",
       "    overflow: auto;\n",
       "  }\n",
       "  table, th, td {\n",
       "    border: 1px solid black;\n",
       "    border-collapse: collapse;\n",
       "  }\n",
       "  th, td {\n",
       "    padding: 5px;\n",
       "  }\n",
       "  th {\n",
       "    text-align: left;\n",
       "  }\n",
       "</style><div class='table-result-container'><table class='table-result'><thead style='background-color: white'><tr><th>Team</th><th>Points</th><th>Wins</th></tr></thead><tbody><tr><td>Ferrari</td><td>9292.77</td><td>239</td></tr><tr><td>Mercedes</td><td>5824.14</td><td>115</td></tr><tr><td>McLaren</td><td>5723.5</td><td>178</td></tr><tr><td>Red Bull</td><td>5043.5</td><td>64</td></tr><tr><td>Williams</td><td>3567.0</td><td>114</td></tr><tr><td>Renault</td><td>1777.0</td><td>35</td></tr><tr><td>Force India</td><td>1098.0</td><td>0</td></tr><tr><td>Team Lotus</td><td>995.0</td><td>45</td></tr><tr><td>Benetton</td><td>861.5</td><td>27</td></tr><tr><td>Tyrrell</td><td>711.0</td><td>23</td></tr><tr><td>Lotus F1</td><td>706.0</td><td>2</td></tr><tr><td>Brabham</td><td>631.0</td><td>23</td></tr><tr><td>Sauber</td><td>557.0</td><td>0</td></tr><tr><td>BRM</td><td>537.5</td><td>17</td></tr><tr><td>Toro Rosso</td><td>500.0</td><td>1</td></tr><tr><td>Ligier</td><td>388.0</td><td>9</td></tr><tr><td>Cooper-Climax</td><td>336.5</td><td>12</td></tr><tr><td>Maserati</td><td>313.14</td><td>9</td></tr><tr><td>BMW Sauber</td><td>308.0</td><td>1</td></tr><tr><td>Jordan</td><td>291.0</td><td>4</td></tr><tr><td>Racing Point</td><td>283.0</td><td>1</td></tr><tr><td>Lotus-Climax</td><td>281.0</td><td>22</td></tr><tr><td>Alfa Romeo</td><td>279.0</td><td>11</td></tr><tr><td>Toyota</td><td>278.5</td><td>0</td></tr><tr><td>BAR</td><td>227.0</td><td>0</td></tr><tr><td>Lotus-Ford</td><td>209.0</td><td>11</td></tr><tr><td>Haas F1 Team</td><td>200.0</td><td>0</td></tr><tr><td>Brabham-Repco</td><td>175.0</td><td>8</td></tr><tr><td>Brawn</td><td>172.0</td><td>8</td></tr><tr><td>Honda</td><td>156.0</td><td>3</td></tr><tr><td>March</td><td>148.0</td><td>3</td></tr><tr><td>McLaren-Ford</td><td>143.0</td><td>4</td></tr><tr><td>Arrows</td><td>142.0</td><td>0</td></tr><tr><td>Matra-Ford</td><td>130.0</td><td>9</td></tr><tr><td>Kurtis Kraft</td><td>130.0</td><td>5</td></tr><tr><td>Vanwall</td><td>108.0</td><td>10</td></tr><tr><td>AlphaTauri</td><td>107.0</td><td>1</td></tr><tr><td>Cooper-Maserati</td><td>83.0</td><td>2</td></tr><tr><td>Wolf</td><td>79.0</td><td>3</td></tr><tr><td>Brabham-Climax</td><td>78.0</td><td>2</td></tr><tr><td>Brabham-Ford</td><td>68.0</td><td>2</td></tr><tr><td>Shadow</td><td>59.0</td><td>1</td></tr><tr><td>Surtees</td><td>54.0</td><td>0</td></tr><tr><td>Matra</td><td>54.0</td><td>0</td></tr><tr><td>Cooper</td><td>52.0</td><td>2</td></tr><tr><td>Porsche</td><td>50.0</td><td>1</td></tr><tr><td>Jaguar</td><td>49.0</td><td>0</td></tr><tr><td>Hesketh</td><td>48.0</td><td>1</td></tr><tr><td>Stewart</td><td>47.0</td><td>1</td></tr><tr><td>Epperly</td><td>44.0</td><td>2</td></tr><tr><td>Fittipaldi</td><td>44.0</td><td>0</td></tr><tr><td>Minardi</td><td>38.0</td><td>0</td></tr><tr><td>March-Ford</td><td>37.0</td><td>0</td></tr><tr><td>Watson</td><td>36.0</td><td>3</td></tr><tr><td>Prost</td><td>35.0</td><td>0</td></tr><tr><td>Lotus-BRM</td><td>29.0</td><td>1</td></tr><tr><td>Lola</td><td>27.0</td><td>0</td></tr><tr><td>Toleman</td><td>26.0</td><td>0</td></tr><tr><td>Footwork</td><td>25.0</td><td>0</td></tr><tr><td>Gordini</td><td>25.0</td><td>0</td></tr><tr><td>Talbot-Lago</td><td>25.0</td><td>0</td></tr><tr><td>Penske</td><td>23.0</td><td>1</td></tr><tr><td>Larrousse</td><td>22.0</td><td>0</td></tr><tr><td>Kuzma</td><td>21.0</td><td>1</td></tr><tr><td>Cooper-BRM</td><td>20.0</td><td>0</td></tr><tr><td>Ensign</td><td>19.0</td><td>0</td></tr><tr><td>Brabham-Alfa Romeo</td><td>18.0</td><td>0</td></tr><tr><td>Connaught</td><td>17.0</td><td>0</td></tr><tr><td>Dallara</td><td>15.0</td><td>0</td></tr><tr><td>Eagle-Weslake</td><td>13.0</td><td>1</td></tr><tr><td>Brabham-BRM</td><td>13.0</td><td>0</td></tr><tr><td>BRP</td><td>11.0</td><td>0</td></tr><tr><td>Deidt</td><td>10.0</td><td>0</td></tr><tr><td>Lesovsky</td><td>10.0</td><td>0</td></tr><tr><td>Shadow-Ford</td><td>9.5</td><td>0</td></tr><tr><td>Lancia</td><td>9.0</td><td>0</td></tr><tr><td>Leyton House</td><td>8.0</td><td>0</td></tr><tr><td>Phillips</td><td>7.0</td><td>0</td></tr><tr><td>ATS</td><td>7.0</td><td>0</td></tr><tr><td>Onyx</td><td>6.0</td><td>0</td></tr><tr><td>Rial</td><td>6.0</td><td>0</td></tr><tr><td>Parnelli</td><td>6.0</td><td>0</td></tr><tr><td>Iso Marlboro</td><td>6.0</td><td>0</td></tr><tr><td>McLaren-BRM</td><td>6.0</td><td>0</td></tr><tr><td>Osella</td><td>5.0</td><td>0</td></tr><tr><td>Simca</td><td>5.0</td><td>0</td></tr><tr><td>Super Aguri</td><td>4.0</td><td>0</td></tr><tr><td>Eagle-Climax</td><td>4.0</td><td>0</td></tr><tr><td>Sherman</td><td>3.0</td><td>0</td></tr><tr><td>Embassy Hill</td><td>3.0</td><td>0</td></tr><tr><td>Frazer Nash</td><td>3.0</td><td>0</td></tr><tr><td>Cooper-Castellotti</td><td>3.0</td><td>0</td></tr><tr><td>Schroeder</td><td>2.0</td><td>0</td></tr><tr><td>Marussia</td><td>2.0</td><td>0</td></tr><tr><td>Zakspeed</td><td>2.0</td><td>0</td></tr><tr><td>AGS</td><td>2.0</td><td>0</td></tr><tr><td>Theodore</td><td>2.0</td><td>0</td></tr><tr><td>HWM</td><td>2.0</td><td>0</td></tr><tr><td>Manor Marussia</td><td>1.0</td><td>0</td></tr><tr><td>Trevis</td><td>1.0</td><td>0</td></tr><tr><td>Spyker</td><td>1.0</td><td>0</td></tr><tr><td>Tecno</td><td>1.0</td><td>0</td></tr><tr><td>McLaren-Serenissima</td><td>1.0</td><td>0</td></tr><tr><td>Caterham</td><td>0.0</td><td>0</td></tr><tr><td>Virgin</td><td>0.0</td><td>0</td></tr><tr><td>MF1</td><td>0.0</td><td>0</td></tr><tr><td>Spyker MF1</td><td>0.0</td><td>0</td></tr><tr><td>Del Roy</td><td>0.0</td><td>0</td></tr><tr><td>Elder</td><td>0.0</td><td>0</td></tr><tr><td>Pankratz</td><td>0.0</td><td>0</td></tr><tr><td>Nichels</td><td>0.0</td><td>0</td></tr><tr><td>Dunn</td><td>0.0</td><td>0</td></tr><tr><td>Ewing</td><td>0.0</td><td>0</td></tr><tr><td>Meskowski</td><td>0.0</td><td>0</td></tr><tr><td>Sutton</td><td>0.0</td><td>0</td></tr><tr><td>HRT</td><td>0.0</td><td>0</td></tr><tr><td>Moore</td><td>0.0</td><td>0</td></tr><tr><td>Stevens</td><td>0.0</td><td>0</td></tr><tr><td>Lotus</td><td>0.0</td><td>0</td></tr><tr><td>Christensen</td><td>0.0</td><td>0</td></tr><tr><td>Turner</td><td>0.0</td><td>0</td></tr><tr><td>Pawl</td><td>0.0</td><td>0</td></tr><tr><td>Bromme</td><td>0.0</td><td>0</td></tr><tr><td>Coloni</td><td>0.0</td><td>0</td></tr><tr><td>Marchese</td><td>0.0</td><td>0</td></tr><tr><td>De Tomaso-Osca</td><td>0.0</td><td>0</td></tr><tr><td>Life</td><td>0.0</td><td>0</td></tr><tr><td>De Tomaso-Alfa Romeo</td><td>0.0</td><td>0</td></tr><tr><td>Rae</td><td>0.0</td><td>0</td></tr><tr><td>Euro Brun</td><td>0.0</td><td>0</td></tr><tr><td>Adams</td><td>0.0</td><td>0</td></tr><tr><td>Langley</td><td>0.0</td><td>0</td></tr><tr><td>Fondmetal</td><td>0.0</td><td>0</td></tr><tr><td>Lambo</td><td>0.0</td><td>0</td></tr><tr><td>LEC</td><td>0.0</td><td>0</td></tr><tr><td>Olson</td><td>0.0</td><td>0</td></tr><tr><td>Lotus-Maserati</td><td>0.0</td><td>0</td></tr><tr><td>JBW</td><td>0.0</td><td>0</td></tr><tr><td>Wetteroth</td><td>0.0</td><td>0</td></tr><tr><td>Snowberger</td><td>0.0</td><td>0</td></tr><tr><td>Emeryson</td><td>0.0</td><td>0</td></tr><tr><td>EMW</td><td>0.0</td><td>0</td></tr><tr><td>Shadow-Matra</td><td>0.0</td><td>0</td></tr><tr><td>McGuire</td><td>0.0</td><td>0</td></tr><tr><td>OSCA</td><td>0.0</td><td>0</td></tr><tr><td>Aston Butterworth</td><td>0.0</td><td>0</td></tr><tr><td>Alta</td><td>0.0</td><td>0</td></tr><tr><td>Hall</td><td>0.0</td><td>0</td></tr><tr><td>ENB</td><td>0.0</td><td>0</td></tr><tr><td>Amon</td><td>0.0</td><td>0</td></tr><tr><td>Ferguson</td><td>0.0</td><td>0</td></tr><tr><td>Gilby</td><td>0.0</td><td>0</td></tr><tr><td>Boro</td><td>0.0</td><td>0</td></tr><tr><td>Lyncar</td><td>0.0</td><td>0</td></tr><tr><td>MBM</td><td>0.0</td><td>0</td></tr><tr><td>Veritas</td><td>0.0</td><td>0</td></tr><tr><td>Maki</td><td>0.0</td><td>0</td></tr><tr><td>Token</td><td>0.0</td><td>0</td></tr><tr><td>BMW</td><td>0.0</td><td>0</td></tr><tr><td>Martini</td><td>0.0</td><td>0</td></tr><tr><td>Andrea Moda</td><td>0.0</td><td>0</td></tr><tr><td>Trojan</td><td>0.0</td><td>0</td></tr><tr><td>Cisitalia</td><td>0.0</td><td>0</td></tr><tr><td>ERA</td><td>0.0</td><td>0</td></tr><tr><td>AFM</td><td>0.0</td><td>0</td></tr><tr><td>Merzario</td><td>0.0</td><td>0</td></tr><tr><td>De Tomaso-Ferrari</td><td>0.0</td><td>0</td></tr><tr><td>Apollon</td><td>0.0</td><td>0</td></tr><tr><td>RE</td><td>0.0</td><td>0</td></tr><tr><td>Scirocco</td><td>0.0</td><td>0</td></tr><tr><td>Spirit</td><td>0.0</td><td>0</td></tr><tr><td>RAM</td><td>0.0</td><td>0</td></tr><tr><td>Kauhsen</td><td>0.0</td><td>0</td></tr><tr><td>March-Alfa Romeo</td><td>0.0</td><td>0</td></tr><tr><td>Lotus-Borgward</td><td>0.0</td><td>0</td></tr><tr><td>Pacific</td><td>0.0</td><td>0</td></tr><tr><td>Rebaque</td><td>0.0</td><td>0</td></tr><tr><td>Cooper-Ford</td><td>0.0</td><td>0</td></tr><tr><td>LDS-Alfa Romeo</td><td>0.0</td><td>0</td></tr><tr><td>LDS-Climax</td><td>0.0</td><td>0</td></tr><tr><td>De Tomaso</td><td>0.0</td><td>0</td></tr><tr><td>Simtek</td><td>0.0</td><td>0</td></tr><tr><td>Politoys</td><td>0.0</td><td>0</td></tr><tr><td>Forti</td><td>0.0</td><td>0</td></tr><tr><td>Milano</td><td>0.0</td><td>0</td></tr><tr><td>Fry</td><td>0.0</td><td>0</td></tr><tr><td>Connew</td><td>0.0</td><td>0</td></tr><tr><td>Cooper-Borgward</td><td>0.0</td><td>0</td></tr><tr><td>Aston Martin</td><td>0.0</td><td>0</td></tr><tr><td>Kojima</td><td>0.0</td><td>0</td></tr><tr><td>Bellasi</td><td>0.0</td><td>0</td></tr><tr><td>Protos</td><td>0.0</td><td>0</td></tr><tr><td>McLaren-Alfa Romeo</td><td>0.0</td><td>0</td></tr><tr><td>Lotus-Pratt &amp; Whitney</td><td>0.0</td><td>0</td></tr><tr><td>Behra-Porsche</td><td>0.0</td><td>0</td></tr><tr><td>Stebro</td><td>0.0</td><td>0</td></tr><tr><td>Arzani-Volpini</td><td>0.0</td><td>0</td></tr><tr><td>Scarab</td><td>0.0</td><td>0</td></tr><tr><td>Derrington</td><td>0.0</td><td>0</td></tr><tr><td>LDS</td><td>0.0</td><td>0</td></tr><tr><td>Klenk</td><td>0.0</td><td>0</td></tr><tr><td>Bugatti</td><td>0.0</td><td>0</td></tr><tr><td>Shannon</td><td>0.0</td><td>0</td></tr><tr><td>Cooper-OSCA</td><td>0.0</td><td>0</td></tr><tr><td>BRM-Ford</td><td>0.0</td><td>0</td></tr><tr><td>Tec-Mec</td><td>0.0</td><td>0</td></tr><tr><td>Cooper-Ferrari</td><td>0.0</td><td>0</td></tr><tr><td>Cooper-Alfa Romeo</td><td>0.0</td><td>0</td></tr><tr><td>Cooper-ATS</td><td>0.0</td><td>0</td></tr></tbody></table></div>"
      ]
     },
     "metadata": {
      "application/vnd.databricks.v1+output": {
       "addedWidgets": {},
       "aggData": [],
       "aggError": "",
       "aggOverflow": false,
       "aggSchema": [],
       "aggSeriesLimitReached": false,
       "aggType": "",
       "arguments": {},
       "columnCustomDisplayInfos": {},
       "data": [
        [
         "Ferrari",
         9292.77,
         239
        ],
        [
         "Mercedes",
         5824.14,
         115
        ],
        [
         "McLaren",
         5723.5,
         178
        ],
        [
         "Red Bull",
         5043.5,
         64
        ],
        [
         "Williams",
         3567.0,
         114
        ],
        [
         "Renault",
         1777.0,
         35
        ],
        [
         "Force India",
         1098.0,
         0
        ],
        [
         "Team Lotus",
         995.0,
         45
        ],
        [
         "Benetton",
         861.5,
         27
        ],
        [
         "Tyrrell",
         711.0,
         23
        ],
        [
         "Lotus F1",
         706.0,
         2
        ],
        [
         "Brabham",
         631.0,
         23
        ],
        [
         "Sauber",
         557.0,
         0
        ],
        [
         "BRM",
         537.5,
         17
        ],
        [
         "Toro Rosso",
         500.0,
         1
        ],
        [
         "Ligier",
         388.0,
         9
        ],
        [
         "Cooper-Climax",
         336.5,
         12
        ],
        [
         "Maserati",
         313.14,
         9
        ],
        [
         "BMW Sauber",
         308.0,
         1
        ],
        [
         "Jordan",
         291.0,
         4
        ],
        [
         "Racing Point",
         283.0,
         1
        ],
        [
         "Lotus-Climax",
         281.0,
         22
        ],
        [
         "Alfa Romeo",
         279.0,
         11
        ],
        [
         "Toyota",
         278.5,
         0
        ],
        [
         "BAR",
         227.0,
         0
        ],
        [
         "Lotus-Ford",
         209.0,
         11
        ],
        [
         "Haas F1 Team",
         200.0,
         0
        ],
        [
         "Brabham-Repco",
         175.0,
         8
        ],
        [
         "Brawn",
         172.0,
         8
        ],
        [
         "Honda",
         156.0,
         3
        ],
        [
         "March",
         148.0,
         3
        ],
        [
         "McLaren-Ford",
         143.0,
         4
        ],
        [
         "Arrows",
         142.0,
         0
        ],
        [
         "Matra-Ford",
         130.0,
         9
        ],
        [
         "Kurtis Kraft",
         130.0,
         5
        ],
        [
         "Vanwall",
         108.0,
         10
        ],
        [
         "AlphaTauri",
         107.0,
         1
        ],
        [
         "Cooper-Maserati",
         83.0,
         2
        ],
        [
         "Wolf",
         79.0,
         3
        ],
        [
         "Brabham-Climax",
         78.0,
         2
        ],
        [
         "Brabham-Ford",
         68.0,
         2
        ],
        [
         "Shadow",
         59.0,
         1
        ],
        [
         "Surtees",
         54.0,
         0
        ],
        [
         "Matra",
         54.0,
         0
        ],
        [
         "Cooper",
         52.0,
         2
        ],
        [
         "Porsche",
         50.0,
         1
        ],
        [
         "Jaguar",
         49.0,
         0
        ],
        [
         "Hesketh",
         48.0,
         1
        ],
        [
         "Stewart",
         47.0,
         1
        ],
        [
         "Epperly",
         44.0,
         2
        ],
        [
         "Fittipaldi",
         44.0,
         0
        ],
        [
         "Minardi",
         38.0,
         0
        ],
        [
         "March-Ford",
         37.0,
         0
        ],
        [
         "Watson",
         36.0,
         3
        ],
        [
         "Prost",
         35.0,
         0
        ],
        [
         "Lotus-BRM",
         29.0,
         1
        ],
        [
         "Lola",
         27.0,
         0
        ],
        [
         "Toleman",
         26.0,
         0
        ],
        [
         "Footwork",
         25.0,
         0
        ],
        [
         "Gordini",
         25.0,
         0
        ],
        [
         "Talbot-Lago",
         25.0,
         0
        ],
        [
         "Penske",
         23.0,
         1
        ],
        [
         "Larrousse",
         22.0,
         0
        ],
        [
         "Kuzma",
         21.0,
         1
        ],
        [
         "Cooper-BRM",
         20.0,
         0
        ],
        [
         "Ensign",
         19.0,
         0
        ],
        [
         "Brabham-Alfa Romeo",
         18.0,
         0
        ],
        [
         "Connaught",
         17.0,
         0
        ],
        [
         "Dallara",
         15.0,
         0
        ],
        [
         "Eagle-Weslake",
         13.0,
         1
        ],
        [
         "Brabham-BRM",
         13.0,
         0
        ],
        [
         "BRP",
         11.0,
         0
        ],
        [
         "Deidt",
         10.0,
         0
        ],
        [
         "Lesovsky",
         10.0,
         0
        ],
        [
         "Shadow-Ford",
         9.5,
         0
        ],
        [
         "Lancia",
         9.0,
         0
        ],
        [
         "Leyton House",
         8.0,
         0
        ],
        [
         "Phillips",
         7.0,
         0
        ],
        [
         "ATS",
         7.0,
         0
        ],
        [
         "Onyx",
         6.0,
         0
        ],
        [
         "Rial",
         6.0,
         0
        ],
        [
         "Parnelli",
         6.0,
         0
        ],
        [
         "Iso Marlboro",
         6.0,
         0
        ],
        [
         "McLaren-BRM",
         6.0,
         0
        ],
        [
         "Osella",
         5.0,
         0
        ],
        [
         "Simca",
         5.0,
         0
        ],
        [
         "Super Aguri",
         4.0,
         0
        ],
        [
         "Eagle-Climax",
         4.0,
         0
        ],
        [
         "Sherman",
         3.0,
         0
        ],
        [
         "Embassy Hill",
         3.0,
         0
        ],
        [
         "Frazer Nash",
         3.0,
         0
        ],
        [
         "Cooper-Castellotti",
         3.0,
         0
        ],
        [
         "Schroeder",
         2.0,
         0
        ],
        [
         "Marussia",
         2.0,
         0
        ],
        [
         "Zakspeed",
         2.0,
         0
        ],
        [
         "AGS",
         2.0,
         0
        ],
        [
         "Theodore",
         2.0,
         0
        ],
        [
         "HWM",
         2.0,
         0
        ],
        [
         "Manor Marussia",
         1.0,
         0
        ],
        [
         "Trevis",
         1.0,
         0
        ],
        [
         "Spyker",
         1.0,
         0
        ],
        [
         "Tecno",
         1.0,
         0
        ],
        [
         "McLaren-Serenissima",
         1.0,
         0
        ],
        [
         "Caterham",
         0.0,
         0
        ],
        [
         "Virgin",
         0.0,
         0
        ],
        [
         "MF1",
         0.0,
         0
        ],
        [
         "Spyker MF1",
         0.0,
         0
        ],
        [
         "Del Roy",
         0.0,
         0
        ],
        [
         "Elder",
         0.0,
         0
        ],
        [
         "Pankratz",
         0.0,
         0
        ],
        [
         "Nichels",
         0.0,
         0
        ],
        [
         "Dunn",
         0.0,
         0
        ],
        [
         "Ewing",
         0.0,
         0
        ],
        [
         "Meskowski",
         0.0,
         0
        ],
        [
         "Sutton",
         0.0,
         0
        ],
        [
         "HRT",
         0.0,
         0
        ],
        [
         "Moore",
         0.0,
         0
        ],
        [
         "Stevens",
         0.0,
         0
        ],
        [
         "Lotus",
         0.0,
         0
        ],
        [
         "Christensen",
         0.0,
         0
        ],
        [
         "Turner",
         0.0,
         0
        ],
        [
         "Pawl",
         0.0,
         0
        ],
        [
         "Bromme",
         0.0,
         0
        ],
        [
         "Coloni",
         0.0,
         0
        ],
        [
         "Marchese",
         0.0,
         0
        ],
        [
         "De Tomaso-Osca",
         0.0,
         0
        ],
        [
         "Life",
         0.0,
         0
        ],
        [
         "De Tomaso-Alfa Romeo",
         0.0,
         0
        ],
        [
         "Rae",
         0.0,
         0
        ],
        [
         "Euro Brun",
         0.0,
         0
        ],
        [
         "Adams",
         0.0,
         0
        ],
        [
         "Langley",
         0.0,
         0
        ],
        [
         "Fondmetal",
         0.0,
         0
        ],
        [
         "Lambo",
         0.0,
         0
        ],
        [
         "LEC",
         0.0,
         0
        ],
        [
         "Olson",
         0.0,
         0
        ],
        [
         "Lotus-Maserati",
         0.0,
         0
        ],
        [
         "JBW",
         0.0,
         0
        ],
        [
         "Wetteroth",
         0.0,
         0
        ],
        [
         "Snowberger",
         0.0,
         0
        ],
        [
         "Emeryson",
         0.0,
         0
        ],
        [
         "EMW",
         0.0,
         0
        ],
        [
         "Shadow-Matra",
         0.0,
         0
        ],
        [
         "McGuire",
         0.0,
         0
        ],
        [
         "OSCA",
         0.0,
         0
        ],
        [
         "Aston Butterworth",
         0.0,
         0
        ],
        [
         "Alta",
         0.0,
         0
        ],
        [
         "Hall",
         0.0,
         0
        ],
        [
         "ENB",
         0.0,
         0
        ],
        [
         "Amon",
         0.0,
         0
        ],
        [
         "Ferguson",
         0.0,
         0
        ],
        [
         "Gilby",
         0.0,
         0
        ],
        [
         "Boro",
         0.0,
         0
        ],
        [
         "Lyncar",
         0.0,
         0
        ],
        [
         "MBM",
         0.0,
         0
        ],
        [
         "Veritas",
         0.0,
         0
        ],
        [
         "Maki",
         0.0,
         0
        ],
        [
         "Token",
         0.0,
         0
        ],
        [
         "BMW",
         0.0,
         0
        ],
        [
         "Martini",
         0.0,
         0
        ],
        [
         "Andrea Moda",
         0.0,
         0
        ],
        [
         "Trojan",
         0.0,
         0
        ],
        [
         "Cisitalia",
         0.0,
         0
        ],
        [
         "ERA",
         0.0,
         0
        ],
        [
         "AFM",
         0.0,
         0
        ],
        [
         "Merzario",
         0.0,
         0
        ],
        [
         "De Tomaso-Ferrari",
         0.0,
         0
        ],
        [
         "Apollon",
         0.0,
         0
        ],
        [
         "RE",
         0.0,
         0
        ],
        [
         "Scirocco",
         0.0,
         0
        ],
        [
         "Spirit",
         0.0,
         0
        ],
        [
         "RAM",
         0.0,
         0
        ],
        [
         "Kauhsen",
         0.0,
         0
        ],
        [
         "March-Alfa Romeo",
         0.0,
         0
        ],
        [
         "Lotus-Borgward",
         0.0,
         0
        ],
        [
         "Pacific",
         0.0,
         0
        ],
        [
         "Rebaque",
         0.0,
         0
        ],
        [
         "Cooper-Ford",
         0.0,
         0
        ],
        [
         "LDS-Alfa Romeo",
         0.0,
         0
        ],
        [
         "LDS-Climax",
         0.0,
         0
        ],
        [
         "De Tomaso",
         0.0,
         0
        ],
        [
         "Simtek",
         0.0,
         0
        ],
        [
         "Politoys",
         0.0,
         0
        ],
        [
         "Forti",
         0.0,
         0
        ],
        [
         "Milano",
         0.0,
         0
        ],
        [
         "Fry",
         0.0,
         0
        ],
        [
         "Connew",
         0.0,
         0
        ],
        [
         "Cooper-Borgward",
         0.0,
         0
        ],
        [
         "Aston Martin",
         0.0,
         0
        ],
        [
         "Kojima",
         0.0,
         0
        ],
        [
         "Bellasi",
         0.0,
         0
        ],
        [
         "Protos",
         0.0,
         0
        ],
        [
         "McLaren-Alfa Romeo",
         0.0,
         0
        ],
        [
         "Lotus-Pratt &amp; Whitney",
         0.0,
         0
        ],
        [
         "Behra-Porsche",
         0.0,
         0
        ],
        [
         "Stebro",
         0.0,
         0
        ],
        [
         "Arzani-Volpini",
         0.0,
         0
        ],
        [
         "Scarab",
         0.0,
         0
        ],
        [
         "Derrington",
         0.0,
         0
        ],
        [
         "LDS",
         0.0,
         0
        ],
        [
         "Klenk",
         0.0,
         0
        ],
        [
         "Bugatti",
         0.0,
         0
        ],
        [
         "Shannon",
         0.0,
         0
        ],
        [
         "Cooper-OSCA",
         0.0,
         0
        ],
        [
         "BRM-Ford",
         0.0,
         0
        ],
        [
         "Tec-Mec",
         0.0,
         0
        ],
        [
         "Cooper-Ferrari",
         0.0,
         0
        ],
        [
         "Cooper-Alfa Romeo",
         0.0,
         0
        ],
        [
         "Cooper-ATS",
         0.0,
         0
        ]
       ],
       "datasetInfos": [],
       "dbfsResultPath": null,
       "isJsonSchema": true,
       "metadata": {},
       "overflow": false,
       "plotOptions": {
        "customPlotOptions": {},
        "displayType": "table",
        "pivotAggregation": null,
        "pivotColumns": null,
        "xColumns": null,
        "yColumns": null
       },
       "removedWidgets": [],
       "schema": [
        {
         "metadata": "{}",
         "name": "Team",
         "type": "\"string\""
        },
        {
         "metadata": "{}",
         "name": "Points",
         "type": "\"double\""
        },
        {
         "metadata": "{}",
         "name": "Wins",
         "type": "\"long\""
        }
       ],
       "type": "table"
      }
     },
     "output_type": "display_data"
    }
   ],
   "source": [
    "team_standings_df = (race_results_df\n",
    "                     .groupBy('Team')\n",
    "                     .agg(\n",
    "                         sum('Points').alias('Points'),\n",
    "                    count(when(col('Position') == 1, True)).alias('Wins'))\n",
    "                     .select(col('Team'), col('Points'), col('Wins'))\n",
    "                     .orderBy(col(\"Points\").desc(), col(\"Wins\").desc()))\n",
    "\n",
    "display(team_standings_df)\n",
    "\n",
    "team_standings_df.write.mode('overwrite').parquet(gold_path + '/team_standings')"
   ]
  }
 ],
 "metadata": {
  "application/vnd.databricks.v1+notebook": {
   "computePreferences": null,
   "dashboards": [],
   "environmentMetadata": {
    "base_environment": "",
    "environment_version": "2"
   },
   "language": "python",
   "notebookMetadata": {
    "pythonIndentUnit": 4
   },
   "notebookName": "f1_project_notebook_gold",
   "widgets": {}
  },
  "language_info": {
   "name": "python"
  }
 },
 "nbformat": 4,
 "nbformat_minor": 0
}