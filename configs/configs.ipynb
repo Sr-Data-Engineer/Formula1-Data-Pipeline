{
 "cells": [
  {
   "cell_type": "code",
   "execution_count": 0,
   "metadata": {
    "application/vnd.databricks.v1+cell": {
     "cellMetadata": {
      "byteLimit": 2048000,
      "rowLimit": 10000
     },
     "inputWidgets": {},
     "nuid": "8b73f079-84ca-4042-8422-dfad203dd522",
     "showTitle": false,
     "tableResultSettingsMap": {},
     "title": ""
    }
   },
   "outputs": [
    {
     "output_type": "stream",
     "name": "stderr",
     "output_type": "stream",
     "text": [
      "/databricks/python/lib/python3.11/site-packages/IPython/core/interactiveshell.py:2870: UserWarning: Could not open file </Workspace/Users/pragatitak007@gmail.com/f1_project_notebook_bronze_ingestion> for safe execution.\n  warn('Could not open file <%s> for safe execution.' % fname)\n/databricks/python/lib/python3.11/site-packages/IPython/core/interactiveshell.py:2870: UserWarning: Could not open file </Workspace/Users/pragatitak007@gmail.com/f1_project_notebook_silver> for safe execution.\n  warn('Could not open file <%s> for safe execution.' % fname)\n"
     ]
    }
   ],
   "source": [
    "# Set the storage account key, before running\n",
    "spark.conf.set(\"fs.azure.account.key.adfstorageaccount3.dfs.core.windows.net\", \"<access_key>\")\n",
    "\n",
    "#bronze ingestion notebook\n",
    "%run /Workspace/Users/pragatitak007@gmail.com/f1_project_notebook_bronze_ingestion\n",
    "\n",
    "#silver ingestion notebook\n",
    "%run /Workspace/Users/pragatitak007@gmail.com/f1_project_notebook_silver\n",
    "\n",
    "delta_path = \"abfss://containerf1project@adfstorageaccount3.dfs.core.windows.net/bronze/raw_data/tables\"\n",
    "silver_path = \"abfss://containerf1project@adfstorageaccount3.dfs.core.windows.net/silver/tables\"\n",
    "gold_path = \"abfss://containerf1project@adfstorageaccount3.dfs.core.windows.net/gold/tables\""
   ]
  }
 ],
 "metadata": {
  "application/vnd.databricks.v1+notebook": {
   "computePreferences": null,
   "dashboards": [],
   "environmentMetadata": {
    "base_environment": "",
    "environment_version": "2"
   },
   "language": "python",
   "notebookMetadata": {
    "pythonIndentUnit": 4
   },
   "notebookName": "configs",
   "widgets": {}
  },
  "language_info": {
   "name": "python"
  }
 },
 "nbformat": 4,
 "nbformat_minor": 0
}